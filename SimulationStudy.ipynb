{
 "cells": [
  {
   "cell_type": "code",
   "execution_count": 6,
   "id": "613326a2",
   "metadata": {},
   "outputs": [],
   "source": [
    "%matplotlib inline\n",
    "import mpld3\n",
    "mpld3.enable_notebook()"
   ]
  },
  {
   "cell_type": "markdown",
   "id": "286e987e",
   "metadata": {},
   "source": [
    "## Simulation Studies"
   ]
  },
  {
   "cell_type": "code",
   "execution_count": 2,
   "id": "7b43c9b4",
   "metadata": {},
   "outputs": [],
   "source": [
    "import numpy as np\n",
    "import math"
   ]
  },
  {
   "cell_type": "code",
   "execution_count": 19,
   "id": "b23e4f94",
   "metadata": {},
   "outputs": [],
   "source": [
    "dictionary= {\n",
    "    \"x0\":[],\n",
    "    \"x1\":[],\n",
    "    \"x2\":[],\n",
    "    \"x3\":[],\n",
    "    \"x4\":[],\n",
    "    \"x5\":[],\n",
    "    \"x6\":[],\n",
    "    \"x7\":[],\n",
    "    \"x8\":[],\n",
    "    \"x9\":[],\n",
    "    \"x10\":[],\n",
    "    \"x11\":[],\n",
    "    \"x12\":[],\n",
    "    \"x13\":[],\n",
    "    \"y\":[]\n",
    "}"
   ]
  },
  {
   "cell_type": "code",
   "execution_count": 20,
   "id": "6a05cfaf",
   "metadata": {},
   "outputs": [],
   "source": [
    "\n",
    "for _ in range(3000):\n",
    "    x0= np.random.uniform()\n",
    "    x1= np.random.uniform()\n",
    "    x2= np.random.uniform()\n",
    "    x3= np.random.uniform()\n",
    "    x4= np.random.uniform()\n",
    "\n",
    "    y= 10*math.sin(math.pi*x0*x1)-20*(x2-0.5)**2+10*x3+5*x4+np.random.uniform()\n",
    "\n",
    "    x10= x0+np.random.normal(0,0.01)\n",
    "    x11= x1+np.random.normal(0,0.01)\n",
    "    x12= x2+np.random.normal(0,0.01)\n",
    "    x13= x3+np.random.normal(0,0.01)\n",
    "\n",
    "    x5= np.random.uniform()*0.1\n",
    "    x6= np.random.uniform()*0.1\n",
    "    x7= np.random.uniform()*0.1\n",
    "    x8= np.random.uniform()*0.1\n",
    "    x9= np.random.uniform()*0.1\n",
    "\n",
    "\n",
    "    dictionary[\"x0\"].append(x0)\n",
    "    dictionary[\"x1\"].append(x1)\n",
    "    dictionary[\"x2\"].append(x2)\n",
    "    dictionary[\"x3\"].append(x3)\n",
    "    dictionary[\"x4\"].append(x4)\n",
    "    dictionary[\"x5\"].append(x5)\n",
    "    dictionary[\"x6\"].append(x6)\n",
    "    dictionary[\"x7\"].append(x7)\n",
    "    dictionary[\"x8\"].append(x8)\n",
    "    dictionary[\"x9\"].append(x9)\n",
    "    dictionary[\"x10\"].append(x10)\n",
    "    dictionary[\"x11\"].append(x11)\n",
    "    dictionary[\"x12\"].append(x12)\n",
    "    dictionary[\"x13\"].append(x13)\n",
    "    dictionary[\"y\"].append(y)"
   ]
  },
  {
   "cell_type": "code",
   "execution_count": 21,
   "id": "e4e9b542",
   "metadata": {},
   "outputs": [
    {
     "data": {
      "text/html": [
       "<div>\n",
       "<style scoped>\n",
       "    .dataframe tbody tr th:only-of-type {\n",
       "        vertical-align: middle;\n",
       "    }\n",
       "\n",
       "    .dataframe tbody tr th {\n",
       "        vertical-align: top;\n",
       "    }\n",
       "\n",
       "    .dataframe thead th {\n",
       "        text-align: right;\n",
       "    }\n",
       "</style>\n",
       "<table border=\"1\" class=\"dataframe\">\n",
       "  <thead>\n",
       "    <tr style=\"text-align: right;\">\n",
       "      <th></th>\n",
       "      <th>x0</th>\n",
       "      <th>x1</th>\n",
       "      <th>x2</th>\n",
       "      <th>x3</th>\n",
       "      <th>x4</th>\n",
       "      <th>x5</th>\n",
       "      <th>x6</th>\n",
       "      <th>x7</th>\n",
       "      <th>x8</th>\n",
       "      <th>x9</th>\n",
       "      <th>x10</th>\n",
       "      <th>x11</th>\n",
       "      <th>x12</th>\n",
       "      <th>x13</th>\n",
       "      <th>y</th>\n",
       "    </tr>\n",
       "  </thead>\n",
       "  <tbody>\n",
       "    <tr>\n",
       "      <th>0</th>\n",
       "      <td>0.760860</td>\n",
       "      <td>0.348422</td>\n",
       "      <td>0.613803</td>\n",
       "      <td>0.395632</td>\n",
       "      <td>0.575200</td>\n",
       "      <td>0.067656</td>\n",
       "      <td>0.053555</td>\n",
       "      <td>0.052702</td>\n",
       "      <td>0.031524</td>\n",
       "      <td>0.002627</td>\n",
       "      <td>0.749776</td>\n",
       "      <td>0.335309</td>\n",
       "      <td>0.588292</td>\n",
       "      <td>0.410158</td>\n",
       "      <td>14.702527</td>\n",
       "    </tr>\n",
       "    <tr>\n",
       "      <th>1</th>\n",
       "      <td>0.491120</td>\n",
       "      <td>0.497927</td>\n",
       "      <td>0.049582</td>\n",
       "      <td>0.692623</td>\n",
       "      <td>0.142164</td>\n",
       "      <td>0.059319</td>\n",
       "      <td>0.001798</td>\n",
       "      <td>0.018557</td>\n",
       "      <td>0.088864</td>\n",
       "      <td>0.009921</td>\n",
       "      <td>0.490231</td>\n",
       "      <td>0.488897</td>\n",
       "      <td>0.060536</td>\n",
       "      <td>0.709291</td>\n",
       "      <td>11.017391</td>\n",
       "    </tr>\n",
       "    <tr>\n",
       "      <th>2</th>\n",
       "      <td>0.376111</td>\n",
       "      <td>0.929257</td>\n",
       "      <td>0.384552</td>\n",
       "      <td>0.619067</td>\n",
       "      <td>0.641335</td>\n",
       "      <td>0.099895</td>\n",
       "      <td>0.028491</td>\n",
       "      <td>0.027332</td>\n",
       "      <td>0.030326</td>\n",
       "      <td>0.062800</td>\n",
       "      <td>0.377878</td>\n",
       "      <td>0.938293</td>\n",
       "      <td>0.376020</td>\n",
       "      <td>0.621777</td>\n",
       "      <td>18.512861</td>\n",
       "    </tr>\n",
       "    <tr>\n",
       "      <th>3</th>\n",
       "      <td>0.486507</td>\n",
       "      <td>0.585989</td>\n",
       "      <td>0.624593</td>\n",
       "      <td>0.505549</td>\n",
       "      <td>0.252508</td>\n",
       "      <td>0.050979</td>\n",
       "      <td>0.089883</td>\n",
       "      <td>0.075558</td>\n",
       "      <td>0.031429</td>\n",
       "      <td>0.076140</td>\n",
       "      <td>0.499207</td>\n",
       "      <td>0.584228</td>\n",
       "      <td>0.628392</td>\n",
       "      <td>0.506162</td>\n",
       "      <td>14.168037</td>\n",
       "    </tr>\n",
       "    <tr>\n",
       "      <th>4</th>\n",
       "      <td>0.608599</td>\n",
       "      <td>0.363825</td>\n",
       "      <td>0.666282</td>\n",
       "      <td>0.326364</td>\n",
       "      <td>0.715728</td>\n",
       "      <td>0.007425</td>\n",
       "      <td>0.011177</td>\n",
       "      <td>0.047563</td>\n",
       "      <td>0.048675</td>\n",
       "      <td>0.040963</td>\n",
       "      <td>0.610210</td>\n",
       "      <td>0.354331</td>\n",
       "      <td>0.675974</td>\n",
       "      <td>0.316385</td>\n",
       "      <td>13.204151</td>\n",
       "    </tr>\n",
       "    <tr>\n",
       "      <th>...</th>\n",
       "      <td>...</td>\n",
       "      <td>...</td>\n",
       "      <td>...</td>\n",
       "      <td>...</td>\n",
       "      <td>...</td>\n",
       "      <td>...</td>\n",
       "      <td>...</td>\n",
       "      <td>...</td>\n",
       "      <td>...</td>\n",
       "      <td>...</td>\n",
       "      <td>...</td>\n",
       "      <td>...</td>\n",
       "      <td>...</td>\n",
       "      <td>...</td>\n",
       "      <td>...</td>\n",
       "    </tr>\n",
       "    <tr>\n",
       "      <th>2995</th>\n",
       "      <td>0.774054</td>\n",
       "      <td>0.929854</td>\n",
       "      <td>0.269111</td>\n",
       "      <td>0.453180</td>\n",
       "      <td>0.543099</td>\n",
       "      <td>0.024206</td>\n",
       "      <td>0.040667</td>\n",
       "      <td>0.028901</td>\n",
       "      <td>0.083206</td>\n",
       "      <td>0.037870</td>\n",
       "      <td>0.776722</td>\n",
       "      <td>0.927067</td>\n",
       "      <td>0.253996</td>\n",
       "      <td>0.450106</td>\n",
       "      <td>14.211191</td>\n",
       "    </tr>\n",
       "    <tr>\n",
       "      <th>2996</th>\n",
       "      <td>0.229340</td>\n",
       "      <td>0.891975</td>\n",
       "      <td>0.458137</td>\n",
       "      <td>0.473843</td>\n",
       "      <td>0.810579</td>\n",
       "      <td>0.030370</td>\n",
       "      <td>0.050772</td>\n",
       "      <td>0.086147</td>\n",
       "      <td>0.068278</td>\n",
       "      <td>0.072545</td>\n",
       "      <td>0.233604</td>\n",
       "      <td>0.887529</td>\n",
       "      <td>0.454423</td>\n",
       "      <td>0.475880</td>\n",
       "      <td>15.522607</td>\n",
       "    </tr>\n",
       "    <tr>\n",
       "      <th>2997</th>\n",
       "      <td>0.173126</td>\n",
       "      <td>0.558385</td>\n",
       "      <td>0.641509</td>\n",
       "      <td>0.221139</td>\n",
       "      <td>0.495969</td>\n",
       "      <td>0.050460</td>\n",
       "      <td>0.044561</td>\n",
       "      <td>0.017628</td>\n",
       "      <td>0.061997</td>\n",
       "      <td>0.078259</td>\n",
       "      <td>0.182514</td>\n",
       "      <td>0.550748</td>\n",
       "      <td>0.645798</td>\n",
       "      <td>0.221849</td>\n",
       "      <td>8.023123</td>\n",
       "    </tr>\n",
       "    <tr>\n",
       "      <th>2998</th>\n",
       "      <td>0.593928</td>\n",
       "      <td>0.411882</td>\n",
       "      <td>0.314321</td>\n",
       "      <td>0.996582</td>\n",
       "      <td>0.446221</td>\n",
       "      <td>0.083091</td>\n",
       "      <td>0.091103</td>\n",
       "      <td>0.022757</td>\n",
       "      <td>0.006771</td>\n",
       "      <td>0.042927</td>\n",
       "      <td>0.603761</td>\n",
       "      <td>0.401910</td>\n",
       "      <td>0.312891</td>\n",
       "      <td>0.998104</td>\n",
       "      <td>18.742630</td>\n",
       "    </tr>\n",
       "    <tr>\n",
       "      <th>2999</th>\n",
       "      <td>0.717631</td>\n",
       "      <td>0.753751</td>\n",
       "      <td>0.871201</td>\n",
       "      <td>0.595420</td>\n",
       "      <td>0.272139</td>\n",
       "      <td>0.025441</td>\n",
       "      <td>0.036401</td>\n",
       "      <td>0.039366</td>\n",
       "      <td>0.057854</td>\n",
       "      <td>0.040014</td>\n",
       "      <td>0.712032</td>\n",
       "      <td>0.754767</td>\n",
       "      <td>0.867701</td>\n",
       "      <td>0.590861</td>\n",
       "      <td>15.257690</td>\n",
       "    </tr>\n",
       "  </tbody>\n",
       "</table>\n",
       "<p>3000 rows × 15 columns</p>\n",
       "</div>"
      ],
      "text/plain": [
       "            x0        x1        x2        x3        x4        x5        x6  \\\n",
       "0     0.760860  0.348422  0.613803  0.395632  0.575200  0.067656  0.053555   \n",
       "1     0.491120  0.497927  0.049582  0.692623  0.142164  0.059319  0.001798   \n",
       "2     0.376111  0.929257  0.384552  0.619067  0.641335  0.099895  0.028491   \n",
       "3     0.486507  0.585989  0.624593  0.505549  0.252508  0.050979  0.089883   \n",
       "4     0.608599  0.363825  0.666282  0.326364  0.715728  0.007425  0.011177   \n",
       "...        ...       ...       ...       ...       ...       ...       ...   \n",
       "2995  0.774054  0.929854  0.269111  0.453180  0.543099  0.024206  0.040667   \n",
       "2996  0.229340  0.891975  0.458137  0.473843  0.810579  0.030370  0.050772   \n",
       "2997  0.173126  0.558385  0.641509  0.221139  0.495969  0.050460  0.044561   \n",
       "2998  0.593928  0.411882  0.314321  0.996582  0.446221  0.083091  0.091103   \n",
       "2999  0.717631  0.753751  0.871201  0.595420  0.272139  0.025441  0.036401   \n",
       "\n",
       "            x7        x8        x9       x10       x11       x12       x13  \\\n",
       "0     0.052702  0.031524  0.002627  0.749776  0.335309  0.588292  0.410158   \n",
       "1     0.018557  0.088864  0.009921  0.490231  0.488897  0.060536  0.709291   \n",
       "2     0.027332  0.030326  0.062800  0.377878  0.938293  0.376020  0.621777   \n",
       "3     0.075558  0.031429  0.076140  0.499207  0.584228  0.628392  0.506162   \n",
       "4     0.047563  0.048675  0.040963  0.610210  0.354331  0.675974  0.316385   \n",
       "...        ...       ...       ...       ...       ...       ...       ...   \n",
       "2995  0.028901  0.083206  0.037870  0.776722  0.927067  0.253996  0.450106   \n",
       "2996  0.086147  0.068278  0.072545  0.233604  0.887529  0.454423  0.475880   \n",
       "2997  0.017628  0.061997  0.078259  0.182514  0.550748  0.645798  0.221849   \n",
       "2998  0.022757  0.006771  0.042927  0.603761  0.401910  0.312891  0.998104   \n",
       "2999  0.039366  0.057854  0.040014  0.712032  0.754767  0.867701  0.590861   \n",
       "\n",
       "              y  \n",
       "0     14.702527  \n",
       "1     11.017391  \n",
       "2     18.512861  \n",
       "3     14.168037  \n",
       "4     13.204151  \n",
       "...         ...  \n",
       "2995  14.211191  \n",
       "2996  15.522607  \n",
       "2997   8.023123  \n",
       "2998  18.742630  \n",
       "2999  15.257690  \n",
       "\n",
       "[3000 rows x 15 columns]"
      ]
     },
     "execution_count": 21,
     "metadata": {},
     "output_type": "execute_result"
    }
   ],
   "source": [
    "import pandas as pd\n",
    "\n",
    "data= pd.DataFrame(dictionary)\n",
    "data"
   ]
  },
  {
   "cell_type": "code",
   "execution_count": 22,
   "id": "8883df00",
   "metadata": {},
   "outputs": [],
   "source": [
    "data.to_csv(\"./simulation_study_data.csv\")"
   ]
  },
  {
   "cell_type": "code",
   "execution_count": 5,
   "id": "4b801362",
   "metadata": {},
   "outputs": [
    {
     "data": {
      "text/html": [
       "<div>\n",
       "<style scoped>\n",
       "    .dataframe tbody tr th:only-of-type {\n",
       "        vertical-align: middle;\n",
       "    }\n",
       "\n",
       "    .dataframe tbody tr th {\n",
       "        vertical-align: top;\n",
       "    }\n",
       "\n",
       "    .dataframe thead th {\n",
       "        text-align: right;\n",
       "    }\n",
       "</style>\n",
       "<table border=\"1\" class=\"dataframe\">\n",
       "  <thead>\n",
       "    <tr style=\"text-align: right;\">\n",
       "      <th></th>\n",
       "      <th>x0</th>\n",
       "      <th>x1</th>\n",
       "      <th>x2</th>\n",
       "      <th>x3</th>\n",
       "      <th>x4</th>\n",
       "      <th>x5</th>\n",
       "      <th>x6</th>\n",
       "      <th>x7</th>\n",
       "      <th>x8</th>\n",
       "      <th>x9</th>\n",
       "      <th>x10</th>\n",
       "      <th>x11</th>\n",
       "      <th>x12</th>\n",
       "      <th>x13</th>\n",
       "      <th>y</th>\n",
       "    </tr>\n",
       "  </thead>\n",
       "  <tbody>\n",
       "    <tr>\n",
       "      <th>0</th>\n",
       "      <td>0.760860</td>\n",
       "      <td>0.348422</td>\n",
       "      <td>0.613803</td>\n",
       "      <td>0.395632</td>\n",
       "      <td>0.575200</td>\n",
       "      <td>0.067656</td>\n",
       "      <td>0.053555</td>\n",
       "      <td>0.052702</td>\n",
       "      <td>0.031524</td>\n",
       "      <td>0.002627</td>\n",
       "      <td>0.749776</td>\n",
       "      <td>0.335309</td>\n",
       "      <td>0.588292</td>\n",
       "      <td>0.410158</td>\n",
       "      <td>14.702527</td>\n",
       "    </tr>\n",
       "    <tr>\n",
       "      <th>1</th>\n",
       "      <td>0.491120</td>\n",
       "      <td>0.497927</td>\n",
       "      <td>0.049582</td>\n",
       "      <td>0.692623</td>\n",
       "      <td>0.142164</td>\n",
       "      <td>0.059319</td>\n",
       "      <td>0.001798</td>\n",
       "      <td>0.018557</td>\n",
       "      <td>0.088864</td>\n",
       "      <td>0.009921</td>\n",
       "      <td>0.490231</td>\n",
       "      <td>0.488897</td>\n",
       "      <td>0.060536</td>\n",
       "      <td>0.709291</td>\n",
       "      <td>11.017391</td>\n",
       "    </tr>\n",
       "    <tr>\n",
       "      <th>2</th>\n",
       "      <td>0.376111</td>\n",
       "      <td>0.929257</td>\n",
       "      <td>0.384552</td>\n",
       "      <td>0.619067</td>\n",
       "      <td>0.641335</td>\n",
       "      <td>0.099895</td>\n",
       "      <td>0.028491</td>\n",
       "      <td>0.027332</td>\n",
       "      <td>0.030326</td>\n",
       "      <td>0.062800</td>\n",
       "      <td>0.377878</td>\n",
       "      <td>0.938293</td>\n",
       "      <td>0.376020</td>\n",
       "      <td>0.621777</td>\n",
       "      <td>18.512861</td>\n",
       "    </tr>\n",
       "    <tr>\n",
       "      <th>3</th>\n",
       "      <td>0.486507</td>\n",
       "      <td>0.585989</td>\n",
       "      <td>0.624593</td>\n",
       "      <td>0.505549</td>\n",
       "      <td>0.252508</td>\n",
       "      <td>0.050979</td>\n",
       "      <td>0.089883</td>\n",
       "      <td>0.075558</td>\n",
       "      <td>0.031429</td>\n",
       "      <td>0.076140</td>\n",
       "      <td>0.499207</td>\n",
       "      <td>0.584228</td>\n",
       "      <td>0.628392</td>\n",
       "      <td>0.506162</td>\n",
       "      <td>14.168037</td>\n",
       "    </tr>\n",
       "    <tr>\n",
       "      <th>4</th>\n",
       "      <td>0.608599</td>\n",
       "      <td>0.363825</td>\n",
       "      <td>0.666282</td>\n",
       "      <td>0.326364</td>\n",
       "      <td>0.715728</td>\n",
       "      <td>0.007425</td>\n",
       "      <td>0.011177</td>\n",
       "      <td>0.047563</td>\n",
       "      <td>0.048675</td>\n",
       "      <td>0.040963</td>\n",
       "      <td>0.610210</td>\n",
       "      <td>0.354331</td>\n",
       "      <td>0.675974</td>\n",
       "      <td>0.316385</td>\n",
       "      <td>13.204151</td>\n",
       "    </tr>\n",
       "    <tr>\n",
       "      <th>...</th>\n",
       "      <td>...</td>\n",
       "      <td>...</td>\n",
       "      <td>...</td>\n",
       "      <td>...</td>\n",
       "      <td>...</td>\n",
       "      <td>...</td>\n",
       "      <td>...</td>\n",
       "      <td>...</td>\n",
       "      <td>...</td>\n",
       "      <td>...</td>\n",
       "      <td>...</td>\n",
       "      <td>...</td>\n",
       "      <td>...</td>\n",
       "      <td>...</td>\n",
       "      <td>...</td>\n",
       "    </tr>\n",
       "    <tr>\n",
       "      <th>2995</th>\n",
       "      <td>0.774054</td>\n",
       "      <td>0.929854</td>\n",
       "      <td>0.269111</td>\n",
       "      <td>0.453180</td>\n",
       "      <td>0.543099</td>\n",
       "      <td>0.024206</td>\n",
       "      <td>0.040667</td>\n",
       "      <td>0.028901</td>\n",
       "      <td>0.083206</td>\n",
       "      <td>0.037870</td>\n",
       "      <td>0.776722</td>\n",
       "      <td>0.927067</td>\n",
       "      <td>0.253996</td>\n",
       "      <td>0.450106</td>\n",
       "      <td>14.211191</td>\n",
       "    </tr>\n",
       "    <tr>\n",
       "      <th>2996</th>\n",
       "      <td>0.229340</td>\n",
       "      <td>0.891975</td>\n",
       "      <td>0.458137</td>\n",
       "      <td>0.473843</td>\n",
       "      <td>0.810579</td>\n",
       "      <td>0.030370</td>\n",
       "      <td>0.050772</td>\n",
       "      <td>0.086147</td>\n",
       "      <td>0.068278</td>\n",
       "      <td>0.072545</td>\n",
       "      <td>0.233604</td>\n",
       "      <td>0.887529</td>\n",
       "      <td>0.454423</td>\n",
       "      <td>0.475880</td>\n",
       "      <td>15.522607</td>\n",
       "    </tr>\n",
       "    <tr>\n",
       "      <th>2997</th>\n",
       "      <td>0.173126</td>\n",
       "      <td>0.558385</td>\n",
       "      <td>0.641509</td>\n",
       "      <td>0.221139</td>\n",
       "      <td>0.495969</td>\n",
       "      <td>0.050460</td>\n",
       "      <td>0.044561</td>\n",
       "      <td>0.017628</td>\n",
       "      <td>0.061997</td>\n",
       "      <td>0.078259</td>\n",
       "      <td>0.182514</td>\n",
       "      <td>0.550748</td>\n",
       "      <td>0.645798</td>\n",
       "      <td>0.221849</td>\n",
       "      <td>8.023123</td>\n",
       "    </tr>\n",
       "    <tr>\n",
       "      <th>2998</th>\n",
       "      <td>0.593928</td>\n",
       "      <td>0.411882</td>\n",
       "      <td>0.314321</td>\n",
       "      <td>0.996582</td>\n",
       "      <td>0.446221</td>\n",
       "      <td>0.083091</td>\n",
       "      <td>0.091103</td>\n",
       "      <td>0.022757</td>\n",
       "      <td>0.006771</td>\n",
       "      <td>0.042927</td>\n",
       "      <td>0.603761</td>\n",
       "      <td>0.401910</td>\n",
       "      <td>0.312891</td>\n",
       "      <td>0.998104</td>\n",
       "      <td>18.742630</td>\n",
       "    </tr>\n",
       "    <tr>\n",
       "      <th>2999</th>\n",
       "      <td>0.717631</td>\n",
       "      <td>0.753751</td>\n",
       "      <td>0.871201</td>\n",
       "      <td>0.595420</td>\n",
       "      <td>0.272139</td>\n",
       "      <td>0.025441</td>\n",
       "      <td>0.036401</td>\n",
       "      <td>0.039366</td>\n",
       "      <td>0.057854</td>\n",
       "      <td>0.040014</td>\n",
       "      <td>0.712032</td>\n",
       "      <td>0.754767</td>\n",
       "      <td>0.867701</td>\n",
       "      <td>0.590861</td>\n",
       "      <td>15.257690</td>\n",
       "    </tr>\n",
       "  </tbody>\n",
       "</table>\n",
       "<p>3000 rows × 15 columns</p>\n",
       "</div>"
      ],
      "text/plain": [
       "            x0        x1        x2        x3        x4        x5        x6  \\\n",
       "0     0.760860  0.348422  0.613803  0.395632  0.575200  0.067656  0.053555   \n",
       "1     0.491120  0.497927  0.049582  0.692623  0.142164  0.059319  0.001798   \n",
       "2     0.376111  0.929257  0.384552  0.619067  0.641335  0.099895  0.028491   \n",
       "3     0.486507  0.585989  0.624593  0.505549  0.252508  0.050979  0.089883   \n",
       "4     0.608599  0.363825  0.666282  0.326364  0.715728  0.007425  0.011177   \n",
       "...        ...       ...       ...       ...       ...       ...       ...   \n",
       "2995  0.774054  0.929854  0.269111  0.453180  0.543099  0.024206  0.040667   \n",
       "2996  0.229340  0.891975  0.458137  0.473843  0.810579  0.030370  0.050772   \n",
       "2997  0.173126  0.558385  0.641509  0.221139  0.495969  0.050460  0.044561   \n",
       "2998  0.593928  0.411882  0.314321  0.996582  0.446221  0.083091  0.091103   \n",
       "2999  0.717631  0.753751  0.871201  0.595420  0.272139  0.025441  0.036401   \n",
       "\n",
       "            x7        x8        x9       x10       x11       x12       x13  \\\n",
       "0     0.052702  0.031524  0.002627  0.749776  0.335309  0.588292  0.410158   \n",
       "1     0.018557  0.088864  0.009921  0.490231  0.488897  0.060536  0.709291   \n",
       "2     0.027332  0.030326  0.062800  0.377878  0.938293  0.376020  0.621777   \n",
       "3     0.075558  0.031429  0.076140  0.499207  0.584228  0.628392  0.506162   \n",
       "4     0.047563  0.048675  0.040963  0.610210  0.354331  0.675974  0.316385   \n",
       "...        ...       ...       ...       ...       ...       ...       ...   \n",
       "2995  0.028901  0.083206  0.037870  0.776722  0.927067  0.253996  0.450106   \n",
       "2996  0.086147  0.068278  0.072545  0.233604  0.887529  0.454423  0.475880   \n",
       "2997  0.017628  0.061997  0.078259  0.182514  0.550748  0.645798  0.221849   \n",
       "2998  0.022757  0.006771  0.042927  0.603761  0.401910  0.312891  0.998104   \n",
       "2999  0.039366  0.057854  0.040014  0.712032  0.754767  0.867701  0.590861   \n",
       "\n",
       "              y  \n",
       "0     14.702527  \n",
       "1     11.017391  \n",
       "2     18.512861  \n",
       "3     14.168037  \n",
       "4     13.204151  \n",
       "...         ...  \n",
       "2995  14.211191  \n",
       "2996  15.522607  \n",
       "2997   8.023123  \n",
       "2998  18.742630  \n",
       "2999  15.257690  \n",
       "\n",
       "[3000 rows x 15 columns]"
      ]
     },
     "execution_count": 5,
     "metadata": {},
     "output_type": "execute_result"
    }
   ],
   "source": [
    "import pandas as pd\n",
    "\n",
    "data= pd.read_csv(\"./simulation_study_data.csv\", index_col=0)\n",
    "data"
   ]
  },
  {
   "cell_type": "code",
   "execution_count": 27,
   "id": "33b0fff7",
   "metadata": {},
   "outputs": [
    {
     "data": {
      "text/html": [
       "<div>\n",
       "<style scoped>\n",
       "    .dataframe tbody tr th:only-of-type {\n",
       "        vertical-align: middle;\n",
       "    }\n",
       "\n",
       "    .dataframe tbody tr th {\n",
       "        vertical-align: top;\n",
       "    }\n",
       "\n",
       "    .dataframe thead th {\n",
       "        text-align: right;\n",
       "    }\n",
       "</style>\n",
       "<table border=\"1\" class=\"dataframe\">\n",
       "  <thead>\n",
       "    <tr style=\"text-align: right;\">\n",
       "      <th></th>\n",
       "      <th>x0</th>\n",
       "      <th>x1</th>\n",
       "      <th>x2</th>\n",
       "      <th>x3</th>\n",
       "      <th>x4</th>\n",
       "      <th>x5</th>\n",
       "      <th>x6</th>\n",
       "      <th>x7</th>\n",
       "      <th>x8</th>\n",
       "      <th>x9</th>\n",
       "      <th>x10</th>\n",
       "      <th>x11</th>\n",
       "      <th>x12</th>\n",
       "      <th>x13</th>\n",
       "      <th>y</th>\n",
       "    </tr>\n",
       "  </thead>\n",
       "  <tbody>\n",
       "    <tr>\n",
       "      <th>count</th>\n",
       "      <td>3000.000000</td>\n",
       "      <td>3000.000000</td>\n",
       "      <td>3000.000000</td>\n",
       "      <td>3000.000000</td>\n",
       "      <td>3000.000000</td>\n",
       "      <td>3000.000000</td>\n",
       "      <td>3000.000000</td>\n",
       "      <td>3000.000000</td>\n",
       "      <td>3000.000000</td>\n",
       "      <td>3000.000000</td>\n",
       "      <td>3000.000000</td>\n",
       "      <td>3000.000000</td>\n",
       "      <td>3000.000000</td>\n",
       "      <td>3000.000000</td>\n",
       "      <td>3000.000000</td>\n",
       "    </tr>\n",
       "    <tr>\n",
       "      <th>mean</th>\n",
       "      <td>0.499960</td>\n",
       "      <td>0.502432</td>\n",
       "      <td>0.503506</td>\n",
       "      <td>0.508483</td>\n",
       "      <td>0.501966</td>\n",
       "      <td>0.050530</td>\n",
       "      <td>0.049512</td>\n",
       "      <td>0.049396</td>\n",
       "      <td>0.050039</td>\n",
       "      <td>0.050319</td>\n",
       "      <td>0.500070</td>\n",
       "      <td>0.502359</td>\n",
       "      <td>0.503420</td>\n",
       "      <td>0.508310</td>\n",
       "      <td>11.670789</td>\n",
       "    </tr>\n",
       "    <tr>\n",
       "      <th>std</th>\n",
       "      <td>0.289320</td>\n",
       "      <td>0.287700</td>\n",
       "      <td>0.287872</td>\n",
       "      <td>0.290214</td>\n",
       "      <td>0.288318</td>\n",
       "      <td>0.028926</td>\n",
       "      <td>0.028723</td>\n",
       "      <td>0.029040</td>\n",
       "      <td>0.028845</td>\n",
       "      <td>0.028575</td>\n",
       "      <td>0.289730</td>\n",
       "      <td>0.287980</td>\n",
       "      <td>0.288286</td>\n",
       "      <td>0.290468</td>\n",
       "      <td>4.944702</td>\n",
       "    </tr>\n",
       "    <tr>\n",
       "      <th>min</th>\n",
       "      <td>0.000663</td>\n",
       "      <td>0.000219</td>\n",
       "      <td>0.000282</td>\n",
       "      <td>0.000268</td>\n",
       "      <td>0.000032</td>\n",
       "      <td>0.000070</td>\n",
       "      <td>0.000001</td>\n",
       "      <td>0.000109</td>\n",
       "      <td>0.000020</td>\n",
       "      <td>0.000018</td>\n",
       "      <td>-0.015174</td>\n",
       "      <td>-0.013043</td>\n",
       "      <td>-0.015113</td>\n",
       "      <td>-0.014187</td>\n",
       "      <td>-2.588197</td>\n",
       "    </tr>\n",
       "    <tr>\n",
       "      <th>25%</th>\n",
       "      <td>0.244748</td>\n",
       "      <td>0.262781</td>\n",
       "      <td>0.253174</td>\n",
       "      <td>0.258745</td>\n",
       "      <td>0.250125</td>\n",
       "      <td>0.025903</td>\n",
       "      <td>0.024813</td>\n",
       "      <td>0.023723</td>\n",
       "      <td>0.025321</td>\n",
       "      <td>0.025869</td>\n",
       "      <td>0.244789</td>\n",
       "      <td>0.260300</td>\n",
       "      <td>0.255222</td>\n",
       "      <td>0.258586</td>\n",
       "      <td>8.211122</td>\n",
       "    </tr>\n",
       "    <tr>\n",
       "      <th>50%</th>\n",
       "      <td>0.500443</td>\n",
       "      <td>0.494942</td>\n",
       "      <td>0.511052</td>\n",
       "      <td>0.511233</td>\n",
       "      <td>0.507895</td>\n",
       "      <td>0.050848</td>\n",
       "      <td>0.048528</td>\n",
       "      <td>0.049197</td>\n",
       "      <td>0.049952</td>\n",
       "      <td>0.050771</td>\n",
       "      <td>0.497848</td>\n",
       "      <td>0.495960</td>\n",
       "      <td>0.508208</td>\n",
       "      <td>0.509949</td>\n",
       "      <td>11.715562</td>\n",
       "    </tr>\n",
       "    <tr>\n",
       "      <th>75%</th>\n",
       "      <td>0.751075</td>\n",
       "      <td>0.744337</td>\n",
       "      <td>0.758873</td>\n",
       "      <td>0.760939</td>\n",
       "      <td>0.749530</td>\n",
       "      <td>0.075437</td>\n",
       "      <td>0.074059</td>\n",
       "      <td>0.074534</td>\n",
       "      <td>0.074732</td>\n",
       "      <td>0.074869</td>\n",
       "      <td>0.750607</td>\n",
       "      <td>0.744657</td>\n",
       "      <td>0.757845</td>\n",
       "      <td>0.761707</td>\n",
       "      <td>15.292702</td>\n",
       "    </tr>\n",
       "    <tr>\n",
       "      <th>max</th>\n",
       "      <td>0.999702</td>\n",
       "      <td>0.999797</td>\n",
       "      <td>0.998665</td>\n",
       "      <td>0.999710</td>\n",
       "      <td>0.999938</td>\n",
       "      <td>0.099895</td>\n",
       "      <td>0.099958</td>\n",
       "      <td>0.099976</td>\n",
       "      <td>0.099980</td>\n",
       "      <td>0.099969</td>\n",
       "      <td>1.022576</td>\n",
       "      <td>1.017015</td>\n",
       "      <td>1.016532</td>\n",
       "      <td>1.017877</td>\n",
       "      <td>24.599514</td>\n",
       "    </tr>\n",
       "  </tbody>\n",
       "</table>\n",
       "</div>"
      ],
      "text/plain": [
       "                x0           x1           x2           x3           x4  \\\n",
       "count  3000.000000  3000.000000  3000.000000  3000.000000  3000.000000   \n",
       "mean      0.499960     0.502432     0.503506     0.508483     0.501966   \n",
       "std       0.289320     0.287700     0.287872     0.290214     0.288318   \n",
       "min       0.000663     0.000219     0.000282     0.000268     0.000032   \n",
       "25%       0.244748     0.262781     0.253174     0.258745     0.250125   \n",
       "50%       0.500443     0.494942     0.511052     0.511233     0.507895   \n",
       "75%       0.751075     0.744337     0.758873     0.760939     0.749530   \n",
       "max       0.999702     0.999797     0.998665     0.999710     0.999938   \n",
       "\n",
       "                x5           x6           x7           x8           x9  \\\n",
       "count  3000.000000  3000.000000  3000.000000  3000.000000  3000.000000   \n",
       "mean      0.050530     0.049512     0.049396     0.050039     0.050319   \n",
       "std       0.028926     0.028723     0.029040     0.028845     0.028575   \n",
       "min       0.000070     0.000001     0.000109     0.000020     0.000018   \n",
       "25%       0.025903     0.024813     0.023723     0.025321     0.025869   \n",
       "50%       0.050848     0.048528     0.049197     0.049952     0.050771   \n",
       "75%       0.075437     0.074059     0.074534     0.074732     0.074869   \n",
       "max       0.099895     0.099958     0.099976     0.099980     0.099969   \n",
       "\n",
       "               x10          x11          x12          x13            y  \n",
       "count  3000.000000  3000.000000  3000.000000  3000.000000  3000.000000  \n",
       "mean      0.500070     0.502359     0.503420     0.508310    11.670789  \n",
       "std       0.289730     0.287980     0.288286     0.290468     4.944702  \n",
       "min      -0.015174    -0.013043    -0.015113    -0.014187    -2.588197  \n",
       "25%       0.244789     0.260300     0.255222     0.258586     8.211122  \n",
       "50%       0.497848     0.495960     0.508208     0.509949    11.715562  \n",
       "75%       0.750607     0.744657     0.757845     0.761707    15.292702  \n",
       "max       1.022576     1.017015     1.016532     1.017877    24.599514  "
      ]
     },
     "execution_count": 27,
     "metadata": {},
     "output_type": "execute_result"
    }
   ],
   "source": [
    "data.describe()"
   ]
  },
  {
   "cell_type": "code",
   "execution_count": 6,
   "id": "6812b868",
   "metadata": {},
   "outputs": [],
   "source": [
    "y= np.array(data[\"y\"])\n",
    "# X= np.array(data[[\"x0\", \"x1\", \"x2\", \"x3\", \"x4\", \"x5\", \"x6\", \"x7\", \"x8\", \"x9\", \"x10\", \"x11\", \"x12\", \"x13\"]])\n",
    "X= np.array(data[[\"x0\", \"x1\", \"x2\", \"x7\", \"x8\", \"x9\", \"x10\", \"x11\", \"x12\", \"x13\"]])"
   ]
  },
  {
   "cell_type": "code",
   "execution_count": 7,
   "id": "a9eceb03",
   "metadata": {},
   "outputs": [],
   "source": [
    "binary_y= y>=y.mean()\n",
    "# binary_y.astype(int)"
   ]
  },
  {
   "cell_type": "code",
   "execution_count": 33,
   "id": "c433ca8d",
   "metadata": {},
   "outputs": [],
   "source": [
    "binary_y= binary_y.astype(float)"
   ]
  },
  {
   "cell_type": "code",
   "execution_count": 8,
   "id": "62ac1e0b",
   "metadata": {},
   "outputs": [
    {
     "name": "stdout",
     "output_type": "stream",
     "text": [
      "Class False: 1493\n",
      "Class True: 1507\n"
     ]
    }
   ],
   "source": [
    "for i in np.unique(binary_y):\n",
    "    print(f\"Class {i}: {len(np.nonzero(binary_y==i)[0])}\")"
   ]
  },
  {
   "cell_type": "code",
   "execution_count": 9,
   "id": "e7f826e2",
   "metadata": {},
   "outputs": [],
   "source": [
    "index=[i for i in range(len(data))]\n",
    "np.random.shuffle(index)\n",
    "split= len(data) // 10 * 3\n",
    "X_train= X[index[split:]]; X_val= X[index[:split]]\n",
    "y_train= binary_y[index[split:]]; y_val= binary_y[index[:split]]"
   ]
  },
  {
   "cell_type": "code",
   "execution_count": 10,
   "id": "ca7b7ff6",
   "metadata": {},
   "outputs": [
    {
     "data": {
      "text/plain": [
       "((2100, 10), (900, 10))"
      ]
     },
     "execution_count": 10,
     "metadata": {},
     "output_type": "execute_result"
    }
   ],
   "source": [
    "X_train.shape, X_val.shape"
   ]
  },
  {
   "cell_type": "code",
   "execution_count": 90,
   "id": "ca795a1b",
   "metadata": {},
   "outputs": [
    {
     "data": {
      "text/plain": [
       "<module 'Models.SimulationStudyBaseline_Model' from '/home/jchan/fs-tutorial/Models/SimulationStudyBaseline_Model.py'>"
      ]
     },
     "execution_count": 90,
     "metadata": {},
     "output_type": "execute_result"
    }
   ],
   "source": [
    "import importlib\n",
    "importlib.reload(SimulationStudyBaseline_Model)"
   ]
  },
  {
   "cell_type": "code",
   "execution_count": 3,
   "id": "aef06571",
   "metadata": {},
   "outputs": [],
   "source": [
    "import torch\n",
    "import utilities.SimulationStudyDataset as SimulationStudyDataset\n",
    "data= SimulationStudyDataset.SimulationStudyDataset()"
   ]
  },
  {
   "cell_type": "code",
   "execution_count": 12,
   "id": "f8c7209c",
   "metadata": {},
   "outputs": [],
   "source": [
    "train_dataloader= torch.utils.data.DataLoader(data.return_training_dataset(), batch_size=256)\n",
    "val_dataloader= torch.utils.data.DataLoader(data.return_validation_dataset(), batch_size=256)"
   ]
  },
  {
   "cell_type": "code",
   "execution_count": 86,
   "id": "2d1b0131",
   "metadata": {},
   "outputs": [
    {
     "data": {
      "text/plain": [
       "(3000,)"
      ]
     },
     "execution_count": 86,
     "metadata": {},
     "output_type": "execute_result"
    }
   ],
   "source": [
    "data.y.shape"
   ]
  },
  {
   "cell_type": "markdown",
   "id": "38acaa3d",
   "metadata": {},
   "source": [
    "## Optuna"
   ]
  },
  {
   "cell_type": "code",
   "execution_count": 3,
   "id": "ab1af1d4",
   "metadata": {},
   "outputs": [],
   "source": [
    "import optuna\n",
    "import torch\n",
    "from sklearn.metrics import classification_report "
   ]
  },
  {
   "cell_type": "code",
   "execution_count": 4,
   "id": "bd29d1d5",
   "metadata": {},
   "outputs": [],
   "source": [
    "DEVICE= torch.device( \"cuda\" if torch.cuda.is_available() else \"cpu\" )\n",
    "def model_definition(trial, input_features, classes):\n",
    "    \n",
    "    layers= []\n",
    "    \n",
    "    n_layer= trial.suggest_int(\"n_layer\", 0,4)\n",
    "    act_funcs= {\"None\":None, \"ReLU\":torch.nn.ReLU(), \"Sig\":torch.nn.Sigmoid(), \"Tanh\":torch.nn.Tanh()}\n",
    "    \n",
    "    input_features= input_features\n",
    "    for i in range(n_layer):\n",
    "        output_features= trial.suggest_int(f\"h{i}\", 1,200)\n",
    "        layers.append(torch.nn.Linear(input_features, output_features))\n",
    "        \n",
    "        act_func= act_funcs[trial.suggest_categorical(f\"act{i}\",[\"None\", \"ReLU\", \"Sig\", \"Tanh\"])]\n",
    "        if act_func != None:\n",
    "            layers.append(act_func)\n",
    "            \n",
    "        \n",
    "        input_features= output_features\n",
    "        \n",
    "    \n",
    "    layers.append(torch.nn.Linear(input_features, classes))\n",
    "    layers.append(torch.nn.Softmax(dim=1))\n",
    "    \n",
    "    return torch.nn.Sequential(*layers)\n",
    "\n",
    "def train(model, dataloader, loss_func, optimiser):\n",
    "    \n",
    "    running_loss=0    \n",
    "    model.train()\n",
    "    for x, y in dataloader:\n",
    "        \n",
    "        optimiser.zero_grad()\n",
    "        \n",
    "        x=x.to(DEVICE, dtype= torch.float)\n",
    "        y=y.to(DEVICE, dtype= torch.long)\n",
    "        \n",
    "        output= model(x)\n",
    "        \n",
    "\n",
    "        loss= loss_func(output, y)\n",
    "        \n",
    "        loss.backward()\n",
    "        optimiser.step()\n",
    "        \n",
    "        with torch.no_grad():\n",
    "            running_loss += loss * len(x)\n",
    "    return running_loss/len(dataloader)\n",
    "\n",
    "        \n",
    "    \n",
    "def val(model, dataloader, loss_func):\n",
    "\n",
    "    running_loss=0\n",
    "    outputs= []; ys= []\n",
    "    model.eval()\n",
    "    for x, y in dataloader:\n",
    "        \n",
    "        x= x.to(DEVICE, dtype= torch.float)\n",
    "        y= y.to(DEVICE, dtype= torch.long)\n",
    "\n",
    "        with torch.no_grad():\n",
    "\n",
    "            output= model(x)\n",
    "\n",
    "            loss= loss_func(output, y)\n",
    "        \n",
    "            running_loss += loss * len(x)\n",
    "        \n",
    "#         print(\"output\", y.shape)\n",
    "        outputs += [output.argmax(axis=1)[0].detach().cpu().numpy()]\n",
    "        ys += [y[0].detach().cpu().numpy()]\n",
    "    \n",
    "#     print(np.array(outputs)[:5])\n",
    "#     print(np.array(ys)[:5])\n",
    "    \n",
    "    dictionary= classification_report(outputs, ys, output_dict=1, zero_division=0)\n",
    "    \n",
    "    return running_loss/len(dataloader), dictionary\n",
    "\n",
    "EPOCHS=100\n",
    "# DICTIONARY={}\n",
    "def objective(trial):\n",
    "    \n",
    "    learning_rate= trial.suggest_float(\"lr\",1e-5, 1e-3)\n",
    "    \n",
    "    loss_func= torch.nn.CrossEntropyLoss()\n",
    "\n",
    "    model= model_definition(trial, X_train[0].shape[0], 2).to(DEVICE)\n",
    "    \n",
    "    optimiser= torch.optim.Adam(model.parameters(), lr=learning_rate)\n",
    "    \n",
    "    for i in range(EPOCHS):\n",
    "        \n",
    "        tloss= train(model, train_dataloader, loss_func, optimiser)\n",
    "        \n",
    "        loss, dictionary= val(model, val_dataloader, loss_func)\n",
    "        \n",
    "        if i % 10 == 0:\n",
    "            print(f\"train_loss: {tloss}, \", end=\"\")\n",
    "            print(f\"val: {loss}\")\n",
    "    print(\"Dictionary: \")\n",
    "    print(\"0: \", dictionary['0'])\n",
    "    print(\"1: \", dictionary['1'])\n",
    "    print(\"acc: \", dictionary['accuracy'])\n",
    "    \n",
    "    trial.set_user_attr(\"dictionary_0\", dictionary['0'])\n",
    "    trial.set_user_attr(\"dictionary_1\", dictionary['1'])\n",
    "    trial.set_user_attr(\"accuracy\", dictionary['accuracy'])\n",
    "    \n",
    "    return loss, dictionary['accuracy']"
   ]
  },
  {
   "cell_type": "code",
   "execution_count": 53,
   "id": "e4300cbe",
   "metadata": {},
   "outputs": [],
   "source": [
    "import Models.models as models\n",
    "import Models.SimulationStudyBaseline_Model as SimulationStudyBaseline_Model\n",
    "\n",
    "def DF_train(model, dataloader, optimiser, loss_func):\n",
    "    model.train()\n",
    "\n",
    "    outputs=[]\n",
    "    y_real=[]\n",
    "    running_loss=0\n",
    "    for x, y in dataloader:\n",
    "        optimiser.zero_grad()\n",
    "\n",
    "        x = x.to(DEVICE, dtype=torch.float)\n",
    "        y = y.to(DEVICE, dtype=torch.long)\n",
    "\n",
    "#         print(\"train\")\n",
    "#         print(x)\n",
    "        # forward pass\n",
    "        output = model(x)\n",
    "\n",
    "        loss = loss_func(output, y)\n",
    "\n",
    "#       elastic net regularisation\n",
    "#         df_parameter_tensor= model.DF_weights#parameter as tensors\n",
    "\n",
    "        l1_loss= model.l1_lambda * model.compute_l1_loss() # concatenated tensors\n",
    "\n",
    "        l2_loss= model.l2_lambda * model.compute_l2_loss()\n",
    "\n",
    "        loss += l1_loss\n",
    "        loss += l2_loss\n",
    "\n",
    "\n",
    "        # backward pass\n",
    "        loss.backward()\n",
    "        optimiser.step()\n",
    "        \n",
    "        with torch.no_grad():\n",
    "            running_loss += loss * len(x)\n",
    "            \n",
    "    return running_loss/len(dataloader)\n",
    "\n",
    "\n",
    "def DF_objective(trial):\n",
    "    \n",
    "    learning_rate= trial.suggest_float(\"lr\", 1e-5, 1e-3)\n",
    "    \n",
    "    loss_func= torch.nn.CrossEntropyLoss()\n",
    "    \n",
    "    model= SimulationStudyBaseline_Model.SimulationStudyBaseline_Model(device=DEVICE).to(DEVICE)\n",
    "    \n",
    "    l1_lambda=trial.suggest_float(\"l1\", 0.01, 1.0)\n",
    "    \n",
    "    l2_lambda= trial.suggest_float(\"l2\", 0.01, 1.0)\n",
    "    \n",
    "    df_model= models.Univariate_DF(device=DEVICE, input_dim=data.X.shape[1], model=model, l1_lambda=l1_lambda, l2_lambda=l2_lambda)\n",
    "    \n",
    "    optimiser= torch.optim.Adam(model.parameters(), lr=learning_rate)\n",
    "    \n",
    "    for epoch in range(EPOCHS):\n",
    "        \n",
    "        tloss= DF_train(df_model, train_dataloader, optimiser, loss_func)\n",
    "        loss, dictionary= val(df_model, val_dataloader, loss_func)\n",
    "        \n",
    "        if epoch % 10 == 0:\n",
    "            print(f\"train_loss: {tloss}, \", end=\"\")\n",
    "            print(f\"val: {loss}\")\n",
    "    print(\"Dictionary: \")\n",
    "    print(\"0: \", dictionary['0'])\n",
    "    print(\"1: \", dictionary['1'])\n",
    "    print(\"acc: \", dictionary['accuracy'])\n",
    "    \n",
    "    trial.set_user_attr(\"dictionary_0\", dictionary['0'])\n",
    "    trial.set_user_attr(\"dictionary_1\", dictionary['1'])\n",
    "    trial.set_user_attr(\"accuracy\", dictionary['accuracy'])\n",
    "    \n",
    "    return loss, dictionary['accuracy']        "
   ]
  },
  {
   "cell_type": "code",
   "execution_count": 8,
   "id": "01c15a79",
   "metadata": {},
   "outputs": [],
   "source": [
    "import Models.models as models\n",
    "import Models.SimulationStudyBaseline_Model as SimulationStudyBaseline_Model\n",
    "\n",
    "def define_nonlinear_func(trial, input_dim):\n",
    "    layers=[]\n",
    "    \n",
    "    act_funcs= {\"BatchNorm\":torch.nn.BatchNorm1d(input_dim), \"ReLU\":torch.nn.ReLU(), \"Sig\":torch.nn.Sigmoid(), \"Tanh\":torch.nn.Tanh()}\n",
    "    \n",
    "    n_layers= trial.suggest_int(\"nlf_n_layers\",0,2)\n",
    "    \n",
    "    if n_layers==0:\n",
    "            layers.append(act_funcs[trial.suggest_categorical(f\"nlf_func\", act_funcs.keys())])\n",
    "    else:\n",
    "        for i in range(n_layers):\n",
    "            layers.append(torch.nn.Linear(input_dim, input_dim))\n",
    "        \n",
    "            act_func= trial.suggest_categorical(f\"nlf_act{i}\",[\"None\", \"ReLU\", \"Sig\", \"Tanh\", \"BatchNorm\"])\n",
    "            if act_func != \"None\":\n",
    "                layers.append(act_funcs[act_func])\n",
    "    print(layers)\n",
    "    return torch.nn.Sequential(*layers)\n",
    "\n",
    "def NFS_objective(trial):\n",
    "    \n",
    "    learning_rate= trial.suggest_float(\"lr\", 1e-5, 1e-3)\n",
    "    \n",
    "    loss_func= torch.nn.CrossEntropyLoss()\n",
    "    \n",
    "    model= SimulationStudyBaseline_Model.SimulationStudyBaseline_Model(device=DEVICE, input_dim=data.X.shape[1], classes=data.classes).to(DEVICE)\n",
    "\n",
    "    nonlinear_func= define_nonlinear_func(trial, data.X.shape[1]).to(DEVICE)\n",
    "    \n",
    "    nfs= models.Univariate_NeuralFS(device=DEVICE, input_dim=data.X.shape[1], nonlinear_func=nonlinear_func, decision_net=model)\n",
    "    optimiser= torch.optim.Adam(nfs.parameters(), lr=learning_rate)\n",
    "    \n",
    "    for epoch in range(EPOCHS):\n",
    "        \n",
    "        tloss= train(nfs, train_dataloader, loss_func, optimiser)\n",
    "        loss, dictionary= val(nfs, val_dataloader, loss_func)\n",
    "        \n",
    "        if epoch % 10 == 0:\n",
    "            print(f\"train_loss: {tloss}, \", end=\"\")\n",
    "            print(f\"val: {loss}\")\n",
    "    print(\"Dictionary: \")\n",
    "    for i in range(data.classes):\n",
    "        try:\n",
    "            print(f\"{i}: \", dictionary[str(i)])\n",
    "        except KeyError:\n",
    "            continue\n",
    "    print(\"acc: \", dictionary['accuracy'])\n",
    "    \n",
    "    for i in range(data.classes):\n",
    "        try:\n",
    "            trial.set_user_attr(f\"dictionary_{i}\", dictionary[str(i)])\n",
    "        except KeyError:\n",
    "            continue\n",
    "    trial.set_user_attr(\"accuracy\", dictionary['accuracy'])\n",
    "    \n",
    "    return loss, dictionary['accuracy']        "
   ]
  },
  {
   "cell_type": "code",
   "execution_count": 13,
   "id": "ed254632",
   "metadata": {
    "scrolled": true
   },
   "outputs": [
    {
     "name": "stderr",
     "output_type": "stream",
     "text": [
      "\u001b[32m[I 2022-10-10 15:42:42,938]\u001b[0m A new study created in memory with name: no-name-0b7ad29b-1528-48e2-9958-7f0cc7e73aeb\u001b[0m\n"
     ]
    }
   ],
   "source": [
    "study= optuna.create_study(directions=[\"minimize\", \"maximize\"])"
   ]
  },
  {
   "cell_type": "code",
   "execution_count": 156,
   "id": "5e4bbabb",
   "metadata": {},
   "outputs": [
    {
     "name": "stdout",
     "output_type": "stream",
     "text": [
      "train_loss: 0.5065939426422119, val: 0.432832807302475\n",
      "train_loss: 0.42369869351387024, val: 0.4131360352039337\n",
      "train_loss: 0.4170350432395935, val: 0.418707013130188\n",
      "train_loss: 0.4160015881061554, val: 0.4167400002479553\n",
      "train_loss: 0.41493043303489685, val: 0.41603317856788635\n",
      "train_loss: 0.4107929468154907, val: 0.4209461808204651\n",
      "train_loss: 0.410410076379776, val: 0.4091164171695709\n",
      "train_loss: 0.41107654571533203, val: 0.4211738109588623\n",
      "train_loss: 0.4063458740711212, val: 0.42152857780456543\n",
      "train_loss: 0.40010908246040344, val: 0.4257640540599823\n"
     ]
    },
    {
     "name": "stderr",
     "output_type": "stream",
     "text": [
      "\u001b[32m[I 2022-10-04 16:48:36,864]\u001b[0m Trial 0 finished with values: [0.4205804467201233, 0.8866666666666667] and parameters: {'lr': 0.00018059962422328502, 'n_layer': 3, 'h0': 189, 'act0': 'ReLU', 'h1': 118, 'act1': 'Tanh', 'h2': 20, 'act2': 'None'}. \u001b[0m\n"
     ]
    },
    {
     "name": "stdout",
     "output_type": "stream",
     "text": [
      "Dictionary: \n",
      "0:  {'precision': 0.8805620608899297, 'recall': 0.8805620608899297, 'f1-score': 0.8805620608899297, 'support': 427}\n",
      "1:  {'precision': 0.8921775898520085, 'recall': 0.8921775898520085, 'f1-score': 0.8921775898520085, 'support': 473}\n",
      "acc:  0.8866666666666667\n",
      "train_loss: 0.525483250617981, val: 0.4706273078918457\n",
      "train_loss: 0.487435907125473, val: 0.4664379060268402\n",
      "train_loss: 0.4856763482093811, val: 0.46621349453926086\n",
      "train_loss: 0.4848073720932007, val: 0.467101126909256\n",
      "train_loss: 0.4843425154685974, val: 0.4680884778499603\n",
      "train_loss: 0.48399075865745544, val: 0.46872368454933167\n",
      "train_loss: 0.4837733209133148, val: 0.4688219428062439\n",
      "train_loss: 0.4835788607597351, val: 0.4690070152282715\n",
      "train_loss: 0.4834425747394562, val: 0.46881812810897827\n",
      "train_loss: 0.4833167493343353, val: 0.4683637320995331\n"
     ]
    },
    {
     "name": "stderr",
     "output_type": "stream",
     "text": [
      "\u001b[32m[I 2022-10-04 16:52:21,359]\u001b[0m Trial 1 finished with values: [0.46831923723220825, 0.84] and parameters: {'lr': 0.0005403753711545425, 'n_layer': 2, 'h0': 117, 'act0': 'None', 'h1': 66, 'act1': 'None'}. \u001b[0m\n"
     ]
    },
    {
     "name": "stdout",
     "output_type": "stream",
     "text": [
      "Dictionary: \n",
      "0:  {'precision': 0.8149882903981265, 'recall': 0.8426150121065376, 'f1-score': 0.8285714285714286, 'support': 413}\n",
      "1:  {'precision': 0.8625792811839323, 'recall': 0.837782340862423, 'f1-score': 0.85, 'support': 487}\n",
      "acc:  0.84\n",
      "train_loss: 0.6782240271568298, val: 0.6602106690406799\n",
      "train_loss: 0.5800239443778992, val: 0.5662785768508911\n",
      "train_loss: 0.5442067384719849, val: 0.5334771275520325\n",
      "train_loss: 0.5266765356063843, val: 0.5170750617980957\n",
      "train_loss: 0.5165126919746399, val: 0.5072489380836487\n",
      "train_loss: 0.5099186301231384, val: 0.500709056854248\n",
      "train_loss: 0.5053028464317322, val: 0.4960443377494812\n",
      "train_loss: 0.5018923878669739, val: 0.49254751205444336\n",
      "train_loss: 0.4992682635784149, val: 0.4898257255554199\n",
      "train_loss: 0.4971858561038971, val: 0.4876440763473511\n"
     ]
    },
    {
     "name": "stderr",
     "output_type": "stream",
     "text": [
      "\u001b[32m[I 2022-10-04 16:54:28,003]\u001b[0m Trial 2 finished with values: [0.48601922392845154, 0.8388888888888889] and parameters: {'lr': 0.0004414098852400047, 'n_layer': 0}. \u001b[0m\n"
     ]
    },
    {
     "name": "stdout",
     "output_type": "stream",
     "text": [
      "Dictionary: \n",
      "0:  {'precision': 0.8290398126463701, 'recall': 0.8309859154929577, 'f1-score': 0.8300117233294255, 'support': 426}\n",
      "1:  {'precision': 0.8477801268498943, 'recall': 0.8459915611814346, 'f1-score': 0.8468848996832102, 'support': 474}\n",
      "acc:  0.8388888888888889\n",
      "train_loss: 0.5113396048545837, val: 0.46991023421287537\n",
      "train_loss: 0.45176786184310913, val: 0.4347279369831085\n",
      "train_loss: 0.454144686460495, val: 0.48501724004745483\n",
      "train_loss: 0.4684189558029175, val: 0.4787474274635315\n",
      "train_loss: 0.457591712474823, val: 0.5473616719245911\n",
      "train_loss: 0.5014325976371765, val: 0.500784695148468\n",
      "train_loss: 0.46514561772346497, val: 0.4572768211364746\n",
      "train_loss: 0.49481385946273804, val: 0.5208873152732849\n",
      "train_loss: 0.5302750468254089, val: 0.4879801571369171\n",
      "train_loss: 0.4658578634262085, val: 0.4812520742416382\n"
     ]
    },
    {
     "name": "stderr",
     "output_type": "stream",
     "text": [
      "\u001b[32m[I 2022-10-04 16:59:15,720]\u001b[0m Trial 3 finished with values: [0.45671185851097107, 0.8566666666666667] and parameters: {'lr': 0.0009095154697596905, 'n_layer': 3, 'h0': 81, 'act0': 'None', 'h1': 85, 'act1': 'Tanh', 'h2': 143, 'act2': 'ReLU'}. \u001b[0m\n"
     ]
    },
    {
     "name": "stdout",
     "output_type": "stream",
     "text": [
      "Dictionary: \n",
      "0:  {'precision': 0.8618266978922716, 'recall': 0.8401826484018264, 'f1-score': 0.8508670520231213, 'support': 438}\n",
      "1:  {'precision': 0.8520084566596194, 'recall': 0.8722943722943723, 'f1-score': 0.8620320855614972, 'support': 462}\n",
      "acc:  0.8566666666666667\n",
      "train_loss: 0.6664117574691772, val: 0.645499050617218\n",
      "train_loss: 0.552209734916687, val: 0.5402916073799133\n",
      "train_loss: 0.5233431458473206, val: 0.5135129690170288\n",
      "train_loss: 0.5107107162475586, val: 0.5012814402580261\n",
      "train_loss: 0.5036982893943787, val: 0.49427181482315063\n",
      "train_loss: 0.4992409944534302, val: 0.4897156357765198\n",
      "train_loss: 0.4961565136909485, val: 0.48650580644607544\n",
      "train_loss: 0.49389195442199707, val: 0.4841139614582062\n",
      "train_loss: 0.49215832352638245, val: 0.48225635290145874\n",
      "train_loss: 0.49078723788261414, val: 0.48076900839805603\n"
     ]
    },
    {
     "name": "stderr",
     "output_type": "stream",
     "text": [
      "\u001b[32m[I 2022-10-04 17:01:20,646]\u001b[0m Trial 4 finished with values: [0.4796597957611084, 0.8377777777777777] and parameters: {'lr': 0.0007042263999583108, 'n_layer': 0}. \u001b[0m\n"
     ]
    },
    {
     "name": "stdout",
     "output_type": "stream",
     "text": [
      "Dictionary: \n",
      "0:  {'precision': 0.8220140515222483, 'recall': 0.833729216152019, 'f1-score': 0.8278301886792453, 'support': 421}\n",
      "1:  {'precision': 0.8520084566596194, 'recall': 0.8413361169102297, 'f1-score': 0.8466386554621849, 'support': 479}\n",
      "acc:  0.8377777777777777\n",
      "train_loss: 0.5249118208885193, val: 0.46820715069770813\n",
      "train_loss: 0.4837944805622101, val: 0.46383827924728394\n",
      "train_loss: 0.45322009921073914, val: 0.4390272796154022\n",
      "train_loss: 0.435977041721344, val: 0.42456209659576416\n",
      "train_loss: 0.42978328466415405, val: 0.42010751366615295\n",
      "train_loss: 0.4259563684463501, val: 0.4190010726451874\n",
      "train_loss: 0.4220990538597107, val: 0.4194258153438568\n",
      "train_loss: 0.41861531138420105, val: 0.4193412959575653\n",
      "train_loss: 0.4152609705924988, val: 0.4165964722633362\n",
      "train_loss: 0.41341403126716614, val: 0.41430309414863586\n"
     ]
    },
    {
     "name": "stderr",
     "output_type": "stream",
     "text": [
      "\u001b[32m[I 2022-10-04 17:05:17,205]\u001b[0m Trial 5 finished with values: [0.41419675946235657, 0.8955555555555555] and parameters: {'lr': 0.0003735913237905113, 'n_layer': 2, 'h0': 103, 'act0': 'Tanh', 'h1': 81, 'act1': 'Tanh'}. \u001b[0m\n"
     ]
    },
    {
     "name": "stdout",
     "output_type": "stream",
     "text": [
      "Dictionary: \n",
      "0:  {'precision': 0.8665105386416861, 'recall': 0.9090909090909091, 'f1-score': 0.8872901678657074, 'support': 407}\n",
      "1:  {'precision': 0.9217758985200846, 'recall': 0.8843813387423936, 'f1-score': 0.9026915113871635, 'support': 493}\n",
      "acc:  0.8955555555555555\n",
      "train_loss: 0.6330960988998413, val: 0.5279002785682678\n",
      "train_loss: 0.48518508672714233, val: 0.46524783968925476\n",
      "train_loss: 0.48068785667419434, val: 0.46188199520111084\n",
      "train_loss: 0.4754486083984375, val: 0.457037091255188\n",
      "train_loss: 0.46526381373405457, val: 0.4486960172653198\n",
      "train_loss: 0.4505445659160614, val: 0.4496387243270874\n",
      "train_loss: 0.43874672055244446, val: 0.45571810007095337\n",
      "train_loss: 0.4313758611679077, val: 0.420571506023407\n",
      "train_loss: 0.4310733377933502, val: 0.4196874499320984\n",
      "train_loss: 0.4292312562465668, val: 0.41891658306121826\n"
     ]
    },
    {
     "name": "stderr",
     "output_type": "stream",
     "text": [
      "\u001b[32m[I 2022-10-04 17:09:17,258]\u001b[0m Trial 6 finished with values: [0.4207366108894348, 0.8922222222222222] and parameters: {'lr': 0.00043504867723845184, 'n_layer': 2, 'h0': 50, 'act0': 'Sig', 'h1': 174, 'act1': 'Tanh'}. \u001b[0m\n"
     ]
    },
    {
     "name": "stdout",
     "output_type": "stream",
     "text": [
      "Dictionary: \n",
      "0:  {'precision': 0.8266978922716628, 'recall': 0.9388297872340425, 'f1-score': 0.8792029887920298, 'support': 376}\n",
      "1:  {'precision': 0.9513742071881607, 'recall': 0.8587786259541985, 'f1-score': 0.9027081243731194, 'support': 524}\n",
      "acc:  0.8922222222222222\n",
      "train_loss: 0.5809782147407532, val: 0.49728044867515564\n",
      "train_loss: 0.4597207307815552, val: 0.4508012533187866\n",
      "train_loss: 0.4327220022678375, val: 0.4192351698875427\n",
      "train_loss: 0.4291287660598755, val: 0.4161646366119385\n",
      "train_loss: 0.4277068078517914, val: 0.4154950678348541\n",
      "train_loss: 0.4269987940788269, val: 0.4158608317375183\n",
      "train_loss: 0.42613622546195984, val: 0.4177142381668091\n",
      "train_loss: 0.4255881905555725, val: 0.41904735565185547\n",
      "train_loss: 0.425110399723053, val: 0.41837915778160095\n",
      "train_loss: 0.42467978596687317, val: 0.4191950857639313\n"
     ]
    },
    {
     "name": "stderr",
     "output_type": "stream",
     "text": [
      "\u001b[32m[I 2022-10-04 17:13:17,494]\u001b[0m Trial 7 finished with values: [0.41815897822380066, 0.8922222222222222] and parameters: {'lr': 0.00040777626034480067, 'n_layer': 2, 'h0': 196, 'act0': 'Tanh', 'h1': 6, 'act1': 'ReLU'}. \u001b[0m\n"
     ]
    },
    {
     "name": "stdout",
     "output_type": "stream",
     "text": [
      "Dictionary: \n",
      "0:  {'precision': 0.8594847775175644, 'recall': 0.9084158415841584, 'f1-score': 0.8832731648616126, 'support': 404}\n",
      "1:  {'precision': 0.9217758985200846, 'recall': 0.8790322580645161, 'f1-score': 0.8998968008255933, 'support': 496}\n",
      "acc:  0.8922222222222222\n",
      "train_loss: 0.6061407923698425, val: 0.5321773886680603\n",
      "train_loss: 0.48365098237991333, val: 0.4695073664188385\n",
      "train_loss: 0.47827574610710144, val: 0.46567675471305847\n",
      "train_loss: 0.46562129259109497, val: 0.4540145695209503\n",
      "train_loss: 0.44609594345092773, val: 0.4350525140762329\n",
      "train_loss: 0.4356074929237366, val: 0.42432814836502075\n",
      "train_loss: 0.4316581189632416, val: 0.4202728569507599\n",
      "train_loss: 0.42958158254623413, val: 0.4183063507080078\n",
      "train_loss: 0.4282264709472656, val: 0.4172170162200928\n",
      "train_loss: 0.42719385027885437, val: 0.41660743951797485\n"
     ]
    },
    {
     "name": "stderr",
     "output_type": "stream",
     "text": [
      "\u001b[32m[I 2022-10-04 17:16:24,195]\u001b[0m Trial 8 finished with values: [0.4163167476654053, 0.8988888888888888] and parameters: {'lr': 0.00036773089457464085, 'n_layer': 1, 'h0': 95, 'act0': 'Tanh'}. \u001b[0m\n"
     ]
    },
    {
     "name": "stdout",
     "output_type": "stream",
     "text": [
      "Dictionary: \n",
      "0:  {'precision': 0.8688524590163934, 'recall': 0.9137931034482759, 'f1-score': 0.8907563025210085, 'support': 406}\n",
      "1:  {'precision': 0.9260042283298098, 'recall': 0.8866396761133604, 'f1-score': 0.905894519131334, 'support': 494}\n",
      "acc:  0.8988888888888888\n",
      "train_loss: 0.6788827180862427, val: 0.6120442152023315\n",
      "train_loss: 0.4826337993144989, val: 0.4688735604286194\n",
      "train_loss: 0.4817156493663788, val: 0.4682067334651947\n",
      "train_loss: 0.4808405637741089, val: 0.4677813947200775\n",
      "train_loss: 0.4795594811439514, val: 0.4668455719947815\n",
      "train_loss: 0.46690842509269714, val: 0.4537537395954132\n",
      "train_loss: 0.44625940918922424, val: 0.44561052322387695\n",
      "train_loss: 0.444317489862442, val: 0.4450833201408386\n",
      "train_loss: 0.44115036725997925, val: 0.44018587470054626\n",
      "train_loss: 0.43251097202301025, val: 0.42824986577033997\n"
     ]
    },
    {
     "name": "stderr",
     "output_type": "stream",
     "text": [
      "\u001b[32m[I 2022-10-04 17:22:05,215]\u001b[0m Trial 9 finished with values: [0.41987571120262146, 0.8933333333333333] and parameters: {'lr': 0.00010039909820137368, 'n_layer': 4, 'h0': 30, 'act0': 'Tanh', 'h1': 180, 'act1': 'Tanh', 'h2': 26, 'act2': 'Sig', 'h3': 167, 'act3': 'Sig'}. \u001b[0m\n"
     ]
    },
    {
     "name": "stdout",
     "output_type": "stream",
     "text": [
      "Dictionary: \n",
      "0:  {'precision': 0.8852459016393442, 'recall': 0.8894117647058823, 'f1-score': 0.8873239436619718, 'support': 425}\n",
      "1:  {'precision': 0.9006342494714588, 'recall': 0.8968421052631579, 'f1-score': 0.8987341772151899, 'support': 475}\n",
      "acc:  0.8933333333333333\n",
      "train_loss: 0.6934115290641785, val: 0.6856070160865784\n",
      "train_loss: 0.49067991971969604, val: 0.4687090814113617\n",
      "train_loss: 0.48815643787384033, val: 0.46760430932044983\n",
      "train_loss: 0.48615679144859314, val: 0.46638017892837524\n",
      "train_loss: 0.48487916588783264, val: 0.46594250202178955\n",
      "train_loss: 0.4839092791080475, val: 0.46562686562538147\n",
      "train_loss: 0.4831462800502777, val: 0.4652714133262634\n",
      "train_loss: 0.48253133893013, val: 0.4649593234062195\n",
      "train_loss: 0.481940358877182, val: 0.46467849612236023\n",
      "train_loss: 0.4812796115875244, val: 0.46434205770492554\n"
     ]
    },
    {
     "name": "stderr",
     "output_type": "stream",
     "text": [
      "\u001b[32m[I 2022-10-04 17:27:36,676]\u001b[0m Trial 10 finished with values: [0.46396785974502563, 0.8422222222222222] and parameters: {'lr': 9.038568295086171e-05, 'n_layer': 4, 'h0': 175, 'act0': 'Sig', 'h1': 61, 'act1': 'None', 'h2': 126, 'act2': 'None', 'h3': 87, 'act3': 'Sig'}. \u001b[0m\n"
     ]
    },
    {
     "name": "stdout",
     "output_type": "stream",
     "text": [
      "Dictionary: \n",
      "0:  {'precision': 0.7962529274004684, 'recall': 0.8607594936708861, 'f1-score': 0.8272506082725061, 'support': 395}\n",
      "1:  {'precision': 0.8837209302325582, 'recall': 0.8277227722772277, 'f1-score': 0.8548057259713702, 'support': 505}\n",
      "acc:  0.8422222222222222\n",
      "train_loss: 0.6509753465652466, val: 0.5892750024795532\n",
      "train_loss: 0.4865807592868805, val: 0.4728955924510956\n",
      "train_loss: 0.48382896184921265, val: 0.47059375047683716\n",
      "train_loss: 0.4829690754413605, val: 0.46968385577201843\n",
      "train_loss: 0.4825417399406433, val: 0.4693388044834137\n",
      "train_loss: 0.4822928309440613, val: 0.46915754675865173\n",
      "train_loss: 0.4821356236934662, val: 0.4690105617046356\n",
      "train_loss: 0.4820272624492645, val: 0.46889176964759827\n",
      "train_loss: 0.4819466471672058, val: 0.4687933921813965\n",
      "train_loss: 0.4818785786628723, val: 0.46869587898254395\n"
     ]
    },
    {
     "name": "stderr",
     "output_type": "stream",
     "text": [
      "\u001b[32m[I 2022-10-04 17:30:34,769]\u001b[0m Trial 11 finished with values: [0.46861255168914795, 0.8377777777777777] and parameters: {'lr': 0.0005196788744646466, 'n_layer': 1, 'h0': 21, 'act0': 'None'}. \u001b[0m\n"
     ]
    },
    {
     "name": "stdout",
     "output_type": "stream",
     "text": [
      "Dictionary: \n",
      "0:  {'precision': 0.8149882903981265, 'recall': 0.8385542168674699, 'f1-score': 0.8266033254156769, 'support': 415}\n",
      "1:  {'precision': 0.8583509513742071, 'recall': 0.8371134020618557, 'f1-score': 0.8475991649269311, 'support': 485}\n",
      "acc:  0.8377777777777777\n",
      "train_loss: 0.5236130356788635, val: 0.4696517586708069\n",
      "train_loss: 0.4841231107711792, val: 0.44949033856391907\n",
      "train_loss: 0.47632530331611633, val: 0.46871310472488403\n",
      "train_loss: 0.47683185338974, val: 0.5089346170425415\n",
      "train_loss: 0.4665983021259308, val: 0.46043887734413147\n",
      "train_loss: 0.4748767614364624, val: 0.46970832347869873\n",
      "train_loss: 0.4597196877002716, val: 0.4699641466140747\n",
      "train_loss: 0.4711533784866333, val: 0.4520007371902466\n",
      "train_loss: 0.46744057536125183, val: 0.459011048078537\n",
      "train_loss: 0.4617435932159424, val: 0.4635971784591675\n"
     ]
    },
    {
     "name": "stderr",
     "output_type": "stream",
     "text": [
      "\u001b[32m[I 2022-10-04 17:36:04,652]\u001b[0m Trial 12 finished with values: [0.4670614004135132, 0.8422222222222222] and parameters: {'lr': 0.0009264804353853917, 'n_layer': 4, 'h0': 71, 'act0': 'None', 'h1': 111, 'act1': 'None', 'h2': 89, 'act2': 'Tanh', 'h3': 7, 'act3': 'ReLU'}. \u001b[0m\n"
     ]
    },
    {
     "name": "stdout",
     "output_type": "stream",
     "text": [
      "Dictionary: \n",
      "0:  {'precision': 0.8220140515222483, 'recall': 0.841726618705036, 'f1-score': 0.8317535545023697, 'support': 417}\n",
      "1:  {'precision': 0.8604651162790697, 'recall': 0.8426501035196687, 'f1-score': 0.8514644351464435, 'support': 483}\n",
      "acc:  0.8422222222222222\n",
      "train_loss: 0.5899001955986023, val: 0.5111157894134521\n",
      "train_loss: 0.4373170733451843, val: 0.42572349309921265\n",
      "train_loss: 0.42801418900489807, val: 0.4184439480304718\n",
      "train_loss: 0.4238702058792114, val: 0.4174536466598511\n",
      "train_loss: 0.4212452173233032, val: 0.4170454442501068\n",
      "train_loss: 0.41949009895324707, val: 0.416864275932312\n",
      "train_loss: 0.41821059584617615, val: 0.41683879494667053\n",
      "train_loss: 0.417084276676178, val: 0.4169362485408783\n",
      "train_loss: 0.4162490963935852, val: 0.416867196559906\n",
      "train_loss: 0.4151952564716339, val: 0.4177913963794708\n"
     ]
    },
    {
     "name": "stderr",
     "output_type": "stream",
     "text": [
      "\u001b[32m[I 2022-10-04 17:39:05,516]\u001b[0m Trial 13 finished with values: [0.41850271821022034, 0.8888888888888888] and parameters: {'lr': 0.0006603616584406035, 'n_layer': 1, 'h0': 57, 'act0': 'ReLU'}. \u001b[0m\n"
     ]
    },
    {
     "name": "stdout",
     "output_type": "stream",
     "text": [
      "Dictionary: \n",
      "0:  {'precision': 0.8594847775175644, 'recall': 0.9017199017199017, 'f1-score': 0.8800959232613909, 'support': 407}\n",
      "1:  {'precision': 0.9154334038054969, 'recall': 0.8782961460446247, 'f1-score': 0.8964803312629399, 'support': 493}\n",
      "acc:  0.8888888888888888\n"
     ]
    },
    {
     "name": "stderr",
     "output_type": "stream",
     "text": [
      "/home/jchan/anaconda3/envs/pytorch/lib/python3.7/site-packages/sklearn/metrics/_classification.py:1318: UndefinedMetricWarning: Recall and F-score are ill-defined and being set to 0.0 in labels with no true samples. Use `zero_division` parameter to control this behavior.\n",
      "  _warn_prf(average, modifier, msg_start, len(result))\n",
      "/home/jchan/anaconda3/envs/pytorch/lib/python3.7/site-packages/sklearn/metrics/_classification.py:1318: UndefinedMetricWarning: Recall and F-score are ill-defined and being set to 0.0 in labels with no true samples. Use `zero_division` parameter to control this behavior.\n",
      "  _warn_prf(average, modifier, msg_start, len(result))\n",
      "/home/jchan/anaconda3/envs/pytorch/lib/python3.7/site-packages/sklearn/metrics/_classification.py:1318: UndefinedMetricWarning: Recall and F-score are ill-defined and being set to 0.0 in labels with no true samples. Use `zero_division` parameter to control this behavior.\n",
      "  _warn_prf(average, modifier, msg_start, len(result))\n"
     ]
    },
    {
     "name": "stdout",
     "output_type": "stream",
     "text": [
      "train_loss: 0.7017977237701416, val: 0.6781423091888428\n",
      "train_loss: 0.5616980195045471, val: 0.5487986207008362\n",
      "train_loss: 0.528326153755188, val: 0.5181800127029419\n",
      "train_loss: 0.5139780044555664, val: 0.5044476389884949\n",
      "train_loss: 0.506105363368988, val: 0.4966471195220947\n",
      "train_loss: 0.5011401772499084, val: 0.4916110038757324\n",
      "train_loss: 0.4977221190929413, val: 0.4880831241607666\n",
      "train_loss: 0.49522343277931213, val: 0.4854668974876404\n",
      "train_loss: 0.4933163523674011, val: 0.48344317078590393\n",
      "train_loss: 0.49181121587753296, val: 0.4818279445171356\n"
     ]
    },
    {
     "name": "stderr",
     "output_type": "stream",
     "text": [
      "\u001b[32m[I 2022-10-04 17:41:13,177]\u001b[0m Trial 14 finished with values: [0.4806264340877533, 0.8366666666666667] and parameters: {'lr': 0.0006537671590661243, 'n_layer': 0}. \u001b[0m\n"
     ]
    },
    {
     "name": "stdout",
     "output_type": "stream",
     "text": [
      "Dictionary: \n",
      "0:  {'precision': 0.8220140515222483, 'recall': 0.8317535545023697, 'f1-score': 0.8268551236749117, 'support': 422}\n",
      "1:  {'precision': 0.8498942917547568, 'recall': 0.8410041841004184, 'f1-score': 0.8454258675078865, 'support': 478}\n",
      "acc:  0.8366666666666667\n",
      "train_loss: 0.5174458026885986, val: 0.4705433249473572\n",
      "train_loss: 0.44898316264152527, val: 0.4745251536369324\n",
      "train_loss: 0.4401800334453583, val: 0.4412023425102234\n",
      "train_loss: 0.4318300485610962, val: 0.42655155062675476\n",
      "train_loss: 0.42662787437438965, val: 0.42775052785873413\n",
      "train_loss: 0.4307655990123749, val: 0.42312511801719666\n",
      "train_loss: 0.4369622468948364, val: 0.4269683063030243\n",
      "train_loss: 0.43103325366973877, val: 0.4243907034397125\n",
      "train_loss: 0.4307652711868286, val: 0.4234553873538971\n",
      "train_loss: 0.42724689841270447, val: 0.4260893166065216\n"
     ]
    },
    {
     "name": "stderr",
     "output_type": "stream",
     "text": [
      "\u001b[32m[I 2022-10-04 17:46:44,104]\u001b[0m Trial 15 finished with values: [0.4092945456504822, 0.8988888888888888] and parameters: {'lr': 0.0006403818861132713, 'n_layer': 4, 'h0': 30, 'act0': 'None', 'h1': 16, 'act1': 'ReLU', 'h2': 108, 'act2': 'None', 'h3': 114, 'act3': 'Sig'}. \u001b[0m\n"
     ]
    },
    {
     "name": "stdout",
     "output_type": "stream",
     "text": [
      "Dictionary: \n",
      "0:  {'precision': 0.8735362997658079, 'recall': 0.9097560975609756, 'f1-score': 0.8912783751493429, 'support': 410}\n",
      "1:  {'precision': 0.9217758985200846, 'recall': 0.889795918367347, 'f1-score': 0.9055036344755971, 'support': 490}\n",
      "acc:  0.8988888888888888\n",
      "train_loss: 0.6863168478012085, val: 0.656036376953125\n",
      "train_loss: 0.4806758165359497, val: 0.4673401713371277\n",
      "train_loss: 0.4707871675491333, val: 0.463064581155777\n",
      "train_loss: 0.44948163628578186, val: 0.4510793089866638\n",
      "train_loss: 0.4295900762081146, val: 0.4209849238395691\n",
      "train_loss: 0.4280218183994293, val: 0.4155178666114807\n",
      "train_loss: 0.4271894097328186, val: 0.41373470425605774\n",
      "train_loss: 0.4268556237220764, val: 0.4137939512729645\n",
      "train_loss: 0.4263330399990082, val: 0.4149736166000366\n",
      "train_loss: 0.42538025975227356, val: 0.4170127213001251\n"
     ]
    },
    {
     "name": "stderr",
     "output_type": "stream",
     "text": [
      "\u001b[32m[I 2022-10-04 17:52:36,891]\u001b[0m Trial 16 finished with values: [0.4168025553226471, 0.8933333333333333] and parameters: {'lr': 0.0001161017635730414, 'n_layer': 4, 'h0': 153, 'act0': 'Tanh', 'h1': 74, 'act1': 'Sig', 'h2': 54, 'act2': 'Sig', 'h3': 36, 'act3': 'ReLU'}. \u001b[0m\n"
     ]
    },
    {
     "name": "stdout",
     "output_type": "stream",
     "text": [
      "Dictionary: \n",
      "0:  {'precision': 0.8665105386416861, 'recall': 0.9046454767726161, 'f1-score': 0.8851674641148325, 'support': 409}\n",
      "1:  {'precision': 0.9175475687103594, 'recall': 0.8839103869653768, 'f1-score': 0.9004149377593361, 'support': 491}\n",
      "acc:  0.8933333333333333\n",
      "train_loss: 0.5487055778503418, val: 0.47721970081329346\n",
      "train_loss: 0.43004080653190613, val: 0.4172252416610718\n",
      "train_loss: 0.4234668016433716, val: 0.41416648030281067\n",
      "train_loss: 0.4206925332546234, val: 0.4152255058288574\n",
      "train_loss: 0.4184857904911041, val: 0.4160346984863281\n",
      "train_loss: 0.41699525713920593, val: 0.41656482219696045\n",
      "train_loss: 0.4154350161552429, val: 0.41814306378364563\n",
      "train_loss: 0.4140450954437256, val: 0.419866681098938\n",
      "train_loss: 0.41326257586479187, val: 0.41993868350982666\n",
      "train_loss: 0.4123155176639557, val: 0.41990408301353455\n"
     ]
    },
    {
     "name": "stderr",
     "output_type": "stream",
     "text": [
      "\u001b[32m[I 2022-10-04 17:55:49,269]\u001b[0m Trial 17 finished with values: [0.42134392261505127, 0.8844444444444445] and parameters: {'lr': 0.000748018997853516, 'n_layer': 1, 'h0': 155, 'act0': 'ReLU'}. \u001b[0m\n"
     ]
    },
    {
     "name": "stdout",
     "output_type": "stream",
     "text": [
      "Dictionary: \n",
      "0:  {'precision': 0.8665105386416861, 'recall': 0.8872901678657075, 'f1-score': 0.8767772511848342, 'support': 417}\n",
      "1:  {'precision': 0.9006342494714588, 'recall': 0.8819875776397516, 'f1-score': 0.8912133891213389, 'support': 483}\n",
      "acc:  0.8844444444444445\n",
      "train_loss: 0.5421645641326904, val: 0.43556106090545654\n",
      "train_loss: 0.4309489130973816, val: 0.4516735076904297\n",
      "train_loss: 0.42322495579719543, val: 0.4194411039352417\n",
      "train_loss: 0.42960381507873535, val: 0.4150175452232361\n",
      "train_loss: 0.4240400493144989, val: 0.41289258003234863\n",
      "train_loss: 0.4198856055736542, val: 0.41149306297302246\n",
      "train_loss: 0.4217415153980255, val: 0.4238986074924469\n",
      "train_loss: 0.4095563292503357, val: 0.44908788800239563\n",
      "train_loss: 0.41041916608810425, val: 0.4254653751850128\n",
      "train_loss: 0.4036898612976074, val: 0.42139261960983276\n"
     ]
    },
    {
     "name": "stderr",
     "output_type": "stream",
     "text": [
      "\u001b[32m[I 2022-10-04 18:01:39,920]\u001b[0m Trial 18 finished with values: [0.4103599786758423, 0.9011111111111111] and parameters: {'lr': 0.0003068630511707475, 'n_layer': 4, 'h0': 160, 'act0': 'ReLU', 'h1': 44, 'act1': 'ReLU', 'h2': 25, 'act2': 'Sig', 'h3': 166, 'act3': 'ReLU'}. \u001b[0m\n"
     ]
    },
    {
     "name": "stdout",
     "output_type": "stream",
     "text": [
      "Dictionary: \n",
      "0:  {'precision': 0.9016393442622951, 'recall': 0.8912037037037037, 'f1-score': 0.8963911525029103, 'support': 432}\n",
      "1:  {'precision': 0.9006342494714588, 'recall': 0.9102564102564102, 'f1-score': 0.9054197662061637, 'support': 468}\n",
      "acc:  0.9011111111111111\n",
      "train_loss: 0.6908302307128906, val: 0.6843028664588928\n",
      "train_loss: 0.6534853577613831, val: 0.6432075500488281\n",
      "train_loss: 0.6274155974388123, val: 0.6163719892501831\n",
      "train_loss: 0.6078370213508606, val: 0.5965230464935303\n",
      "train_loss: 0.592596709728241, val: 0.5813536643981934\n",
      "train_loss: 0.5803675055503845, val: 0.5693762898445129\n",
      "train_loss: 0.5703386068344116, val: 0.5596706867218018\n",
      "train_loss: 0.5619844794273376, val: 0.5516462922096252\n",
      "train_loss: 0.5549366474151611, val: 0.5449039936065674\n",
      "train_loss: 0.5489283204078674, val: 0.5391624569892883\n"
     ]
    },
    {
     "name": "stderr",
     "output_type": "stream",
     "text": [
      "\u001b[32m[I 2022-10-04 18:03:47,709]\u001b[0m Trial 19 finished with values: [0.534679114818573, 0.8166666666666667] and parameters: {'lr': 8.99088628619661e-05, 'n_layer': 0}. \u001b[0m\n"
     ]
    },
    {
     "name": "stdout",
     "output_type": "stream",
     "text": [
      "Dictionary: \n",
      "0:  {'precision': 0.7822014051522248, 'recall': 0.8226600985221675, 'f1-score': 0.801920768307323, 'support': 406}\n",
      "1:  {'precision': 0.8477801268498943, 'recall': 0.8117408906882592, 'f1-score': 0.829369183040331, 'support': 494}\n",
      "acc:  0.8166666666666667\n",
      "train_loss: 0.6704381108283997, val: 0.6430544257164001\n",
      "train_loss: 0.5373762845993042, val: 0.525732696056366\n",
      "train_loss: 0.512660801410675, val: 0.502845048904419\n",
      "train_loss: 0.5026792883872986, val: 0.49307042360305786\n",
      "train_loss: 0.4972979426383972, val: 0.48762407898902893\n",
      "train_loss: 0.49392956495285034, val: 0.4841255843639374\n",
      "train_loss: 0.49161800742149353, val: 0.4816710650920868\n",
      "train_loss: 0.48993104696273804, val: 0.4798436164855957\n",
      "train_loss: 0.4886443018913269, val: 0.478424072265625\n",
      "train_loss: 0.4876289963722229, val: 0.4772855341434479\n"
     ]
    },
    {
     "name": "stderr",
     "output_type": "stream",
     "text": [
      "\u001b[32m[I 2022-10-04 18:05:55,931]\u001b[0m Trial 20 finished with values: [0.47643566131591797, 0.8377777777777777] and parameters: {'lr': 0.0009957362327623243, 'n_layer': 0}. \u001b[0m\n"
     ]
    },
    {
     "name": "stdout",
     "output_type": "stream",
     "text": [
      "Dictionary: \n",
      "0:  {'precision': 0.8243559718969555, 'recall': 0.8321513002364066, 'f1-score': 0.8282352941176472, 'support': 423}\n",
      "1:  {'precision': 0.8498942917547568, 'recall': 0.8427672955974843, 'f1-score': 0.8463157894736841, 'support': 477}\n",
      "acc:  0.8377777777777777\n",
      "train_loss: 0.5196400284767151, val: 0.47961002588272095\n",
      "train_loss: 0.4552077054977417, val: 0.4846636652946472\n",
      "train_loss: 0.4528898298740387, val: 0.4404674470424652\n",
      "train_loss: 0.46861356496810913, val: 0.43611761927604675\n",
      "train_loss: 0.4728676378726959, val: 0.4332635700702667\n",
      "train_loss: 0.4486798048019409, val: 0.4314481019973755\n",
      "train_loss: 0.4540809094905853, val: 0.4516443610191345\n",
      "train_loss: 0.4690822958946228, val: 0.5645886659622192\n",
      "train_loss: 0.4520198702812195, val: 0.4536759853363037\n",
      "train_loss: 0.5669190287590027, val: 0.43979981541633606\n"
     ]
    },
    {
     "name": "stderr",
     "output_type": "stream",
     "text": [
      "\u001b[32m[I 2022-10-04 18:10:50,179]\u001b[0m Trial 21 finished with values: [0.4280244708061218, 0.8844444444444445] and parameters: {'lr': 0.00047770943655719436, 'n_layer': 3, 'h0': 84, 'act0': 'Tanh', 'h1': 157, 'act1': 'None', 'h2': 182, 'act2': 'ReLU'}. \u001b[0m\n"
     ]
    },
    {
     "name": "stdout",
     "output_type": "stream",
     "text": [
      "Dictionary: \n",
      "0:  {'precision': 0.8454332552693209, 'recall': 0.9047619047619048, 'f1-score': 0.87409200968523, 'support': 399}\n",
      "1:  {'precision': 0.919661733615222, 'recall': 0.8682634730538922, 'f1-score': 0.893223819301848, 'support': 501}\n",
      "acc:  0.8844444444444445\n",
      "train_loss: 0.627849817276001, val: 0.5523666739463806\n",
      "train_loss: 0.483784943819046, val: 0.4704492688179016\n",
      "train_loss: 0.4825829863548279, val: 0.46929702162742615\n",
      "train_loss: 0.4822115898132324, val: 0.46906226873397827\n",
      "train_loss: 0.4820175766944885, val: 0.4689416289329529\n",
      "train_loss: 0.4818814992904663, val: 0.46885302662849426\n",
      "train_loss: 0.48176729679107666, val: 0.4687987267971039\n",
      "train_loss: 0.4816761612892151, val: 0.4687371850013733\n",
      "train_loss: 0.48159265518188477, val: 0.46868252754211426\n",
      "train_loss: 0.4815174639225006, val: 0.4686470031738281\n"
     ]
    },
    {
     "name": "stderr",
     "output_type": "stream",
     "text": [
      "\u001b[32m[I 2022-10-04 18:14:35,706]\u001b[0m Trial 22 finished with values: [0.4686253070831299, 0.8377777777777777] and parameters: {'lr': 7.853540524212677e-05, 'n_layer': 2, 'h0': 98, 'act0': 'None', 'h1': 70, 'act1': 'None'}. \u001b[0m\n"
     ]
    },
    {
     "name": "stdout",
     "output_type": "stream",
     "text": [
      "Dictionary: \n",
      "0:  {'precision': 0.8126463700234192, 'recall': 0.8401937046004843, 'f1-score': 0.8261904761904764, 'support': 413}\n",
      "1:  {'precision': 0.8604651162790697, 'recall': 0.8357289527720739, 'f1-score': 0.8479166666666667, 'support': 487}\n",
      "acc:  0.8377777777777777\n",
      "train_loss: 0.610504686832428, val: 0.48652809858322144\n",
      "train_loss: 0.476057767868042, val: 0.46965479850769043\n",
      "train_loss: 0.45449480414390564, val: 0.45451927185058594\n",
      "train_loss: 0.43749892711639404, val: 0.430738627910614\n",
      "train_loss: 0.42837318778038025, val: 0.417711466550827\n",
      "train_loss: 0.4289405047893524, val: 0.41928502917289734\n",
      "train_loss: 0.42843663692474365, val: 0.4198974072933197\n",
      "train_loss: 0.4273343086242676, val: 0.42156508564949036\n",
      "train_loss: 0.42812004685401917, val: 0.4200782775878906\n",
      "train_loss: 0.4265598654747009, val: 0.41570141911506653\n"
     ]
    },
    {
     "name": "stderr",
     "output_type": "stream",
     "text": [
      "\u001b[32m[I 2022-10-04 18:18:27,787]\u001b[0m Trial 23 finished with values: [0.4138539731502533, 0.8944444444444445] and parameters: {'lr': 0.0009214538113064831, 'n_layer': 2, 'h0': 34, 'act0': 'Sig', 'h1': 42, 'act1': 'Tanh'}. \u001b[0m\n"
     ]
    },
    {
     "name": "stdout",
     "output_type": "stream",
     "text": [
      "Dictionary: \n",
      "0:  {'precision': 0.8594847775175644, 'recall': 0.9129353233830846, 'f1-score': 0.8854041013268998, 'support': 402}\n",
      "1:  {'precision': 0.9260042283298098, 'recall': 0.8795180722891566, 'f1-score': 0.90216271884655, 'support': 498}\n",
      "acc:  0.8944444444444445\n"
     ]
    },
    {
     "name": "stderr",
     "output_type": "stream",
     "text": [
      "/home/jchan/anaconda3/envs/pytorch/lib/python3.7/site-packages/sklearn/metrics/_classification.py:1318: UndefinedMetricWarning: Recall and F-score are ill-defined and being set to 0.0 in labels with no true samples. Use `zero_division` parameter to control this behavior.\n",
      "  _warn_prf(average, modifier, msg_start, len(result))\n",
      "/home/jchan/anaconda3/envs/pytorch/lib/python3.7/site-packages/sklearn/metrics/_classification.py:1318: UndefinedMetricWarning: Recall and F-score are ill-defined and being set to 0.0 in labels with no true samples. Use `zero_division` parameter to control this behavior.\n",
      "  _warn_prf(average, modifier, msg_start, len(result))\n",
      "/home/jchan/anaconda3/envs/pytorch/lib/python3.7/site-packages/sklearn/metrics/_classification.py:1318: UndefinedMetricWarning: Recall and F-score are ill-defined and being set to 0.0 in labels with no true samples. Use `zero_division` parameter to control this behavior.\n",
      "  _warn_prf(average, modifier, msg_start, len(result))\n"
     ]
    },
    {
     "name": "stdout",
     "output_type": "stream",
     "text": [
      "train_loss: 0.6940010190010071, val: 0.693130373954773\n",
      "train_loss: 0.48754313588142395, val: 0.4672405421733856\n",
      "train_loss: 0.48072418570518494, val: 0.46404752135276794\n",
      "train_loss: 0.47467535734176636, val: 0.4522148072719574\n",
      "train_loss: 0.4610692262649536, val: 0.4539295434951782\n",
      "train_loss: 0.4501856565475464, val: 0.46694210171699524\n",
      "train_loss: 0.4436480402946472, val: 0.44826820492744446\n",
      "train_loss: 0.4401671290397644, val: 0.4324169456958771\n",
      "train_loss: 0.43400922417640686, val: 0.4412750005722046\n",
      "train_loss: 0.4309931695461273, val: 0.4231113791465759\n"
     ]
    },
    {
     "name": "stderr",
     "output_type": "stream",
     "text": [
      "\u001b[32m[I 2022-10-04 18:24:27,059]\u001b[0m Trial 24 finished with values: [0.42673805356025696, 0.8855555555555555] and parameters: {'lr': 0.0005095384890608281, 'n_layer': 4, 'h0': 102, 'act0': 'Sig', 'h1': 152, 'act1': 'ReLU', 'h2': 134, 'act2': 'Sig', 'h3': 99, 'act3': 'ReLU'}. \u001b[0m\n"
     ]
    },
    {
     "name": "stdout",
     "output_type": "stream",
     "text": [
      "Dictionary: \n",
      "0:  {'precision': 0.8946135831381733, 'recall': 0.8681818181818182, 'f1-score': 0.8811995386389849, 'support': 440}\n",
      "1:  {'precision': 0.8773784355179705, 'recall': 0.9021739130434783, 'f1-score': 0.8896034297963558, 'support': 460}\n",
      "acc:  0.8855555555555555\n",
      "train_loss: 0.5433465838432312, val: 0.47362133860588074\n",
      "train_loss: 0.48265981674194336, val: 0.46367505192756653\n",
      "train_loss: 0.47489675879478455, val: 0.45626646280288696\n",
      "train_loss: 0.45174291729927063, val: 0.43163320422172546\n",
      "train_loss: 0.43515026569366455, val: 0.421099454164505\n",
      "train_loss: 0.43108874559402466, val: 0.4209044277667999\n",
      "train_loss: 0.4313366413116455, val: 0.42164143919944763\n",
      "train_loss: 0.4304717779159546, val: 0.42146819829940796\n",
      "train_loss: 0.4285387694835663, val: 0.4216341972351074\n",
      "train_loss: 0.43013808131217957, val: 0.42347338795661926\n"
     ]
    },
    {
     "name": "stderr",
     "output_type": "stream",
     "text": [
      "\u001b[32m[I 2022-10-04 18:28:15,217]\u001b[0m Trial 25 finished with values: [0.42379873991012573, 0.8888888888888888] and parameters: {'lr': 0.00030300632143250326, 'n_layer': 2, 'h0': 102, 'act0': 'Tanh', 'h1': 75, 'act1': 'None'}. \u001b[0m\n"
     ]
    },
    {
     "name": "stdout",
     "output_type": "stream",
     "text": [
      "Dictionary: \n",
      "0:  {'precision': 0.8735362997658079, 'recall': 0.8902147971360382, 'f1-score': 0.8817966903073285, 'support': 419}\n",
      "1:  {'precision': 0.9027484143763214, 'recall': 0.8877338877338877, 'f1-score': 0.8951781970649895, 'support': 481}\n",
      "acc:  0.8888888888888888\n",
      "train_loss: 0.5710196495056152, val: 0.5020011067390442\n",
      "train_loss: 0.48151683807373047, val: 0.46560657024383545\n",
      "train_loss: 0.4666459262371063, val: 0.4553167223930359\n",
      "train_loss: 0.4461559057235718, val: 0.4378035366535187\n",
      "train_loss: 0.43445971608161926, val: 0.4209757149219513\n",
      "train_loss: 0.4306355118751526, val: 0.4170939326286316\n",
      "train_loss: 0.42868587374687195, val: 0.4158252477645874\n",
      "train_loss: 0.4273557662963867, val: 0.41536784172058105\n",
      "train_loss: 0.42628270387649536, val: 0.41529351472854614\n",
      "train_loss: 0.42533591389656067, val: 0.41543763875961304\n"
     ]
    },
    {
     "name": "stderr",
     "output_type": "stream",
     "text": [
      "\u001b[32m[I 2022-10-04 18:31:19,151]\u001b[0m Trial 26 finished with values: [0.4156411290168762, 0.8944444444444445] and parameters: {'lr': 0.00044064535062404107, 'n_layer': 1, 'h0': 192, 'act0': 'Tanh'}. \u001b[0m\n"
     ]
    },
    {
     "name": "stdout",
     "output_type": "stream",
     "text": [
      "Dictionary: \n",
      "0:  {'precision': 0.8594847775175644, 'recall': 0.9129353233830846, 'f1-score': 0.8854041013268998, 'support': 402}\n",
      "1:  {'precision': 0.9260042283298098, 'recall': 0.8795180722891566, 'f1-score': 0.90216271884655, 'support': 498}\n",
      "acc:  0.8944444444444445\n",
      "train_loss: 0.5936210751533508, val: 0.4683983027935028\n",
      "train_loss: 0.48850759863853455, val: 0.4645821452140808\n",
      "train_loss: 0.48205769062042236, val: 0.4613666534423828\n",
      "train_loss: 0.46414726972579956, val: 0.4875413179397583\n",
      "train_loss: 0.45295459032058716, val: 0.471251904964447\n",
      "train_loss: 0.4432219862937927, val: 0.4465145170688629\n",
      "train_loss: 0.4351605176925659, val: 0.4207385778427124\n",
      "train_loss: 0.43145132064819336, val: 0.4289308190345764\n",
      "train_loss: 0.4305678904056549, val: 0.41840359568595886\n",
      "train_loss: 0.42899471521377563, val: 0.42188939452171326\n"
     ]
    },
    {
     "name": "stderr",
     "output_type": "stream",
     "text": [
      "\u001b[32m[I 2022-10-04 18:36:59,973]\u001b[0m Trial 27 finished with values: [0.4185936152935028, 0.8933333333333333] and parameters: {'lr': 0.0005893792931942538, 'n_layer': 4, 'h0': 57, 'act0': 'Sig', 'h1': 125, 'act1': 'ReLU', 'h2': 82, 'act2': 'Tanh', 'h3': 150, 'act3': 'None'}. \u001b[0m\n"
     ]
    },
    {
     "name": "stdout",
     "output_type": "stream",
     "text": [
      "Dictionary: \n",
      "0:  {'precision': 0.8571428571428571, 'recall': 0.912718204488778, 'f1-score': 0.8840579710144928, 'support': 401}\n",
      "1:  {'precision': 0.9260042283298098, 'recall': 0.8777555110220441, 'f1-score': 0.9012345679012346, 'support': 499}\n",
      "acc:  0.8933333333333333\n",
      "train_loss: 0.5977570414543152, val: 0.4901597499847412\n",
      "train_loss: 0.4840351641178131, val: 0.46308308839797974\n",
      "train_loss: 0.4728139042854309, val: 0.4637085199356079\n",
      "train_loss: 0.45193639397621155, val: 0.45308777689933777\n",
      "train_loss: 0.4338371157646179, val: 0.42146238684654236\n",
      "train_loss: 0.42935487627983093, val: 0.4192977547645569\n",
      "train_loss: 0.4335786998271942, val: 0.4230271875858307\n",
      "train_loss: 0.4297705292701721, val: 0.4215473532676697\n",
      "train_loss: 0.4267241954803467, val: 0.4272501766681671\n",
      "train_loss: 0.4265163838863373, val: 0.4213220775127411\n"
     ]
    },
    {
     "name": "stderr",
     "output_type": "stream",
     "text": [
      "\u001b[32m[I 2022-10-04 18:41:02,650]\u001b[0m Trial 28 finished with values: [0.41723352670669556, 0.89] and parameters: {'lr': 0.0007067532938554849, 'n_layer': 2, 'h0': 68, 'act0': 'Sig', 'h1': 155, 'act1': 'Tanh'}. \u001b[0m\n"
     ]
    },
    {
     "name": "stdout",
     "output_type": "stream",
     "text": [
      "Dictionary: \n",
      "0:  {'precision': 0.8454332552693209, 'recall': 0.916243654822335, 'f1-score': 0.8794153471376371, 'support': 394}\n",
      "1:  {'precision': 0.9302325581395349, 'recall': 0.8695652173913043, 'f1-score': 0.898876404494382, 'support': 506}\n",
      "acc:  0.89\n",
      "train_loss: 0.6611712574958801, val: 0.5894686579704285\n",
      "train_loss: 0.45567595958709717, val: 0.45013871788978577\n",
      "train_loss: 0.4326699674129486, val: 0.4231329560279846\n",
      "train_loss: 0.42692670226097107, val: 0.4188382029533386\n",
      "train_loss: 0.425224632024765, val: 0.4189460277557373\n",
      "train_loss: 0.4243701696395874, val: 0.41931912302970886\n",
      "train_loss: 0.42384567856788635, val: 0.42033615708351135\n",
      "train_loss: 0.4227653443813324, val: 0.4220461845397949\n",
      "train_loss: 0.4224919378757477, val: 0.4236818552017212\n",
      "train_loss: 0.4209344685077667, val: 0.4211105704307556\n"
     ]
    },
    {
     "name": "stderr",
     "output_type": "stream",
     "text": [
      "\u001b[32m[I 2022-10-04 18:44:59,558]\u001b[0m Trial 29 finished with values: [0.42121589183807373, 0.8844444444444445] and parameters: {'lr': 0.0006514021069319725, 'n_layer': 2, 'h0': 34, 'act0': 'ReLU', 'h1': 8, 'act1': 'Sig'}. \u001b[0m\n"
     ]
    },
    {
     "name": "stdout",
     "output_type": "stream",
     "text": [
      "Dictionary: \n",
      "0:  {'precision': 0.8665105386416861, 'recall': 0.8872901678657075, 'f1-score': 0.8767772511848342, 'support': 417}\n",
      "1:  {'precision': 0.9006342494714588, 'recall': 0.8819875776397516, 'f1-score': 0.8912133891213389, 'support': 483}\n",
      "acc:  0.8844444444444445\n",
      "train_loss: 0.673188328742981, val: 0.6462775468826294\n",
      "train_loss: 0.5462868213653564, val: 0.5340092182159424\n",
      "train_loss: 0.5181718468666077, val: 0.5082545280456543\n",
      "train_loss: 0.5066065192222595, val: 0.4970269799232483\n",
      "train_loss: 0.5003409385681152, val: 0.49073824286460876\n",
      "train_loss: 0.4964112341403961, val: 0.48669835925102234\n",
      "train_loss: 0.4937116205692291, val: 0.4838699698448181\n",
      "train_loss: 0.49174216389656067, val: 0.48176878690719604\n",
      "train_loss: 0.4902385473251343, val: 0.4801394045352936\n",
      "train_loss: 0.48905372619628906, val: 0.478836327791214\n"
     ]
    },
    {
     "name": "stderr",
     "output_type": "stream",
     "text": [
      "\u001b[32m[I 2022-10-04 18:47:04,746]\u001b[0m Trial 30 finished with values: [0.4778650403022766, 0.8366666666666667] and parameters: {'lr': 0.0008475900775516004, 'n_layer': 0}. \u001b[0m\n"
     ]
    },
    {
     "name": "stdout",
     "output_type": "stream",
     "text": [
      "Dictionary: \n",
      "0:  {'precision': 0.8220140515222483, 'recall': 0.8317535545023697, 'f1-score': 0.8268551236749117, 'support': 422}\n",
      "1:  {'precision': 0.8498942917547568, 'recall': 0.8410041841004184, 'f1-score': 0.8454258675078865, 'support': 478}\n",
      "acc:  0.8366666666666667\n",
      "train_loss: 0.5731114149093628, val: 0.47271862626075745\n",
      "train_loss: 0.42643922567367554, val: 0.4215221703052521\n",
      "train_loss: 0.4205370843410492, val: 0.41975918412208557\n",
      "train_loss: 0.41671496629714966, val: 0.417996883392334\n",
      "train_loss: 0.4138241708278656, val: 0.41774123907089233\n",
      "train_loss: 0.40911614894866943, val: 0.4202631115913391\n",
      "train_loss: 0.40566837787628174, val: 0.4191901385784149\n",
      "train_loss: 0.40423059463500977, val: 0.42093130946159363\n",
      "train_loss: 0.401606023311615, val: 0.41738635301589966\n",
      "train_loss: 0.3984881341457367, val: 0.42021819949150085\n"
     ]
    },
    {
     "name": "stderr",
     "output_type": "stream",
     "text": [
      "\u001b[32m[I 2022-10-04 18:51:02,397]\u001b[0m Trial 31 finished with values: [0.41920825839042664, 0.89] and parameters: {'lr': 0.0001204328848212082, 'n_layer': 2, 'h0': 196, 'act0': 'ReLU', 'h1': 127, 'act1': 'ReLU'}. \u001b[0m\n"
     ]
    },
    {
     "name": "stdout",
     "output_type": "stream",
     "text": [
      "Dictionary: \n",
      "0:  {'precision': 0.8688524590163934, 'recall': 0.8961352657004831, 'f1-score': 0.882282996432818, 'support': 414}\n",
      "1:  {'precision': 0.9090909090909091, 'recall': 0.8847736625514403, 'f1-score': 0.8967674661105317, 'support': 486}\n",
      "acc:  0.89\n",
      "train_loss: 0.6798678040504456, val: 0.6519556045532227\n",
      "train_loss: 0.5397843718528748, val: 0.5278943777084351\n",
      "train_loss: 0.5136016011238098, val: 0.5036336779594421\n",
      "train_loss: 0.5032044053077698, val: 0.49348440766334534\n",
      "train_loss: 0.4976437985897064, val: 0.48788461089134216\n",
      "train_loss: 0.4941769540309906, val: 0.4843074083328247\n",
      "train_loss: 0.49180588126182556, val: 0.4818074107170105\n",
      "train_loss: 0.4900806248188019, val: 0.4799503684043884\n",
      "train_loss: 0.48876604437828064, val: 0.47851017117500305\n",
      "train_loss: 0.4877307713031769, val: 0.4773564040660858\n"
     ]
    },
    {
     "name": "stderr",
     "output_type": "stream",
     "text": [
      "\u001b[32m[I 2022-10-04 18:53:08,834]\u001b[0m Trial 32 finished with values: [0.4764966368675232, 0.8377777777777777] and parameters: {'lr': 0.0009951764242949112, 'n_layer': 0}. \u001b[0m\n"
     ]
    },
    {
     "name": "stdout",
     "output_type": "stream",
     "text": [
      "Dictionary: \n",
      "0:  {'precision': 0.8243559718969555, 'recall': 0.8321513002364066, 'f1-score': 0.8282352941176472, 'support': 423}\n",
      "1:  {'precision': 0.8498942917547568, 'recall': 0.8427672955974843, 'f1-score': 0.8463157894736841, 'support': 477}\n",
      "acc:  0.8377777777777777\n",
      "train_loss: 0.644240140914917, val: 0.587760865688324\n",
      "train_loss: 0.4871670603752136, val: 0.47447264194488525\n",
      "train_loss: 0.4836903512477875, val: 0.47116872668266296\n",
      "train_loss: 0.4826631546020508, val: 0.47000852227211\n",
      "train_loss: 0.482157826423645, val: 0.46947401762008667\n",
      "train_loss: 0.4818600118160248, val: 0.4691799581050873\n",
      "train_loss: 0.481666624546051, val: 0.4689832329750061\n",
      "train_loss: 0.4815332293510437, val: 0.4688367545604706\n",
      "train_loss: 0.4814356863498688, val: 0.46872007846832275\n",
      "train_loss: 0.481362521648407, val: 0.4686187207698822\n"
     ]
    },
    {
     "name": "stderr",
     "output_type": "stream",
     "text": [
      "\u001b[32m[I 2022-10-04 18:56:03,839]\u001b[0m Trial 33 finished with values: [0.4685364365577698, 0.8377777777777777] and parameters: {'lr': 0.00032279810293569, 'n_layer': 1, 'h0': 34, 'act0': 'None'}. \u001b[0m\n"
     ]
    },
    {
     "name": "stdout",
     "output_type": "stream",
     "text": [
      "Dictionary: \n",
      "0:  {'precision': 0.8126463700234192, 'recall': 0.8401937046004843, 'f1-score': 0.8261904761904764, 'support': 413}\n",
      "1:  {'precision': 0.8604651162790697, 'recall': 0.8357289527720739, 'f1-score': 0.8479166666666667, 'support': 487}\n",
      "acc:  0.8377777777777777\n",
      "train_loss: 0.6070631146430969, val: 0.5084429979324341\n",
      "train_loss: 0.42884233593940735, val: 0.4191772937774658\n",
      "train_loss: 0.422587126493454, val: 0.4167911112308502\n",
      "train_loss: 0.41904500126838684, val: 0.4158787131309509\n",
      "train_loss: 0.4166196584701538, val: 0.4157296121120453\n",
      "train_loss: 0.41475987434387207, val: 0.41570329666137695\n",
      "train_loss: 0.4130288064479828, val: 0.4158819019794464\n",
      "train_loss: 0.4107627868652344, val: 0.4157334268093109\n",
      "train_loss: 0.40971264243125916, val: 0.41645240783691406\n",
      "train_loss: 0.4078003466129303, val: 0.4162842929363251\n"
     ]
    },
    {
     "name": "stderr",
     "output_type": "stream",
     "text": [
      "\u001b[32m[I 2022-10-04 18:59:58,855]\u001b[0m Trial 34 finished with values: [0.4172234535217285, 0.8911111111111111] and parameters: {'lr': 0.00012357003555007779, 'n_layer': 2, 'h0': 129, 'act0': 'ReLU', 'h1': 48, 'act1': 'None'}. \u001b[0m\n"
     ]
    },
    {
     "name": "stdout",
     "output_type": "stream",
     "text": [
      "Dictionary: \n",
      "0:  {'precision': 0.8641686182669789, 'recall': 0.902200488997555, 'f1-score': 0.8827751196172249, 'support': 409}\n",
      "1:  {'precision': 0.9154334038054969, 'recall': 0.8818737270875764, 'f1-score': 0.8983402489626556, 'support': 491}\n",
      "acc:  0.8911111111111111\n"
     ]
    },
    {
     "name": "stderr",
     "output_type": "stream",
     "text": [
      "/home/jchan/anaconda3/envs/pytorch/lib/python3.7/site-packages/sklearn/metrics/_classification.py:1318: UndefinedMetricWarning: Recall and F-score are ill-defined and being set to 0.0 in labels with no true samples. Use `zero_division` parameter to control this behavior.\n",
      "  _warn_prf(average, modifier, msg_start, len(result))\n",
      "/home/jchan/anaconda3/envs/pytorch/lib/python3.7/site-packages/sklearn/metrics/_classification.py:1318: UndefinedMetricWarning: Recall and F-score are ill-defined and being set to 0.0 in labels with no true samples. Use `zero_division` parameter to control this behavior.\n",
      "  _warn_prf(average, modifier, msg_start, len(result))\n",
      "/home/jchan/anaconda3/envs/pytorch/lib/python3.7/site-packages/sklearn/metrics/_classification.py:1318: UndefinedMetricWarning: Recall and F-score are ill-defined and being set to 0.0 in labels with no true samples. Use `zero_division` parameter to control this behavior.\n",
      "  _warn_prf(average, modifier, msg_start, len(result))\n"
     ]
    },
    {
     "name": "stdout",
     "output_type": "stream",
     "text": [
      "train_loss: 0.6946165561676025, val: 0.6943225860595703\n"
     ]
    },
    {
     "name": "stderr",
     "output_type": "stream",
     "text": [
      "/home/jchan/anaconda3/envs/pytorch/lib/python3.7/site-packages/sklearn/metrics/_classification.py:1318: UndefinedMetricWarning: Recall and F-score are ill-defined and being set to 0.0 in labels with no true samples. Use `zero_division` parameter to control this behavior.\n",
      "  _warn_prf(average, modifier, msg_start, len(result))\n",
      "/home/jchan/anaconda3/envs/pytorch/lib/python3.7/site-packages/sklearn/metrics/_classification.py:1318: UndefinedMetricWarning: Recall and F-score are ill-defined and being set to 0.0 in labels with no true samples. Use `zero_division` parameter to control this behavior.\n",
      "  _warn_prf(average, modifier, msg_start, len(result))\n",
      "/home/jchan/anaconda3/envs/pytorch/lib/python3.7/site-packages/sklearn/metrics/_classification.py:1318: UndefinedMetricWarning: Recall and F-score are ill-defined and being set to 0.0 in labels with no true samples. Use `zero_division` parameter to control this behavior.\n",
      "  _warn_prf(average, modifier, msg_start, len(result))\n",
      "/home/jchan/anaconda3/envs/pytorch/lib/python3.7/site-packages/sklearn/metrics/_classification.py:1318: UndefinedMetricWarning: Recall and F-score are ill-defined and being set to 0.0 in labels with no true samples. Use `zero_division` parameter to control this behavior.\n",
      "  _warn_prf(average, modifier, msg_start, len(result))\n",
      "/home/jchan/anaconda3/envs/pytorch/lib/python3.7/site-packages/sklearn/metrics/_classification.py:1318: UndefinedMetricWarning: Recall and F-score are ill-defined and being set to 0.0 in labels with no true samples. Use `zero_division` parameter to control this behavior.\n",
      "  _warn_prf(average, modifier, msg_start, len(result))\n",
      "/home/jchan/anaconda3/envs/pytorch/lib/python3.7/site-packages/sklearn/metrics/_classification.py:1318: UndefinedMetricWarning: Recall and F-score are ill-defined and being set to 0.0 in labels with no true samples. Use `zero_division` parameter to control this behavior.\n",
      "  _warn_prf(average, modifier, msg_start, len(result))\n"
     ]
    },
    {
     "name": "stdout",
     "output_type": "stream",
     "text": [
      "train_loss: 0.6670429110527039, val: 0.6634706258773804\n",
      "train_loss: 0.5847082138061523, val: 0.5745226740837097\n",
      "train_loss: 0.5220497250556946, val: 0.5108215808868408\n",
      "train_loss: 0.4994238317012787, val: 0.48864561319351196\n",
      "train_loss: 0.4905875027179718, val: 0.48033928871154785\n",
      "train_loss: 0.4864286184310913, val: 0.47651129961013794\n",
      "train_loss: 0.48415669798851013, val: 0.47438329458236694\n",
      "train_loss: 0.4827679395675659, val: 0.4730162024497986\n",
      "train_loss: 0.48184138536453247, val: 0.4720427989959717\n"
     ]
    },
    {
     "name": "stderr",
     "output_type": "stream",
     "text": [
      "\u001b[32m[I 2022-10-04 19:03:50,829]\u001b[0m Trial 35 finished with values: [0.4713687598705292, 0.8366666666666667] and parameters: {'lr': 1.9420920905177026e-05, 'n_layer': 2, 'h0': 42, 'act0': 'Sig', 'h1': 114, 'act1': 'None'}. \u001b[0m\n"
     ]
    },
    {
     "name": "stdout",
     "output_type": "stream",
     "text": [
      "Dictionary: \n",
      "0:  {'precision': 0.8337236533957846, 'recall': 0.8240740740740741, 'f1-score': 0.8288707799767172, 'support': 432}\n",
      "1:  {'precision': 0.8393234672304439, 'recall': 0.8482905982905983, 'f1-score': 0.8437832093517533, 'support': 468}\n",
      "acc:  0.8366666666666667\n",
      "train_loss: 0.61307692527771, val: 0.4709422290325165\n",
      "train_loss: 0.48414433002471924, val: 0.4631715714931488\n",
      "train_loss: 0.46251925826072693, val: 0.44310227036476135\n",
      "train_loss: 0.4417448341846466, val: 0.45971494913101196\n",
      "train_loss: 0.4450239837169647, val: 0.42279496788978577\n",
      "train_loss: 0.43203046917915344, val: 0.4388290047645569\n",
      "train_loss: 0.43081143498420715, val: 0.43553975224494934\n",
      "train_loss: 0.44035065174102783, val: 0.41632917523384094\n",
      "train_loss: 0.43805989623069763, val: 0.4241667687892914\n",
      "train_loss: 0.43601807951927185, val: 0.47730550169944763\n"
     ]
    },
    {
     "name": "stderr",
     "output_type": "stream",
     "text": [
      "\u001b[32m[I 2022-10-04 19:08:43,107]\u001b[0m Trial 36 finished with values: [0.46246227622032166, 0.8511111111111112] and parameters: {'lr': 0.0009093123601347905, 'n_layer': 3, 'h0': 105, 'act0': 'Sig', 'h1': 164, 'act1': 'Tanh', 'h2': 96, 'act2': 'ReLU'}. \u001b[0m\n"
     ]
    },
    {
     "name": "stdout",
     "output_type": "stream",
     "text": [
      "Dictionary: \n",
      "0:  {'precision': 0.9156908665105387, 'recall': 0.7995910020449898, 'f1-score': 0.8537117903930131, 'support': 489}\n",
      "1:  {'precision': 0.7928118393234672, 'recall': 0.9124087591240876, 'f1-score': 0.8484162895927603, 'support': 411}\n",
      "acc:  0.8511111111111112\n",
      "train_loss: 0.5160732269287109, val: 0.4816981256008148\n",
      "train_loss: 0.4874958395957947, val: 0.46930718421936035\n",
      "train_loss: 0.47514423727989197, val: 0.45017457008361816\n",
      "train_loss: 0.45324981212615967, val: 0.493419349193573\n",
      "train_loss: 0.4414723813533783, val: 0.45793020725250244\n",
      "train_loss: 0.4341939687728882, val: 0.4172121584415436\n",
      "train_loss: 0.4326401650905609, val: 0.4131689965724945\n",
      "train_loss: 0.428965300321579, val: 0.4141911268234253\n",
      "train_loss: 0.42671430110931396, val: 0.41512396931648254\n",
      "train_loss: 0.42795443534851074, val: 0.42981740832328796\n"
     ]
    },
    {
     "name": "stderr",
     "output_type": "stream",
     "text": [
      "\u001b[32m[I 2022-10-04 19:12:37,907]\u001b[0m Trial 37 finished with values: [0.41398900747299194, 0.9] and parameters: {'lr': 0.0006089073396428095, 'n_layer': 2, 'h0': 139, 'act0': 'Tanh', 'h1': 107, 'act1': 'None'}. \u001b[0m\n"
     ]
    },
    {
     "name": "stdout",
     "output_type": "stream",
     "text": [
      "Dictionary: \n",
      "0:  {'precision': 0.8477751756440282, 'recall': 0.9354005167958657, 'f1-score': 0.8894348894348895, 'support': 387}\n",
      "1:  {'precision': 0.9471458773784355, 'recall': 0.8732943469785575, 'f1-score': 0.9087221095334684, 'support': 513}\n",
      "acc:  0.9\n",
      "train_loss: 0.6804353594779968, val: 0.6581295728683472\n",
      "train_loss: 0.5528684258460999, val: 0.5407963395118713\n",
      "train_loss: 0.5233346819877625, val: 0.513472855091095\n",
      "train_loss: 0.510581910610199, val: 0.501143217086792\n",
      "train_loss: 0.5035464763641357, val: 0.4941140413284302\n",
      "train_loss: 0.4990910291671753, val: 0.48955991864204407\n",
      "train_loss: 0.4960136413574219, val: 0.48635831475257874\n",
      "train_loss: 0.49375930428504944, val: 0.483975887298584\n",
      "train_loss: 0.4920350909233093, val: 0.482127845287323\n",
      "train_loss: 0.49067243933677673, val: 0.4806484282016754\n"
     ]
    },
    {
     "name": "stderr",
     "output_type": "stream",
     "text": [
      "\u001b[32m[I 2022-10-04 19:14:47,223]\u001b[0m Trial 38 finished with values: [0.47954681515693665, 0.8377777777777777] and parameters: {'lr': 0.0007144624328701837, 'n_layer': 0}. \u001b[0m\n"
     ]
    },
    {
     "name": "stdout",
     "output_type": "stream",
     "text": [
      "Dictionary: \n",
      "0:  {'precision': 0.8220140515222483, 'recall': 0.833729216152019, 'f1-score': 0.8278301886792453, 'support': 421}\n",
      "1:  {'precision': 0.8520084566596194, 'recall': 0.8413361169102297, 'f1-score': 0.8466386554621849, 'support': 479}\n",
      "acc:  0.8377777777777777\n"
     ]
    },
    {
     "name": "stderr",
     "output_type": "stream",
     "text": [
      "/home/jchan/anaconda3/envs/pytorch/lib/python3.7/site-packages/sklearn/metrics/_classification.py:1318: UndefinedMetricWarning: Recall and F-score are ill-defined and being set to 0.0 in labels with no true samples. Use `zero_division` parameter to control this behavior.\n",
      "  _warn_prf(average, modifier, msg_start, len(result))\n",
      "/home/jchan/anaconda3/envs/pytorch/lib/python3.7/site-packages/sklearn/metrics/_classification.py:1318: UndefinedMetricWarning: Recall and F-score are ill-defined and being set to 0.0 in labels with no true samples. Use `zero_division` parameter to control this behavior.\n",
      "  _warn_prf(average, modifier, msg_start, len(result))\n",
      "/home/jchan/anaconda3/envs/pytorch/lib/python3.7/site-packages/sklearn/metrics/_classification.py:1318: UndefinedMetricWarning: Recall and F-score are ill-defined and being set to 0.0 in labels with no true samples. Use `zero_division` parameter to control this behavior.\n",
      "  _warn_prf(average, modifier, msg_start, len(result))\n"
     ]
    },
    {
     "name": "stdout",
     "output_type": "stream",
     "text": [
      "train_loss: 0.6954660415649414, val: 0.6940036416053772\n",
      "train_loss: 0.48355767130851746, val: 0.46669265627861023\n",
      "train_loss: 0.4829540252685547, val: 0.4665655195713043\n",
      "train_loss: 0.4820937216281891, val: 0.46638956665992737\n",
      "train_loss: 0.4810730516910553, val: 0.46630510687828064\n",
      "train_loss: 0.47960659861564636, val: 0.4661608934402466\n",
      "train_loss: 0.47739219665527344, val: 0.4662814140319824\n",
      "train_loss: 0.47188013792037964, val: 0.46828287839889526\n",
      "train_loss: 0.4541756212711334, val: 0.4613105058670044\n",
      "train_loss: 0.443432480096817, val: 0.44768863916397095\n"
     ]
    },
    {
     "name": "stderr",
     "output_type": "stream",
     "text": [
      "\u001b[32m[I 2022-10-04 19:20:27,512]\u001b[0m Trial 39 finished with values: [0.42859381437301636, 0.8777777777777778] and parameters: {'lr': 0.00027012671421925154, 'n_layer': 4, 'h0': 23, 'act0': 'Sig', 'h1': 18, 'act1': 'ReLU', 'h2': 84, 'act2': 'Sig', 'h3': 51, 'act3': 'Sig'}. \u001b[0m\n"
     ]
    },
    {
     "name": "stdout",
     "output_type": "stream",
     "text": [
      "Dictionary: \n",
      "0:  {'precision': 0.8875878220140515, 'recall': 0.8594104308390023, 'f1-score': 0.8732718894009217, 'support': 441}\n",
      "1:  {'precision': 0.86892177589852, 'recall': 0.8954248366013072, 'f1-score': 0.8819742489270387, 'support': 459}\n",
      "acc:  0.8777777777777778\n",
      "train_loss: 0.6909705996513367, val: 0.6708274483680725\n",
      "train_loss: 0.5704980492591858, val: 0.5572218894958496\n",
      "train_loss: 0.5346853733062744, val: 0.5243789553642273\n",
      "train_loss: 0.5186980366706848, val: 0.5091881155967712\n",
      "train_loss: 0.5098282098770142, val: 0.5004696249961853\n",
      "train_loss: 0.5042089819908142, val: 0.4948135018348694\n",
      "train_loss: 0.5003310441970825, val: 0.4908435046672821\n",
      "train_loss: 0.4974916875362396, val: 0.48789602518081665\n",
      "train_loss: 0.49532341957092285, val: 0.4856169521808624\n",
      "train_loss: 0.4936099052429199, val: 0.48379752039909363\n"
     ]
    },
    {
     "name": "stderr",
     "output_type": "stream",
     "text": [
      "\u001b[32m[I 2022-10-04 19:22:33,840]\u001b[0m Trial 40 finished with values: [0.482445627450943, 0.8355555555555556] and parameters: {'lr': 0.0005677746726358469, 'n_layer': 0}. \u001b[0m\n"
     ]
    },
    {
     "name": "stdout",
     "output_type": "stream",
     "text": [
      "Dictionary: \n",
      "0:  {'precision': 0.8220140515222483, 'recall': 0.8297872340425532, 'f1-score': 0.8258823529411765, 'support': 423}\n",
      "1:  {'precision': 0.8477801268498943, 'recall': 0.8406708595387841, 'f1-score': 0.8442105263157895, 'support': 477}\n",
      "acc:  0.8355555555555556\n",
      "train_loss: 0.6164552569389343, val: 0.51923668384552\n",
      "train_loss: 0.4866255223751068, val: 0.4657546579837799\n",
      "train_loss: 0.4788995683193207, val: 0.4599270522594452\n",
      "train_loss: 0.46680083870887756, val: 0.45151883363723755\n",
      "train_loss: 0.45238199830055237, val: 0.4484412372112274\n",
      "train_loss: 0.4403209388256073, val: 0.46497902274131775\n",
      "train_loss: 0.4310438334941864, val: 0.423403263092041\n",
      "train_loss: 0.4309103786945343, val: 0.4185390770435333\n",
      "train_loss: 0.42827314138412476, val: 0.4171364903450012\n",
      "train_loss: 0.42770084738731384, val: 0.4152818024158478\n"
     ]
    },
    {
     "name": "stderr",
     "output_type": "stream",
     "text": [
      "\u001b[32m[I 2022-10-04 19:26:24,843]\u001b[0m Trial 41 finished with values: [0.42257365584373474, 0.8877777777777778] and parameters: {'lr': 0.0005276265588634676, 'n_layer': 2, 'h0': 182, 'act0': 'Sig', 'h1': 126, 'act1': 'None'}. \u001b[0m\n"
     ]
    },
    {
     "name": "stdout",
     "output_type": "stream",
     "text": [
      "Dictionary: \n",
      "0:  {'precision': 0.7985948477751756, 'recall': 0.9578651685393258, 'f1-score': 0.8710089399744572, 'support': 356}\n",
      "1:  {'precision': 0.9682875264270613, 'recall': 0.8419117647058824, 'f1-score': 0.9006882989183874, 'support': 544}\n",
      "acc:  0.8877777777777778\n",
      "train_loss: 0.5331166386604309, val: 0.47398853302001953\n",
      "train_loss: 0.4383285343647003, val: 0.43674421310424805\n",
      "train_loss: 0.4342074394226074, val: 0.43375128507614136\n",
      "train_loss: 0.42923808097839355, val: 0.41909635066986084\n",
      "train_loss: 0.43008875846862793, val: 0.42027905583381653\n",
      "train_loss: 0.4351097643375397, val: 0.43635430932044983\n",
      "train_loss: 0.42770007252693176, val: 0.4396199882030487\n",
      "train_loss: 0.4188072085380554, val: 0.4276459515094757\n",
      "train_loss: 0.4192712903022766, val: 0.4290866553783417\n",
      "train_loss: 0.4170607030391693, val: 0.4294171631336212\n"
     ]
    },
    {
     "name": "stderr",
     "output_type": "stream",
     "text": [
      "\u001b[32m[I 2022-10-04 19:30:24,857]\u001b[0m Trial 42 finished with values: [0.41493192315101624, 0.8922222222222222] and parameters: {'lr': 0.0009095066429240903, 'n_layer': 2, 'h0': 96, 'act0': 'Tanh', 'h1': 174, 'act1': 'Sig'}. \u001b[0m\n"
     ]
    },
    {
     "name": "stdout",
     "output_type": "stream",
     "text": [
      "Dictionary: \n",
      "0:  {'precision': 0.8782201405152225, 'recall': 0.8928571428571429, 'f1-score': 0.885478158205431, 'support': 420}\n",
      "1:  {'precision': 0.904862579281184, 'recall': 0.8916666666666667, 'f1-score': 0.8982161594963275, 'support': 480}\n",
      "acc:  0.8922222222222222\n",
      "train_loss: 0.6064158082008362, val: 0.5094707608222961\n",
      "train_loss: 0.4840368628501892, val: 0.46698442101478577\n",
      "train_loss: 0.4815589189529419, val: 0.4668388068675995\n",
      "train_loss: 0.45798635482788086, val: 0.46752727031707764\n",
      "train_loss: 0.45368194580078125, val: 0.4665646553039551\n",
      "train_loss: 0.4361206591129303, val: 0.4474654197692871\n",
      "train_loss: 0.42954885959625244, val: 0.4204801321029663\n",
      "train_loss: 0.42751240730285645, val: 0.4191211462020874\n",
      "train_loss: 0.42678484320640564, val: 0.41722312569618225\n",
      "train_loss: 0.42619746923446655, val: 0.41627228260040283\n"
     ]
    },
    {
     "name": "stderr",
     "output_type": "stream",
     "text": [
      "\u001b[32m[I 2022-10-04 19:34:18,581]\u001b[0m Trial 43 finished with values: [0.41721194982528687, 0.8944444444444445] and parameters: {'lr': 0.0005114566558435785, 'n_layer': 2, 'h0': 20, 'act0': 'None', 'h1': 156, 'act1': 'Sig'}. \u001b[0m\n"
     ]
    },
    {
     "name": "stdout",
     "output_type": "stream",
     "text": [
      "Dictionary: \n",
      "0:  {'precision': 0.8665105386416861, 'recall': 0.9068627450980392, 'f1-score': 0.8862275449101796, 'support': 408}\n",
      "1:  {'precision': 0.919661733615222, 'recall': 0.8841463414634146, 'f1-score': 0.9015544041450776, 'support': 492}\n",
      "acc:  0.8944444444444445\n",
      "train_loss: 0.6039286255836487, val: 0.4723648726940155\n",
      "train_loss: 0.48771199584007263, val: 0.5129748582839966\n",
      "train_loss: 0.4567733705043793, val: 0.5057653188705444\n",
      "train_loss: 0.4486744701862335, val: 0.43209871649742126\n",
      "train_loss: 0.4381828308105469, val: 0.4717378318309784\n",
      "train_loss: 0.43762707710266113, val: 0.4464985132217407\n",
      "train_loss: 0.4379628002643585, val: 0.45708611607551575\n",
      "train_loss: 0.4297519326210022, val: 0.4201807379722595\n",
      "train_loss: 0.43119820952415466, val: 0.4221822917461395\n",
      "train_loss: 0.4327206611633301, val: 0.42850810289382935\n"
     ]
    },
    {
     "name": "stderr",
     "output_type": "stream",
     "text": [
      "\u001b[32m[I 2022-10-04 19:39:55,513]\u001b[0m Trial 44 finished with values: [0.4402706027030945, 0.8711111111111111] and parameters: {'lr': 0.0009541806096665651, 'n_layer': 4, 'h0': 21, 'act0': 'Sig', 'h1': 173, 'act1': 'ReLU', 'h2': 101, 'act2': 'Tanh', 'h3': 76, 'act3': 'Tanh'}. \u001b[0m\n"
     ]
    },
    {
     "name": "stdout",
     "output_type": "stream",
     "text": [
      "Dictionary: \n",
      "0:  {'precision': 0.9086651053864169, 'recall': 0.8344086021505376, 'f1-score': 0.8699551569506726, 'support': 465}\n",
      "1:  {'precision': 0.8372093023255814, 'recall': 0.9103448275862069, 'f1-score': 0.8722466960352423, 'support': 435}\n",
      "acc:  0.8711111111111111\n",
      "train_loss: 0.5553593635559082, val: 0.4622402787208557\n",
      "train_loss: 0.4304019510746002, val: 0.42940494418144226\n",
      "train_loss: 0.42376330494880676, val: 0.42670270800590515\n",
      "train_loss: 0.42904821038246155, val: 0.4317508637905121\n",
      "train_loss: 0.42228928208351135, val: 0.41913244128227234\n",
      "train_loss: 0.4179627597332001, val: 0.4340689778327942\n",
      "train_loss: 0.4174748957157135, val: 0.427596777677536\n",
      "train_loss: 0.4165482223033905, val: 0.4230178892612457\n",
      "train_loss: 0.4129808247089386, val: 0.4194473922252655\n",
      "train_loss: 0.41205891966819763, val: 0.42592692375183105\n"
     ]
    },
    {
     "name": "stderr",
     "output_type": "stream",
     "text": [
      "\u001b[32m[I 2022-10-04 19:43:54,627]\u001b[0m Trial 45 finished with values: [0.42534756660461426, 0.8822222222222222] and parameters: {'lr': 0.0009464188231493365, 'n_layer': 2, 'h0': 71, 'act0': 'ReLU', 'h1': 48, 'act1': 'Sig'}. \u001b[0m\n"
     ]
    },
    {
     "name": "stdout",
     "output_type": "stream",
     "text": [
      "Dictionary: \n",
      "0:  {'precision': 0.8852459016393442, 'recall': 0.8689655172413793, 'f1-score': 0.8770301624129929, 'support': 435}\n",
      "1:  {'precision': 0.879492600422833, 'recall': 0.8946236559139785, 'f1-score': 0.8869936034115138, 'support': 465}\n",
      "acc:  0.8822222222222222\n"
     ]
    },
    {
     "name": "stderr",
     "output_type": "stream",
     "text": [
      "/home/jchan/anaconda3/envs/pytorch/lib/python3.7/site-packages/sklearn/metrics/_classification.py:1318: UndefinedMetricWarning: Recall and F-score are ill-defined and being set to 0.0 in labels with no true samples. Use `zero_division` parameter to control this behavior.\n",
      "  _warn_prf(average, modifier, msg_start, len(result))\n",
      "/home/jchan/anaconda3/envs/pytorch/lib/python3.7/site-packages/sklearn/metrics/_classification.py:1318: UndefinedMetricWarning: Recall and F-score are ill-defined and being set to 0.0 in labels with no true samples. Use `zero_division` parameter to control this behavior.\n",
      "  _warn_prf(average, modifier, msg_start, len(result))\n",
      "/home/jchan/anaconda3/envs/pytorch/lib/python3.7/site-packages/sklearn/metrics/_classification.py:1318: UndefinedMetricWarning: Recall and F-score are ill-defined and being set to 0.0 in labels with no true samples. Use `zero_division` parameter to control this behavior.\n",
      "  _warn_prf(average, modifier, msg_start, len(result))\n"
     ]
    },
    {
     "name": "stdout",
     "output_type": "stream",
     "text": [
      "train_loss: 0.7046191096305847, val: 0.7015125751495361\n"
     ]
    },
    {
     "name": "stderr",
     "output_type": "stream",
     "text": [
      "/home/jchan/anaconda3/envs/pytorch/lib/python3.7/site-packages/sklearn/metrics/_classification.py:1318: UndefinedMetricWarning: Recall and F-score are ill-defined and being set to 0.0 in labels with no true samples. Use `zero_division` parameter to control this behavior.\n",
      "  _warn_prf(average, modifier, msg_start, len(result))\n",
      "/home/jchan/anaconda3/envs/pytorch/lib/python3.7/site-packages/sklearn/metrics/_classification.py:1318: UndefinedMetricWarning: Recall and F-score are ill-defined and being set to 0.0 in labels with no true samples. Use `zero_division` parameter to control this behavior.\n",
      "  _warn_prf(average, modifier, msg_start, len(result))\n",
      "/home/jchan/anaconda3/envs/pytorch/lib/python3.7/site-packages/sklearn/metrics/_classification.py:1318: UndefinedMetricWarning: Recall and F-score are ill-defined and being set to 0.0 in labels with no true samples. Use `zero_division` parameter to control this behavior.\n",
      "  _warn_prf(average, modifier, msg_start, len(result))\n",
      "/home/jchan/anaconda3/envs/pytorch/lib/python3.7/site-packages/sklearn/metrics/_classification.py:1318: UndefinedMetricWarning: Recall and F-score are ill-defined and being set to 0.0 in labels with no true samples. Use `zero_division` parameter to control this behavior.\n",
      "  _warn_prf(average, modifier, msg_start, len(result))\n",
      "/home/jchan/anaconda3/envs/pytorch/lib/python3.7/site-packages/sklearn/metrics/_classification.py:1318: UndefinedMetricWarning: Recall and F-score are ill-defined and being set to 0.0 in labels with no true samples. Use `zero_division` parameter to control this behavior.\n",
      "  _warn_prf(average, modifier, msg_start, len(result))\n",
      "/home/jchan/anaconda3/envs/pytorch/lib/python3.7/site-packages/sklearn/metrics/_classification.py:1318: UndefinedMetricWarning: Recall and F-score are ill-defined and being set to 0.0 in labels with no true samples. Use `zero_division` parameter to control this behavior.\n",
      "  _warn_prf(average, modifier, msg_start, len(result))\n"
     ]
    },
    {
     "name": "stdout",
     "output_type": "stream",
     "text": [
      "train_loss: 0.4899693727493286, val: 0.47427016496658325\n",
      "train_loss: 0.4827101528644562, val: 0.4662787914276123\n",
      "train_loss: 0.47569748759269714, val: 0.4723511338233948\n",
      "train_loss: 0.466878741979599, val: 0.4834907352924347\n",
      "train_loss: 0.4590090215206146, val: 0.46455106139183044\n",
      "train_loss: 0.45721176266670227, val: 0.4585227966308594\n",
      "train_loss: 0.4519135057926178, val: 0.5021165609359741\n",
      "train_loss: 0.4524155557155609, val: 0.47062644362449646\n",
      "train_loss: 0.44496697187423706, val: 0.4653635323047638\n"
     ]
    },
    {
     "name": "stderr",
     "output_type": "stream",
     "text": [
      "\u001b[32m[I 2022-10-04 19:49:32,993]\u001b[0m Trial 46 finished with values: [0.4548170268535614, 0.8588888888888889] and parameters: {'lr': 0.0007508850376831868, 'n_layer': 4, 'h0': 5, 'act0': 'Sig', 'h1': 90, 'act1': 'Sig', 'h2': 130, 'act2': 'None', 'h3': 172, 'act3': 'Sig'}. \u001b[0m\n"
     ]
    },
    {
     "name": "stdout",
     "output_type": "stream",
     "text": [
      "Dictionary: \n",
      "0:  {'precision': 0.8969555035128806, 'recall': 0.8218884120171673, 'f1-score': 0.8577827547592386, 'support': 466}\n",
      "1:  {'precision': 0.8245243128964059, 'recall': 0.8986175115207373, 'f1-score': 0.8599779492833518, 'support': 434}\n",
      "acc:  0.8588888888888889\n",
      "train_loss: 0.5234546661376953, val: 0.47407957911491394\n",
      "train_loss: 0.48594337701797485, val: 0.465872198343277\n",
      "train_loss: 0.4788142442703247, val: 0.4570605456829071\n",
      "train_loss: 0.44935956597328186, val: 0.4573173522949219\n",
      "train_loss: 0.4376532733440399, val: 0.44153448939323425\n",
      "train_loss: 0.43205270171165466, val: 0.41837358474731445\n",
      "train_loss: 0.43200811743736267, val: 0.41772201657295227\n",
      "train_loss: 0.42951875925064087, val: 0.4160624146461487\n",
      "train_loss: 0.4290362000465393, val: 0.41618284583091736\n",
      "train_loss: 0.42786115407943726, val: 0.4171370565891266\n"
     ]
    },
    {
     "name": "stderr",
     "output_type": "stream",
     "text": [
      "\u001b[32m[I 2022-10-04 19:53:31,240]\u001b[0m Trial 47 finished with values: [0.41493865847587585, 0.8966666666666666] and parameters: {'lr': 0.0004392705515906004, 'n_layer': 2, 'h0': 127, 'act0': 'Tanh', 'h1': 146, 'act1': 'None'}. \u001b[0m\n"
     ]
    },
    {
     "name": "stdout",
     "output_type": "stream",
     "text": [
      "Dictionary: \n",
      "0:  {'precision': 0.8360655737704918, 'recall': 0.9394736842105263, 'f1-score': 0.8847583643122677, 'support': 380}\n",
      "1:  {'precision': 0.9513742071881607, 'recall': 0.8653846153846154, 'f1-score': 0.9063444108761329, 'support': 520}\n",
      "acc:  0.8966666666666666\n",
      "train_loss: 0.6012715697288513, val: 0.4752441942691803\n",
      "train_loss: 0.4853702485561371, val: 0.4637328088283539\n",
      "train_loss: 0.47269389033317566, val: 0.46197739243507385\n",
      "train_loss: 0.4548376202583313, val: 0.452563613653183\n",
      "train_loss: 0.4410952627658844, val: 0.4495290219783783\n",
      "train_loss: 0.4352043867111206, val: 0.47104135155677795\n",
      "train_loss: 0.43131858110427856, val: 0.42489272356033325\n",
      "train_loss: 0.428720086812973, val: 0.41915157437324524\n",
      "train_loss: 0.42811912298202515, val: 0.416159451007843\n",
      "train_loss: 0.4272816777229309, val: 0.41416528820991516\n"
     ]
    },
    {
     "name": "stderr",
     "output_type": "stream",
     "text": [
      "\u001b[32m[I 2022-10-04 19:58:14,129]\u001b[0m Trial 48 finished with values: [0.4268369674682617, 0.8833333333333333] and parameters: {'lr': 0.0006214115668302068, 'n_layer': 3, 'h0': 87, 'act0': 'Sig', 'h1': 19, 'act1': 'None', 'h2': 194, 'act2': 'Tanh'}. \u001b[0m\n"
     ]
    },
    {
     "name": "stdout",
     "output_type": "stream",
     "text": [
      "Dictionary: \n",
      "0:  {'precision': 0.892271662763466, 'recall': 0.865909090909091, 'f1-score': 0.8788927335640139, 'support': 440}\n",
      "1:  {'precision': 0.8752642706131079, 'recall': 0.9, 'f1-score': 0.887459807073955, 'support': 460}\n",
      "acc:  0.8833333333333333\n",
      "train_loss: 0.5228801965713501, val: 0.48377007246017456\n",
      "train_loss: 0.4835491478443146, val: 0.4630787670612335\n",
      "train_loss: 0.4437231123447418, val: 0.43549689650535583\n",
      "train_loss: 0.43555593490600586, val: 0.4368912875652313\n",
      "train_loss: 0.4360896944999695, val: 0.43147534132003784\n",
      "train_loss: 0.435014009475708, val: 0.4299308657646179\n",
      "train_loss: 0.4331088960170746, val: 0.44722771644592285\n",
      "train_loss: 0.434985488653183, val: 0.4267268180847168\n",
      "train_loss: 0.43739160895347595, val: 0.43194472789764404\n",
      "train_loss: 0.43423065543174744, val: 0.4316902160644531\n"
     ]
    },
    {
     "name": "stderr",
     "output_type": "stream",
     "text": [
      "\u001b[32m[I 2022-10-04 20:02:52,296]\u001b[0m Trial 49 finished with values: [0.4240129292011261, 0.8866666666666667] and parameters: {'lr': 0.0003887078492062578, 'n_layer': 3, 'h0': 100, 'act0': 'None', 'h1': 141, 'act1': 'Tanh', 'h2': 20, 'act2': 'None'}. \u001b[0m\n"
     ]
    },
    {
     "name": "stdout",
     "output_type": "stream",
     "text": [
      "Dictionary: \n",
      "0:  {'precision': 0.8641686182669789, 'recall': 0.8934624697336562, 'f1-score': 0.8785714285714284, 'support': 413}\n",
      "1:  {'precision': 0.9069767441860465, 'recall': 0.8809034907597536, 'f1-score': 0.89375, 'support': 487}\n",
      "acc:  0.8866666666666667\n",
      "train_loss: 0.6406727433204651, val: 0.5254377126693726\n",
      "train_loss: 0.4823383092880249, val: 0.4637179374694824\n",
      "train_loss: 0.4743899703025818, val: 0.46436944603919983\n",
      "train_loss: 0.451386034488678, val: 0.4561619758605957\n",
      "train_loss: 0.4334915578365326, val: 0.41670817136764526\n",
      "train_loss: 0.42972084879875183, val: 0.41743308305740356\n",
      "train_loss: 0.42918238043785095, val: 0.4176637530326843\n",
      "train_loss: 0.42769142985343933, val: 0.41762039065361023\n",
      "train_loss: 0.4275170564651489, val: 0.41784408688545227\n",
      "train_loss: 0.4256659746170044, val: 0.41864529252052307\n"
     ]
    },
    {
     "name": "stderr",
     "output_type": "stream",
     "text": [
      "\u001b[32m[I 2022-10-04 20:06:45,134]\u001b[0m Trial 50 finished with values: [0.4182766377925873, 0.8933333333333333] and parameters: {'lr': 0.0006514021069319725, 'n_layer': 2, 'h0': 34, 'act0': 'Sig', 'h1': 125, 'act1': 'ReLU'}. \u001b[0m\n"
     ]
    },
    {
     "name": "stdout",
     "output_type": "stream",
     "text": [
      "Dictionary: \n",
      "0:  {'precision': 0.8524590163934426, 'recall': 0.9168765743073047, 'f1-score': 0.8834951456310679, 'support': 397}\n",
      "1:  {'precision': 0.9302325581395349, 'recall': 0.8747514910536779, 'f1-score': 0.9016393442622951, 'support': 503}\n",
      "acc:  0.8933333333333333\n",
      "train_loss: 0.5979887247085571, val: 0.5122919678688049\n",
      "train_loss: 0.4854153096675873, val: 0.46783891320228577\n",
      "train_loss: 0.4845409691333771, val: 0.46774840354919434\n",
      "train_loss: 0.48412227630615234, val: 0.46795639395713806\n",
      "train_loss: 0.483845591545105, val: 0.4681245982646942\n",
      "train_loss: 0.4836212396621704, val: 0.4682677686214447\n",
      "train_loss: 0.48341578245162964, val: 0.46838513016700745\n",
      "train_loss: 0.4832383692264557, val: 0.4684377908706665\n",
      "train_loss: 0.48307663202285767, val: 0.4685439467430115\n",
      "train_loss: 0.48292580246925354, val: 0.4685368239879608\n"
     ]
    },
    {
     "name": "stderr",
     "output_type": "stream",
     "text": [
      "\u001b[32m[I 2022-10-04 20:09:37,344]\u001b[0m Trial 51 finished with values: [0.4684969186782837, 0.8377777777777777] and parameters: {'lr': 0.0009464188231493365, 'n_layer': 1, 'h0': 30, 'act0': 'None'}. \u001b[0m\n"
     ]
    },
    {
     "name": "stdout",
     "output_type": "stream",
     "text": [
      "Dictionary: \n",
      "0:  {'precision': 0.8149882903981265, 'recall': 0.8385542168674699, 'f1-score': 0.8266033254156769, 'support': 415}\n",
      "1:  {'precision': 0.8583509513742071, 'recall': 0.8371134020618557, 'f1-score': 0.8475991649269311, 'support': 485}\n",
      "acc:  0.8377777777777777\n",
      "train_loss: 0.6010977029800415, val: 0.5058334469795227\n",
      "train_loss: 0.48727598786354065, val: 0.46383386850357056\n",
      "train_loss: 0.47949305176734924, val: 0.45953264832496643\n",
      "train_loss: 0.4691977798938751, val: 0.4669893980026245\n",
      "train_loss: 0.4562009274959564, val: 0.450554758310318\n",
      "train_loss: 0.4460615813732147, val: 0.4394131600856781\n",
      "train_loss: 0.43803244829177856, val: 0.44685569405555725\n",
      "train_loss: 0.4353734254837036, val: 0.4321683645248413\n",
      "train_loss: 0.4305119216442108, val: 0.42227238416671753\n",
      "train_loss: 0.42879167199134827, val: 0.42345741391181946\n"
     ]
    },
    {
     "name": "stderr",
     "output_type": "stream",
     "text": [
      "\u001b[32m[I 2022-10-04 20:14:17,221]\u001b[0m Trial 52 finished with values: [0.41986918449401855, 0.8866666666666667] and parameters: {'lr': 0.00047770943655719436, 'n_layer': 3, 'h0': 84, 'act0': 'Sig', 'h1': 157, 'act1': 'None', 'h2': 102, 'act2': 'None'}. \u001b[0m\n"
     ]
    },
    {
     "name": "stdout",
     "output_type": "stream",
     "text": [
      "Dictionary: \n",
      "0:  {'precision': 0.819672131147541, 'recall': 0.9333333333333333, 'f1-score': 0.8728179551122195, 'support': 375}\n",
      "1:  {'precision': 0.9471458773784355, 'recall': 0.8533333333333334, 'f1-score': 0.8977955911823647, 'support': 525}\n",
      "acc:  0.8866666666666667\n",
      "train_loss: 0.687752366065979, val: 0.6665017604827881\n",
      "train_loss: 0.5358125567436218, val: 0.5240965485572815\n",
      "train_loss: 0.5030316114425659, val: 0.4941897988319397\n",
      "train_loss: 0.4928159713745117, val: 0.4838455617427826\n",
      "train_loss: 0.48821452260017395, val: 0.4787783622741699\n",
      "train_loss: 0.485647588968277, val: 0.47578784823417664\n",
      "train_loss: 0.4840048849582672, val: 0.47380682826042175\n",
      "train_loss: 0.4828466475009918, val: 0.4723888039588928\n",
      "train_loss: 0.48196861147880554, val: 0.47131386399269104\n",
      "train_loss: 0.4812614321708679, val: 0.47045984864234924\n"
     ]
    },
    {
     "name": "stderr",
     "output_type": "stream",
     "text": [
      "\u001b[32m[I 2022-10-04 20:17:22,396]\u001b[0m Trial 53 finished with values: [0.46981823444366455, 0.8388888888888889] and parameters: {'lr': 2.9400528505956917e-05, 'n_layer': 1, 'h0': 182, 'act0': 'Tanh'}. \u001b[0m\n"
     ]
    },
    {
     "name": "stdout",
     "output_type": "stream",
     "text": [
      "Dictionary: \n",
      "0:  {'precision': 0.8266978922716628, 'recall': 0.8325471698113207, 'f1-score': 0.8296122209165687, 'support': 424}\n",
      "1:  {'precision': 0.8498942917547568, 'recall': 0.8445378151260504, 'f1-score': 0.8472075869336143, 'support': 476}\n",
      "acc:  0.8388888888888889\n",
      "train_loss: 0.5738115906715393, val: 0.4754919409751892\n",
      "train_loss: 0.43356335163116455, val: 0.42289817333221436\n",
      "train_loss: 0.4287245571613312, val: 0.42884770035743713\n",
      "train_loss: 0.4232881963253021, val: 0.4374314248561859\n",
      "train_loss: 0.42257222533226013, val: 0.44622188806533813\n",
      "train_loss: 0.42248934507369995, val: 0.4445679783821106\n",
      "train_loss: 0.4330070912837982, val: 0.43971604108810425\n",
      "train_loss: 0.4268374443054199, val: 0.4421699047088623\n",
      "train_loss: 0.421622097492218, val: 0.4323139488697052\n",
      "train_loss: 0.4186961054801941, val: 0.4363963305950165\n"
     ]
    },
    {
     "name": "stderr",
     "output_type": "stream",
     "text": [
      "\u001b[32m[I 2022-10-04 20:21:11,983]\u001b[0m Trial 54 finished with values: [0.42193228006362915, 0.8888888888888888] and parameters: {'lr': 0.0006603616584406035, 'n_layer': 2, 'h0': 20, 'act0': 'ReLU', 'h1': 30, 'act1': 'None'}. \u001b[0m\n"
     ]
    },
    {
     "name": "stdout",
     "output_type": "stream",
     "text": [
      "Dictionary: \n",
      "0:  {'precision': 0.8641686182669789, 'recall': 0.8978102189781022, 'f1-score': 0.8806682577565632, 'support': 411}\n",
      "1:  {'precision': 0.9112050739957717, 'recall': 0.8813905930470347, 'f1-score': 0.8960498960498962, 'support': 489}\n",
      "acc:  0.8888888888888888\n",
      "train_loss: 0.6294353008270264, val: 0.5541796684265137\n",
      "train_loss: 0.4845353364944458, val: 0.4695206880569458\n",
      "train_loss: 0.45514994859695435, val: 0.45060619711875916\n",
      "train_loss: 0.4398486316204071, val: 0.4308781325817108\n",
      "train_loss: 0.43185216188430786, val: 0.4244382977485657\n",
      "train_loss: 0.42854663729667664, val: 0.4219435453414917\n",
      "train_loss: 0.4259718954563141, val: 0.42229336500167847\n",
      "train_loss: 0.424060195684433, val: 0.42345181107521057\n",
      "train_loss: 0.4225606620311737, val: 0.4251020550727844\n",
      "train_loss: 0.4212641417980194, val: 0.42703887820243835\n"
     ]
    },
    {
     "name": "stderr",
     "output_type": "stream",
     "text": [
      "\u001b[32m[I 2022-10-04 20:25:09,118]\u001b[0m Trial 55 finished with values: [0.4285525381565094, 0.8733333333333333] and parameters: {'lr': 0.00040777626034480067, 'n_layer': 2, 'h0': 196, 'act0': 'Tanh', 'h1': 6, 'act1': 'Sig'}. \u001b[0m\n"
     ]
    },
    {
     "name": "stdout",
     "output_type": "stream",
     "text": [
      "Dictionary: \n",
      "0:  {'precision': 0.8641686182669789, 'recall': 0.8682352941176471, 'f1-score': 0.8661971830985915, 'support': 425}\n",
      "1:  {'precision': 0.8816067653276956, 'recall': 0.8778947368421053, 'f1-score': 0.879746835443038, 'support': 475}\n",
      "acc:  0.8733333333333333\n",
      "train_loss: 0.6265959739685059, val: 0.5428186058998108\n",
      "train_loss: 0.48547598719596863, val: 0.4700395464897156\n",
      "train_loss: 0.48397156596183777, val: 0.46902236342430115\n",
      "train_loss: 0.48346805572509766, val: 0.46885421872138977\n",
      "train_loss: 0.48319247364997864, val: 0.46889445185661316\n",
      "train_loss: 0.48300063610076904, val: 0.46891823410987854\n",
      "train_loss: 0.482848197221756, val: 0.46889761090278625\n",
      "train_loss: 0.4827127456665039, val: 0.4688454568386078\n",
      "train_loss: 0.4825923442840576, val: 0.46880942583084106\n",
      "train_loss: 0.4824790954589844, val: 0.46876370906829834\n"
     ]
    },
    {
     "name": "stderr",
     "output_type": "stream",
     "text": [
      "\u001b[32m[I 2022-10-04 20:28:04,233]\u001b[0m Trial 56 finished with values: [0.46873313188552856, 0.8388888888888889] and parameters: {'lr': 0.0006403818861132713, 'n_layer': 1, 'h0': 30, 'act0': 'None'}. \u001b[0m\n"
     ]
    },
    {
     "name": "stdout",
     "output_type": "stream",
     "text": [
      "Dictionary: \n",
      "0:  {'precision': 0.8173302107728337, 'recall': 0.8389423076923077, 'f1-score': 0.8279952550415185, 'support': 416}\n",
      "1:  {'precision': 0.8583509513742071, 'recall': 0.8388429752066116, 'f1-score': 0.8484848484848484, 'support': 484}\n",
      "acc:  0.8388888888888889\n",
      "train_loss: 0.6750513315200806, val: 0.6443237662315369\n",
      "train_loss: 0.48543819785118103, val: 0.47372281551361084\n",
      "train_loss: 0.482312947511673, val: 0.470347136259079\n",
      "train_loss: 0.48155370354652405, val: 0.469454824924469\n",
      "train_loss: 0.4811447560787201, val: 0.46901941299438477\n",
      "train_loss: 0.4806526303291321, val: 0.4685419797897339\n",
      "train_loss: 0.4788370430469513, val: 0.466850608587265\n",
      "train_loss: 0.4663928747177124, val: 0.4593583941459656\n",
      "train_loss: 0.4571135938167572, val: 0.45452722907066345\n",
      "train_loss: 0.45304256677627563, val: 0.4510548412799835\n"
     ]
    },
    {
     "name": "stderr",
     "output_type": "stream",
     "text": [
      "\u001b[32m[I 2022-10-04 20:31:55,569]\u001b[0m Trial 57 finished with values: [0.44165921211242676, 0.8644444444444445] and parameters: {'lr': 0.00012357003555007779, 'n_layer': 2, 'h0': 71, 'act0': 'None', 'h1': 48, 'act1': 'Sig'}. \u001b[0m\n"
     ]
    },
    {
     "name": "stdout",
     "output_type": "stream",
     "text": [
      "Dictionary: \n",
      "0:  {'precision': 0.8618266978922716, 'recall': 0.8538283062645011, 'f1-score': 0.8578088578088578, 'support': 431}\n",
      "1:  {'precision': 0.8668076109936576, 'recall': 0.8742004264392325, 'f1-score': 0.8704883227176221, 'support': 469}\n",
      "acc:  0.8644444444444445\n",
      "train_loss: 0.5982516407966614, val: 0.46966513991355896\n",
      "train_loss: 0.48527586460113525, val: 0.4704897105693817\n",
      "train_loss: 0.46043723821640015, val: 0.4653951823711395\n",
      "train_loss: 0.4446680247783661, val: 0.4573597311973572\n",
      "train_loss: 0.43342116475105286, val: 0.416364848613739\n",
      "train_loss: 0.432014524936676, val: 0.4189225137233734\n",
      "train_loss: 0.42942556738853455, val: 0.41964447498321533\n",
      "train_loss: 0.4289570748806, val: 0.41896048188209534\n",
      "train_loss: 0.4318370819091797, val: 0.4198354482650757\n",
      "train_loss: 0.4319715201854706, val: 0.42107316851615906\n"
     ]
    },
    {
     "name": "stderr",
     "output_type": "stream",
     "text": [
      "\u001b[32m[I 2022-10-04 20:37:40,118]\u001b[0m Trial 58 finished with values: [0.4154106676578522, 0.8966666666666666] and parameters: {'lr': 0.0009541806096665651, 'n_layer': 4, 'h0': 183, 'act0': 'Sig', 'h1': 174, 'act1': 'ReLU', 'h2': 64, 'act2': 'None', 'h3': 156, 'act3': 'Tanh'}. \u001b[0m\n"
     ]
    },
    {
     "name": "stdout",
     "output_type": "stream",
     "text": [
      "Dictionary: \n",
      "0:  {'precision': 0.8571428571428571, 'recall': 0.9195979899497487, 'f1-score': 0.8872727272727272, 'support': 398}\n",
      "1:  {'precision': 0.9323467230443975, 'recall': 0.8784860557768924, 'f1-score': 0.9046153846153846, 'support': 502}\n",
      "acc:  0.8966666666666666\n",
      "train_loss: 0.6158486008644104, val: 0.5286284685134888\n",
      "train_loss: 0.4933757483959198, val: 0.4683891236782074\n",
      "train_loss: 0.4865087568759918, val: 0.4684593677520752\n",
      "train_loss: 0.4827352464199066, val: 0.46356555819511414\n",
      "train_loss: 0.47607430815696716, val: 0.4800416827201843\n",
      "train_loss: 0.4738816022872925, val: 0.46908414363861084\n",
      "train_loss: 0.4610747992992401, val: 0.4520116150379181\n",
      "train_loss: 0.45848822593688965, val: 0.4514316916465759\n",
      "train_loss: 0.44724032282829285, val: 0.45643165707588196\n",
      "train_loss: 0.4448695182800293, val: 0.45536068081855774\n"
     ]
    },
    {
     "name": "stderr",
     "output_type": "stream",
     "text": [
      "\u001b[32m[I 2022-10-04 20:43:26,489]\u001b[0m Trial 59 finished with values: [0.4415488839149475, 0.8644444444444445] and parameters: {'lr': 0.0003735913237905113, 'n_layer': 4, 'h0': 103, 'act0': 'Sig', 'h1': 125, 'act1': 'Tanh', 'h2': 82, 'act2': 'Tanh', 'h3': 150, 'act3': 'Sig'}. \u001b[0m\n"
     ]
    },
    {
     "name": "stdout",
     "output_type": "stream",
     "text": [
      "Dictionary: \n",
      "0:  {'precision': 0.8992974238875878, 'recall': 0.8293736501079914, 'f1-score': 0.8629213483146067, 'support': 463}\n",
      "1:  {'precision': 0.8329809725158562, 'recall': 0.9016018306636155, 'f1-score': 0.8659340659340659, 'support': 437}\n",
      "acc:  0.8644444444444445\n",
      "train_loss: 0.51893550157547, val: 0.4771296977996826\n",
      "train_loss: 0.48719677329063416, val: 0.470885306596756\n",
      "train_loss: 0.4701184332370758, val: 0.451168417930603\n",
      "train_loss: 0.43580755591392517, val: 0.4243635833263397\n",
      "train_loss: 0.4355859160423279, val: 0.4191242456436157\n",
      "train_loss: 0.4312732219696045, val: 0.4127656817436218\n",
      "train_loss: 0.4286685883998871, val: 0.4169815182685852\n",
      "train_loss: 0.42965731024742126, val: 0.41306647658348083\n",
      "train_loss: 0.428483247756958, val: 0.41098546981811523\n",
      "train_loss: 0.42687854170799255, val: 0.41341349482536316\n"
     ]
    },
    {
     "name": "stderr",
     "output_type": "stream",
     "text": [
      "\u001b[32m[I 2022-10-04 20:47:22,253]\u001b[0m Trial 60 finished with values: [0.4172283113002777, 0.8944444444444445] and parameters: {'lr': 0.0006089073396428095, 'n_layer': 2, 'h0': 153, 'act0': 'Tanh', 'h1': 74, 'act1': 'None'}. \u001b[0m\n"
     ]
    },
    {
     "name": "stdout",
     "output_type": "stream",
     "text": [
      "Dictionary: \n",
      "0:  {'precision': 0.882903981264637, 'recall': 0.8933649289099526, 'f1-score': 0.8881036513545347, 'support': 422}\n",
      "1:  {'precision': 0.904862579281184, 'recall': 0.895397489539749, 'f1-score': 0.9001051524710831, 'support': 478}\n",
      "acc:  0.8944444444444445\n",
      "train_loss: 0.6339609026908875, val: 0.48306575417518616\n",
      "train_loss: 0.4827392101287842, val: 0.46180588006973267\n",
      "train_loss: 0.462906152009964, val: 0.4731796681880951\n",
      "train_loss: 0.4426978528499603, val: 0.47226372361183167\n",
      "train_loss: 0.43086889386177063, val: 0.4216631054878235\n",
      "train_loss: 0.43031662702560425, val: 0.42387184500694275\n",
      "train_loss: 0.4310545325279236, val: 0.42342641949653625\n",
      "train_loss: 0.42866840958595276, val: 0.4331156611442566\n",
      "train_loss: 0.43024805188179016, val: 0.43185198307037354\n",
      "train_loss: 0.4286992847919464, val: 0.4272893965244293\n"
     ]
    },
    {
     "name": "stderr",
     "output_type": "stream",
     "text": [
      "\u001b[32m[I 2022-10-04 20:52:13,447]\u001b[0m Trial 61 finished with values: [0.45565515756607056, 0.8511111111111112] and parameters: {'lr': 0.0009095066429240903, 'n_layer': 3, 'h0': 96, 'act0': 'Sig', 'h1': 125, 'act1': 'Sig', 'h2': 82, 'act2': 'Tanh'}. \u001b[0m\n"
     ]
    },
    {
     "name": "stdout",
     "output_type": "stream",
     "text": [
      "Dictionary: \n",
      "0:  {'precision': 0.9063231850117096, 'recall': 0.8045738045738046, 'f1-score': 0.8524229074889867, 'support': 481}\n",
      "1:  {'precision': 0.8012684989429175, 'recall': 0.9045346062052506, 'f1-score': 0.8497757847533632, 'support': 419}\n",
      "acc:  0.8511111111111112\n",
      "train_loss: 0.6841707229614258, val: 0.663226306438446\n",
      "train_loss: 0.4842280149459839, val: 0.46650803089141846\n",
      "train_loss: 0.4823179244995117, val: 0.4651394486427307\n",
      "train_loss: 0.48182016611099243, val: 0.4649042785167694\n",
      "train_loss: 0.48129531741142273, val: 0.4648548364639282\n",
      "train_loss: 0.4807032644748688, val: 0.464975506067276\n",
      "train_loss: 0.48009636998176575, val: 0.465283066034317\n",
      "train_loss: 0.4794628322124481, val: 0.46567004919052124\n",
      "train_loss: 0.47877195477485657, val: 0.4659738838672638\n",
      "train_loss: 0.4779812693595886, val: 0.46610137820243835\n"
     ]
    },
    {
     "name": "stderr",
     "output_type": "stream",
     "text": [
      "\u001b[32m[I 2022-10-04 20:56:09,727]\u001b[0m Trial 62 finished with values: [0.4659903943538666, 0.8422222222222222] and parameters: {'lr': 0.0001116721701724965, 'n_layer': 2, 'h0': 50, 'act0': 'Sig', 'h1': 180, 'act1': 'Tanh'}. \u001b[0m\n"
     ]
    },
    {
     "name": "stdout",
     "output_type": "stream",
     "text": [
      "Dictionary: \n",
      "0:  {'precision': 0.8477751756440282, 'recall': 0.8246013667425968, 'f1-score': 0.8360277136258661, 'support': 439}\n",
      "1:  {'precision': 0.8372093023255814, 'recall': 0.8590021691973969, 'f1-score': 0.84796573875803, 'support': 461}\n",
      "acc:  0.8422222222222222\n",
      "train_loss: 0.5486783981323242, val: 0.4736770987510681\n",
      "train_loss: 0.4297022223472595, val: 0.4176768958568573\n",
      "train_loss: 0.42423194646835327, val: 0.41541826725006104\n",
      "train_loss: 0.4212469160556793, val: 0.41507047414779663\n",
      "train_loss: 0.41925135254859924, val: 0.4152859151363373\n",
      "train_loss: 0.4171774983406067, val: 0.4168623983860016\n",
      "train_loss: 0.41525349020957947, val: 0.41657859086990356\n",
      "train_loss: 0.4136330187320709, val: 0.4166678488254547\n",
      "train_loss: 0.4124935567378998, val: 0.41704556345939636\n",
      "train_loss: 0.4111216962337494, val: 0.4181414544582367\n"
     ]
    },
    {
     "name": "stderr",
     "output_type": "stream",
     "text": [
      "\u001b[32m[I 2022-10-04 20:59:22,037]\u001b[0m Trial 63 finished with values: [0.4187529683113098, 0.8944444444444445] and parameters: {'lr': 0.000748018997853516, 'n_layer': 1, 'h0': 160, 'act0': 'ReLU'}. \u001b[0m\n"
     ]
    },
    {
     "name": "stdout",
     "output_type": "stream",
     "text": [
      "Dictionary: \n",
      "0:  {'precision': 0.8641686182669789, 'recall': 0.9088669950738916, 'f1-score': 0.885954381752701, 'support': 406}\n",
      "1:  {'precision': 0.9217758985200846, 'recall': 0.8825910931174089, 'f1-score': 0.9017580144777664, 'support': 494}\n",
      "acc:  0.8944444444444445\n",
      "train_loss: 0.545986533164978, val: 0.44224002957344055\n",
      "train_loss: 0.42958739399909973, val: 0.42041245102882385\n",
      "train_loss: 0.4230668842792511, val: 0.41995561122894287\n",
      "train_loss: 0.4229973256587982, val: 0.42211827635765076\n",
      "train_loss: 0.42275863885879517, val: 0.4207737445831299\n",
      "train_loss: 0.4217555522918701, val: 0.41771817207336426\n",
      "train_loss: 0.4125009775161743, val: 0.428571492433548\n",
      "train_loss: 0.4178308844566345, val: 0.4234110414981842\n",
      "train_loss: 0.41211551427841187, val: 0.4210962951183319\n",
      "train_loss: 0.40117841958999634, val: 0.4230436682701111\n"
     ]
    },
    {
     "name": "stderr",
     "output_type": "stream",
     "text": [
      "\u001b[32m[I 2022-10-04 21:05:13,707]\u001b[0m Trial 64 finished with values: [0.4113403558731079, 0.9] and parameters: {'lr': 0.0003068630511707475, 'n_layer': 4, 'h0': 160, 'act0': 'ReLU', 'h1': 44, 'act1': 'ReLU', 'h2': 25, 'act2': 'Sig', 'h3': 166, 'act3': 'ReLU'}. \u001b[0m\n"
     ]
    },
    {
     "name": "stdout",
     "output_type": "stream",
     "text": [
      "Dictionary: \n",
      "0:  {'precision': 0.8641686182669789, 'recall': 0.9201995012468828, 'f1-score': 0.8913043478260869, 'support': 401}\n",
      "1:  {'precision': 0.9323467230443975, 'recall': 0.8837675350701403, 'f1-score': 0.9074074074074074, 'support': 499}\n",
      "acc:  0.9\n",
      "train_loss: 0.6926608681678772, val: 0.6874769330024719\n",
      "train_loss: 0.4811646640300751, val: 0.4684262275695801\n",
      "train_loss: 0.4796937108039856, val: 0.46681347489356995\n",
      "train_loss: 0.47778135538101196, val: 0.46455222368240356\n",
      "train_loss: 0.4715689420700073, val: 0.46007105708122253\n",
      "train_loss: 0.45613619685173035, val: 0.45737311244010925\n",
      "train_loss: 0.45274195075035095, val: 0.4565151333808899\n",
      "train_loss: 0.44974666833877563, val: 0.4536498188972473\n",
      "train_loss: 0.4435445964336395, val: 0.44559481739997864\n",
      "train_loss: 0.4342118799686432, val: 0.44093936681747437\n"
     ]
    },
    {
     "name": "stderr",
     "output_type": "stream",
     "text": [
      "\u001b[32m[I 2022-10-04 21:10:59,503]\u001b[0m Trial 65 finished with values: [0.42826253175735474, 0.8855555555555555] and parameters: {'lr': 0.0001161017635730414, 'n_layer': 4, 'h0': 55, 'act0': 'Tanh', 'h1': 74, 'act1': 'Sig', 'h2': 54, 'act2': 'Sig', 'h3': 36, 'act3': 'ReLU'}. \u001b[0m\n"
     ]
    },
    {
     "name": "stdout",
     "output_type": "stream",
     "text": [
      "Dictionary: \n",
      "0:  {'precision': 0.8875878220140515, 'recall': 0.8732718894009217, 'f1-score': 0.8803716608594658, 'support': 434}\n",
      "1:  {'precision': 0.8837209302325582, 'recall': 0.8969957081545065, 'f1-score': 0.8903088391906284, 'support': 466}\n",
      "acc:  0.8855555555555555\n",
      "train_loss: 0.542795717716217, val: 0.4479938745498657\n",
      "train_loss: 0.43519842624664307, val: 0.4215160608291626\n",
      "train_loss: 0.4265134632587433, val: 0.4166898727416992\n",
      "train_loss: 0.4232075810432434, val: 0.4343334138393402\n",
      "train_loss: 0.4225239157676697, val: 0.41877615451812744\n",
      "train_loss: 0.4231860041618347, val: 0.4121265113353729\n",
      "train_loss: 0.4181680977344513, val: 0.41986075043678284\n",
      "train_loss: 0.416151225566864, val: 0.42743104696273804\n",
      "train_loss: 0.4152767062187195, val: 0.41578352451324463\n",
      "train_loss: 0.41358065605163574, val: 0.4231569468975067\n"
     ]
    },
    {
     "name": "stderr",
     "output_type": "stream",
     "text": [
      "\u001b[32m[I 2022-10-04 21:16:48,009]\u001b[0m Trial 66 finished with values: [0.41556549072265625, 0.8944444444444445] and parameters: {'lr': 0.0003068630511707475, 'n_layer': 4, 'h0': 160, 'act0': 'ReLU', 'h1': 44, 'act1': 'ReLU', 'h2': 25, 'act2': 'Sig', 'h3': 166, 'act3': 'ReLU'}. \u001b[0m\n"
     ]
    },
    {
     "name": "stdout",
     "output_type": "stream",
     "text": [
      "Dictionary: \n",
      "0:  {'precision': 0.8665105386416861, 'recall': 0.9068627450980392, 'f1-score': 0.8862275449101796, 'support': 408}\n",
      "1:  {'precision': 0.919661733615222, 'recall': 0.8841463414634146, 'f1-score': 0.9015544041450776, 'support': 492}\n",
      "acc:  0.8944444444444445\n",
      "train_loss: 0.6468542814254761, val: 0.5725781321525574\n",
      "train_loss: 0.48095643520355225, val: 0.4648059606552124\n",
      "train_loss: 0.46264272928237915, val: 0.4516002833843231\n",
      "train_loss: 0.4416816830635071, val: 0.43374186754226685\n",
      "train_loss: 0.4311577081680298, val: 0.4231607913970947\n",
      "train_loss: 0.4288592040538788, val: 0.4205698072910309\n",
      "train_loss: 0.42765775322914124, val: 0.41904157400131226\n",
      "train_loss: 0.4267725944519043, val: 0.4179973900318146\n",
      "train_loss: 0.4260425865650177, val: 0.4172176420688629\n",
      "train_loss: 0.42537882924079895, val: 0.4167022407054901\n"
     ]
    },
    {
     "name": "stderr",
     "output_type": "stream",
     "text": [
      "\u001b[32m[I 2022-10-04 21:19:53,433]\u001b[0m Trial 67 finished with values: [0.41652411222457886, 0.9] and parameters: {'lr': 0.0009214538113064831, 'n_layer': 1, 'h0': 87, 'act0': 'Sig'}. \u001b[0m\n"
     ]
    },
    {
     "name": "stdout",
     "output_type": "stream",
     "text": [
      "Dictionary: \n",
      "0:  {'precision': 0.8782201405152225, 'recall': 0.9079903147699758, 'f1-score': 0.8928571428571429, 'support': 413}\n",
      "1:  {'precision': 0.919661733615222, 'recall': 0.893223819301848, 'f1-score': 0.9062499999999999, 'support': 487}\n",
      "acc:  0.9\n",
      "train_loss: 0.5501804947853088, val: 0.484512597322464\n",
      "train_loss: 0.4823436141014099, val: 0.46284055709838867\n",
      "train_loss: 0.4588325321674347, val: 0.45256832242012024\n",
      "train_loss: 0.43641695380210876, val: 0.42256879806518555\n",
      "train_loss: 0.4305036664009094, val: 0.41595789790153503\n",
      "train_loss: 0.4280402660369873, val: 0.41447147727012634\n",
      "train_loss: 0.42654258012771606, val: 0.4139344096183777\n",
      "train_loss: 0.4255032241344452, val: 0.4137592315673828\n",
      "train_loss: 0.4245573580265045, val: 0.41389256715774536\n",
      "train_loss: 0.4237017333507538, val: 0.4143405258655548\n"
     ]
    },
    {
     "name": "stderr",
     "output_type": "stream",
     "text": [
      "\u001b[32m[I 2022-10-04 21:22:54,503]\u001b[0m Trial 68 finished with values: [0.4146997034549713, 0.8966666666666666] and parameters: {'lr': 0.0007042263999583108, 'n_layer': 1, 'h0': 192, 'act0': 'Tanh'}. \u001b[0m\n"
     ]
    },
    {
     "name": "stdout",
     "output_type": "stream",
     "text": [
      "Dictionary: \n",
      "0:  {'precision': 0.8665105386416861, 'recall': 0.9113300492610837, 'f1-score': 0.8883553421368546, 'support': 406}\n",
      "1:  {'precision': 0.9238900634249472, 'recall': 0.8846153846153846, 'f1-score': 0.9038262668045501, 'support': 494}\n",
      "acc:  0.8966666666666666\n",
      "train_loss: 0.5481767058372498, val: 0.4751751720905304\n",
      "train_loss: 0.4431082606315613, val: 0.45877760648727417\n",
      "train_loss: 0.43308225274086, val: 0.42768678069114685\n",
      "train_loss: 0.4330976605415344, val: 0.4204302430152893\n",
      "train_loss: 0.4303765594959259, val: 0.455089271068573\n",
      "train_loss: 0.42865002155303955, val: 0.42921343445777893\n",
      "train_loss: 0.4275374114513397, val: 0.42901554703712463\n",
      "train_loss: 0.42959460616111755, val: 0.4161151647567749\n",
      "train_loss: 0.4210713803768158, val: 0.42662951350212097\n",
      "train_loss: 0.4182230830192566, val: 0.4190407395362854\n"
     ]
    },
    {
     "name": "stderr",
     "output_type": "stream",
     "text": [
      "\u001b[32m[I 2022-10-04 21:26:59,862]\u001b[0m Trial 69 finished with values: [0.41780945658683777, 0.8933333333333333] and parameters: {'lr': 0.0007392928416486243, 'n_layer': 2, 'h0': 83, 'act0': 'Tanh', 'h1': 136, 'act1': 'Sig'}. \u001b[0m\n"
     ]
    },
    {
     "name": "stdout",
     "output_type": "stream",
     "text": [
      "Dictionary: \n",
      "0:  {'precision': 0.892271662763466, 'recall': 0.8839907192575406, 'f1-score': 0.888111888111888, 'support': 431}\n",
      "1:  {'precision': 0.8942917547568711, 'recall': 0.9019189765458422, 'f1-score': 0.8980891719745223, 'support': 469}\n",
      "acc:  0.8933333333333333\n",
      "train_loss: 0.6816132068634033, val: 0.6431355476379395\n",
      "train_loss: 0.48372188210487366, val: 0.46448367834091187\n",
      "train_loss: 0.4797474443912506, val: 0.46066606044769287\n",
      "train_loss: 0.46329036355018616, val: 0.4473440647125244\n",
      "train_loss: 0.4400300681591034, val: 0.41916409134864807\n",
      "train_loss: 0.43689486384391785, val: 0.42191463708877563\n",
      "train_loss: 0.43522459268569946, val: 0.4187072515487671\n",
      "train_loss: 0.43375566601753235, val: 0.4153425395488739\n",
      "train_loss: 0.43229201436042786, val: 0.43228259682655334\n",
      "train_loss: 0.43195295333862305, val: 0.417694091796875\n"
     ]
    },
    {
     "name": "stderr",
     "output_type": "stream",
     "text": [
      "\u001b[32m[I 2022-10-04 21:31:49,156]\u001b[0m Trial 70 finished with values: [0.42247119545936584, 0.8811111111111111] and parameters: {'lr': 0.00018059962422328502, 'n_layer': 3, 'h0': 21, 'act0': 'Sig', 'h1': 173, 'act1': 'ReLU', 'h2': 20, 'act2': 'Tanh'}. \u001b[0m\n"
     ]
    },
    {
     "name": "stdout",
     "output_type": "stream",
     "text": [
      "Dictionary: \n",
      "0:  {'precision': 0.8688524590163934, 'recall': 0.8791469194312796, 'f1-score': 0.8739693757361602, 'support': 422}\n",
      "1:  {'precision': 0.8921775898520085, 'recall': 0.8828451882845189, 'f1-score': 0.8874868559411146, 'support': 478}\n",
      "acc:  0.8811111111111111\n",
      "train_loss: 0.5237756967544556, val: 0.47399482131004333\n",
      "train_loss: 0.43971341848373413, val: 0.4360881745815277\n",
      "train_loss: 0.4351126253604889, val: 0.44882482290267944\n",
      "train_loss: 0.4341369867324829, val: 0.4141670763492584\n",
      "train_loss: 0.42848098278045654, val: 0.4130833148956299\n",
      "train_loss: 0.42677104473114014, val: 0.43310266733169556\n",
      "train_loss: 0.4182608425617218, val: 0.4139634668827057\n",
      "train_loss: 0.4114132225513458, val: 0.4172610640525818\n",
      "train_loss: 0.40827590227127075, val: 0.42830032110214233\n",
      "train_loss: 0.4000586271286011, val: 0.42921683192253113\n"
     ]
    },
    {
     "name": "stderr",
     "output_type": "stream",
     "text": [
      "\u001b[32m[I 2022-10-04 21:35:50,179]\u001b[0m Trial 71 finished with values: [0.4415733218193054, 0.8677777777777778] and parameters: {'lr': 0.0009095066429240903, 'n_layer': 2, 'h0': 171, 'act0': 'Tanh', 'h1': 174, 'act1': 'Sig'}. \u001b[0m\n"
     ]
    },
    {
     "name": "stdout",
     "output_type": "stream",
     "text": [
      "Dictionary: \n",
      "0:  {'precision': 0.9437939110070258, 'recall': 0.8092369477911646, 'f1-score': 0.8713513513513513, 'support': 498}\n",
      "1:  {'precision': 0.7991543340380549, 'recall': 0.9402985074626866, 'f1-score': 0.8639999999999999, 'support': 402}\n",
      "acc:  0.8677777777777778\n",
      "train_loss: 0.6718081831932068, val: 0.6433299779891968\n",
      "train_loss: 0.5378140807151794, val: 0.5259746313095093\n",
      "train_loss: 0.5128312110900879, val: 0.502955973148346\n",
      "train_loss: 0.5027768015861511, val: 0.493125319480896\n",
      "train_loss: 0.4973655343055725, val: 0.4876517653465271\n",
      "train_loss: 0.49397948384284973, val: 0.4841385781764984\n",
      "train_loss: 0.49165764451026917, val: 0.48167499899864197\n",
      "train_loss: 0.48996326327323914, val: 0.4798409342765808\n",
      "train_loss: 0.4886719882488251, val: 0.4784165322780609\n",
      "train_loss: 0.4876527488231659, val: 0.47727489471435547\n"
     ]
    },
    {
     "name": "stderr",
     "output_type": "stream",
     "text": [
      "\u001b[32m[I 2022-10-04 21:37:59,097]\u001b[0m Trial 72 finished with values: [0.4764232933521271, 0.8377777777777777] and parameters: {'lr': 0.0009951764242949112, 'n_layer': 0}. \u001b[0m\n"
     ]
    },
    {
     "name": "stdout",
     "output_type": "stream",
     "text": [
      "Dictionary: \n",
      "0:  {'precision': 0.8243559718969555, 'recall': 0.8321513002364066, 'f1-score': 0.8282352941176472, 'support': 423}\n",
      "1:  {'precision': 0.8498942917547568, 'recall': 0.8427672955974843, 'f1-score': 0.8463157894736841, 'support': 477}\n",
      "acc:  0.8377777777777777\n",
      "train_loss: 0.5159891843795776, val: 0.4778750240802765\n",
      "train_loss: 0.4862973690032959, val: 0.46554526686668396\n",
      "train_loss: 0.46615514159202576, val: 0.4667699933052063\n",
      "train_loss: 0.4443218410015106, val: 0.4460919499397278\n",
      "train_loss: 0.4340049922466278, val: 0.45250973105430603\n",
      "train_loss: 0.43253758549690247, val: 0.41315758228302\n",
      "train_loss: 0.4294673204421997, val: 0.4168875217437744\n",
      "train_loss: 0.42954546213150024, val: 0.4179975688457489\n",
      "train_loss: 0.4257217347621918, val: 0.41714897751808167\n",
      "train_loss: 0.4283534586429596, val: 0.41539469361305237\n"
     ]
    },
    {
     "name": "stderr",
     "output_type": "stream",
     "text": [
      "\u001b[32m[I 2022-10-04 21:41:55,839]\u001b[0m Trial 73 finished with values: [0.4216127395629883, 0.8866666666666667] and parameters: {'lr': 0.0006089073396428095, 'n_layer': 2, 'h0': 139, 'act0': 'Tanh', 'h1': 107, 'act1': 'None'}. \u001b[0m\n"
     ]
    },
    {
     "name": "stdout",
     "output_type": "stream",
     "text": [
      "Dictionary: \n",
      "0:  {'precision': 0.8173302107728337, 'recall': 0.935656836461126, 'f1-score': 0.8725, 'support': 373}\n",
      "1:  {'precision': 0.9492600422832981, 'recall': 0.8519924098671727, 'f1-score': 0.898, 'support': 527}\n",
      "acc:  0.8866666666666667\n",
      "train_loss: 0.5608856678009033, val: 0.47117286920547485\n",
      "train_loss: 0.437511682510376, val: 0.44579771161079407\n",
      "train_loss: 0.42924755811691284, val: 0.4214392900466919\n",
      "train_loss: 0.4258425235748291, val: 0.42883455753326416\n",
      "train_loss: 0.4246002435684204, val: 0.4243606925010681\n",
      "train_loss: 0.42230919003486633, val: 0.419573575258255\n",
      "train_loss: 0.4173813760280609, val: 0.4209800064563751\n",
      "train_loss: 0.41905975341796875, val: 0.41892009973526\n",
      "train_loss: 0.4216366410255432, val: 0.43705061078071594\n",
      "train_loss: 0.4174233675003052, val: 0.41304606199264526\n"
     ]
    },
    {
     "name": "stderr",
     "output_type": "stream",
     "text": [
      "\u001b[32m[I 2022-10-04 21:47:37,963]\u001b[0m Trial 74 finished with values: [0.4148542284965515, 0.8977777777777778] and parameters: {'lr': 0.00010039909820137368, 'n_layer': 4, 'h0': 30, 'act0': 'ReLU', 'h1': 180, 'act1': 'Tanh', 'h2': 178, 'act2': 'Tanh', 'h3': 167, 'act3': 'Sig'}. \u001b[0m\n"
     ]
    },
    {
     "name": "stdout",
     "output_type": "stream",
     "text": [
      "Dictionary: \n",
      "0:  {'precision': 0.8805620608899297, 'recall': 0.9016786570743405, 'f1-score': 0.8909952606635071, 'support': 417}\n",
      "1:  {'precision': 0.9133192389006343, 'recall': 0.8944099378881988, 'f1-score': 0.9037656903765691, 'support': 483}\n",
      "acc:  0.8977777777777778\n",
      "train_loss: 0.6450334787368774, val: 0.56982421875\n",
      "train_loss: 0.4446108341217041, val: 0.436663955450058\n",
      "train_loss: 0.4308447539806366, val: 0.4250169098377228\n",
      "train_loss: 0.42642199993133545, val: 0.4209687411785126\n",
      "train_loss: 0.42430785298347473, val: 0.419483482837677\n",
      "train_loss: 0.42262527346611023, val: 0.41841650009155273\n",
      "train_loss: 0.42157211899757385, val: 0.4179782271385193\n",
      "train_loss: 0.420694500207901, val: 0.41781044006347656\n",
      "train_loss: 0.4198255240917206, val: 0.4181618392467499\n",
      "train_loss: 0.4190092086791992, val: 0.4182562828063965\n"
     ]
    },
    {
     "name": "stderr",
     "output_type": "stream",
     "text": [
      "\u001b[32m[I 2022-10-04 21:50:43,109]\u001b[0m Trial 75 finished with values: [0.4183698296546936, 0.89] and parameters: {'lr': 0.0006603616584406035, 'n_layer': 1, 'h0': 32, 'act0': 'ReLU'}. \u001b[0m\n"
     ]
    },
    {
     "name": "stdout",
     "output_type": "stream",
     "text": [
      "Dictionary: \n",
      "0:  {'precision': 0.8688524590163934, 'recall': 0.8961352657004831, 'f1-score': 0.882282996432818, 'support': 414}\n",
      "1:  {'precision': 0.9090909090909091, 'recall': 0.8847736625514403, 'f1-score': 0.8967674661105317, 'support': 486}\n",
      "acc:  0.89\n",
      "train_loss: 0.6187573075294495, val: 0.5158563852310181\n",
      "train_loss: 0.48606011271476746, val: 0.465307354927063\n",
      "train_loss: 0.480114221572876, val: 0.46113649010658264\n",
      "train_loss: 0.47191473841667175, val: 0.4585152268409729\n",
      "train_loss: 0.4577248990535736, val: 0.4602269232273102\n",
      "train_loss: 0.44493839144706726, val: 0.4872269928455353\n",
      "train_loss: 0.43517857789993286, val: 0.42103344202041626\n",
      "train_loss: 0.43032774329185486, val: 0.45179077982902527\n",
      "train_loss: 0.43019038438796997, val: 0.4438842833042145\n",
      "train_loss: 0.43075087666511536, val: 0.46593549847602844\n"
     ]
    },
    {
     "name": "stderr",
     "output_type": "stream",
     "text": [
      "\u001b[32m[I 2022-10-04 21:54:39,832]\u001b[0m Trial 76 finished with values: [0.46676215529441833, 0.84] and parameters: {'lr': 0.0005095384890608281, 'n_layer': 2, 'h0': 102, 'act0': 'Sig', 'h1': 152, 'act1': 'None'}. \u001b[0m\n"
     ]
    },
    {
     "name": "stdout",
     "output_type": "stream",
     "text": [
      "Dictionary: \n",
      "0:  {'precision': 0.9180327868852459, 'recall': 0.782435129740519, 'f1-score': 0.8448275862068966, 'support': 501}\n",
      "1:  {'precision': 0.7695560253699789, 'recall': 0.9122807017543859, 'f1-score': 0.834862385321101, 'support': 399}\n",
      "acc:  0.84\n",
      "train_loss: 0.6877434253692627, val: 0.6510334014892578\n",
      "train_loss: 0.4832833409309387, val: 0.46876251697540283\n",
      "train_loss: 0.4814102351665497, val: 0.4686604142189026\n",
      "train_loss: 0.4617260694503784, val: 0.4630718231201172\n",
      "train_loss: 0.4542350471019745, val: 0.45677536725997925\n",
      "train_loss: 0.43729138374328613, val: 0.4349992573261261\n",
      "train_loss: 0.4281545877456665, val: 0.4191681444644928\n",
      "train_loss: 0.4275563657283783, val: 0.4162208139896393\n",
      "train_loss: 0.4265027344226837, val: 0.4143555164337158\n",
      "train_loss: 0.4255533814430237, val: 0.4142332375049591\n"
     ]
    },
    {
     "name": "stderr",
     "output_type": "stream",
     "text": [
      "\u001b[32m[I 2022-10-04 22:00:22,695]\u001b[0m Trial 77 finished with values: [0.41419652104377747, 0.8977777777777778] and parameters: {'lr': 0.0001161017635730414, 'n_layer': 4, 'h0': 129, 'act0': 'None', 'h1': 48, 'act1': 'Sig', 'h2': 54, 'act2': 'Sig', 'h3': 197, 'act3': 'ReLU'}. \u001b[0m\n"
     ]
    },
    {
     "name": "stdout",
     "output_type": "stream",
     "text": [
      "Dictionary: \n",
      "0:  {'precision': 0.8618266978922716, 'recall': 0.9177057356608479, 'f1-score': 0.8888888888888888, 'support': 401}\n",
      "1:  {'precision': 0.9302325581395349, 'recall': 0.8817635270541082, 'f1-score': 0.9053497942386832, 'support': 499}\n",
      "acc:  0.8977777777777778\n",
      "train_loss: 0.5935683250427246, val: 0.5121825337409973\n",
      "train_loss: 0.481448233127594, val: 0.46597999334335327\n",
      "train_loss: 0.46977585554122925, val: 0.459842711687088\n",
      "train_loss: 0.4527387022972107, val: 0.45311662554740906\n",
      "train_loss: 0.44119691848754883, val: 0.44100338220596313\n",
      "train_loss: 0.4315434992313385, val: 0.4176948368549347\n",
      "train_loss: 0.4283377230167389, val: 0.41428229212760925\n",
      "train_loss: 0.427060067653656, val: 0.41376373171806335\n",
      "train_loss: 0.4261540472507477, val: 0.4138695001602173\n",
      "train_loss: 0.4253048598766327, val: 0.41429468989372253\n"
     ]
    },
    {
     "name": "stderr",
     "output_type": "stream",
     "text": [
      "\u001b[32m[I 2022-10-04 22:04:17,743]\u001b[0m Trial 78 finished with values: [0.4148591458797455, 0.8988888888888888] and parameters: {'lr': 0.00036773089457464085, 'n_layer': 2, 'h0': 95, 'act0': 'Tanh', 'h1': 6, 'act1': 'ReLU'}. \u001b[0m\n"
     ]
    },
    {
     "name": "stdout",
     "output_type": "stream",
     "text": [
      "Dictionary: \n",
      "0:  {'precision': 0.8594847775175644, 'recall': 0.9221105527638191, 'f1-score': 0.8896969696969698, 'support': 398}\n",
      "1:  {'precision': 0.9344608879492601, 'recall': 0.8804780876494024, 'f1-score': 0.9066666666666666, 'support': 502}\n",
      "acc:  0.8988888888888888\n",
      "train_loss: 0.5822229385375977, val: 0.47727370262145996\n",
      "train_loss: 0.43039390444755554, val: 0.41583019495010376\n",
      "train_loss: 0.4282119870185852, val: 0.4273727536201477\n",
      "train_loss: 0.42271485924720764, val: 0.4241945445537567\n",
      "train_loss: 0.42476871609687805, val: 0.4258376359939575\n",
      "train_loss: 0.421723335981369, val: 0.4212895333766937\n",
      "train_loss: 0.41810843348503113, val: 0.42201048135757446\n",
      "train_loss: 0.41722559928894043, val: 0.4250198006629944\n",
      "train_loss: 0.41472628712654114, val: 0.42235246300697327\n",
      "train_loss: 0.4118971824645996, val: 0.4259386658668518\n"
     ]
    },
    {
     "name": "stderr",
     "output_type": "stream",
     "text": [
      "\u001b[32m[I 2022-10-04 22:08:13,651]\u001b[0m Trial 79 finished with values: [0.4236317276954651, 0.8877777777777778] and parameters: {'lr': 0.0009464188231493365, 'n_layer': 2, 'h0': 34, 'act0': 'ReLU', 'h1': 42, 'act1': 'Sig'}. \u001b[0m\n"
     ]
    },
    {
     "name": "stdout",
     "output_type": "stream",
     "text": [
      "Dictionary: \n",
      "0:  {'precision': 0.8758782201405152, 'recall': 0.8862559241706162, 'f1-score': 0.8810365135453475, 'support': 422}\n",
      "1:  {'precision': 0.8985200845665962, 'recall': 0.8891213389121339, 'f1-score': 0.8937960042060987, 'support': 478}\n",
      "acc:  0.8877777777777778\n",
      "train_loss: 0.515699028968811, val: 0.4835575819015503\n",
      "train_loss: 0.48298513889312744, val: 0.46107396483421326\n",
      "train_loss: 0.45791685581207275, val: 0.4520595073699951\n",
      "train_loss: 0.4449046552181244, val: 0.43629077076911926\n",
      "train_loss: 0.43795105814933777, val: 0.419401079416275\n",
      "train_loss: 0.43479475378990173, val: 0.4186056852340698\n",
      "train_loss: 0.4304894208908081, val: 0.4187951982021332\n",
      "train_loss: 0.4247143268585205, val: 0.41816145181655884\n",
      "train_loss: 0.4183718264102936, val: 0.4186181128025055\n",
      "train_loss: 0.4040902554988861, val: 0.4249154329299927\n"
     ]
    },
    {
     "name": "stderr",
     "output_type": "stream",
     "text": [
      "\u001b[32m[I 2022-10-04 22:12:18,791]\u001b[0m Trial 80 finished with values: [0.415936142206192, 0.89] and parameters: {'lr': 0.0005917839278464145, 'n_layer': 2, 'h0': 127, 'act0': 'Tanh', 'h1': 141, 'act1': 'Tanh'}. \u001b[0m\n"
     ]
    },
    {
     "name": "stdout",
     "output_type": "stream",
     "text": [
      "Dictionary: \n",
      "0:  {'precision': 0.8852459016393442, 'recall': 0.883177570093458, 'f1-score': 0.8842105263157896, 'support': 428}\n",
      "1:  {'precision': 0.8942917547568711, 'recall': 0.8961864406779662, 'f1-score': 0.8952380952380953, 'support': 472}\n",
      "acc:  0.89\n",
      "train_loss: 0.5730718970298767, val: 0.4774792194366455\n",
      "train_loss: 0.4274759292602539, val: 0.4205949008464813\n",
      "train_loss: 0.42172151803970337, val: 0.4171694815158844\n",
      "train_loss: 0.41805216670036316, val: 0.41556593775749207\n",
      "train_loss: 0.4148607850074768, val: 0.41670548915863037\n",
      "train_loss: 0.41097399592399597, val: 0.41793808341026306\n",
      "train_loss: 0.40772995352745056, val: 0.42003676295280457\n",
      "train_loss: 0.40491983294487, val: 0.4215608537197113\n",
      "train_loss: 0.40055572986602783, val: 0.4227869510650635\n",
      "train_loss: 0.39453667402267456, val: 0.42413845658302307\n"
     ]
    },
    {
     "name": "stderr",
     "output_type": "stream",
     "text": [
      "\u001b[32m[I 2022-10-04 22:16:17,093]\u001b[0m Trial 81 finished with values: [0.4239804744720459, 0.8855555555555555] and parameters: {'lr': 0.0001204328848212082, 'n_layer': 2, 'h0': 196, 'act0': 'ReLU', 'h1': 127, 'act1': 'ReLU'}. \u001b[0m\n"
     ]
    },
    {
     "name": "stdout",
     "output_type": "stream",
     "text": [
      "Dictionary: \n",
      "0:  {'precision': 0.882903981264637, 'recall': 0.8767441860465116, 'f1-score': 0.8798133022170361, 'support': 430}\n",
      "1:  {'precision': 0.8879492600422833, 'recall': 0.8936170212765957, 'f1-score': 0.8907741251325556, 'support': 470}\n",
      "acc:  0.8855555555555555\n",
      "train_loss: 0.692190408706665, val: 0.6853689551353455\n",
      "train_loss: 0.486978143453598, val: 0.4654614329338074\n",
      "train_loss: 0.4852437674999237, val: 0.4657972455024719\n",
      "train_loss: 0.47289010882377625, val: 0.47387635707855225\n",
      "train_loss: 0.45238596200942993, val: 0.4649057686328888\n",
      "train_loss: 0.443875789642334, val: 0.42746612429618835\n",
      "train_loss: 0.44090932607650757, val: 0.4616052210330963\n",
      "train_loss: 0.43781188130378723, val: 0.44520804286003113\n",
      "train_loss: 0.43668869137763977, val: 0.4260261356830597\n",
      "train_loss: 0.4365396499633789, val: 0.45209965109825134\n"
     ]
    },
    {
     "name": "stderr",
     "output_type": "stream",
     "text": [
      "\u001b[32m[I 2022-10-04 22:21:57,963]\u001b[0m Trial 82 finished with values: [0.44403570890426636, 0.8644444444444445] and parameters: {'lr': 0.00010039909820137368, 'n_layer': 4, 'h0': 57, 'act0': 'Sig', 'h1': 163, 'act1': 'Tanh', 'h2': 26, 'act2': 'ReLU', 'h3': 150, 'act3': 'None'}. \u001b[0m\n"
     ]
    },
    {
     "name": "stdout",
     "output_type": "stream",
     "text": [
      "Dictionary: \n",
      "0:  {'precision': 0.8805620608899297, 'recall': 0.8411633109619687, 'f1-score': 0.8604118993135013, 'support': 447}\n",
      "1:  {'precision': 0.8498942917547568, 'recall': 0.8874172185430463, 'f1-score': 0.8682505399568035, 'support': 453}\n",
      "acc:  0.8644444444444445\n",
      "train_loss: 0.6734046936035156, val: 0.6625467538833618\n",
      "train_loss: 0.620015025138855, val: 0.6090906858444214\n",
      "train_loss: 0.5897089838981628, val: 0.5784726142883301\n",
      "train_loss: 0.5700443387031555, val: 0.559200644493103\n",
      "train_loss: 0.5561270117759705, val: 0.545823872089386\n",
      "train_loss: 0.5457673072814941, val: 0.5359393358230591\n",
      "train_loss: 0.5377853512763977, val: 0.5283153653144836\n",
      "train_loss: 0.531467854976654, val: 0.5222458839416504\n",
      "train_loss: 0.5263547301292419, val: 0.517294704914093\n",
      "train_loss: 0.522139847278595, val: 0.5131763219833374\n"
     ]
    },
    {
     "name": "stderr",
     "output_type": "stream",
     "text": [
      "\u001b[32m[I 2022-10-04 22:24:04,022]\u001b[0m Trial 83 finished with values: [0.5100197792053223, 0.8277777777777777] and parameters: {'lr': 0.00015868076159487093, 'n_layer': 0}. \u001b[0m\n"
     ]
    },
    {
     "name": "stdout",
     "output_type": "stream",
     "text": [
      "Dictionary: \n",
      "0:  {'precision': 0.8079625292740047, 'recall': 0.8253588516746412, 'f1-score': 0.8165680473372781, 'support': 418}\n",
      "1:  {'precision': 0.8456659619450317, 'recall': 0.8298755186721992, 'f1-score': 0.8376963350785341, 'support': 482}\n",
      "acc:  0.8277777777777777\n",
      "train_loss: 0.6583346724510193, val: 0.5540876984596252\n",
      "train_loss: 0.48257502913475037, val: 0.463450163602829\n",
      "train_loss: 0.47660499811172485, val: 0.4590280055999756\n",
      "train_loss: 0.4633118510246277, val: 0.46099165081977844\n",
      "train_loss: 0.44477006793022156, val: 0.4489108920097351\n",
      "train_loss: 0.4307505190372467, val: 0.4204555153846741\n",
      "train_loss: 0.4292735755443573, val: 0.41948002576828003\n",
      "train_loss: 0.42823997139930725, val: 0.4202474057674408\n",
      "train_loss: 0.4278588891029358, val: 0.4244759976863861\n",
      "train_loss: 0.4281679093837738, val: 0.4252385199069977\n"
     ]
    },
    {
     "name": "stderr",
     "output_type": "stream",
     "text": [
      "\u001b[32m[I 2022-10-04 22:27:58,632]\u001b[0m Trial 84 finished with values: [0.4198646545410156, 0.8877777777777778] and parameters: {'lr': 0.0006214115668302068, 'n_layer': 2, 'h0': 96, 'act0': 'Sig', 'h1': 174, 'act1': 'Sig'}. \u001b[0m\n"
     ]
    },
    {
     "name": "stdout",
     "output_type": "stream",
     "text": [
      "Dictionary: \n",
      "0:  {'precision': 0.8782201405152225, 'recall': 0.8844339622641509, 'f1-score': 0.881316098707403, 'support': 424}\n",
      "1:  {'precision': 0.8964059196617337, 'recall': 0.8907563025210085, 'f1-score': 0.8935721812434142, 'support': 476}\n",
      "acc:  0.8877777777777778\n",
      "train_loss: 0.5312120318412781, val: 0.4722270369529724\n",
      "train_loss: 0.48053911328315735, val: 0.45819157361984253\n",
      "train_loss: 0.45043256878852844, val: 0.45473039150238037\n",
      "train_loss: 0.43430429697036743, val: 0.42198121547698975\n",
      "train_loss: 0.42770931124687195, val: 0.4219997525215149\n",
      "train_loss: 0.423296183347702, val: 0.4256921708583832\n",
      "train_loss: 0.4214354157447815, val: 0.4242143929004669\n",
      "train_loss: 0.4154019355773926, val: 0.4247739315032959\n",
      "train_loss: 0.4124036431312561, val: 0.4267079532146454\n",
      "train_loss: 0.40932008624076843, val: 0.4238693118095398\n"
     ]
    },
    {
     "name": "stderr",
     "output_type": "stream",
     "text": [
      "\u001b[32m[I 2022-10-04 22:31:53,402]\u001b[0m Trial 85 finished with values: [0.4244726598262787, 0.8855555555555555] and parameters: {'lr': 0.0005114566558435785, 'n_layer': 2, 'h0': 103, 'act0': 'Tanh', 'h1': 81, 'act1': 'Tanh'}. \u001b[0m\n"
     ]
    },
    {
     "name": "stdout",
     "output_type": "stream",
     "text": [
      "Dictionary: \n",
      "0:  {'precision': 0.8758782201405152, 'recall': 0.8820754716981132, 'f1-score': 0.8789659224441833, 'support': 424}\n",
      "1:  {'precision': 0.8942917547568711, 'recall': 0.8886554621848739, 'f1-score': 0.8914646996838776, 'support': 476}\n",
      "acc:  0.8855555555555555\n",
      "train_loss: 0.5267387628555298, val: 0.46986493468284607\n",
      "train_loss: 0.4765315055847168, val: 0.4601975083351135\n",
      "train_loss: 0.43802908062934875, val: 0.43007341027259827\n",
      "train_loss: 0.4327443540096283, val: 0.42195069789886475\n",
      "train_loss: 0.43378350138664246, val: 0.4140212833881378\n",
      "train_loss: 0.43137454986572266, val: 0.4298158884048462\n",
      "train_loss: 0.42973971366882324, val: 0.4266587495803833\n",
      "train_loss: 0.42950305342674255, val: 0.4115624725818634\n",
      "train_loss: 0.42438313364982605, val: 0.4394237995147705\n",
      "train_loss: 0.42537882924079895, val: 0.4307098090648651\n"
     ]
    },
    {
     "name": "stderr",
     "output_type": "stream",
     "text": [
      "\u001b[32m[I 2022-10-04 22:35:47,015]\u001b[0m Trial 86 finished with values: [0.42240995168685913, 0.8811111111111111] and parameters: {'lr': 0.0009095066429240903, 'n_layer': 2, 'h0': 36, 'act0': 'Tanh', 'h1': 105, 'act1': 'Tanh'}. \u001b[0m\n"
     ]
    },
    {
     "name": "stdout",
     "output_type": "stream",
     "text": [
      "Dictionary: \n",
      "0:  {'precision': 0.882903981264637, 'recall': 0.868663594470046, 'f1-score': 0.8757259001161439, 'support': 434}\n",
      "1:  {'precision': 0.879492600422833, 'recall': 0.8927038626609443, 'f1-score': 0.8860489882854101, 'support': 466}\n",
      "acc:  0.8811111111111111\n",
      "train_loss: 0.5981715321540833, val: 0.4894598424434662\n",
      "train_loss: 0.48872873187065125, val: 0.46420738101005554\n",
      "train_loss: 0.481661319732666, val: 0.46154817938804626\n",
      "train_loss: 0.47236892580986023, val: 0.45294350385665894\n",
      "train_loss: 0.45652520656585693, val: 0.4787645936012268\n",
      "train_loss: 0.4444582164287567, val: 0.45050954818725586\n",
      "train_loss: 0.4409019351005554, val: 0.446877658367157\n",
      "train_loss: 0.4301754832267761, val: 0.4167279601097107\n",
      "train_loss: 0.4346105456352234, val: 0.4187217056751251\n",
      "train_loss: 0.4310014247894287, val: 0.4183553457260132\n"
     ]
    },
    {
     "name": "stderr",
     "output_type": "stream",
     "text": [
      "\u001b[32m[I 2022-10-04 22:41:12,789]\u001b[0m Trial 87 finished with values: [0.4282534420490265, 0.8855555555555555] and parameters: {'lr': 0.0006403818861132713, 'n_layer': 4, 'h0': 87, 'act0': 'Sig', 'h1': 19, 'act1': 'None', 'h2': 187, 'act2': 'None', 'h3': 114, 'act3': 'Sig'}. \u001b[0m\n"
     ]
    },
    {
     "name": "stdout",
     "output_type": "stream",
     "text": [
      "Dictionary: \n",
      "0:  {'precision': 0.8946135831381733, 'recall': 0.8681818181818182, 'f1-score': 0.8811995386389849, 'support': 440}\n",
      "1:  {'precision': 0.8773784355179705, 'recall': 0.9021739130434783, 'f1-score': 0.8896034297963558, 'support': 460}\n",
      "acc:  0.8855555555555555\n",
      "train_loss: 0.5479598641395569, val: 0.47506430745124817\n",
      "train_loss: 0.43780937790870667, val: 0.4251471757888794\n",
      "train_loss: 0.43273165822029114, val: 0.441940039396286\n",
      "train_loss: 0.431790828704834, val: 0.4312989115715027\n",
      "train_loss: 0.42830607295036316, val: 0.46261394023895264\n",
      "train_loss: 0.4285087287425995, val: 0.45591309666633606\n",
      "train_loss: 0.4307560324668884, val: 0.45590940117836\n",
      "train_loss: 0.42645928263664246, val: 0.4158300757408142\n",
      "train_loss: 0.4275420308113098, val: 0.4293782413005829\n",
      "train_loss: 0.4265576899051666, val: 0.4277452230453491\n"
     ]
    },
    {
     "name": "stderr",
     "output_type": "stream",
     "text": [
      "\u001b[32m[I 2022-10-04 22:46:47,408]\u001b[0m Trial 88 finished with values: [0.4196491837501526, 0.8933333333333333] and parameters: {'lr': 0.00044064535062404107, 'n_layer': 4, 'h0': 192, 'act0': 'Tanh', 'h1': 18, 'act1': 'ReLU', 'h2': 84, 'act2': 'Sig', 'h3': 51, 'act3': 'None'}. \u001b[0m\n"
     ]
    },
    {
     "name": "stdout",
     "output_type": "stream",
     "text": [
      "Dictionary: \n",
      "0:  {'precision': 0.8782201405152225, 'recall': 0.8949880668257757, 'f1-score': 0.8865248226950355, 'support': 419}\n",
      "1:  {'precision': 0.9069767441860465, 'recall': 0.8918918918918919, 'f1-score': 0.8993710691823898, 'support': 481}\n",
      "acc:  0.8933333333333333\n",
      "train_loss: 0.49242687225341797, val: 0.4342285692691803\n",
      "train_loss: 0.43278899788856506, val: 0.4226946532726288\n",
      "train_loss: 0.42524608969688416, val: 0.43342047929763794\n",
      "train_loss: 0.4242464005947113, val: 0.4221455454826355\n",
      "train_loss: 0.4229336082935333, val: 0.42592746019363403\n",
      "train_loss: 0.4197789430618286, val: 0.41781723499298096\n",
      "train_loss: 0.4180610775947571, val: 0.41363486647605896\n",
      "train_loss: 0.415381520986557, val: 0.41753509640693665\n",
      "train_loss: 0.4151374101638794, val: 0.41821035742759705\n",
      "train_loss: 0.41568607091903687, val: 0.4265397787094116\n"
     ]
    },
    {
     "name": "stderr",
     "output_type": "stream",
     "text": [
      "\u001b[32m[I 2022-10-04 22:51:26,636]\u001b[0m Trial 89 finished with values: [0.4298320710659027, 0.8811111111111111] and parameters: {'lr': 0.0006214115668302068, 'n_layer': 3, 'h0': 80, 'act0': 'ReLU', 'h1': 19, 'act1': 'None', 'h2': 194, 'act2': 'None'}. \u001b[0m\n"
     ]
    },
    {
     "name": "stdout",
     "output_type": "stream",
     "text": [
      "Dictionary: \n",
      "0:  {'precision': 0.8594847775175644, 'recall': 0.8864734299516909, 'f1-score': 0.8727705112960761, 'support': 414}\n",
      "1:  {'precision': 0.9006342494714588, 'recall': 0.8765432098765432, 'f1-score': 0.8884254431699687, 'support': 486}\n",
      "acc:  0.8811111111111111\n",
      "train_loss: 0.6412675380706787, val: 0.5674716830253601\n",
      "train_loss: 0.48532962799072266, val: 0.46885946393013\n",
      "train_loss: 0.48390305042266846, val: 0.4683293402194977\n",
      "train_loss: 0.48350396752357483, val: 0.4686020612716675\n",
      "train_loss: 0.4833027124404907, val: 0.46888378262519836\n",
      "train_loss: 0.4831753373146057, val: 0.4690417945384979\n",
      "train_loss: 0.4830693304538727, val: 0.46911534667015076\n",
      "train_loss: 0.48296788334846497, val: 0.4691275358200073\n",
      "train_loss: 0.48285984992980957, val: 0.4690857529640198\n",
      "train_loss: 0.4827427268028259, val: 0.46900326013565063\n"
     ]
    },
    {
     "name": "stderr",
     "output_type": "stream",
     "text": [
      "\u001b[32m[I 2022-10-04 22:55:17,691]\u001b[0m Trial 90 finished with values: [0.4689245820045471, 0.8366666666666667] and parameters: {'lr': 0.0006089073396428095, 'n_layer': 2, 'h0': 1, 'act0': 'Tanh', 'h1': 75, 'act1': 'None'}. \u001b[0m\n"
     ]
    },
    {
     "name": "stdout",
     "output_type": "stream",
     "text": [
      "Dictionary: \n",
      "0:  {'precision': 0.810304449648712, 'recall': 0.8398058252427184, 'f1-score': 0.8247914183551848, 'support': 412}\n",
      "1:  {'precision': 0.8604651162790697, 'recall': 0.8340163934426229, 'f1-score': 0.8470343392299688, 'support': 488}\n",
      "acc:  0.8366666666666667\n",
      "train_loss: 0.6138190031051636, val: 0.5137123465538025\n",
      "train_loss: 0.43307143449783325, val: 0.42258763313293457\n",
      "train_loss: 0.4278213381767273, val: 0.41617247462272644\n",
      "train_loss: 0.42379510402679443, val: 0.4152880012989044\n",
      "train_loss: 0.4237960875034332, val: 0.4148920774459839\n",
      "train_loss: 0.4235609173774719, val: 0.4209482669830322\n",
      "train_loss: 0.4248266816139221, val: 0.4379734992980957\n",
      "train_loss: 0.4219244122505188, val: 0.42646217346191406\n",
      "train_loss: 0.42451149225234985, val: 0.4278526306152344\n",
      "train_loss: 0.4170653522014618, val: 0.42709508538246155\n"
     ]
    },
    {
     "name": "stderr",
     "output_type": "stream",
     "text": [
      "\u001b[32m[I 2022-10-04 23:00:48,118]\u001b[0m Trial 91 finished with values: [0.42526158690452576, 0.8822222222222222] and parameters: {'lr': 0.0001161017635730414, 'n_layer': 4, 'h0': 30, 'act0': 'None', 'h1': 74, 'act1': 'ReLU', 'h2': 108, 'act2': 'None', 'h3': 36, 'act3': 'Sig'}. \u001b[0m\n"
     ]
    },
    {
     "name": "stdout",
     "output_type": "stream",
     "text": [
      "Dictionary: \n",
      "0:  {'precision': 0.8454332552693209, 'recall': 0.9002493765586035, 'f1-score': 0.8719806763285025, 'support': 401}\n",
      "1:  {'precision': 0.9154334038054969, 'recall': 0.8677354709418837, 'f1-score': 0.8909465020576133, 'support': 499}\n",
      "acc:  0.8822222222222222\n",
      "train_loss: 0.6794517636299133, val: 0.6363801956176758\n",
      "train_loss: 0.48501071333885193, val: 0.4733720123767853\n",
      "train_loss: 0.4820840358734131, val: 0.4698391854763031\n",
      "train_loss: 0.48135673999786377, val: 0.46909767389297485\n",
      "train_loss: 0.4810383915901184, val: 0.46887633204460144\n",
      "train_loss: 0.4808664917945862, val: 0.4687877893447876\n",
      "train_loss: 0.48076122999191284, val: 0.46874067187309265\n",
      "train_loss: 0.4806918501853943, val: 0.46870824694633484\n",
      "train_loss: 0.4806417226791382, val: 0.46868741512298584\n",
      "train_loss: 0.48060357570648193, val: 0.4686729311943054\n"
     ]
    },
    {
     "name": "stderr",
     "output_type": "stream",
     "text": [
      "\u001b[32m[I 2022-10-04 23:04:32,980]\u001b[0m Trial 92 finished with values: [0.46866145730018616, 0.8344444444444444] and parameters: {'lr': 7.853540524212677e-05, 'n_layer': 2, 'h0': 98, 'act0': 'None', 'h1': 6, 'act1': 'None'}. \u001b[0m\n"
     ]
    },
    {
     "name": "stdout",
     "output_type": "stream",
     "text": [
      "Dictionary: \n",
      "0:  {'precision': 0.8079625292740047, 'recall': 0.837378640776699, 'f1-score': 0.8224076281287247, 'support': 412}\n",
      "1:  {'precision': 0.8583509513742071, 'recall': 0.8319672131147541, 'f1-score': 0.8449531737773153, 'support': 488}\n",
      "acc:  0.8344444444444444\n",
      "train_loss: 0.624553918838501, val: 0.5295316576957703\n",
      "train_loss: 0.43120265007019043, val: 0.4213721454143524\n",
      "train_loss: 0.42484211921691895, val: 0.4213418960571289\n",
      "train_loss: 0.42205917835235596, val: 0.4215626120567322\n",
      "train_loss: 0.42084527015686035, val: 0.4192154109477997\n",
      "train_loss: 0.4193589389324188, val: 0.41858479380607605\n",
      "train_loss: 0.41790837049484253, val: 0.418954074382782\n",
      "train_loss: 0.4147915244102478, val: 0.41867297887802124\n",
      "train_loss: 0.413333922624588, val: 0.4206126034259796\n",
      "train_loss: 0.41140007972717285, val: 0.4188481867313385\n"
     ]
    },
    {
     "name": "stderr",
     "output_type": "stream",
     "text": [
      "\u001b[32m[I 2022-10-04 23:08:31,198]\u001b[0m Trial 93 finished with values: [0.41854676604270935, 0.8944444444444445] and parameters: {'lr': 0.00043504867723845184, 'n_layer': 2, 'h0': 50, 'act0': 'ReLU', 'h1': 43, 'act1': 'Sig'}. \u001b[0m\n"
     ]
    },
    {
     "name": "stdout",
     "output_type": "stream",
     "text": [
      "Dictionary: \n",
      "0:  {'precision': 0.8665105386416861, 'recall': 0.9068627450980392, 'f1-score': 0.8862275449101796, 'support': 408}\n",
      "1:  {'precision': 0.919661733615222, 'recall': 0.8841463414634146, 'f1-score': 0.9015544041450776, 'support': 492}\n",
      "acc:  0.8944444444444445\n",
      "train_loss: 0.6759631633758545, val: 0.6461054086685181\n",
      "train_loss: 0.5376542806625366, val: 0.5260583758354187\n",
      "train_loss: 0.5127575397491455, val: 0.5029178261756897\n",
      "train_loss: 0.5027294158935547, val: 0.49308958649635315\n",
      "train_loss: 0.4973318874835968, val: 0.48762503266334534\n",
      "train_loss: 0.4939548969268799, val: 0.48411816358566284\n",
      "train_loss: 0.49163880944252014, val: 0.48166006803512573\n",
      "train_loss: 0.4899493157863617, val: 0.47982990741729736\n",
      "train_loss: 0.4886608123779297, val: 0.4784086346626282\n",
      "train_loss: 0.487644225358963, val: 0.4772695004940033\n"
     ]
    },
    {
     "name": "stderr",
     "output_type": "stream",
     "text": [
      "\u001b[32m[I 2022-10-04 23:10:39,377]\u001b[0m Trial 94 finished with values: [0.4764193594455719, 0.8388888888888889] and parameters: {'lr': 0.0009957362327623243, 'n_layer': 0}. \u001b[0m\n"
     ]
    },
    {
     "name": "stdout",
     "output_type": "stream",
     "text": [
      "Dictionary: \n",
      "0:  {'precision': 0.8243559718969555, 'recall': 0.8341232227488151, 'f1-score': 0.8292108362779741, 'support': 422}\n",
      "1:  {'precision': 0.8520084566596194, 'recall': 0.8430962343096234, 'f1-score': 0.8475289169295479, 'support': 478}\n",
      "acc:  0.8388888888888889\n",
      "train_loss: 0.6497823596000671, val: 0.5664991140365601\n",
      "train_loss: 0.4824930727481842, val: 0.46958568692207336\n",
      "train_loss: 0.4812217354774475, val: 0.4685000777244568\n",
      "train_loss: 0.4799499213695526, val: 0.46695569157600403\n",
      "train_loss: 0.4782048761844635, val: 0.46466130018234253\n",
      "train_loss: 0.47546133399009705, val: 0.4611431062221527\n",
      "train_loss: 0.4706090986728668, val: 0.455498069524765\n",
      "train_loss: 0.4609469473361969, val: 0.4490131735801697\n",
      "train_loss: 0.448199599981308, val: 0.4370666742324829\n",
      "train_loss: 0.437045693397522, val: 0.4220483899116516\n"
     ]
    },
    {
     "name": "stderr",
     "output_type": "stream",
     "text": [
      "\u001b[32m[I 2022-10-04 23:15:33,043]\u001b[0m Trial 95 finished with values: [0.4180203080177307, 0.8922222222222222] and parameters: {'lr': 0.0001161017635730414, 'n_layer': 3, 'h0': 153, 'act0': 'Tanh', 'h1': 19, 'act1': 'None', 'h2': 54, 'act2': 'Sig'}. \u001b[0m\n"
     ]
    },
    {
     "name": "stdout",
     "output_type": "stream",
     "text": [
      "Dictionary: \n",
      "0:  {'precision': 0.8243559718969555, 'recall': 0.9411764705882353, 'f1-score': 0.8789013732833958, 'support': 374}\n",
      "1:  {'precision': 0.9534883720930233, 'recall': 0.8574144486692015, 'f1-score': 0.9029029029029029, 'support': 526}\n",
      "acc:  0.8922222222222222\n",
      "train_loss: 0.6072940826416016, val: 0.502206563949585\n",
      "train_loss: 0.4856942892074585, val: 0.46518173813819885\n",
      "train_loss: 0.4788235127925873, val: 0.4602895975112915\n",
      "train_loss: 0.4677794575691223, val: 0.4602084159851074\n",
      "train_loss: 0.4506784975528717, val: 0.45814526081085205\n",
      "train_loss: 0.4377727806568146, val: 0.4636905789375305\n",
      "train_loss: 0.4309111535549164, val: 0.4182204604148865\n",
      "train_loss: 0.43094369769096375, val: 0.443029522895813\n",
      "train_loss: 0.4293768107891083, val: 0.4705032408237457\n",
      "train_loss: 0.4311024844646454, val: 0.46932345628738403\n"
     ]
    },
    {
     "name": "stderr",
     "output_type": "stream",
     "text": [
      "\u001b[32m[I 2022-10-04 23:19:29,707]\u001b[0m Trial 96 finished with values: [0.464969277381897, 0.8455555555555555] and parameters: {'lr': 0.0005723484645193116, 'n_layer': 2, 'h0': 96, 'act0': 'Sig', 'h1': 174, 'act1': 'Tanh'}. \u001b[0m\n"
     ]
    },
    {
     "name": "stdout",
     "output_type": "stream",
     "text": [
      "Dictionary: \n",
      "0:  {'precision': 0.9180327868852459, 'recall': 0.7903225806451613, 'f1-score': 0.8494041170097508, 'support': 496}\n",
      "1:  {'precision': 0.7801268498942917, 'recall': 0.9133663366336634, 'f1-score': 0.8415051311288484, 'support': 404}\n",
      "acc:  0.8455555555555555\n",
      "train_loss: 0.5236794352531433, val: 0.4717985689640045\n",
      "train_loss: 0.44580939412117004, val: 0.4268539249897003\n",
      "train_loss: 0.43849846720695496, val: 0.44917693734169006\n",
      "train_loss: 0.434685617685318, val: 0.44012629985809326\n",
      "train_loss: 0.4324679970741272, val: 0.46813875436782837\n",
      "train_loss: 0.43422234058380127, val: 0.4118705689907074\n",
      "train_loss: 0.4266083240509033, val: 0.440449982881546\n",
      "train_loss: 0.41565200686454773, val: 0.41653716564178467\n",
      "train_loss: 0.41381633281707764, val: 0.427681565284729\n",
      "train_loss: 0.4091809093952179, val: 0.41247525811195374\n"
     ]
    },
    {
     "name": "stderr",
     "output_type": "stream",
     "text": [
      "\u001b[32m[I 2022-10-04 23:25:09,019]\u001b[0m Trial 97 finished with values: [0.40915486216545105, 0.8977777777777778] and parameters: {'lr': 0.0006403818861132713, 'n_layer': 4, 'h0': 68, 'act0': 'Tanh', 'h1': 16, 'act1': 'ReLU', 'h2': 108, 'act2': 'None', 'h3': 114, 'act3': 'Sig'}. \u001b[0m\n"
     ]
    },
    {
     "name": "stdout",
     "output_type": "stream",
     "text": [
      "Dictionary: \n",
      "0:  {'precision': 0.8782201405152225, 'recall': 0.9036144578313253, 'f1-score': 0.8907363420427553, 'support': 415}\n",
      "1:  {'precision': 0.9154334038054969, 'recall': 0.8927835051546392, 'f1-score': 0.9039665970772442, 'support': 485}\n",
      "acc:  0.8977777777777778\n",
      "train_loss: 0.5217894315719604, val: 0.4828716516494751\n",
      "train_loss: 0.4586621820926666, val: 0.44698435068130493\n",
      "train_loss: 0.48637133836746216, val: 0.4377194344997406\n",
      "train_loss: 0.45292723178863525, val: 0.4837482273578644\n",
      "train_loss: 0.5007752180099487, val: 0.4752432405948639\n",
      "train_loss: 0.45145195722579956, val: 0.49218329787254333\n",
      "train_loss: 0.47830742597579956, val: 0.5046830773353577\n",
      "train_loss: 0.4758298099040985, val: 0.5477063655853271\n",
      "train_loss: 0.48655417561531067, val: 0.45036280155181885\n",
      "train_loss: 0.46356675028800964, val: 0.4423958361148834\n"
     ]
    },
    {
     "name": "stderr",
     "output_type": "stream",
     "text": [
      "\u001b[32m[I 2022-10-04 23:29:59,849]\u001b[0m Trial 98 finished with values: [0.5294646620750427, 0.7833333333333333] and parameters: {'lr': 0.0009095154697596905, 'n_layer': 3, 'h0': 81, 'act0': 'None', 'h1': 85, 'act1': 'Tanh', 'h2': 143, 'act2': 'ReLU'}. \u001b[0m\n"
     ]
    },
    {
     "name": "stdout",
     "output_type": "stream",
     "text": [
      "Dictionary: \n",
      "0:  {'precision': 0.9250585480093677, 'recall': 0.7078853046594982, 'f1-score': 0.802030456852792, 'support': 558}\n",
      "1:  {'precision': 0.6553911205073996, 'recall': 0.9064327485380117, 'f1-score': 0.7607361963190185, 'support': 342}\n",
      "acc:  0.7833333333333333\n",
      "train_loss: 0.5981940031051636, val: 0.48213595151901245\n",
      "train_loss: 0.4972841739654541, val: 0.4744846820831299\n",
      "train_loss: 0.5094097852706909, val: 0.5043189525604248\n",
      "train_loss: 0.5068246722221375, val: 0.6444099545478821\n",
      "train_loss: 0.5038586258888245, val: 0.4692107141017914\n",
      "train_loss: 0.5367031097412109, val: 0.5066942572593689\n",
      "train_loss: 0.5623738765716553, val: 0.5243619084358215\n",
      "train_loss: 0.5097315907478333, val: 0.47770217061042786\n",
      "train_loss: 0.5858602523803711, val: 0.47188735008239746\n",
      "train_loss: 0.4758930504322052, val: 0.46084997057914734\n"
     ]
    },
    {
     "name": "stderr",
     "output_type": "stream",
     "text": [
      "\u001b[32m[I 2022-10-04 23:35:40,822]\u001b[0m Trial 99 finished with values: [0.4560597240924835, 0.8511111111111112] and parameters: {'lr': 0.0009541806096665651, 'n_layer': 4, 'h0': 103, 'act0': 'Sig', 'h1': 81, 'act1': 'Tanh', 'h2': 101, 'act2': 'Tanh', 'h3': 76, 'act3': 'Tanh'}. \u001b[0m\n"
     ]
    },
    {
     "name": "stdout",
     "output_type": "stream",
     "text": [
      "Dictionary: \n",
      "0:  {'precision': 0.8079625292740047, 'recall': 0.8690176322418136, 'f1-score': 0.837378640776699, 'support': 397}\n",
      "1:  {'precision': 0.8900634249471459, 'recall': 0.8369781312127237, 'f1-score': 0.8627049180327868, 'support': 503}\n",
      "acc:  0.8511111111111112\n"
     ]
    }
   ],
   "source": [
    "study.optimize(objective, n_trials=100)"
   ]
  },
  {
   "cell_type": "code",
   "execution_count": 55,
   "id": "b1319d1c",
   "metadata": {
    "scrolled": true
   },
   "outputs": [
    {
     "name": "stdout",
     "output_type": "stream",
     "text": [
      "train_loss: 4.277599334716797, val: 0.6868425607681274\n",
      "train_loss: 4.13524055480957, val: 0.5518566370010376\n",
      "train_loss: 4.100137233734131, val: 0.5169991254806519\n",
      "train_loss: 4.084149360656738, val: 0.49888870120048523\n",
      "train_loss: 4.074610233306885, val: 0.48839136958122253\n",
      "train_loss: 4.069155693054199, val: 0.4829035997390747\n",
      "train_loss: 4.066078186035156, val: 0.4800942540168762\n",
      "train_loss: 4.064211368560791, val: 0.478567510843277\n",
      "train_loss: 4.062963485717773, val: 0.47766414284706116\n",
      "train_loss: 4.0620245933532715, val: 0.47707316279411316\n",
      "train_loss: 4.061261177062988, val: 0.47663113474845886\n",
      "train_loss: 4.060570240020752, val: 0.4762347936630249\n",
      "train_loss: 4.059876441955566, val: 0.4758002460002899\n",
      "train_loss: 4.059088706970215, val: 0.47523948550224304\n",
      "train_loss: 4.058108329772949, val: 0.4744347035884857\n"
     ]
    },
    {
     "name": "stderr",
     "output_type": "stream",
     "text": [
      "\u001b[32m[I 2022-10-06 11:15:04,852]\u001b[0m Trial 0 finished with values: [0.47336381673812866, 0.8244444444444444] and parameters: {'lr': 0.000355481169946747, 'l1': 0.6995474797824338, 'l2': 0.3372377904495491}. \u001b[0m\n"
     ]
    },
    {
     "name": "stdout",
     "output_type": "stream",
     "text": [
      "Dictionary: \n",
      "0:  {'precision': 0.786036036036036, 'recall': 0.8470873786407767, 'f1-score': 0.8154205607476634, 'support': 412}\n",
      "1:  {'precision': 0.8618421052631579, 'recall': 0.805327868852459, 'f1-score': 0.8326271186440677, 'support': 488}\n",
      "acc:  0.8244444444444444\n",
      "train_loss: 7.235816955566406, val: 0.6713352799415588\n",
      "train_loss: 7.0756635665893555, val: 0.52737957239151\n",
      "train_loss: 7.047057628631592, val: 0.4948306381702423\n",
      "train_loss: 7.0352911949157715, val: 0.482693076133728\n",
      "train_loss: 7.030776500701904, val: 0.4786647856235504\n",
      "train_loss: 7.028568267822266, val: 0.4770267605781555\n",
      "train_loss: 7.027138710021973, val: 0.47617724537849426\n",
      "train_loss: 7.025979042053223, val: 0.4756016433238983\n",
      "train_loss: 7.024833679199219, val: 0.4750709533691406\n",
      "train_loss: 7.023562431335449, val: 0.47443249821662903\n",
      "train_loss: 7.021958351135254, val: 0.47353729605674744\n",
      "train_loss: 7.019876956939697, val: 0.47220578789711\n",
      "train_loss: 7.017131805419922, val: 0.4702341556549072\n",
      "train_loss: 7.013665199279785, val: 0.4675174951553345\n",
      "train_loss: 7.009672164916992, val: 0.46433591842651367\n"
     ]
    },
    {
     "name": "stderr",
     "output_type": "stream",
     "text": [
      "\u001b[32m[I 2022-10-06 11:21:00,741]\u001b[0m Trial 1 finished with values: [0.4617030918598175, 0.8544444444444445] and parameters: {'lr': 0.0003275475010651305, 'l1': 0.8389377468761459, 'l2': 0.9897280359390435}. \u001b[0m\n"
     ]
    },
    {
     "name": "stdout",
     "output_type": "stream",
     "text": [
      "Dictionary: \n",
      "0:  {'precision': 0.8243243243243243, 'recall': 0.8735083532219571, 'f1-score': 0.8482039397450755, 'support': 419}\n",
      "1:  {'precision': 0.8837719298245614, 'recall': 0.8378378378378378, 'f1-score': 0.8601921024546424, 'support': 481}\n",
      "acc:  0.8544444444444445\n",
      "train_loss: 2.959054946899414, val: 0.5954825282096863\n",
      "train_loss: 2.78409481048584, val: 0.4767487645149231\n",
      "train_loss: 2.7796969413757324, val: 0.4754181504249573\n",
      "train_loss: 2.7779219150543213, val: 0.4752703011035919\n",
      "train_loss: 2.776163101196289, val: 0.4745858609676361\n",
      "train_loss: 2.7732763290405273, val: 0.4724465310573578\n",
      "train_loss: 2.76824688911438, val: 0.4677337408065796\n",
      "train_loss: 2.7610349655151367, val: 0.4599117338657379\n",
      "train_loss: 2.7514517307281494, val: 0.4498436450958252\n",
      "train_loss: 2.7413523197174072, val: 0.4401390552520752\n",
      "train_loss: 2.734982967376709, val: 0.43427541851997375\n",
      "train_loss: 2.7311244010925293, val: 0.43099841475486755\n",
      "train_loss: 2.7285592555999756, val: 0.4288979768753052\n",
      "train_loss: 2.726752996444702, val: 0.4276602566242218\n",
      "train_loss: 2.725450038909912, val: 0.42696863412857056\n"
     ]
    },
    {
     "name": "stderr",
     "output_type": "stream",
     "text": [
      "\u001b[32m[I 2022-10-06 11:26:58,186]\u001b[0m Trial 2 finished with values: [0.42665112018585205, 0.8833333333333333] and parameters: {'lr': 0.0007785004991933187, 'l1': 0.39072752195066135, 'l2': 0.04108479421869643}. \u001b[0m\n"
     ]
    },
    {
     "name": "stdout",
     "output_type": "stream",
     "text": [
      "Dictionary: \n",
      "0:  {'precision': 0.8603603603603603, 'recall': 0.8988235294117647, 'f1-score': 0.8791714614499425, 'support': 425}\n",
      "1:  {'precision': 0.9057017543859649, 'recall': 0.8694736842105263, 'f1-score': 0.887218045112782, 'support': 475}\n",
      "acc:  0.8833333333333333\n",
      "train_loss: 8.784549713134766, val: 0.690578043460846\n",
      "train_loss: 8.757667541503906, val: 0.6653839945793152\n",
      "train_loss: 8.722159385681152, val: 0.6307143568992615\n",
      "train_loss: 8.686222076416016, val: 0.5965140461921692\n",
      "train_loss: 8.659307479858398, val: 0.5710648894309998\n",
      "train_loss: 8.640884399414062, val: 0.5532882213592529\n",
      "train_loss: 8.627925872802734, val: 0.5403193831443787\n",
      "train_loss: 8.618281364440918, val: 0.5303259491920471\n",
      "train_loss: 8.610725402832031, val: 0.5223097801208496\n",
      "train_loss: 8.604608535766602, val: 0.5157082080841064\n",
      "train_loss: 8.599508285522461, val: 0.5101799368858337\n",
      "train_loss: 8.59521484375, val: 0.5055021047592163\n",
      "train_loss: 8.59153938293457, val: 0.5015221834182739\n",
      "train_loss: 8.58839225769043, val: 0.49812600016593933\n",
      "train_loss: 8.585712432861328, val: 0.49522459506988525\n"
     ]
    },
    {
     "name": "stderr",
     "output_type": "stream",
     "text": [
      "\u001b[32m[I 2022-10-06 11:36:19,573]\u001b[0m Trial 3 finished with values: [0.4929763674736023, 0.8177777777777778] and parameters: {'lr': 3.305213250561856e-05, 'l1': 0.8496870304401075, 'l2': 0.6924713145867758}. \u001b[0m\n"
     ]
    },
    {
     "name": "stdout",
     "output_type": "stream",
     "text": [
      "Dictionary: \n",
      "0:  {'precision': 0.7567567567567568, 'recall': 0.8571428571428571, 'f1-score': 0.8038277511961723, 'support': 392}\n",
      "1:  {'precision': 0.8771929824561403, 'recall': 0.7874015748031497, 'f1-score': 0.8298755186721992, 'support': 508}\n",
      "acc:  0.8177777777777778\n",
      "train_loss: 6.7002081871032715, val: 0.6545595526695251\n",
      "train_loss: 6.505465984344482, val: 0.48124417662620544\n",
      "train_loss: 6.498474597930908, val: 0.47639232873916626\n",
      "train_loss: 6.496326446533203, val: 0.47553661465644836\n",
      "train_loss: 6.495003700256348, val: 0.4751470983028412\n",
      "train_loss: 6.493655681610107, val: 0.47456011176109314\n",
      "train_loss: 6.491774559020996, val: 0.47332027554512024\n",
      "train_loss: 6.488832950592041, val: 0.4708959460258484\n",
      "train_loss: 6.484421730041504, val: 0.4668272137641907\n",
      "train_loss: 6.478509902954102, val: 0.4609055817127228\n",
      "train_loss: 6.471462249755859, val: 0.4533304274082184\n",
      "train_loss: 6.463969707489014, val: 0.44567590951919556\n",
      "train_loss: 6.456954479217529, val: 0.4394267797470093\n",
      "train_loss: 6.451635360717773, val: 0.43481823801994324\n",
      "train_loss: 6.4481201171875, val: 0.43181371688842773\n"
     ]
    },
    {
     "name": "stderr",
     "output_type": "stream",
     "text": [
      "\u001b[32m[I 2022-10-06 11:42:36,991]\u001b[0m Trial 4 finished with values: [0.4301430583000183, 0.8788888888888889] and parameters: {'lr': 0.00042989866679117876, 'l1': 0.7600298639188326, 'l2': 0.7166706233627964}. \u001b[0m\n"
     ]
    },
    {
     "name": "stdout",
     "output_type": "stream",
     "text": [
      "Dictionary: \n",
      "0:  {'precision': 0.8558558558558559, 'recall': 0.8941176470588236, 'f1-score': 0.8745684695051784, 'support': 425}\n",
      "1:  {'precision': 0.9013157894736842, 'recall': 0.8652631578947368, 'f1-score': 0.882921589688507, 'support': 475}\n",
      "acc:  0.8788888888888889\n",
      "train_loss: 6.921328544616699, val: 0.6349122524261475\n",
      "train_loss: 6.731453895568848, val: 0.47804591059684753\n",
      "train_loss: 6.72625732421875, val: 0.47546249628067017\n",
      "train_loss: 6.7243852615356445, val: 0.4749901294708252\n",
      "train_loss: 6.722872734069824, val: 0.47447752952575684\n",
      "train_loss: 6.720897197723389, val: 0.4733552038669586\n",
      "train_loss: 6.717839241027832, val: 0.47106167674064636\n",
      "train_loss: 6.713216304779053, val: 0.46691715717315674\n",
      "train_loss: 6.707183361053467, val: 0.4610064923763275\n",
      "train_loss: 6.700859546661377, val: 0.454813688993454\n",
      "train_loss: 6.6941237449646, val: 0.4491422176361084\n",
      "train_loss: 6.686947822570801, val: 0.443210631608963\n",
      "train_loss: 6.680819034576416, val: 0.4373643100261688\n",
      "train_loss: 6.676636695861816, val: 0.4334537386894226\n",
      "train_loss: 6.674150466918945, val: 0.43083739280700684\n"
     ]
    },
    {
     "name": "stderr",
     "output_type": "stream",
     "text": [
      "\u001b[32m[I 2022-10-06 11:51:59,521]\u001b[0m Trial 5 finished with values: [0.4292318820953369, 0.8777777777777778] and parameters: {'lr': 0.0005252308125509869, 'l1': 0.9747868943976364, 'l2': 0.6381072031542955}. \u001b[0m\n"
     ]
    },
    {
     "name": "stdout",
     "output_type": "stream",
     "text": [
      "Dictionary: \n",
      "0:  {'precision': 0.8490990990990991, 'recall': 0.8976190476190476, 'f1-score': 0.8726851851851852, 'support': 420}\n",
      "1:  {'precision': 0.9057017543859649, 'recall': 0.8604166666666667, 'f1-score': 0.8824786324786326, 'support': 480}\n",
      "acc:  0.8777777777777778\n",
      "train_loss: 2.5499982833862305, val: 0.6609103083610535\n",
      "train_loss: 2.3636181354522705, val: 0.4914001226425171\n",
      "train_loss: 2.3499088287353516, val: 0.47878697514533997\n",
      "train_loss: 2.346541404724121, val: 0.4765271842479706\n",
      "train_loss: 2.344963788986206, val: 0.4758824408054352\n",
      "train_loss: 2.3438727855682373, val: 0.47561198472976685\n",
      "train_loss: 2.3428590297698975, val: 0.4753738045692444\n",
      "train_loss: 2.3416872024536133, val: 0.4749905467033386\n",
      "train_loss: 2.3401358127593994, val: 0.4742845296859741\n",
      "train_loss: 2.3379428386688232, val: 0.4729953706264496\n",
      "train_loss: 2.334831953048706, val: 0.4707561731338501\n",
      "train_loss: 2.3305811882019043, val: 0.46735867857933044\n",
      "train_loss: 2.325571298599243, val: 0.4635228216648102\n",
      "train_loss: 2.321380138397217, val: 0.46059489250183105\n",
      "train_loss: 2.318923234939575, val: 0.45898425579071045\n"
     ]
    },
    {
     "name": "stderr",
     "output_type": "stream",
     "text": [
      "\u001b[32m[I 2022-10-06 11:58:40,791]\u001b[0m Trial 6 finished with values: [0.4583158791065216, 0.8477777777777777] and parameters: {'lr': 0.000411859684457623, 'l1': 0.2967977199870574, 'l2': 0.15360056279777207}. \u001b[0m\n"
     ]
    },
    {
     "name": "stdout",
     "output_type": "stream",
     "text": [
      "Dictionary: \n",
      "0:  {'precision': 0.8220720720720721, 'recall': 0.8628841607565012, 'f1-score': 0.8419838523644753, 'support': 423}\n",
      "1:  {'precision': 0.8728070175438597, 'recall': 0.8343815513626834, 'f1-score': 0.8531618435155413, 'support': 477}\n",
      "acc:  0.8477777777777777\n",
      "train_loss: 4.559810161590576, val: 0.6829644441604614\n",
      "train_loss: 4.412355899810791, val: 0.5311762094497681\n",
      "train_loss: 4.370467185974121, val: 0.4929612874984741\n",
      "train_loss: 4.358894348144531, val: 0.48357489705085754\n",
      "train_loss: 4.3539533615112305, val: 0.48004963994026184\n",
      "train_loss: 4.351337909698486, val: 0.47837984561920166\n",
      "train_loss: 4.349767208099365, val: 0.4774775505065918\n",
      "train_loss: 4.348724842071533, val: 0.47695159912109375\n",
      "train_loss: 4.347982883453369, val: 0.4766295552253723\n",
      "train_loss: 4.3474273681640625, val: 0.47642725706100464\n",
      "train_loss: 4.346999168395996, val: 0.4762965440750122\n",
      "train_loss: 4.346646785736084, val: 0.47621095180511475\n",
      "train_loss: 4.346357822418213, val: 0.4761532247066498\n",
      "train_loss: 4.34610652923584, val: 0.4761124849319458\n",
      "train_loss: 4.345889091491699, val: 0.4760816693305969\n"
     ]
    },
    {
     "name": "stderr",
     "output_type": "stream",
     "text": [
      "\u001b[32m[I 2022-10-06 12:09:37,998]\u001b[0m Trial 7 finished with values: [0.4760580360889435, 0.8244444444444444] and parameters: {'lr': 0.00013616588171046714, 'l1': 0.8034859542367434, 'l2': 0.1971172597248798}. \u001b[0m\n"
     ]
    },
    {
     "name": "stdout",
     "output_type": "stream",
     "text": [
      "Dictionary: \n",
      "0:  {'precision': 0.7702702702702703, 'recall': 0.8592964824120602, 'f1-score': 0.8123515439429928, 'support': 398}\n",
      "1:  {'precision': 0.8771929824561403, 'recall': 0.796812749003984, 'f1-score': 0.8350730688935282, 'support': 502}\n",
      "acc:  0.8244444444444444\n",
      "train_loss: 6.202241897583008, val: 0.5981507301330566\n",
      "train_loss: 6.022390842437744, val: 0.47652652859687805\n",
      "train_loss: 6.019316673278809, val: 0.4761737287044525\n",
      "train_loss: 6.017793655395508, val: 0.47623351216316223\n",
      "train_loss: 6.016062259674072, val: 0.47587594389915466\n",
      "train_loss: 6.013260841369629, val: 0.47460952401161194\n",
      "train_loss: 6.0083160400390625, val: 0.4711303114891052\n",
      "train_loss: 6.000349044799805, val: 0.46495485305786133\n",
      "train_loss: 5.99308443069458, val: 0.45991775393486023\n",
      "train_loss: 5.9904398918151855, val: 0.4582645893096924\n",
      "train_loss: 5.9889140129089355, val: 0.45754513144493103\n",
      "train_loss: 5.987105369567871, val: 0.4567415714263916\n",
      "train_loss: 5.9846110343933105, val: 0.4551970660686493\n",
      "train_loss: 5.98128080368042, val: 0.4526340365409851\n",
      "train_loss: 5.977019786834717, val: 0.44894981384277344\n"
     ]
    },
    {
     "name": "stderr",
     "output_type": "stream",
     "text": [
      "\u001b[32m[I 2022-10-06 12:15:56,834]\u001b[0m Trial 8 finished with values: [0.4444354474544525, 0.8588888888888889] and parameters: {'lr': 0.0009130257725276726, 'l1': 0.8889795565018982, 'l2': 0.48993313880405376}. \u001b[0m\n"
     ]
    },
    {
     "name": "stdout",
     "output_type": "stream",
     "text": [
      "Dictionary: \n",
      "0:  {'precision': 0.8400900900900901, 'recall': 0.8694638694638694, 'f1-score': 0.854524627720504, 'support': 429}\n",
      "1:  {'precision': 0.8771929824561403, 'recall': 0.8492569002123143, 'f1-score': 0.8629989212513486, 'support': 471}\n",
      "acc:  0.8588888888888889\n",
      "train_loss: 8.52570629119873, val: 0.6826420426368713\n",
      "train_loss: 8.409855842590332, val: 0.5674610733985901\n",
      "train_loss: 8.351359367370605, val: 0.5122494101524353\n",
      "train_loss: 8.332483291625977, val: 0.49368003010749817\n",
      "train_loss: 8.324445724487305, val: 0.4857690930366516\n",
      "train_loss: 8.320300102233887, val: 0.48183080554008484\n",
      "train_loss: 8.317838668823242, val: 0.47962549328804016\n",
      "train_loss: 8.316193580627441, val: 0.47826990485191345\n",
      "train_loss: 8.315009117126465, val: 0.47737017273902893\n",
      "train_loss: 8.31409740447998, val: 0.47673097252845764\n",
      "train_loss: 8.313343048095703, val: 0.4762476980686188\n",
      "train_loss: 8.31269359588623, val: 0.475858598947525\n",
      "train_loss: 8.312110900878906, val: 0.47552427649497986\n",
      "train_loss: 8.311574935913086, val: 0.47521984577178955\n",
      "train_loss: 8.311049461364746, val: 0.47492703795433044\n"
     ]
    },
    {
     "name": "stderr",
     "output_type": "stream",
     "text": [
      "\u001b[32m[I 2022-10-06 12:25:52,002]\u001b[0m Trial 9 finished with values: [0.4746614396572113, 0.8288888888888889] and parameters: {'lr': 9.153180111463616e-05, 'l1': 0.6393222209007804, 'l2': 0.5779974571481467}. \u001b[0m\n"
     ]
    },
    {
     "name": "stdout",
     "output_type": "stream",
     "text": [
      "Dictionary: \n",
      "0:  {'precision': 0.7747747747747747, 'recall': 0.864321608040201, 'f1-score': 0.817102137767221, 'support': 398}\n",
      "1:  {'precision': 0.881578947368421, 'recall': 0.8007968127490039, 'f1-score': 0.8392484342379959, 'support': 502}\n",
      "acc:  0.8288888888888889\n",
      "train_loss: 2.725741147994995, val: 0.6679838299751282\n",
      "train_loss: 2.536374092102051, val: 0.49221891164779663\n",
      "train_loss: 2.522306203842163, val: 0.479056179523468\n",
      "train_loss: 2.518880605697632, val: 0.4767313003540039\n",
      "train_loss: 2.5173656940460205, val: 0.47613370418548584\n",
      "train_loss: 2.5164566040039062, val: 0.4759901463985443\n",
      "train_loss: 2.515770673751831, val: 0.47598302364349365\n",
      "train_loss: 2.515151262283325, val: 0.4759966731071472\n",
      "train_loss: 2.514500141143799, val: 0.47596725821495056\n",
      "train_loss: 2.5137276649475098, val: 0.4758419990539551\n",
      "train_loss: 2.512730121612549, val: 0.47555336356163025\n",
      "train_loss: 2.5113818645477295, val: 0.4749976396560669\n",
      "train_loss: 2.509526252746582, val: 0.4740021228790283\n",
      "train_loss: 2.506951093673706, val: 0.4722980260848999\n",
      "train_loss: 2.5034570693969727, val: 0.4696551561355591\n"
     ]
    },
    {
     "name": "stderr",
     "output_type": "stream",
     "text": [
      "\u001b[32m[I 2022-10-06 12:31:51,776]\u001b[0m Trial 10 finished with values: [0.46671637892723083, 0.8388888888888889] and parameters: {'lr': 0.00036709589019806094, 'l1': 0.25473173714239783, 'l2': 0.37532884576846554}. \u001b[0m\n"
     ]
    },
    {
     "name": "stdout",
     "output_type": "stream",
     "text": [
      "Dictionary: \n",
      "0:  {'precision': 0.8108108108108109, 'recall': 0.8551068883610451, 'f1-score': 0.8323699421965319, 'support': 421}\n",
      "1:  {'precision': 0.8662280701754386, 'recall': 0.824634655532359, 'f1-score': 0.8449197860962566, 'support': 479}\n",
      "acc:  0.8388888888888889\n",
      "train_loss: 5.32463264465332, val: 0.6045790314674377\n",
      "train_loss: 5.150974273681641, val: 0.4787043333053589\n",
      "train_loss: 5.145139694213867, val: 0.4757104516029358\n",
      "train_loss: 5.142826557159424, val: 0.4751303791999817\n",
      "train_loss: 5.140254974365234, val: 0.47358009219169617\n",
      "train_loss: 5.135533332824707, val: 0.46921080350875854\n",
      "train_loss: 5.1274518966674805, val: 0.4609195291996002\n",
      "train_loss: 5.11813497543335, val: 0.4500281810760498\n",
      "train_loss: 5.1113762855529785, val: 0.44398370385169983\n",
      "train_loss: 5.105224132537842, val: 0.44073790311813354\n",
      "train_loss: 5.099781036376953, val: 0.43792495131492615\n",
      "train_loss: 5.096391677856445, val: 0.435352087020874\n",
      "train_loss: 5.094132423400879, val: 0.43321493268013\n",
      "train_loss: 5.092414379119873, val: 0.4315640926361084\n",
      "train_loss: 5.091089725494385, val: 0.4303477704524994\n"
     ]
    },
    {
     "name": "stderr",
     "output_type": "stream",
     "text": [
      "\u001b[32m[I 2022-10-06 12:37:48,149]\u001b[0m Trial 11 finished with values: [0.42951855063438416, 0.8822222222222222] and parameters: {'lr': 0.0007173996299591998, 'l1': 0.215124694985409, 'l2': 0.7613379793272289}. \u001b[0m\n"
     ]
    },
    {
     "name": "stdout",
     "output_type": "stream",
     "text": [
      "Dictionary: \n",
      "0:  {'precision': 0.8716216216216216, 'recall': 0.8876146788990825, 'f1-score': 0.8795454545454545, 'support': 436}\n",
      "1:  {'precision': 0.8925438596491229, 'recall': 0.8771551724137931, 'f1-score': 0.8847826086956523, 'support': 464}\n",
      "acc:  0.8822222222222222\n",
      "train_loss: 4.2869768142700195, val: 0.6363279819488525\n",
      "train_loss: 4.098317623138428, val: 0.47876960039138794\n",
      "train_loss: 4.0930399894714355, val: 0.475771963596344\n",
      "train_loss: 4.091236591339111, val: 0.47541317343711853\n",
      "train_loss: 4.089911937713623, val: 0.47525811195373535\n",
      "train_loss: 4.088361740112305, val: 0.47484931349754333\n",
      "train_loss: 4.0860724449157715, val: 0.47380971908569336\n",
      "train_loss: 4.082393646240234, val: 0.4714522957801819\n",
      "train_loss: 4.076625823974609, val: 0.466995507478714\n",
      "train_loss: 4.069817543029785, val: 0.4621627926826477\n",
      "train_loss: 4.065786361694336, val: 0.459672212600708\n",
      "train_loss: 4.064209938049316, val: 0.458863765001297\n",
      "train_loss: 4.063481330871582, val: 0.45871007442474365\n",
      "train_loss: 4.063034534454346, val: 0.4587744176387787\n",
      "train_loss: 4.06269645690918, val: 0.4589022994041443\n"
     ]
    },
    {
     "name": "stderr",
     "output_type": "stream",
     "text": [
      "\u001b[32m[I 2022-10-06 12:43:42,364]\u001b[0m Trial 12 finished with values: [0.4590264558792114, 0.8455555555555555] and parameters: {'lr': 0.0005050368018685253, 'l1': 0.30731815003064017, 'l2': 0.8149342492620765}. \u001b[0m\n"
     ]
    },
    {
     "name": "stdout",
     "output_type": "stream",
     "text": [
      "Dictionary: \n",
      "0:  {'precision': 0.8153153153153153, 'recall': 0.863961813842482, 'f1-score': 0.8389339513325609, 'support': 419}\n",
      "1:  {'precision': 0.875, 'recall': 0.8295218295218295, 'f1-score': 0.8516542155816434, 'support': 481}\n",
      "acc:  0.8455555555555555\n",
      "train_loss: 4.203133583068848, val: 0.5800299644470215\n",
      "train_loss: 4.032505035400391, val: 0.47585582733154297\n",
      "train_loss: 4.029205322265625, val: 0.47515931725502014\n",
      "train_loss: 4.026721477508545, val: 0.474209189414978\n",
      "train_loss: 4.022532939910889, val: 0.4714146852493286\n",
      "train_loss: 4.015309810638428, val: 0.4653584957122803\n",
      "train_loss: 4.0063652992248535, val: 0.4576256275177002\n",
      "train_loss: 3.9978835582733154, val: 0.45159199833869934\n",
      "train_loss: 3.990654230117798, val: 0.44532397389411926\n",
      "train_loss: 3.9839870929718018, val: 0.4388916790485382\n",
      "train_loss: 3.9796066284179688, val: 0.4342896342277527\n",
      "train_loss: 3.977104663848877, val: 0.43147042393684387\n",
      "train_loss: 3.9754793643951416, val: 0.4298325479030609\n",
      "train_loss: 3.974302053451538, val: 0.42884936928749084\n",
      "train_loss: 3.973411798477173, val: 0.42827942967414856\n"
     ]
    },
    {
     "name": "stderr",
     "output_type": "stream",
     "text": [
      "\u001b[32m[I 2022-10-06 12:49:32,674]\u001b[0m Trial 13 finished with values: [0.428001344203949, 0.8811111111111111] and parameters: {'lr': 0.0008345398956574928, 'l1': 0.24058978748687912, 'l2': 0.7470627033548322}. \u001b[0m\n"
     ]
    },
    {
     "name": "stdout",
     "output_type": "stream",
     "text": [
      "Dictionary: \n",
      "0:  {'precision': 0.8671171171171171, 'recall': 0.8891454965357968, 'f1-score': 0.8779931584948689, 'support': 433}\n",
      "1:  {'precision': 0.8947368421052632, 'recall': 0.8736616702355461, 'f1-score': 0.8840736728060672, 'support': 467}\n",
      "acc:  0.8811111111111111\n",
      "train_loss: 5.608490943908691, val: 0.6836811900138855\n",
      "train_loss: 5.452703475952148, val: 0.5248678922653198\n",
      "train_loss: 5.410338401794434, val: 0.48861128091812134\n",
      "train_loss: 5.401118278503418, val: 0.4808884561061859\n",
      "train_loss: 5.397486209869385, val: 0.478169709444046\n",
      "train_loss: 5.3955817222595215, val: 0.4769708812236786\n",
      "train_loss: 5.394413948059082, val: 0.47637519240379333\n",
      "train_loss: 5.393608093261719, val: 0.4760527014732361\n",
      "train_loss: 5.3929972648620605, val: 0.47586047649383545\n",
      "train_loss: 5.3924970626831055, val: 0.47572648525238037\n",
      "train_loss: 5.392061710357666, val: 0.4756084680557251\n",
      "train_loss: 5.391645908355713, val: 0.475477397441864\n",
      "train_loss: 5.391217231750488, val: 0.4753071963787079\n",
      "train_loss: 5.3907599449157715, val: 0.4750724136829376\n",
      "train_loss: 5.390223026275635, val: 0.47474247217178345\n"
     ]
    },
    {
     "name": "stderr",
     "output_type": "stream",
     "text": [
      "\u001b[32m[I 2022-10-06 12:55:31,294]\u001b[0m Trial 14 finished with values: [0.4743318557739258, 0.8255555555555556] and parameters: {'lr': 0.0002676831747112401, 'l1': 0.9571607491169737, 'l2': 0.2055816885213982}. \u001b[0m\n"
     ]
    },
    {
     "name": "stdout",
     "output_type": "stream",
     "text": [
      "Dictionary: \n",
      "0:  {'precision': 0.7815315315315315, 'recall': 0.8525798525798526, 'f1-score': 0.8155111633372504, 'support': 407}\n",
      "1:  {'precision': 0.868421052631579, 'recall': 0.8032454361054767, 'f1-score': 0.8345626975763961, 'support': 493}\n",
      "acc:  0.8255555555555556\n",
      "train_loss: 4.438597679138184, val: 0.6408355236053467\n",
      "train_loss: 4.24261999130249, val: 0.4776535928249359\n",
      "train_loss: 4.238058090209961, val: 0.47575807571411133\n",
      "train_loss: 4.236487865447998, val: 0.47571709752082825\n",
      "train_loss: 4.23541784286499, val: 0.4757251739501953\n",
      "train_loss: 4.234286308288574, val: 0.4754510819911957\n",
      "train_loss: 4.232658386230469, val: 0.47457465529441833\n",
      "train_loss: 4.2299933433532715, val: 0.47255203127861023\n",
      "train_loss: 4.225612163543701, val: 0.46850037574768066\n",
      "train_loss: 4.2193193435668945, val: 0.46198612451553345\n",
      "train_loss: 4.211525917053223, val: 0.45401015877723694\n",
      "train_loss: 4.202033996582031, val: 0.4449700713157654\n",
      "train_loss: 4.193092346191406, val: 0.43721580505371094\n",
      "train_loss: 4.187714099884033, val: 0.43259477615356445\n",
      "train_loss: 4.184834957122803, val: 0.4297805428504944\n"
     ]
    },
    {
     "name": "stderr",
     "output_type": "stream",
     "text": [
      "\u001b[32m[I 2022-10-06 13:01:27,951]\u001b[0m Trial 15 finished with values: [0.4284767806529999, 0.8777777777777778] and parameters: {'lr': 0.0007507894013960252, 'l1': 0.8124391756196102, 'l2': 0.21325699458044414}. \u001b[0m\n"
     ]
    },
    {
     "name": "stdout",
     "output_type": "stream",
     "text": [
      "Dictionary: \n",
      "0:  {'precision': 0.8581081081081081, 'recall': 0.8901869158878505, 'f1-score': 0.8738532110091743, 'support': 428}\n",
      "1:  {'precision': 0.8969298245614035, 'recall': 0.8665254237288136, 'f1-score': 0.8814655172413792, 'support': 472}\n",
      "acc:  0.8777777777777778\n",
      "train_loss: 4.322726726531982, val: 0.6709973216056824\n",
      "train_loss: 4.177910804748535, val: 0.5466973185539246\n",
      "train_loss: 4.157773494720459, val: 0.5248444676399231\n",
      "train_loss: 4.139980792999268, val: 0.50380939245224\n",
      "train_loss: 4.12687349319458, val: 0.4884844422340393\n",
      "train_loss: 4.120538711547852, val: 0.48207682371139526\n",
      "train_loss: 4.117311954498291, val: 0.4793313145637512\n",
      "train_loss: 4.115267276763916, val: 0.47791215777397156\n",
      "train_loss: 4.113739490509033, val: 0.47703084349632263\n",
      "train_loss: 4.112388610839844, val: 0.47633805871009827\n",
      "train_loss: 4.1109819412231445, val: 0.4756116569042206\n",
      "train_loss: 4.10927677154541, val: 0.4746413230895996\n",
      "train_loss: 4.106999397277832, val: 0.47317516803741455\n",
      "train_loss: 4.103866100311279, val: 0.470934122800827\n",
      "train_loss: 4.099733829498291, val: 0.467833012342453\n"
     ]
    },
    {
     "name": "stderr",
     "output_type": "stream",
     "text": [
      "\u001b[32m[I 2022-10-06 13:07:20,259]\u001b[0m Trial 16 finished with values: [0.46474000811576843, 0.84] and parameters: {'lr': 0.00042472259892642147, 'l1': 0.6503579437493222, 'l2': 0.20583101434278306}. \u001b[0m\n"
     ]
    },
    {
     "name": "stdout",
     "output_type": "stream",
     "text": [
      "Dictionary: \n",
      "0:  {'precision': 0.8130630630630631, 'recall': 0.8554502369668247, 'f1-score': 0.8337182448036952, 'support': 422}\n",
      "1:  {'precision': 0.8662280701754386, 'recall': 0.8263598326359832, 'f1-score': 0.8458244111349037, 'support': 478}\n",
      "acc:  0.84\n",
      "train_loss: 2.7449748516082764, val: 0.6694516539573669\n",
      "train_loss: 2.575402021408081, val: 0.5010418891906738\n",
      "train_loss: 2.5506603717803955, val: 0.4820300042629242\n",
      "train_loss: 2.5415220260620117, val: 0.47741764783859253\n",
      "train_loss: 2.5380587577819824, val: 0.4759840965270996\n",
      "train_loss: 2.5362677574157715, val: 0.47533679008483887\n",
      "train_loss: 2.5350794792175293, val: 0.4749349057674408\n",
      "train_loss: 2.5341105461120605, val: 0.4745548963546753\n",
      "train_loss: 2.5331337451934814, val: 0.4740432798862457\n",
      "train_loss: 2.531968116760254, val: 0.47323817014694214\n",
      "train_loss: 2.5303955078125, val: 0.4719312787055969\n",
      "train_loss: 2.52815580368042, val: 0.46985721588134766\n",
      "train_loss: 2.5250229835510254, val: 0.466778039932251\n",
      "train_loss: 2.5210423469543457, val: 0.46272704005241394\n",
      "train_loss: 2.516737699508667, val: 0.4583214223384857\n"
     ]
    },
    {
     "name": "stderr",
     "output_type": "stream",
     "text": [
      "\u001b[32m[I 2022-10-06 13:13:13,301]\u001b[0m Trial 17 finished with values: [0.4548981487751007, 0.8522222222222222] and parameters: {'lr': 0.00032351098766935233, 'l1': 0.04033944451777798, 'l2': 0.5609511609705634}. \u001b[0m\n"
     ]
    },
    {
     "name": "stdout",
     "output_type": "stream",
     "text": [
      "Dictionary: \n",
      "0:  {'precision': 0.8153153153153153, 'recall': 0.8765133171912833, 'f1-score': 0.8448074679113184, 'support': 413}\n",
      "1:  {'precision': 0.8881578947368421, 'recall': 0.8316221765913757, 'f1-score': 0.8589607635206787, 'support': 487}\n",
      "acc:  0.8522222222222222\n",
      "train_loss: 3.48484468460083, val: 0.6448745131492615\n",
      "train_loss: 3.2971394062042236, val: 0.4831918776035309\n",
      "train_loss: 3.288648843765259, val: 0.4767940640449524\n",
      "train_loss: 3.286317825317383, val: 0.4758939743041992\n",
      "train_loss: 3.284885883331299, val: 0.4756048321723938\n",
      "train_loss: 3.2834343910217285, val: 0.4752143323421478\n",
      "train_loss: 3.281428575515747, val: 0.4743472635746002\n",
      "train_loss: 3.2783069610595703, val: 0.4724395275115967\n",
      "train_loss: 3.2734735012054443, val: 0.46853265166282654\n",
      "train_loss: 3.2670748233795166, val: 0.4632161259651184\n",
      "train_loss: 3.2617201805114746, val: 0.45977672934532166\n",
      "train_loss: 3.258842945098877, val: 0.4581983685493469\n",
      "train_loss: 3.25708270072937, val: 0.45711833238601685\n",
      "train_loss: 3.2554399967193604, val: 0.4559640884399414\n",
      "train_loss: 3.253472089767456, val: 0.4544234275817871\n"
     ]
    },
    {
     "name": "stderr",
     "output_type": "stream",
     "text": [
      "\u001b[32m[I 2022-10-06 13:19:16,309]\u001b[0m Trial 18 finished with values: [0.45251280069351196, 0.86] and parameters: {'lr': 0.000569833545265545, 'l1': 0.4968268024998351, 'l2': 0.3174165625204114}. \u001b[0m\n"
     ]
    },
    {
     "name": "stdout",
     "output_type": "stream",
     "text": [
      "Dictionary: \n",
      "0:  {'precision': 0.8423423423423423, 'recall': 0.8697674418604651, 'f1-score': 0.8558352402745995, 'support': 430}\n",
      "1:  {'precision': 0.8771929824561403, 'recall': 0.851063829787234, 'f1-score': 0.8639308855291576, 'support': 470}\n",
      "acc:  0.86\n",
      "train_loss: 9.712838172912598, val: 0.5844507217407227\n",
      "train_loss: 9.541145324707031, val: 0.47558581829071045\n",
      "train_loss: 9.537236213684082, val: 0.47435638308525085\n",
      "train_loss: 9.533254623413086, val: 0.4724850356578827\n",
      "train_loss: 9.52562427520752, val: 0.4667930006980896\n",
      "train_loss: 9.5147066116333, val: 0.4580872356891632\n",
      "train_loss: 9.508430480957031, val: 0.4541415572166443\n",
      "train_loss: 9.503235816955566, val: 0.45013323426246643\n",
      "train_loss: 9.495816230773926, val: 0.44380104541778564\n",
      "train_loss: 9.489653587341309, val: 0.4366759657859802\n",
      "train_loss: 9.486411094665527, val: 0.4326789379119873\n",
      "train_loss: 9.484704971313477, val: 0.43058541417121887\n",
      "train_loss: 9.483770370483398, val: 0.4296080768108368\n",
      "train_loss: 9.483172416687012, val: 0.42919519543647766\n",
      "train_loss: 9.482712745666504, val: 0.4290342926979065\n"
     ]
    },
    {
     "name": "stderr",
     "output_type": "stream",
     "text": [
      "\u001b[32m[I 2022-10-06 13:26:28,132]\u001b[0m Trial 19 finished with values: [0.4289816617965698, 0.88] and parameters: {'lr': 0.0006890529408378317, 'l1': 0.99992692096194, 'l2': 0.8464437573671993}. \u001b[0m\n"
     ]
    },
    {
     "name": "stdout",
     "output_type": "stream",
     "text": [
      "Dictionary: \n",
      "0:  {'precision': 0.8671171171171171, 'recall': 0.8870967741935484, 'f1-score': 0.8769931662870161, 'support': 434}\n",
      "1:  {'precision': 0.8925438596491229, 'recall': 0.8733905579399142, 'f1-score': 0.8828633405639913, 'support': 466}\n",
      "acc:  0.88\n",
      "train_loss: 5.5890655517578125, val: 0.6104648113250732\n",
      "train_loss: 5.405221939086914, val: 0.47728368639945984\n",
      "train_loss: 5.400109767913818, val: 0.47502654790878296\n",
      "train_loss: 5.396096229553223, val: 0.4724794030189514\n",
      "train_loss: 5.387831687927246, val: 0.4648449420928955\n",
      "train_loss: 5.375078201293945, val: 0.4526349902153015\n",
      "train_loss: 5.360409736633301, val: 0.43958520889282227\n",
      "train_loss: 5.350140571594238, val: 0.43152445554733276\n",
      "train_loss: 5.346704959869385, val: 0.4290073812007904\n",
      "train_loss: 5.345099449157715, val: 0.42823126912117004\n",
      "train_loss: 5.344037055969238, val: 0.4279632568359375\n",
      "train_loss: 5.343302249908447, val: 0.4281122386455536\n",
      "train_loss: 5.342752456665039, val: 0.42879942059516907\n",
      "train_loss: 5.34233283996582, val: 0.43008702993392944\n",
      "train_loss: 5.342010498046875, val: 0.43174922466278076\n"
     ]
    },
    {
     "name": "stderr",
     "output_type": "stream",
     "text": [
      "\u001b[32m[I 2022-10-06 13:33:49,690]\u001b[0m Trial 20 finished with values: [0.4332260191440582, 0.8711111111111111] and parameters: {'lr': 0.000980183560392138, 'l1': 0.3101429668861209, 'l2': 0.8707648066466551}. \u001b[0m\n"
     ]
    },
    {
     "name": "stdout",
     "output_type": "stream",
     "text": [
      "Dictionary: \n",
      "0:  {'precision': 0.8220720720720721, 'recall': 0.9079601990049752, 'f1-score': 0.8628841607565012, 'support': 402}\n",
      "1:  {'precision': 0.918859649122807, 'recall': 0.8413654618473896, 'f1-score': 0.8784067085953878, 'support': 498}\n",
      "acc:  0.8711111111111111\n",
      "train_loss: 2.801053524017334, val: 0.6611362099647522\n",
      "train_loss: 2.6331465244293213, val: 0.49927887320518494\n",
      "train_loss: 2.608485460281372, val: 0.48104944825172424\n",
      "train_loss: 2.599923610687256, val: 0.47699227929115295\n",
      "train_loss: 2.5968542098999023, val: 0.47579243779182434\n",
      "train_loss: 2.59529709815979, val: 0.4753183126449585\n",
      "train_loss: 2.594311475753784, val: 0.4750992953777313\n",
      "train_loss: 2.5935728549957275, val: 0.4749508798122406\n",
      "train_loss: 2.592923402786255, val: 0.47477245330810547\n",
      "train_loss: 2.592250347137451, val: 0.47448238730430603\n",
      "train_loss: 2.591445207595825, val: 0.4739888310432434\n",
      "train_loss: 2.5903685092926025, val: 0.47315797209739685\n",
      "train_loss: 2.5888400077819824, val: 0.4718044400215149\n",
      "train_loss: 2.586642026901245, val: 0.4697023630142212\n",
      "train_loss: 2.5836169719696045, val: 0.4666706919670105\n"
     ]
    },
    {
     "name": "stderr",
     "output_type": "stream",
     "text": [
      "\u001b[32m[I 2022-10-06 13:41:12,619]\u001b[0m Trial 21 finished with values: [0.463177353143692, 0.84] and parameters: {'lr': 0.00038221151707237366, 'l1': 0.08482040263636095, 'l2': 0.6897372385087043}. \u001b[0m\n"
     ]
    },
    {
     "name": "stdout",
     "output_type": "stream",
     "text": [
      "Dictionary: \n",
      "0:  {'precision': 0.8018018018018018, 'recall': 0.8640776699029126, 'f1-score': 0.8317757009345795, 'support': 412}\n",
      "1:  {'precision': 0.8771929824561403, 'recall': 0.819672131147541, 'f1-score': 0.8474576271186439, 'support': 488}\n",
      "acc:  0.84\n",
      "train_loss: 6.181487083435059, val: 0.6791249513626099\n",
      "train_loss: 6.020020008087158, val: 0.5256263613700867\n",
      "train_loss: 5.988049030303955, val: 0.49354130029678345\n",
      "train_loss: 5.977589130401611, val: 0.48302194476127625\n",
      "train_loss: 5.973365306854248, val: 0.4791587293148041\n",
      "train_loss: 5.971197128295898, val: 0.4774520993232727\n",
      "train_loss: 5.969823360443115, val: 0.47654610872268677\n",
      "train_loss: 5.968775749206543, val: 0.47597330808639526\n",
      "train_loss: 5.9678730964660645, val: 0.4755330979824066\n",
      "train_loss: 5.966993808746338, val: 0.4751233160495758\n",
      "train_loss: 5.966057777404785, val: 0.4746740460395813\n",
      "train_loss: 5.9650068283081055, val: 0.4741283059120178\n",
      "train_loss: 5.963749885559082, val: 0.4734245538711548\n",
      "train_loss: 5.962236404418945, val: 0.4724965989589691\n",
      "train_loss: 5.960381031036377, val: 0.4712699353694916\n"
     ]
    },
    {
     "name": "stderr",
     "output_type": "stream",
     "text": [
      "\u001b[32m[I 2022-10-06 13:47:14,424]\u001b[0m Trial 22 finished with values: [0.46986234188079834, 0.8266666666666667] and parameters: {'lr': 0.00018623287765498974, 'l1': 0.5615639923021138, 'l2': 0.7843914786850423}. \u001b[0m\n"
     ]
    },
    {
     "name": "stdout",
     "output_type": "stream",
     "text": [
      "Dictionary: \n",
      "0:  {'precision': 0.7837837837837838, 'recall': 0.8529411764705882, 'f1-score': 0.8169014084507041, 'support': 408}\n",
      "1:  {'precision': 0.868421052631579, 'recall': 0.8048780487804879, 'f1-score': 0.8354430379746836, 'support': 492}\n",
      "acc:  0.8266666666666667\n",
      "train_loss: 7.345897197723389, val: 0.5530720353126526\n",
      "train_loss: 7.196527004241943, val: 0.47532108426094055\n",
      "train_loss: 7.191522121429443, val: 0.4736554026603699\n",
      "train_loss: 7.181565284729004, val: 0.46670418977737427\n",
      "train_loss: 7.169319152832031, val: 0.4588189423084259\n",
      "train_loss: 7.165897846221924, val: 0.4564704895019531\n",
      "train_loss: 7.162883758544922, val: 0.454175740480423\n",
      "train_loss: 7.1578688621521, val: 0.45011022686958313\n",
      "train_loss: 7.1503190994262695, val: 0.4435998499393463\n",
      "train_loss: 7.144516944885254, val: 0.4361046552658081\n",
      "train_loss: 7.141592025756836, val: 0.4324427843093872\n",
      "train_loss: 7.140074729919434, val: 0.43041443824768066\n",
      "train_loss: 7.139190196990967, val: 0.42928647994995117\n",
      "train_loss: 7.1385626792907715, val: 0.42871326208114624\n",
      "train_loss: 7.13806676864624, val: 0.42845407128334045\n"
     ]
    },
    {
     "name": "stderr",
     "output_type": "stream",
     "text": [
      "\u001b[32m[I 2022-10-06 13:54:12,209]\u001b[0m Trial 23 finished with values: [0.4283801019191742, 0.8811111111111111] and parameters: {'lr': 0.0009096258557656618, 'l1': 0.8099435143325012, 'l2': 0.4169943714970891}. \u001b[0m\n"
     ]
    },
    {
     "name": "stdout",
     "output_type": "stream",
     "text": [
      "Dictionary: \n",
      "0:  {'precision': 0.8626126126126126, 'recall': 0.8927738927738927, 'f1-score': 0.877434135166094, 'support': 429}\n",
      "1:  {'precision': 0.8991228070175439, 'recall': 0.8704883227176221, 'f1-score': 0.8845738942826322, 'support': 471}\n",
      "acc:  0.8811111111111111\n",
      "train_loss: 3.1193461418151855, val: 0.6704578995704651\n",
      "train_loss: 2.94037127494812, val: 0.5046775341033936\n",
      "train_loss: 2.919058322906494, val: 0.48293712735176086\n",
      "train_loss: 2.9135584831237793, val: 0.47816652059555054\n",
      "train_loss: 2.9112319946289062, val: 0.476598858833313\n",
      "train_loss: 2.9097752571105957, val: 0.4758664071559906\n",
      "train_loss: 2.908576250076294, val: 0.4753630459308624\n",
      "train_loss: 2.9073519706726074, val: 0.4748426079750061\n",
      "train_loss: 2.9059135913848877, val: 0.47413673996925354\n",
      "train_loss: 2.9040606021881104, val: 0.47307494282722473\n",
      "train_loss: 2.901620864868164, val: 0.47144946455955505\n",
      "train_loss: 2.898441791534424, val: 0.46908214688301086\n",
      "train_loss: 2.8945374488830566, val: 0.4660828709602356\n",
      "train_loss: 2.890430212020874, val: 0.4631141126155853\n",
      "train_loss: 2.8870511054992676, val: 0.4609498083591461\n"
     ]
    },
    {
     "name": "stderr",
     "output_type": "stream",
     "text": [
      "\u001b[32m[I 2022-10-06 14:01:35,479]\u001b[0m Trial 24 finished with values: [0.4598134458065033, 0.8477777777777777] and parameters: {'lr': 0.00027446402801025783, 'l1': 0.20938547094800453, 'l2': 0.3715693265677084}. \u001b[0m\n"
     ]
    },
    {
     "name": "stdout",
     "output_type": "stream",
     "text": [
      "Dictionary: \n",
      "0:  {'precision': 0.8198198198198198, 'recall': 0.8646080760095012, 'f1-score': 0.8416184971098266, 'support': 421}\n",
      "1:  {'precision': 0.875, 'recall': 0.8329853862212944, 'f1-score': 0.853475935828877, 'support': 479}\n",
      "acc:  0.8477777777777777\n",
      "train_loss: 2.2142345905303955, val: 0.6901940703392029\n",
      "train_loss: 2.1820337772369385, val: 0.6588026285171509\n",
      "train_loss: 2.1392428874969482, val: 0.6183907985687256\n",
      "train_loss: 2.1078670024871826, val: 0.5899755954742432\n",
      "train_loss: 2.0903632640838623, val: 0.5740352272987366\n",
      "train_loss: 2.0802805423736572, val: 0.5643857717514038\n",
      "train_loss: 2.0737459659576416, val: 0.5577313899993896\n",
      "train_loss: 2.068993330001831, val: 0.5526372790336609\n",
      "train_loss: 2.065217971801758, val: 0.548437774181366\n",
      "train_loss: 2.0620055198669434, val: 0.5447908043861389\n",
      "train_loss: 2.0591325759887695, val: 0.541504442691803\n",
      "train_loss: 2.056478500366211, val: 0.5384617447853088\n",
      "train_loss: 2.0539605617523193, val: 0.5355895161628723\n",
      "train_loss: 2.0515341758728027, val: 0.5328378081321716\n",
      "train_loss: 2.049163818359375, val: 0.5301737189292908\n"
     ]
    },
    {
     "name": "stderr",
     "output_type": "stream",
     "text": [
      "\u001b[32m[I 2022-10-06 14:08:59,043]\u001b[0m Trial 25 finished with values: [0.5278306007385254, 0.7788888888888889] and parameters: {'lr': 5.7572451158696045e-05, 'l1': 0.3119455764918575, 'l2': 0.158293979682707}. \u001b[0m\n"
     ]
    },
    {
     "name": "stdout",
     "output_type": "stream",
     "text": [
      "Dictionary: \n",
      "0:  {'precision': 0.722972972972973, 'recall': 0.8085642317380353, 'f1-score': 0.7633769322235434, 'support': 397}\n",
      "1:  {'precision': 0.8333333333333334, 'recall': 0.7554671968190855, 'f1-score': 0.7924921793534933, 'support': 503}\n",
      "acc:  0.7788888888888889\n",
      "train_loss: 3.3872570991516113, val: 0.6603360772132874\n",
      "train_loss: 3.1928584575653076, val: 0.4848700165748596\n",
      "train_loss: 3.1829960346221924, val: 0.47715330123901367\n",
      "train_loss: 3.1801047325134277, val: 0.47563281655311584\n",
      "train_loss: 3.178558349609375, val: 0.47507888078689575\n",
      "train_loss: 3.177123785018921, val: 0.47433724999427795\n",
      "train_loss: 3.175013303756714, val: 0.47264525294303894\n",
      "train_loss: 3.1711320877075195, val: 0.46878576278686523\n",
      "train_loss: 3.164882183074951, val: 0.4618813395500183\n",
      "train_loss: 3.15815806388855, val: 0.45373281836509705\n",
      "train_loss: 3.153276205062866, val: 0.4484773874282837\n",
      "train_loss: 3.150563955307007, val: 0.4469122886657715\n",
      "train_loss: 3.1491856575012207, val: 0.4466208815574646\n",
      "train_loss: 3.148252487182617, val: 0.44651442766189575\n",
      "train_loss: 3.147315263748169, val: 0.4463333189487457\n"
     ]
    },
    {
     "name": "stderr",
     "output_type": "stream",
     "text": [
      "\u001b[32m[I 2022-10-06 14:15:06,950]\u001b[0m Trial 26 finished with values: [0.4460165500640869, 0.8611111111111112] and parameters: {'lr': 0.0006113389666530584, 'l1': 0.11730773968957153, 'l2': 0.9981759763126621}. \u001b[0m\n"
     ]
    },
    {
     "name": "stdout",
     "output_type": "stream",
     "text": [
      "Dictionary: \n",
      "0:  {'precision': 0.8220720720720721, 'recall': 0.8880778588807786, 'f1-score': 0.8538011695906433, 'support': 411}\n",
      "1:  {'precision': 0.8991228070175439, 'recall': 0.8384458077709611, 'f1-score': 0.8677248677248677, 'support': 489}\n",
      "acc:  0.8611111111111112\n",
      "train_loss: 4.448741436004639, val: 0.5733208656311035\n",
      "train_loss: 4.284377574920654, val: 0.475347638130188\n",
      "train_loss: 4.278459072113037, val: 0.473056823015213\n",
      "train_loss: 4.266562461853027, val: 0.465032160282135\n",
      "train_loss: 4.256636142730713, val: 0.45878931879997253\n",
      "train_loss: 4.254221439361572, val: 0.4572751522064209\n",
      "train_loss: 4.251802444458008, val: 0.4555323123931885\n",
      "train_loss: 4.248217582702637, val: 0.45263034105300903\n",
      "train_loss: 4.2432379722595215, val: 0.4485372304916382\n",
      "train_loss: 4.237624645233154, val: 0.44300249218940735\n",
      "train_loss: 4.233335494995117, val: 0.43777623772621155\n",
      "train_loss: 4.23069953918457, val: 0.434858113527298\n",
      "train_loss: 4.229030132293701, val: 0.43308907747268677\n",
      "train_loss: 4.22791051864624, val: 0.43187588453292847\n",
      "train_loss: 4.227097511291504, val: 0.4310483932495117\n"
     ]
    },
    {
     "name": "stderr",
     "output_type": "stream",
     "text": [
      "\u001b[32m[I 2022-10-06 14:21:17,878]\u001b[0m Trial 27 finished with values: [0.43055856227874756, 0.8733333333333333] and parameters: {'lr': 0.0008856611939054766, 'l1': 0.2233091615613057, 'l2': 0.5900740553959273}. \u001b[0m\n"
     ]
    },
    {
     "name": "stdout",
     "output_type": "stream",
     "text": [
      "Dictionary: \n",
      "0:  {'precision': 0.8400900900900901, 'recall': 0.8966346153846154, 'f1-score': 0.8674418604651162, 'support': 416}\n",
      "1:  {'precision': 0.9057017543859649, 'recall': 0.8533057851239669, 'f1-score': 0.8787234042553191, 'support': 484}\n",
      "acc:  0.8733333333333333\n",
      "train_loss: 5.729869365692139, val: 0.6142223477363586\n",
      "train_loss: 5.542977809906006, val: 0.4764525890350342\n",
      "train_loss: 5.538962364196777, val: 0.4752689003944397\n",
      "train_loss: 5.5357136726379395, val: 0.47334566712379456\n",
      "train_loss: 5.5288872718811035, val: 0.46642398834228516\n",
      "train_loss: 5.518676280975342, val: 0.45467236638069153\n",
      "train_loss: 5.5103373527526855, val: 0.44537022709846497\n",
      "train_loss: 5.504330635070801, val: 0.4408499002456665\n",
      "train_loss: 5.495696067810059, val: 0.43599870800971985\n",
      "train_loss: 5.488709926605225, val: 0.4312920570373535\n",
      "train_loss: 5.485633373260498, val: 0.4284524619579315\n",
      "train_loss: 5.4841437339782715, val: 0.42762723565101624\n",
      "train_loss: 5.483321189880371, val: 0.42747029662132263\n",
      "train_loss: 5.482767105102539, val: 0.4275197684764862\n",
      "train_loss: 5.482356548309326, val: 0.4276590049266815\n"
     ]
    },
    {
     "name": "stderr",
     "output_type": "stream",
     "text": [
      "\u001b[32m[I 2022-10-06 14:27:28,403]\u001b[0m Trial 28 finished with values: [0.4278188645839691, 0.8833333333333333] and parameters: {'lr': 0.0008605516923438141, 'l1': 0.5884311192949379, 'l2': 0.7617657609858498}. \u001b[0m\n"
     ]
    },
    {
     "name": "stdout",
     "output_type": "stream",
     "text": [
      "Dictionary: \n",
      "0:  {'precision': 0.8671171171171171, 'recall': 0.8932714617169374, 'f1-score': 0.88, 'support': 431}\n",
      "1:  {'precision': 0.8991228070175439, 'recall': 0.8742004264392325, 'f1-score': 0.8864864864864865, 'support': 469}\n",
      "acc:  0.8833333333333333\n",
      "train_loss: 3.122729778289795, val: 0.5540868043899536\n",
      "train_loss: 2.9667699337005615, val: 0.47573578357696533\n",
      "train_loss: 2.963426351547241, val: 0.475669801235199\n",
      "train_loss: 2.959527015686035, val: 0.47446855902671814\n",
      "train_loss: 2.9516255855560303, val: 0.46943366527557373\n",
      "train_loss: 2.940587043762207, val: 0.46058574318885803\n",
      "train_loss: 2.9372737407684326, val: 0.4585065245628357\n",
      "train_loss: 2.936248302459717, val: 0.458395779132843\n",
      "train_loss: 2.935486316680908, val: 0.45841264724731445\n",
      "train_loss: 2.9347007274627686, val: 0.4582580029964447\n",
      "train_loss: 2.933661937713623, val: 0.4577956795692444\n",
      "train_loss: 2.932112216949463, val: 0.45682114362716675\n",
      "train_loss: 2.929812431335449, val: 0.4551238417625427\n",
      "train_loss: 2.926650285720825, val: 0.4526083171367645\n",
      "train_loss: 2.9225103855133057, val: 0.44915565848350525\n"
     ]
    },
    {
     "name": "stderr",
     "output_type": "stream",
     "text": [
      "\u001b[32m[I 2022-10-06 14:33:26,978]\u001b[0m Trial 29 finished with values: [0.4444236755371094, 0.86] and parameters: {'lr': 0.0009906480861997249, 'l1': 0.2986599717752873, 'l2': 0.19788867438568317}. \u001b[0m\n"
     ]
    },
    {
     "name": "stdout",
     "output_type": "stream",
     "text": [
      "Dictionary: \n",
      "0:  {'precision': 0.8423423423423423, 'recall': 0.8697674418604651, 'f1-score': 0.8558352402745995, 'support': 430}\n",
      "1:  {'precision': 0.8771929824561403, 'recall': 0.851063829787234, 'f1-score': 0.8639308855291576, 'support': 470}\n",
      "acc:  0.86\n",
      "train_loss: 3.0786850452423096, val: 0.6605849862098694\n",
      "train_loss: 2.884936571121216, val: 0.48347482085227966\n",
      "train_loss: 2.8757641315460205, val: 0.4769759178161621\n",
      "train_loss: 2.873103618621826, val: 0.475664347410202\n",
      "train_loss: 2.871638298034668, val: 0.4752189815044403\n",
      "train_loss: 2.870464324951172, val: 0.47492265701293945\n",
      "train_loss: 2.869223117828369, val: 0.4745310842990875\n",
      "train_loss: 2.8676838874816895, val: 0.47387951612472534\n",
      "train_loss: 2.8656160831451416, val: 0.4727766215801239\n",
      "train_loss: 2.862802267074585, val: 0.4709923267364502\n",
      "train_loss: 2.859083414077759, val: 0.46840018033981323\n",
      "train_loss: 2.8546605110168457, val: 0.46535542607307434\n",
      "train_loss: 2.8504722118377686, val: 0.46272146701812744\n",
      "train_loss: 2.847527027130127, val: 0.46104535460472107\n",
      "train_loss: 2.8458194732666016, val: 0.4602399170398712\n"
     ]
    },
    {
     "name": "stderr",
     "output_type": "stream",
     "text": [
      "\u001b[32m[I 2022-10-06 14:39:34,605]\u001b[0m Trial 30 finished with values: [0.45998749136924744, 0.8433333333333334] and parameters: {'lr': 0.00029531223942186644, 'l1': 0.05700770742143103, 'l2': 0.4929921848642086}. \u001b[0m\n"
     ]
    },
    {
     "name": "stdout",
     "output_type": "stream",
     "text": [
      "Dictionary: \n",
      "0:  {'precision': 0.8085585585585585, 'recall': 0.8650602409638555, 'f1-score': 0.8358556461001164, 'support': 415}\n",
      "1:  {'precision': 0.8771929824561403, 'recall': 0.8247422680412371, 'f1-score': 0.8501594048884166, 'support': 485}\n",
      "acc:  0.8433333333333334\n",
      "train_loss: 3.4080073833465576, val: 0.6797611713409424\n",
      "train_loss: 3.2398979663848877, val: 0.5119938254356384\n",
      "train_loss: 3.210071086883545, val: 0.48580920696258545\n",
      "train_loss: 3.2024295330047607, val: 0.47981229424476624\n",
      "train_loss: 3.199113607406616, val: 0.4775277376174927\n",
      "train_loss: 3.197274684906006, val: 0.47642189264297485\n",
      "train_loss: 3.196082353591919, val: 0.47580140829086304\n",
      "train_loss: 3.1952126026153564, val: 0.47540605068206787\n",
      "train_loss: 3.1945176124572754, val: 0.4751196801662445\n",
      "train_loss: 3.193910598754883, val: 0.4748803973197937\n",
      "train_loss: 3.193347930908203, val: 0.47465336322784424\n",
      "train_loss: 3.1927812099456787, val: 0.4744125008583069\n",
      "train_loss: 3.192199230194092, val: 0.47413915395736694\n",
      "train_loss: 3.1915667057037354, val: 0.47381487488746643\n",
      "train_loss: 3.1908650398254395, val: 0.47342073917388916\n"
     ]
    },
    {
     "name": "stderr",
     "output_type": "stream",
     "text": [
      "\u001b[32m[I 2022-10-06 14:45:35,846]\u001b[0m Trial 31 finished with values: [0.4729904234409332, 0.8266666666666667] and parameters: {'lr': 0.00014402207542133424, 'l1': 0.34477579004395265, 'l2': 0.06079484629923256}. \u001b[0m\n"
     ]
    },
    {
     "name": "stdout",
     "output_type": "stream",
     "text": [
      "Dictionary: \n",
      "0:  {'precision': 0.777027027027027, 'recall': 0.8582089552238806, 'f1-score': 0.8156028368794327, 'support': 402}\n",
      "1:  {'precision': 0.875, 'recall': 0.8012048192771084, 'f1-score': 0.8364779874213836, 'support': 498}\n",
      "acc:  0.8266666666666667\n",
      "train_loss: 3.727534770965576, val: 0.6898356676101685\n",
      "train_loss: 3.7066962718963623, val: 0.6693310737609863\n",
      "train_loss: 3.6809113025665283, val: 0.6425942182540894\n",
      "train_loss: 3.650689125061035, val: 0.611552894115448\n",
      "train_loss: 3.6223316192626953, val: 0.582667887210846\n",
      "train_loss: 3.60011887550354, val: 0.5600885152816772\n",
      "train_loss: 3.5840413570404053, val: 0.5437328815460205\n",
      "train_loss: 3.5724501609802246, val: 0.5319452881813049\n",
      "train_loss: 3.563828229904175, val: 0.5232263803482056\n",
      "train_loss: 3.5571815967559814, val: 0.5165600776672363\n",
      "train_loss: 3.5518805980682373, val: 0.5113046765327454\n",
      "train_loss: 3.547532081604004, val: 0.507053017616272\n",
      "train_loss: 3.543898105621338, val: 0.5035421252250671\n",
      "train_loss: 3.54079270362854, val: 0.5005932450294495\n",
      "train_loss: 3.538113594055176, val: 0.4980849623680115\n"
     ]
    },
    {
     "name": "stderr",
     "output_type": "stream",
     "text": [
      "\u001b[32m[I 2022-10-06 14:53:06,924]\u001b[0m Trial 32 finished with values: [0.49612998962402344, 0.8155555555555556] and parameters: {'lr': 2.2542882774893348e-05, 'l1': 0.33906320854960015, 'l2': 0.49378427143226605}. \u001b[0m\n"
     ]
    },
    {
     "name": "stdout",
     "output_type": "stream",
     "text": [
      "Dictionary: \n",
      "0:  {'precision': 0.7635135135135135, 'recall': 0.8475, 'f1-score': 0.8033175355450237, 'support': 400}\n",
      "1:  {'precision': 0.8662280701754386, 'recall': 0.79, 'f1-score': 0.8263598326359832, 'support': 500}\n",
      "acc:  0.8155555555555556\n",
      "train_loss: 2.559938907623291, val: 0.6924067139625549\n",
      "train_loss: 2.53507137298584, val: 0.6654929518699646\n",
      "train_loss: 2.4947776794433594, val: 0.6224434971809387\n",
      "train_loss: 2.4612905979156494, val: 0.5880258083343506\n",
      "train_loss: 2.434439182281494, val: 0.5620753765106201\n",
      "train_loss: 2.412029981613159, val: 0.5417676568031311\n",
      "train_loss: 2.395348310470581, val: 0.5271205902099609\n",
      "train_loss: 2.383779764175415, val: 0.5168221592903137\n",
      "train_loss: 2.3755810260772705, val: 0.5092532634735107\n",
      "train_loss: 2.3695099353790283, val: 0.5034448504447937\n",
      "train_loss: 2.364842176437378, val: 0.49887168407440186\n",
      "train_loss: 2.361175298690796, val: 0.4952166974544525\n",
      "train_loss: 2.3582332134246826, val: 0.49226608872413635\n",
      "train_loss: 2.355839490890503, val: 0.4898669123649597\n",
      "train_loss: 2.3538830280303955, val: 0.48790356516838074\n"
     ]
    },
    {
     "name": "stderr",
     "output_type": "stream",
     "text": [
      "\u001b[32m[I 2022-10-06 15:00:27,295]\u001b[0m Trial 33 finished with values: [0.4864371716976166, 0.82] and parameters: {'lr': 0.0001067399707577293, 'l1': 0.3711024030364024, 'l2': 0.7048986593997372}. \u001b[0m\n"
     ]
    },
    {
     "name": "stdout",
     "output_type": "stream",
     "text": [
      "Dictionary: \n",
      "0:  {'precision': 0.7725225225225225, 'recall': 0.849009900990099, 'f1-score': 0.8089622641509433, 'support': 404}\n",
      "1:  {'precision': 0.8662280701754386, 'recall': 0.7963709677419355, 'f1-score': 0.8298319327731093, 'support': 496}\n",
      "acc:  0.82\n",
      "train_loss: 3.0788779258728027, val: 0.6085219383239746\n",
      "train_loss: 2.8944008350372314, val: 0.47664615511894226\n",
      "train_loss: 2.8912503719329834, val: 0.47614702582359314\n",
      "train_loss: 2.889922857284546, val: 0.4760994613170624\n",
      "train_loss: 2.8885416984558105, val: 0.4755091369152069\n",
      "train_loss: 2.8860058784484863, val: 0.47345826029777527\n",
      "train_loss: 2.8808603286743164, val: 0.4682735204696655\n",
      "train_loss: 2.8734447956085205, val: 0.45967593789100647\n",
      "train_loss: 2.8660144805908203, val: 0.4512019157409668\n",
      "train_loss: 2.860856294631958, val: 0.44563212990760803\n",
      "train_loss: 2.857083559036255, val: 0.44340798258781433\n",
      "train_loss: 2.8521502017974854, val: 0.44078710675239563\n",
      "train_loss: 2.8447957038879395, val: 0.4372953772544861\n",
      "train_loss: 2.8391659259796143, val: 0.4338231384754181\n",
      "train_loss: 2.8362326622009277, val: 0.4304688274860382\n"
     ]
    },
    {
     "name": "stderr",
     "output_type": "stream",
     "text": [
      "\u001b[32m[I 2022-10-06 15:07:29,574]\u001b[0m Trial 34 finished with values: [0.42877617478370667, 0.8833333333333333] and parameters: {'lr': 0.0009373195135397142, 'l1': 0.266960228482473, 'l2': 0.6286754349679858}. \u001b[0m\n"
     ]
    },
    {
     "name": "stdout",
     "output_type": "stream",
     "text": [
      "Dictionary: \n",
      "0:  {'precision': 0.8671171171171171, 'recall': 0.8932714617169374, 'f1-score': 0.88, 'support': 431}\n",
      "1:  {'precision': 0.8991228070175439, 'recall': 0.8742004264392325, 'f1-score': 0.8864864864864865, 'support': 469}\n",
      "acc:  0.8833333333333333\n",
      "train_loss: 5.258812427520752, val: 0.584942638874054\n",
      "train_loss: 5.087183475494385, val: 0.4759145677089691\n",
      "train_loss: 5.08341121673584, val: 0.4751223623752594\n",
      "train_loss: 5.0793914794921875, val: 0.47315680980682373\n",
      "train_loss: 5.070867538452148, val: 0.4660458266735077\n",
      "train_loss: 5.056534290313721, val: 0.45334741473197937\n",
      "train_loss: 5.044364929199219, val: 0.44402727484703064\n",
      "train_loss: 5.036501884460449, val: 0.43589627742767334\n",
      "train_loss: 5.0327467918396, val: 0.431743323802948\n",
      "train_loss: 5.030767917633057, val: 0.4296836853027344\n",
      "train_loss: 5.029523849487305, val: 0.4286735951900482\n",
      "train_loss: 5.0286784172058105, val: 0.4282689094543457\n",
      "train_loss: 5.028055191040039, val: 0.4282691776752472\n",
      "train_loss: 5.027552604675293, val: 0.42858776450157166\n",
      "train_loss: 5.027132034301758, val: 0.42920607328414917\n"
     ]
    },
    {
     "name": "stderr",
     "output_type": "stream",
     "text": [
      "\u001b[32m[I 2022-10-06 15:13:48,217]\u001b[0m Trial 35 finished with values: [0.4300428330898285, 0.8722222222222222] and parameters: {'lr': 0.0009419568375440367, 'l1': 0.37443718148587296, 'l2': 0.9284769561957503}. \u001b[0m\n"
     ]
    },
    {
     "name": "stdout",
     "output_type": "stream",
     "text": [
      "Dictionary: \n",
      "0:  {'precision': 0.8355855855855856, 'recall': 0.8983050847457628, 'f1-score': 0.8658109684947491, 'support': 413}\n",
      "1:  {'precision': 0.9078947368421053, 'recall': 0.8501026694045175, 'f1-score': 0.8780487804878049, 'support': 487}\n",
      "acc:  0.8722222222222222\n",
      "train_loss: 3.2431633472442627, val: 0.6339340209960938\n",
      "train_loss: 3.050171375274658, val: 0.47730299830436707\n",
      "train_loss: 3.04583477973938, val: 0.4754478931427002\n",
      "train_loss: 3.044168472290039, val: 0.47516995668411255\n",
      "train_loss: 3.0427284240722656, val: 0.4747006595134735\n",
      "train_loss: 3.040724277496338, val: 0.47346386313438416\n",
      "train_loss: 3.037372589111328, val: 0.470724493265152\n",
      "train_loss: 3.0319461822509766, val: 0.4656282365322113\n",
      "train_loss: 3.0246429443359375, val: 0.45864179730415344\n",
      "train_loss: 3.0169436931610107, val: 0.45068466663360596\n",
      "train_loss: 3.008380651473999, val: 0.4420543313026428\n",
      "train_loss: 2.999713182449341, val: 0.43514344096183777\n",
      "train_loss: 2.9948251247406006, val: 0.4311596155166626\n",
      "train_loss: 2.9922473430633545, val: 0.4291595220565796\n",
      "train_loss: 2.990802764892578, val: 0.4282643795013428\n"
     ]
    },
    {
     "name": "stderr",
     "output_type": "stream",
     "text": [
      "\u001b[32m[I 2022-10-06 15:19:58,821]\u001b[0m Trial 36 finished with values: [0.4278884530067444, 0.88] and parameters: {'lr': 0.0006014100789954094, 'l1': 0.057464086267402445, 'l2': 0.714399831862365}. \u001b[0m\n"
     ]
    },
    {
     "name": "stdout",
     "output_type": "stream",
     "text": [
      "Dictionary: \n",
      "0:  {'precision': 0.8648648648648649, 'recall': 0.8888888888888888, 'f1-score': 0.8767123287671232, 'support': 432}\n",
      "1:  {'precision': 0.8947368421052632, 'recall': 0.8717948717948718, 'f1-score': 0.8831168831168831, 'support': 468}\n",
      "acc:  0.88\n",
      "train_loss: 5.443930149078369, val: 0.6137496829032898\n",
      "train_loss: 5.259380340576172, val: 0.47622981667518616\n",
      "train_loss: 5.254790306091309, val: 0.4744200110435486\n",
      "train_loss: 5.2517619132995605, val: 0.47278931736946106\n",
      "train_loss: 5.2466206550598145, val: 0.4682065546512604\n",
      "train_loss: 5.237984657287598, val: 0.4591892659664154\n",
      "train_loss: 5.229010581970215, val: 0.44991904497146606\n",
      "train_loss: 5.2224249839782715, val: 0.44416728615760803\n",
      "train_loss: 5.216366767883301, val: 0.44028809666633606\n",
      "train_loss: 5.209981441497803, val: 0.43636295199394226\n",
      "train_loss: 5.205227851867676, val: 0.43292081356048584\n",
      "train_loss: 5.202531337738037, val: 0.4299637973308563\n",
      "train_loss: 5.2010345458984375, val: 0.4282723367214203\n",
      "train_loss: 5.200151443481445, val: 0.42750832438468933\n",
      "train_loss: 5.199570655822754, val: 0.4273192584514618\n"
     ]
    },
    {
     "name": "stderr",
     "output_type": "stream",
     "text": [
      "\u001b[32m[I 2022-10-06 15:25:57,688]\u001b[0m Trial 37 finished with values: [0.42737820744514465, 0.8844444444444445] and parameters: {'lr': 0.0006317806454513206, 'l1': 0.40670084017540087, 'l2': 0.3255533902429314}. \u001b[0m\n"
     ]
    },
    {
     "name": "stdout",
     "output_type": "stream",
     "text": [
      "Dictionary: \n",
      "0:  {'precision': 0.8603603603603603, 'recall': 0.9009433962264151, 'f1-score': 0.8801843317972351, 'support': 424}\n",
      "1:  {'precision': 0.9078947368421053, 'recall': 0.8697478991596639, 'f1-score': 0.888412017167382, 'support': 476}\n",
      "acc:  0.8844444444444445\n",
      "train_loss: 2.997185230255127, val: 0.635115385055542\n",
      "train_loss: 2.86625075340271, val: 0.5531299114227295\n",
      "train_loss: 2.850581169128418, val: 0.5343224406242371\n",
      "train_loss: 2.8282036781311035, val: 0.5029788017272949\n",
      "train_loss: 2.8101274967193604, val: 0.48286956548690796\n",
      "train_loss: 2.797107219696045, val: 0.47175392508506775\n",
      "train_loss: 2.786074161529541, val: 0.46371209621429443\n",
      "train_loss: 2.78074049949646, val: 0.4605933725833893\n",
      "train_loss: 2.7778425216674805, val: 0.4594850242137909\n",
      "train_loss: 2.775458812713623, val: 0.4583682417869568\n",
      "train_loss: 2.7728607654571533, val: 0.4565039873123169\n",
      "train_loss: 2.76938533782959, val: 0.4532935321331024\n",
      "train_loss: 2.7643067836761475, val: 0.44810721278190613\n",
      "train_loss: 2.7577714920043945, val: 0.4410513639450073\n",
      "train_loss: 2.752318859100342, val: 0.4343947172164917\n"
     ]
    },
    {
     "name": "stderr",
     "output_type": "stream",
     "text": [
      "\u001b[32m[I 2022-10-06 15:31:48,207]\u001b[0m Trial 38 finished with values: [0.43061769008636475, 0.8744444444444445] and parameters: {'lr': 0.0009164345220001244, 'l1': 0.10597010151254968, 'l2': 0.7682722390388945}. \u001b[0m\n"
     ]
    },
    {
     "name": "stdout",
     "output_type": "stream",
     "text": [
      "Dictionary: \n",
      "0:  {'precision': 0.8513513513513513, 'recall': 0.8894117647058823, 'f1-score': 0.8699654775604143, 'support': 425}\n",
      "1:  {'precision': 0.8969298245614035, 'recall': 0.8610526315789474, 'f1-score': 0.8786251342642319, 'support': 475}\n",
      "acc:  0.8744444444444445\n",
      "train_loss: 7.077179908752441, val: 0.6821287274360657\n",
      "train_loss: 6.916999340057373, val: 0.5248317718505859\n",
      "train_loss: 6.881391525268555, val: 0.4904133081436157\n",
      "train_loss: 6.87263822555542, val: 0.482103556394577\n",
      "train_loss: 6.868990421295166, val: 0.4790281057357788\n",
      "train_loss: 6.86702299118042, val: 0.4776020348072052\n",
      "train_loss: 6.865785598754883, val: 0.4768528640270233\n",
      "train_loss: 6.864926338195801, val: 0.47642582654953003\n",
      "train_loss: 6.864283084869385, val: 0.4761664867401123\n",
      "train_loss: 6.863761901855469, val: 0.4759979248046875\n",
      "train_loss: 6.863325119018555, val: 0.4758796989917755\n",
      "train_loss: 6.8629326820373535, val: 0.4757867157459259\n",
      "train_loss: 6.862567901611328, val: 0.47570303082466125\n",
      "train_loss: 6.862208843231201, val: 0.4756186306476593\n",
      "train_loss: 6.861832618713379, val: 0.47552409768104553\n"
     ]
    },
    {
     "name": "stderr",
     "output_type": "stream",
     "text": [
      "\u001b[32m[I 2022-10-06 15:37:38,839]\u001b[0m Trial 39 finished with values: [0.47542479634284973, 0.8255555555555556] and parameters: {'lr': 0.00014795040391006416, 'l1': 0.9933951575563149, 'l2': 0.4985445997594756}. \u001b[0m\n"
     ]
    },
    {
     "name": "stdout",
     "output_type": "stream",
     "text": [
      "Dictionary: \n",
      "0:  {'precision': 0.7725225225225225, 'recall': 0.8596491228070176, 'f1-score': 0.8137603795966786, 'support': 399}\n",
      "1:  {'precision': 0.8771929824561403, 'recall': 0.7984031936127745, 'f1-score': 0.8359456635318704, 'support': 501}\n",
      "acc:  0.8255555555555556\n",
      "train_loss: 5.2248992919921875, val: 0.6726347208023071\n",
      "train_loss: 5.04204797744751, val: 0.4985620379447937\n",
      "train_loss: 5.022587299346924, val: 0.4811990559101105\n",
      "train_loss: 5.01791524887085, val: 0.47749465703964233\n",
      "train_loss: 5.015896320343018, val: 0.47627830505371094\n",
      "train_loss: 5.014723777770996, val: 0.4757736027240753\n",
      "train_loss: 5.0138702392578125, val: 0.4755072593688965\n",
      "train_loss: 5.0131306648254395, val: 0.475300133228302\n",
      "train_loss: 5.012378692626953, val: 0.47506070137023926\n",
      "train_loss: 5.011501312255859, val: 0.47471579909324646\n",
      "train_loss: 5.010399341583252, val: 0.47418704628944397\n",
      "train_loss: 5.008942604064941, val: 0.473376601934433\n",
      "train_loss: 5.007011413574219, val: 0.4721601605415344\n",
      "train_loss: 5.004512786865234, val: 0.4704185426235199\n",
      "train_loss: 5.001471042633057, val: 0.4681392312049866\n"
     ]
    },
    {
     "name": "stderr",
     "output_type": "stream",
     "text": [
      "\u001b[32m[I 2022-10-06 15:43:36,876]\u001b[0m Trial 40 finished with values: [0.46583792567253113, 0.8355555555555556] and parameters: {'lr': 0.0002795899675642385, 'l1': 0.7817454574838513, 'l2': 0.4540122458801219}. \u001b[0m\n"
     ]
    },
    {
     "name": "stdout",
     "output_type": "stream",
     "text": [
      "Dictionary: \n",
      "0:  {'precision': 0.7905405405405406, 'recall': 0.8645320197044335, 'f1-score': 0.8258823529411765, 'support': 406}\n",
      "1:  {'precision': 0.8793859649122807, 'recall': 0.8117408906882592, 'f1-score': 0.8442105263157895, 'support': 494}\n",
      "acc:  0.8355555555555556\n",
      "train_loss: 4.314571380615234, val: 0.5816103219985962\n",
      "train_loss: 4.144619941711426, val: 0.47559165954589844\n",
      "train_loss: 4.140472888946533, val: 0.4744229018688202\n",
      "train_loss: 4.1351823806762695, val: 0.4716419577598572\n",
      "train_loss: 4.124707221984863, val: 0.4629606306552887\n",
      "train_loss: 4.115444183349609, val: 0.4570287764072418\n",
      "train_loss: 4.111355304718018, val: 0.45421791076660156\n",
      "train_loss: 4.106694221496582, val: 0.4503858983516693\n",
      "train_loss: 4.099759578704834, val: 0.44445356726646423\n",
      "train_loss: 4.093691349029541, val: 0.4372725188732147\n",
      "train_loss: 4.090506553649902, val: 0.4330499768257141\n",
      "train_loss: 4.088814735412598, val: 0.43064555525779724\n",
      "train_loss: 4.087833404541016, val: 0.42926904559135437\n",
      "train_loss: 4.087155818939209, val: 0.42848846316337585\n",
      "train_loss: 4.086631774902344, val: 0.42803409695625305\n"
     ]
    },
    {
     "name": "stderr",
     "output_type": "stream",
     "text": [
      "\u001b[32m[I 2022-10-06 15:49:31,790]\u001b[0m Trial 41 finished with values: [0.4277901351451874, 0.8822222222222222] and parameters: {'lr': 0.0007382067747357887, 'l1': 0.13896294590282793, 'l2': 0.7368243604163967}. \u001b[0m\n"
     ]
    },
    {
     "name": "stdout",
     "output_type": "stream",
     "text": [
      "Dictionary: \n",
      "0:  {'precision': 0.8603603603603603, 'recall': 0.8967136150234741, 'f1-score': 0.8781609195402298, 'support': 426}\n",
      "1:  {'precision': 0.9035087719298246, 'recall': 0.869198312236287, 'f1-score': 0.8860215053763442, 'support': 474}\n",
      "acc:  0.8822222222222222\n",
      "train_loss: 7.151093482971191, val: 0.6012168526649475\n",
      "train_loss: 6.970920085906982, val: 0.47632738947868347\n",
      "train_loss: 6.96766471862793, val: 0.4759449064731598\n",
      "train_loss: 6.966217994689941, val: 0.4761412739753723\n",
      "train_loss: 6.964793682098389, val: 0.47586336731910706\n",
      "train_loss: 6.962495803833008, val: 0.4743877351284027\n",
      "train_loss: 6.958251953125, val: 0.4704557955265045\n",
      "train_loss: 6.9516730308532715, val: 0.4631189703941345\n",
      "train_loss: 6.9436421394348145, val: 0.4551423490047455\n",
      "train_loss: 6.936553478240967, val: 0.4476158022880554\n",
      "train_loss: 6.927583694458008, val: 0.4398321509361267\n",
      "train_loss: 6.91909646987915, val: 0.43332403898239136\n",
      "train_loss: 6.915355205535889, val: 0.43030861020088196\n",
      "train_loss: 6.913384437561035, val: 0.42899900674819946\n",
      "train_loss: 6.9121809005737305, val: 0.42825546860694885\n"
     ]
    },
    {
     "name": "stderr",
     "output_type": "stream",
     "text": [
      "\u001b[32m[I 2022-10-06 15:55:25,378]\u001b[0m Trial 42 finished with values: [0.4278610050678253, 0.88] and parameters: {'lr': 0.000836043152764922, 'l1': 0.9679878386701902, 'l2': 0.4514783663845029}. \u001b[0m\n"
     ]
    },
    {
     "name": "stdout",
     "output_type": "stream",
     "text": [
      "Dictionary: \n",
      "0:  {'precision': 0.8693693693693694, 'recall': 0.8853211009174312, 'f1-score': 0.8772727272727273, 'support': 436}\n",
      "1:  {'precision': 0.8903508771929824, 'recall': 0.875, 'f1-score': 0.8826086956521738, 'support': 464}\n",
      "acc:  0.88\n",
      "train_loss: 3.8056507110595703, val: 0.6820708513259888\n",
      "train_loss: 3.6477181911468506, val: 0.5212294459342957\n",
      "train_loss: 3.6133384704589844, val: 0.4904216229915619\n",
      "train_loss: 3.602651596069336, val: 0.4822748601436615\n",
      "train_loss: 3.5980379581451416, val: 0.47915321588516235\n",
      "train_loss: 3.5956180095672607, val: 0.47764793038368225\n",
      "train_loss: 3.5941555500030518, val: 0.4768342077732086\n",
      "train_loss: 3.5931873321533203, val: 0.47636497020721436\n",
      "train_loss: 3.5924928188323975, val: 0.47608357667922974\n",
      "train_loss: 3.5919713973999023, val: 0.4759085476398468\n",
      "train_loss: 3.5915472507476807, val: 0.47579532861709595\n",
      "train_loss: 3.5912022590637207, val: 0.4757178723812103\n",
      "train_loss: 3.5909008979797363, val: 0.47565868496894836\n",
      "train_loss: 3.5906243324279785, val: 0.475605845451355\n",
      "train_loss: 3.5903701782226562, val: 0.47555145621299744\n"
     ]
    },
    {
     "name": "stderr",
     "output_type": "stream",
     "text": [
      "\u001b[32m[I 2022-10-06 16:01:22,550]\u001b[0m Trial 43 finished with values: [0.475495308637619, 0.8266666666666667] and parameters: {'lr': 0.00017153103389245042, 'l1': 0.11230513768534561, 'l2': 0.8486344384908688}. \u001b[0m\n"
     ]
    },
    {
     "name": "stdout",
     "output_type": "stream",
     "text": [
      "Dictionary: \n",
      "0:  {'precision': 0.777027027027027, 'recall': 0.8582089552238806, 'f1-score': 0.8156028368794327, 'support': 402}\n",
      "1:  {'precision': 0.875, 'recall': 0.8012048192771084, 'f1-score': 0.8364779874213836, 'support': 498}\n",
      "acc:  0.8266666666666667\n",
      "train_loss: 3.2635180950164795, val: 0.6023686528205872\n",
      "train_loss: 3.0884509086608887, val: 0.4768449366092682\n",
      "train_loss: 3.084733247756958, val: 0.47584614157676697\n",
      "train_loss: 3.082956314086914, val: 0.4757811725139618\n",
      "train_loss: 3.0807602405548096, val: 0.4751901626586914\n",
      "train_loss: 3.076932668685913, val: 0.47303369641304016\n",
      "train_loss: 3.070453405380249, val: 0.46714743971824646\n",
      "train_loss: 3.0633158683776855, val: 0.4617280960083008\n",
      "train_loss: 3.059443235397339, val: 0.46022215485572815\n",
      "train_loss: 3.0574069023132324, val: 0.45921099185943604\n",
      "train_loss: 3.0556235313415527, val: 0.45806780457496643\n",
      "train_loss: 3.053554058074951, val: 0.45654135942459106\n",
      "train_loss: 3.0508430004119873, val: 0.4543766677379608\n",
      "train_loss: 3.047211170196533, val: 0.45131897926330566\n",
      "train_loss: 3.042612075805664, val: 0.44708052277565\n"
     ]
    },
    {
     "name": "stderr",
     "output_type": "stream",
     "text": [
      "\u001b[32m[I 2022-10-06 16:07:34,115]\u001b[0m Trial 44 finished with values: [0.44219276309013367, 0.8666666666666667] and parameters: {'lr': 0.0007272340972131606, 'l1': 0.12339355075277843, 'l2': 0.8348881088008753}. \u001b[0m\n"
     ]
    },
    {
     "name": "stdout",
     "output_type": "stream",
     "text": [
      "Dictionary: \n",
      "0:  {'precision': 0.8603603603603603, 'recall': 0.8681818181818182, 'f1-score': 0.8642533936651585, 'support': 440}\n",
      "1:  {'precision': 0.8728070175438597, 'recall': 0.8652173913043478, 'f1-score': 0.868995633187773, 'support': 460}\n",
      "acc:  0.8666666666666667\n",
      "train_loss: 5.32396125793457, val: 0.6482897996902466\n",
      "train_loss: 5.124988555908203, val: 0.47773683071136475\n",
      "train_loss: 5.119988918304443, val: 0.4757347106933594\n",
      "train_loss: 5.11848258972168, val: 0.4757571518421173\n",
      "train_loss: 5.117678642272949, val: 0.47594889998435974\n",
      "train_loss: 5.117042064666748, val: 0.47606202960014343\n",
      "train_loss: 5.116401672363281, val: 0.47599419951438904\n",
      "train_loss: 5.115579605102539, val: 0.4756375551223755\n",
      "train_loss: 5.114395618438721, val: 0.4748256206512451\n",
      "train_loss: 5.112576961517334, val: 0.4733083248138428\n",
      "train_loss: 5.109861850738525, val: 0.4707610309123993\n",
      "train_loss: 5.106143951416016, val: 0.466867595911026\n",
      "train_loss: 5.101546764373779, val: 0.4618323743343353\n",
      "train_loss: 5.096332550048828, val: 0.4563002586364746\n",
      "train_loss: 5.090761184692383, val: 0.44992318749427795\n"
     ]
    },
    {
     "name": "stderr",
     "output_type": "stream",
     "text": [
      "\u001b[32m[I 2022-10-06 16:13:31,339]\u001b[0m Trial 45 finished with values: [0.4440915286540985, 0.8644444444444445] and parameters: {'lr': 0.0007042476201662932, 'l1': 0.8747171561540383, 'l2': 0.9567751134118037}. \u001b[0m\n"
     ]
    },
    {
     "name": "stdout",
     "output_type": "stream",
     "text": [
      "Dictionary: \n",
      "0:  {'precision': 0.8468468468468469, 'recall': 0.8744186046511628, 'f1-score': 0.8604118993135011, 'support': 430}\n",
      "1:  {'precision': 0.881578947368421, 'recall': 0.8553191489361702, 'f1-score': 0.8682505399568033, 'support': 470}\n",
      "acc:  0.8644444444444445\n",
      "train_loss: 3.0071747303009033, val: 0.6434615254402161\n",
      "train_loss: 2.8313939571380615, val: 0.49402034282684326\n",
      "train_loss: 2.8142473697662354, val: 0.477737694978714\n",
      "train_loss: 2.8093409538269043, val: 0.4744119942188263\n",
      "train_loss: 2.8047597408294678, val: 0.47142916917800903\n",
      "train_loss: 2.7977423667907715, val: 0.46599081158638\n",
      "train_loss: 2.7886605262756348, val: 0.4582619071006775\n",
      "train_loss: 2.7811176776885986, val: 0.4524146020412445\n",
      "train_loss: 2.7742204666137695, val: 0.44723647832870483\n",
      "train_loss: 2.767246723175049, val: 0.44087502360343933\n",
      "train_loss: 2.7619388103485107, val: 0.43546542525291443\n",
      "train_loss: 2.7588999271392822, val: 0.4322199821472168\n",
      "train_loss: 2.7571494579315186, val: 0.4304138422012329\n",
      "train_loss: 2.756021499633789, val: 0.42937755584716797\n",
      "train_loss: 2.7552125453948975, val: 0.4287585914134979\n"
     ]
    },
    {
     "name": "stderr",
     "output_type": "stream",
     "text": [
      "\u001b[32m[I 2022-10-06 16:19:28,162]\u001b[0m Trial 46 finished with values: [0.42840760946273804, 0.8811111111111111] and parameters: {'lr': 0.0005281774852246019, 'l1': 0.14291575660336367, 'l2': 0.32394890429517326}. \u001b[0m\n"
     ]
    },
    {
     "name": "stdout",
     "output_type": "stream",
     "text": [
      "Dictionary: \n",
      "0:  {'precision': 0.8603603603603603, 'recall': 0.8946135831381733, 'f1-score': 0.8771526980482204, 'support': 427}\n",
      "1:  {'precision': 0.9013157894736842, 'recall': 0.86892177589852, 'f1-score': 0.8848223896663079, 'support': 473}\n",
      "acc:  0.8811111111111111\n",
      "train_loss: 6.364837646484375, val: 0.690620481967926\n",
      "train_loss: 6.318294525146484, val: 0.6423353552818298\n",
      "train_loss: 6.25606107711792, val: 0.5790683627128601\n",
      "train_loss: 6.21240758895874, val: 0.5357698798179626\n",
      "train_loss: 6.189522743225098, val: 0.5131956338882446\n",
      "train_loss: 6.1771345138549805, val: 0.5010978579521179\n",
      "train_loss: 6.1697492599487305, val: 0.4940165877342224\n",
      "train_loss: 6.164934158325195, val: 0.48953211307525635\n",
      "train_loss: 6.161596298217773, val: 0.48651134967803955\n",
      "train_loss: 6.159163951873779, val: 0.484375923871994\n",
      "train_loss: 6.157313823699951, val: 0.4828105568885803\n",
      "train_loss: 6.155869960784912, val: 0.4816271662712097\n",
      "train_loss: 6.154717922210693, val: 0.48071083426475525\n",
      "train_loss: 6.153773307800293, val: 0.47998660802841187\n",
      "train_loss: 6.152988910675049, val: 0.4794040620326996\n"
     ]
    },
    {
     "name": "stderr",
     "output_type": "stream",
     "text": [
      "\u001b[32m[I 2022-10-06 16:25:23,120]\u001b[0m Trial 47 finished with values: [0.47897225618362427, 0.8288888888888889] and parameters: {'lr': 3.645019338639253e-05, 'l1': 0.6715042573691964, 'l2': 0.25599949150845974}. \u001b[0m\n"
     ]
    },
    {
     "name": "stdout",
     "output_type": "stream",
     "text": [
      "Dictionary: \n",
      "0:  {'precision': 0.7702702702702703, 'recall': 0.868020304568528, 'f1-score': 0.8162291169451074, 'support': 394}\n",
      "1:  {'precision': 0.8859649122807017, 'recall': 0.7984189723320159, 'f1-score': 0.8399168399168399, 'support': 506}\n",
      "acc:  0.8288888888888889\n",
      "train_loss: 4.214910984039307, val: 0.6249244213104248\n",
      "train_loss: 4.0276923179626465, val: 0.4778769612312317\n",
      "train_loss: 4.021971225738525, val: 0.4755677282810211\n",
      "train_loss: 4.0204315185546875, val: 0.47550201416015625\n",
      "train_loss: 4.019659996032715, val: 0.4756792187690735\n",
      "train_loss: 4.019104957580566, val: 0.4758440852165222\n",
      "train_loss: 4.018579006195068, val: 0.4759100377559662\n",
      "train_loss: 4.017956256866455, val: 0.47579824924468994\n",
      "train_loss: 4.017091274261475, val: 0.47539225220680237\n",
      "train_loss: 4.015789985656738, val: 0.47450754046440125\n",
      "train_loss: 4.013821125030518, val: 0.472875714302063\n",
      "train_loss: 4.0109663009643555, val: 0.47014740109443665\n",
      "train_loss: 4.007081985473633, val: 0.4660607874393463\n",
      "train_loss: 4.002231597900391, val: 0.46110233664512634\n",
      "train_loss: 3.9967057704925537, val: 0.45573890209198\n"
     ]
    },
    {
     "name": "stderr",
     "output_type": "stream",
     "text": [
      "\u001b[32m[I 2022-10-06 16:31:15,432]\u001b[0m Trial 48 finished with values: [0.44997549057006836, 0.8533333333333334] and parameters: {'lr': 0.00063671168665999, 'l1': 0.49972056902108103, 'l2': 0.487622320818622}. \u001b[0m\n"
     ]
    },
    {
     "name": "stdout",
     "output_type": "stream",
     "text": [
      "Dictionary: \n",
      "0:  {'precision': 0.8153153153153153, 'recall': 0.8786407766990292, 'f1-score': 0.8457943925233645, 'support': 412}\n",
      "1:  {'precision': 0.8903508771929824, 'recall': 0.8319672131147541, 'f1-score': 0.8601694915254237, 'support': 488}\n",
      "acc:  0.8533333333333334\n",
      "train_loss: 9.129501342773438, val: 0.6743243336677551\n",
      "train_loss: 8.981127738952637, val: 0.5387036800384521\n",
      "train_loss: 8.950517654418945, val: 0.5062186121940613\n",
      "train_loss: 8.934974670410156, val: 0.4893605709075928\n",
      "train_loss: 8.927727699279785, val: 0.4820356070995331\n",
      "train_loss: 8.924234390258789, val: 0.47889265418052673\n",
      "train_loss: 8.922182083129883, val: 0.47728031873703003\n",
      "train_loss: 8.920623779296875, val: 0.476268470287323\n",
      "train_loss: 8.919264793395996, val: 0.47548097372055054\n",
      "train_loss: 8.917892456054688, val: 0.474722295999527\n",
      "train_loss: 8.916333198547363, val: 0.4738512933254242\n",
      "train_loss: 8.914473533630371, val: 0.4727412164211273\n",
      "train_loss: 8.912166595458984, val: 0.47127458453178406\n",
      "train_loss: 8.909358978271484, val: 0.4693794548511505\n",
      "train_loss: 8.906086921691895, val: 0.46712562441825867\n"
     ]
    },
    {
     "name": "stderr",
     "output_type": "stream",
     "text": [
      "\u001b[32m[I 2022-10-06 16:37:12,822]\u001b[0m Trial 49 finished with values: [0.4650287926197052, 0.8433333333333334] and parameters: {'lr': 0.0001985981321318753, 'l1': 0.5714467716559368, 'l2': 0.9677891723461456}. \u001b[0m\n"
     ]
    },
    {
     "name": "stdout",
     "output_type": "stream",
     "text": [
      "Dictionary: \n",
      "0:  {'precision': 0.8063063063063063, 'recall': 0.8668280871670703, 'f1-score': 0.8354725787631272, 'support': 413}\n",
      "1:  {'precision': 0.8793859649122807, 'recall': 0.8234086242299795, 'f1-score': 0.8504772004241782, 'support': 487}\n",
      "acc:  0.8433333333333334\n",
      "train_loss: 7.751449108123779, val: 0.6207246780395508\n",
      "train_loss: 7.596576690673828, val: 0.5057479739189148\n",
      "train_loss: 7.57097864151001, val: 0.4787730574607849\n",
      "train_loss: 7.561832904815674, val: 0.472348690032959\n",
      "train_loss: 7.550497055053711, val: 0.4645909070968628\n",
      "train_loss: 7.541966915130615, val: 0.45937490463256836\n",
      "train_loss: 7.539121150970459, val: 0.45809927582740784\n",
      "train_loss: 7.537412166595459, val: 0.457387775182724\n",
      "train_loss: 7.535679340362549, val: 0.4563654661178589\n",
      "train_loss: 7.533458232879639, val: 0.45461928844451904\n",
      "train_loss: 7.530187606811523, val: 0.4516678750514984\n",
      "train_loss: 7.525581359863281, val: 0.44728198647499084\n",
      "train_loss: 7.5200419425964355, val: 0.4414861500263214\n",
      "train_loss: 7.515542030334473, val: 0.43617331981658936\n",
      "train_loss: 7.512991905212402, val: 0.432920902967453\n"
     ]
    },
    {
     "name": "stderr",
     "output_type": "stream",
     "text": [
      "\u001b[32m[I 2022-10-06 16:43:09,401]\u001b[0m Trial 50 finished with values: [0.4309302866458893, 0.8722222222222222] and parameters: {'lr': 0.0006689753617129392, 'l1': 0.8889795565018982, 'l2': 0.4514783663845029}. \u001b[0m\n"
     ]
    },
    {
     "name": "stdout",
     "output_type": "stream",
     "text": [
      "Dictionary: \n",
      "0:  {'precision': 0.8378378378378378, 'recall': 0.8963855421686747, 'f1-score': 0.8661233993015134, 'support': 415}\n",
      "1:  {'precision': 0.9057017543859649, 'recall': 0.8515463917525773, 'f1-score': 0.87778958554729, 'support': 485}\n",
      "acc:  0.8722222222222222\n",
      "train_loss: 4.362578392028809, val: 0.6531589031219482\n",
      "train_loss: 4.166653633117676, val: 0.480426549911499\n",
      "train_loss: 4.159461498260498, val: 0.476209431886673\n",
      "train_loss: 4.157436847686768, val: 0.47568050026893616\n",
      "train_loss: 4.15637731552124, val: 0.47560226917266846\n",
      "train_loss: 4.1555609703063965, val: 0.47548794746398926\n",
      "train_loss: 4.154712677001953, val: 0.4751407206058502\n",
      "train_loss: 4.15358304977417, val: 0.4743466079235077\n",
      "train_loss: 4.151844024658203, val: 0.4727550148963928\n",
      "train_loss: 4.149034023284912, val: 0.46984556317329407\n",
      "train_loss: 4.144773006439209, val: 0.46516185998916626\n",
      "train_loss: 4.139371395111084, val: 0.4589443504810333\n",
      "train_loss: 4.134287357330322, val: 0.45311978459358215\n",
      "train_loss: 4.1307783126831055, val: 0.44960859417915344\n",
      "train_loss: 4.128649711608887, val: 0.4484088122844696\n"
     ]
    },
    {
     "name": "stderr",
     "output_type": "stream",
     "text": [
      "\u001b[32m[I 2022-10-06 16:49:04,891]\u001b[0m Trial 51 finished with values: [0.4481310546398163, 0.8633333333333333] and parameters: {'lr': 0.000599105045107139, 'l1': 0.5615639923021138, 'l2': 0.7843914786850423}. \u001b[0m\n"
     ]
    },
    {
     "name": "stdout",
     "output_type": "stream",
     "text": [
      "Dictionary: \n",
      "0:  {'precision': 0.8220720720720721, 'recall': 0.8924205378973105, 'f1-score': 0.8558030480656507, 'support': 409}\n",
      "1:  {'precision': 0.9035087719298246, 'recall': 0.8391038696537678, 'f1-score': 0.8701161562829991, 'support': 491}\n",
      "acc:  0.8633333333333333\n",
      "train_loss: 3.331183910369873, val: 0.5543187260627747\n",
      "train_loss: 3.1785829067230225, val: 0.47570860385894775\n",
      "train_loss: 3.1722123622894287, val: 0.4736833870410919\n",
      "train_loss: 3.158914566040039, val: 0.4654659926891327\n",
      "train_loss: 3.1513724327087402, val: 0.4610212743282318\n",
      "train_loss: 3.149600028991699, val: 0.45999082922935486\n",
      "train_loss: 3.148784637451172, val: 0.46004313230514526\n",
      "train_loss: 3.1482810974121094, val: 0.460350900888443\n",
      "train_loss: 3.147894859313965, val: 0.4606732428073883\n",
      "train_loss: 3.147545576095581, val: 0.46097686886787415\n",
      "train_loss: 3.1472043991088867, val: 0.4612538516521454\n",
      "train_loss: 3.146873712539673, val: 0.4614943563938141\n",
      "train_loss: 3.146545171737671, val: 0.4616749584674835\n",
      "train_loss: 3.146195411682129, val: 0.46174436807632446\n",
      "train_loss: 3.1457858085632324, val: 0.4616200923919678\n"
     ]
    },
    {
     "name": "stderr",
     "output_type": "stream",
     "text": [
      "\u001b[32m[I 2022-10-06 16:55:04,178]\u001b[0m Trial 52 finished with values: [0.46129241585731506, 0.8444444444444444] and parameters: {'lr': 0.0009976811035344495, 'l1': 0.2986599717752873, 'l2': 0.19788867438568317}. \u001b[0m\n"
     ]
    },
    {
     "name": "stdout",
     "output_type": "stream",
     "text": [
      "Dictionary: \n",
      "0:  {'precision': 0.8040540540540541, 'recall': 0.8707317073170732, 'f1-score': 0.8360655737704918, 'support': 410}\n",
      "1:  {'precision': 0.8837719298245614, 'recall': 0.8224489795918367, 'f1-score': 0.8520084566596193, 'support': 490}\n",
      "acc:  0.8444444444444444\n",
      "train_loss: 2.499913454055786, val: 0.636604905128479\n",
      "train_loss: 2.307587146759033, val: 0.47792765498161316\n",
      "train_loss: 2.302598714828491, val: 0.47536906599998474\n",
      "train_loss: 2.3006529808044434, val: 0.47480353713035583\n",
      "train_loss: 2.2988340854644775, val: 0.47392717003822327\n",
      "train_loss: 2.296138286590576, val: 0.4718836545944214\n",
      "train_loss: 2.291870594024658, val: 0.4680270552635193\n",
      "train_loss: 2.2861087322235107, val: 0.46242430806159973\n",
      "train_loss: 2.280035972595215, val: 0.45568692684173584\n",
      "train_loss: 2.2750589847564697, val: 0.4497050642967224\n",
      "train_loss: 2.2711501121520996, val: 0.44597479701042175\n",
      "train_loss: 2.2672760486602783, val: 0.44315487146377563\n",
      "train_loss: 2.2620372772216797, val: 0.4399983584880829\n",
      "train_loss: 2.255584478378296, val: 0.43639013171195984\n",
      "train_loss: 2.2512407302856445, val: 0.43354883790016174\n"
     ]
    },
    {
     "name": "stderr",
     "output_type": "stream",
     "text": [
      "\u001b[32m[I 2022-10-06 17:00:57,765]\u001b[0m Trial 53 finished with values: [0.4315834939479828, 0.8777777777777778] and parameters: {'lr': 0.0005281774852246019, 'l1': 0.04033944451777798, 'l2': 0.32394890429517326}. \u001b[0m\n"
     ]
    },
    {
     "name": "stdout",
     "output_type": "stream",
     "text": [
      "Dictionary: \n",
      "0:  {'precision': 0.8581081081081081, 'recall': 0.8901869158878505, 'f1-score': 0.8738532110091743, 'support': 428}\n",
      "1:  {'precision': 0.8969298245614035, 'recall': 0.8665254237288136, 'f1-score': 0.8814655172413792, 'support': 472}\n",
      "acc:  0.8777777777777778\n",
      "train_loss: 7.933863162994385, val: 0.565438985824585\n",
      "train_loss: 7.777374267578125, val: 0.4757830500602722\n",
      "train_loss: 7.773515701293945, val: 0.47489961981773376\n",
      "train_loss: 7.768032073974609, val: 0.47195887565612793\n",
      "train_loss: 7.756453990936279, val: 0.46212488412857056\n",
      "train_loss: 7.743725776672363, val: 0.4539535939693451\n",
      "train_loss: 7.7344255447387695, val: 0.44559764862060547\n",
      "train_loss: 7.726662635803223, val: 0.4365508258342743\n",
      "train_loss: 7.723045825958252, val: 0.43184614181518555\n",
      "train_loss: 7.721441745758057, val: 0.429475873708725\n",
      "train_loss: 7.720469951629639, val: 0.4283447563648224\n",
      "train_loss: 7.719761848449707, val: 0.42776522040367126\n",
      "train_loss: 7.719228267669678, val: 0.4274364709854126\n",
      "train_loss: 7.718823432922363, val: 0.4272461235523224\n",
      "train_loss: 7.718497276306152, val: 0.42713379859924316\n"
     ]
    },
    {
     "name": "stderr",
     "output_type": "stream",
     "text": [
      "\u001b[32m[I 2022-10-06 17:06:53,517]\u001b[0m Trial 54 finished with values: [0.4270605444908142, 0.8866666666666667] and parameters: {'lr': 0.0009373195135397142, 'l1': 0.9080300358556862, 'l2': 0.8284310530395744}. \u001b[0m\n"
     ]
    },
    {
     "name": "stdout",
     "output_type": "stream",
     "text": [
      "Dictionary: \n",
      "0:  {'precision': 0.8693693693693694, 'recall': 0.8976744186046511, 'f1-score': 0.8832951945080093, 'support': 430}\n",
      "1:  {'precision': 0.9035087719298246, 'recall': 0.8765957446808511, 'f1-score': 0.8898488120950324, 'support': 470}\n",
      "acc:  0.8866666666666667\n",
      "train_loss: 4.546603202819824, val: 0.6607742309570312\n",
      "train_loss: 4.356751918792725, val: 0.48963847756385803\n",
      "train_loss: 4.343357563018799, val: 0.47754135727882385\n",
      "train_loss: 4.339839458465576, val: 0.47521230578422546\n",
      "train_loss: 4.337596893310547, val: 0.4738944172859192\n",
      "train_loss: 4.334856033325195, val: 0.47186532616615295\n",
      "train_loss: 4.3301849365234375, val: 0.4676627516746521\n",
      "train_loss: 4.322676181793213, val: 0.46011075377464294\n",
      "train_loss: 4.313735485076904, val: 0.4504697024822235\n",
      "train_loss: 4.305287837982178, val: 0.4425048828125\n",
      "train_loss: 4.297924995422363, val: 0.4367814362049103\n",
      "train_loss: 4.292488098144531, val: 0.43267783522605896\n",
      "train_loss: 4.289121627807617, val: 0.42991700768470764\n",
      "train_loss: 4.287211894989014, val: 0.42849841713905334\n",
      "train_loss: 4.286063194274902, val: 0.42786169052124023\n"
     ]
    },
    {
     "name": "stderr",
     "output_type": "stream",
     "text": [
      "\u001b[32m[I 2022-10-06 17:12:49,678]\u001b[0m Trial 55 finished with values: [0.4276050329208374, 0.88] and parameters: {'lr': 0.000569833545265545, 'l1': 0.4968268024998351, 'l2': 0.5101095141414179}. \u001b[0m\n"
     ]
    },
    {
     "name": "stdout",
     "output_type": "stream",
     "text": [
      "Dictionary: \n",
      "0:  {'precision': 0.8558558558558559, 'recall': 0.8962264150943396, 'f1-score': 0.8755760368663594, 'support': 424}\n",
      "1:  {'precision': 0.9035087719298246, 'recall': 0.865546218487395, 'f1-score': 0.8841201716738198, 'support': 476}\n",
      "acc:  0.88\n",
      "train_loss: 6.505957126617432, val: 0.6197685599327087\n",
      "train_loss: 6.322147369384766, val: 0.4778640568256378\n",
      "train_loss: 6.316843509674072, val: 0.475426584482193\n",
      "train_loss: 6.313532829284668, val: 0.47404932975769043\n",
      "train_loss: 6.307961940765381, val: 0.46997761726379395\n",
      "train_loss: 6.298293590545654, val: 0.46101492643356323\n",
      "train_loss: 6.288907051086426, val: 0.452509343624115\n",
      "train_loss: 6.279640197753906, val: 0.4469549357891083\n",
      "train_loss: 6.270968914031982, val: 0.4390341639518738\n",
      "train_loss: 6.265875816345215, val: 0.4335199296474457\n",
      "train_loss: 6.263415336608887, val: 0.43036603927612305\n",
      "train_loss: 6.26197624206543, val: 0.42865702509880066\n",
      "train_loss: 6.261031627655029, val: 0.4277849793434143\n",
      "train_loss: 6.260383605957031, val: 0.42736175656318665\n",
      "train_loss: 6.259922504425049, val: 0.427171915769577\n"
     ]
    },
    {
     "name": "stderr",
     "output_type": "stream",
     "text": [
      "\u001b[32m[I 2022-10-06 17:18:41,486]\u001b[0m Trial 56 finished with values: [0.42710575461387634, 0.8811111111111111] and parameters: {'lr': 0.0007507894013960252, 'l1': 0.8124391756196102, 'l2': 0.21325699458044414}. \u001b[0m\n"
     ]
    },
    {
     "name": "stdout",
     "output_type": "stream",
     "text": [
      "Dictionary: \n",
      "0:  {'precision': 0.8626126126126126, 'recall': 0.8927738927738927, 'f1-score': 0.877434135166094, 'support': 429}\n",
      "1:  {'precision': 0.8991228070175439, 'recall': 0.8704883227176221, 'f1-score': 0.8845738942826322, 'support': 471}\n",
      "acc:  0.8811111111111111\n",
      "train_loss: 8.42243766784668, val: 0.647723376750946\n",
      "train_loss: 8.267989158630371, val: 0.5247119069099426\n",
      "train_loss: 8.238619804382324, val: 0.4897543489933014\n",
      "train_loss: 8.227238655090332, val: 0.47862720489501953\n",
      "train_loss: 8.22203540802002, val: 0.4747294783592224\n",
      "train_loss: 8.216517448425293, val: 0.4707878530025482\n",
      "train_loss: 8.208653450012207, val: 0.46478086709976196\n",
      "train_loss: 8.200506210327148, val: 0.45861509442329407\n",
      "train_loss: 8.195086479187012, val: 0.4547053873538971\n",
      "train_loss: 8.190428733825684, val: 0.4509516954421997\n",
      "train_loss: 8.184517860412598, val: 0.4457343518733978\n",
      "train_loss: 8.178327560424805, val: 0.4397302269935608\n",
      "train_loss: 8.173988342285156, val: 0.4349193572998047\n",
      "train_loss: 8.171411514282227, val: 0.4318017065525055\n",
      "train_loss: 8.169791221618652, val: 0.42986851930618286\n"
     ]
    },
    {
     "name": "stderr",
     "output_type": "stream",
     "text": [
      "\u001b[32m[I 2022-10-06 17:24:41,964]\u001b[0m Trial 57 finished with values: [0.4287869930267334, 0.88] and parameters: {'lr': 0.0005252308125509869, 'l1': 0.9747868943976364, 'l2': 0.6381072031542955}. \u001b[0m\n"
     ]
    },
    {
     "name": "stdout",
     "output_type": "stream",
     "text": [
      "Dictionary: \n",
      "0:  {'precision': 0.8536036036036037, 'recall': 0.8981042654028436, 'f1-score': 0.8752886836027713, 'support': 422}\n",
      "1:  {'precision': 0.9057017543859649, 'recall': 0.8640167364016736, 'f1-score': 0.8843683083511776, 'support': 478}\n",
      "acc:  0.88\n",
      "train_loss: 4.187064170837402, val: 0.5799764394760132\n",
      "train_loss: 4.020466327667236, val: 0.47618424892425537\n",
      "train_loss: 4.017111301422119, val: 0.47587665915489197\n",
      "train_loss: 4.013783931732178, val: 0.4749811887741089\n",
      "train_loss: 4.00728702545166, val: 0.47130852937698364\n",
      "train_loss: 3.9963717460632324, val: 0.46330252289772034\n",
      "train_loss: 3.9912428855895996, val: 0.4600089490413666\n",
      "train_loss: 3.9898362159729004, val: 0.4591899812221527\n",
      "train_loss: 3.9891011714935303, val: 0.4590347409248352\n",
      "train_loss: 3.988582134246826, val: 0.45912840962409973\n",
      "train_loss: 3.9881412982940674, val: 0.4592798054218292\n",
      "train_loss: 3.987699031829834, val: 0.45940789580345154\n",
      "train_loss: 3.987208843231201, val: 0.45944076776504517\n",
      "train_loss: 3.986576795578003, val: 0.45923811197280884\n",
      "train_loss: 3.985588788986206, val: 0.45849573612213135\n"
     ]
    },
    {
     "name": "stderr",
     "output_type": "stream",
     "text": [
      "\u001b[32m[I 2022-10-06 17:30:38,868]\u001b[0m Trial 58 finished with values: [0.45718449354171753, 0.8477777777777777] and parameters: {'lr': 0.0009201707796727679, 'l1': 0.3101429668861209, 'l2': 0.8464437573671993}. \u001b[0m\n"
     ]
    },
    {
     "name": "stdout",
     "output_type": "stream",
     "text": [
      "Dictionary: \n",
      "0:  {'precision': 0.8198198198198198, 'recall': 0.8646080760095012, 'f1-score': 0.8416184971098266, 'support': 421}\n",
      "1:  {'precision': 0.875, 'recall': 0.8329853862212944, 'f1-score': 0.853475935828877, 'support': 479}\n",
      "acc:  0.8477777777777777\n",
      "train_loss: 5.678071022033691, val: 0.5969733595848083\n",
      "train_loss: 5.501655578613281, val: 0.47595158219337463\n",
      "train_loss: 5.497760772705078, val: 0.47452518343925476\n",
      "train_loss: 5.494799613952637, val: 0.4731929898262024\n",
      "train_loss: 5.489654064178467, val: 0.4696737825870514\n",
      "train_loss: 5.480517864227295, val: 0.46196550130844116\n",
      "train_loss: 5.471286773681641, val: 0.4549226760864258\n",
      "train_loss: 5.464700698852539, val: 0.4503774344921112\n",
      "train_loss: 5.457438945770264, val: 0.4442138075828552\n",
      "train_loss: 5.450781345367432, val: 0.4376668334007263\n",
      "train_loss: 5.447157382965088, val: 0.4339372515678406\n",
      "train_loss: 5.445114612579346, val: 0.43136435747146606\n",
      "train_loss: 5.443840026855469, val: 0.4297885596752167\n",
      "train_loss: 5.443015098571777, val: 0.42907196283340454\n",
      "train_loss: 5.4424262046813965, val: 0.4287834167480469\n"
     ]
    },
    {
     "name": "stderr",
     "output_type": "stream",
     "text": [
      "\u001b[32m[I 2022-10-06 17:36:31,153]\u001b[0m Trial 59 finished with values: [0.4286741316318512, 0.8788888888888889] and parameters: {'lr': 0.0007173996299591998, 'l1': 0.2986599717752873, 'l2': 0.7613379793272289}. \u001b[0m\n"
     ]
    },
    {
     "name": "stdout",
     "output_type": "stream",
     "text": [
      "Dictionary: \n",
      "0:  {'precision': 0.8648648648648649, 'recall': 0.8868360277136259, 'f1-score': 0.8757126567844926, 'support': 433}\n",
      "1:  {'precision': 0.8925438596491229, 'recall': 0.8715203426124197, 'f1-score': 0.8819068255687975, 'support': 467}\n",
      "acc:  0.8788888888888889\n",
      "train_loss: 7.706168174743652, val: 0.6635597944259644\n",
      "train_loss: 7.5112786293029785, val: 0.4833378791809082\n",
      "train_loss: 7.5024943351745605, val: 0.47692373394966125\n",
      "train_loss: 7.500035762786865, val: 0.47574901580810547\n",
      "train_loss: 7.498813629150391, val: 0.47543153166770935\n",
      "train_loss: 7.497978210449219, val: 0.475303590297699\n",
      "train_loss: 7.497261047363281, val: 0.47517088055610657\n",
      "train_loss: 7.49649715423584, val: 0.47493210434913635\n",
      "train_loss: 7.495593070983887, val: 0.47449633479118347\n",
      "train_loss: 7.494390964508057, val: 0.47374746203422546\n",
      "train_loss: 7.492739677429199, val: 0.472523957490921\n",
      "train_loss: 7.490428924560547, val: 0.4706104099750519\n",
      "train_loss: 7.487231254577637, val: 0.467764675617218\n",
      "train_loss: 7.483104228973389, val: 0.4638402462005615\n",
      "train_loss: 7.478405475616455, val: 0.4589429795742035\n"
     ]
    },
    {
     "name": "stderr",
     "output_type": "stream",
     "text": [
      "\u001b[32m[I 2022-10-06 17:42:28,421]\u001b[0m Trial 60 finished with values: [0.45426493883132935, 0.8544444444444445] and parameters: {'lr': 0.00037058947379455757, 'l1': 0.9438278249365868, 'l2': 0.7617657609858498}. \u001b[0m\n"
     ]
    },
    {
     "name": "stdout",
     "output_type": "stream",
     "text": [
      "Dictionary: \n",
      "0:  {'precision': 0.8108108108108109, 'recall': 0.8845208845208845, 'f1-score': 0.8460634547591069, 'support': 407}\n",
      "1:  {'precision': 0.8969298245614035, 'recall': 0.8296146044624746, 'f1-score': 0.8619599578503687, 'support': 493}\n",
      "acc:  0.8544444444444445\n",
      "train_loss: 7.213784217834473, val: 0.5750088095664978\n",
      "train_loss: 7.046955108642578, val: 0.47564080357551575\n",
      "train_loss: 7.043104648590088, val: 0.4746151864528656\n",
      "train_loss: 7.038712501525879, val: 0.47236302495002747\n",
      "train_loss: 7.03007173538208, val: 0.46574485301971436\n",
      "train_loss: 7.01962423324585, val: 0.45825672149658203\n",
      "train_loss: 7.015652656555176, val: 0.4560742974281311\n",
      "train_loss: 7.013243198394775, val: 0.45476919412612915\n",
      "train_loss: 7.009930610656738, val: 0.45252910256385803\n",
      "train_loss: 7.004844665527344, val: 0.4486113488674164\n",
      "train_loss: 6.998388767242432, val: 0.44239333271980286\n",
      "train_loss: 6.99376916885376, val: 0.4370810091495514\n",
      "train_loss: 6.991381645202637, val: 0.4339034855365753\n",
      "train_loss: 6.9899797439575195, val: 0.4314585030078888\n",
      "train_loss: 6.989068508148193, val: 0.4298551082611084\n"
     ]
    },
    {
     "name": "stderr",
     "output_type": "stream",
     "text": [
      "\u001b[32m[I 2022-10-06 17:48:18,400]\u001b[0m Trial 61 finished with values: [0.42893919348716736, 0.8788888888888889] and parameters: {'lr': 0.0007785004991933187, 'l1': 0.9679878386701902, 'l2': 0.4116786213790683}. \u001b[0m\n"
     ]
    },
    {
     "name": "stdout",
     "output_type": "stream",
     "text": [
      "Dictionary: \n",
      "0:  {'precision': 0.8603603603603603, 'recall': 0.8904428904428905, 'f1-score': 0.8751431844215349, 'support': 429}\n",
      "1:  {'precision': 0.8969298245614035, 'recall': 0.8683651804670913, 'f1-score': 0.8824163969795037, 'support': 471}\n",
      "acc:  0.8788888888888889\n",
      "train_loss: 6.802459239959717, val: 0.6654655933380127\n",
      "train_loss: 6.626323699951172, val: 0.5069989562034607\n",
      "train_loss: 6.603772163391113, val: 0.48277050256729126\n",
      "train_loss: 6.597452163696289, val: 0.4774882197380066\n",
      "train_loss: 6.594651222229004, val: 0.47563233971595764\n",
      "train_loss: 6.592179298400879, val: 0.4738667607307434\n",
      "train_loss: 6.588575839996338, val: 0.4705524146556854\n",
      "train_loss: 6.582621097564697, val: 0.46438509225845337\n",
      "train_loss: 6.5752644538879395, val: 0.45634302496910095\n",
      "train_loss: 6.569062232971191, val: 0.4496409595012665\n",
      "train_loss: 6.564924240112305, val: 0.44596707820892334\n",
      "train_loss: 6.561866760253906, val: 0.4436730146408081\n",
      "train_loss: 6.55856466293335, val: 0.4414270520210266\n",
      "train_loss: 6.554103851318359, val: 0.4388039708137512\n",
      "train_loss: 6.548892498016357, val: 0.43598848581314087\n"
     ]
    },
    {
     "name": "stderr",
     "output_type": "stream",
     "text": [
      "\u001b[32m[I 2022-10-06 17:54:14,110]\u001b[0m Trial 62 finished with values: [0.4336101710796356, 0.8744444444444445] and parameters: {'lr': 0.000522152351355582, 'l1': 0.5884311192949379, 'l2': 0.7617657609858498}. \u001b[0m\n"
     ]
    },
    {
     "name": "stdout",
     "output_type": "stream",
     "text": [
      "Dictionary: \n",
      "0:  {'precision': 0.8468468468468469, 'recall': 0.8931116389548693, 'f1-score': 0.8693641618497109, 'support': 421}\n",
      "1:  {'precision': 0.9013157894736842, 'recall': 0.8580375782881002, 'f1-score': 0.879144385026738, 'support': 479}\n",
      "acc:  0.8744444444444445\n",
      "train_loss: 5.6267828941345215, val: 0.6059043407440186\n",
      "train_loss: 5.443000316619873, val: 0.47619056701660156\n",
      "train_loss: 5.438923358917236, val: 0.4748435914516449\n",
      "train_loss: 5.435591220855713, val: 0.4727204442024231\n",
      "train_loss: 5.428680419921875, val: 0.46586188673973083\n",
      "train_loss: 5.418215751647949, val: 0.45467132329940796\n",
      "train_loss: 5.410050392150879, val: 0.4468227028846741\n",
      "train_loss: 5.403883934020996, val: 0.4424971044063568\n",
      "train_loss: 5.396842002868652, val: 0.4379923641681671\n",
      "train_loss: 5.390559673309326, val: 0.43384256958961487\n",
      "train_loss: 5.386834621429443, val: 0.4299348294734955\n",
      "train_loss: 5.384814739227295, val: 0.42739298939704895\n",
      "train_loss: 5.383553981781006, val: 0.4261522591114044\n",
      "train_loss: 5.382687568664551, val: 0.4258691072463989\n",
      "train_loss: 5.3820953369140625, val: 0.4259685277938843\n"
     ]
    },
    {
     "name": "stderr",
     "output_type": "stream",
     "text": [
      "\u001b[32m[I 2022-10-06 18:00:09,291]\u001b[0m Trial 63 finished with values: [0.4261830449104309, 0.8788888888888889] and parameters: {'lr': 0.0007272340972131606, 'l1': 0.12339355075277843, 'l2': 0.8348881088008753}. \u001b[0m\n"
     ]
    },
    {
     "name": "stdout",
     "output_type": "stream",
     "text": [
      "Dictionary: \n",
      "0:  {'precision': 0.8558558558558559, 'recall': 0.8941176470588236, 'f1-score': 0.8745684695051784, 'support': 425}\n",
      "1:  {'precision': 0.9013157894736842, 'recall': 0.8652631578947368, 'f1-score': 0.882921589688507, 'support': 475}\n",
      "acc:  0.8788888888888889\n",
      "train_loss: 4.433778285980225, val: 0.6558773517608643\n",
      "train_loss: 4.249726295471191, val: 0.49341490864753723\n",
      "train_loss: 4.2337799072265625, val: 0.4782736301422119\n",
      "train_loss: 4.229325771331787, val: 0.47506797313690186\n",
      "train_loss: 4.226140975952148, val: 0.47304585576057434\n",
      "train_loss: 4.222177505493164, val: 0.47011783719062805\n",
      "train_loss: 4.21619176864624, val: 0.46493181586265564\n",
      "train_loss: 4.207939147949219, val: 0.4571055471897125\n",
      "train_loss: 4.199081897735596, val: 0.44896939396858215\n",
      "train_loss: 4.190657615661621, val: 0.4421827495098114\n",
      "train_loss: 4.184183120727539, val: 0.4367244243621826\n",
      "train_loss: 4.180302143096924, val: 0.43335890769958496\n",
      "train_loss: 4.178130149841309, val: 0.43144768476486206\n",
      "train_loss: 4.176781177520752, val: 0.43028104305267334\n",
      "train_loss: 4.175829887390137, val: 0.4295139014720917\n"
     ]
    },
    {
     "name": "stderr",
     "output_type": "stream",
     "text": [
      "\u001b[32m[I 2022-10-06 18:06:07,707]\u001b[0m Trial 64 finished with values: [0.42902782559394836, 0.8811111111111111] and parameters: {'lr': 0.00037486221706730267, 'l1': 0.11730773968957153, 'l2': 0.4514783663845029}. \u001b[0m\n"
     ]
    },
    {
     "name": "stdout",
     "output_type": "stream",
     "text": [
      "Dictionary: \n",
      "0:  {'precision': 0.8581081081081081, 'recall': 0.8964705882352941, 'f1-score': 0.8768699654775605, 'support': 425}\n",
      "1:  {'precision': 0.9035087719298246, 'recall': 0.8673684210526316, 'f1-score': 0.8850698174006445, 'support': 475}\n",
      "acc:  0.8811111111111111\n",
      "train_loss: 2.8262085914611816, val: 0.5844022631645203\n",
      "train_loss: 2.65169358253479, val: 0.4760274291038513\n",
      "train_loss: 2.648611068725586, val: 0.4756321310997009\n",
      "train_loss: 2.6462419033050537, val: 0.4750294089317322\n",
      "train_loss: 2.6419427394866943, val: 0.4727957546710968\n",
      "train_loss: 2.6335277557373047, val: 0.4667581617832184\n",
      "train_loss: 2.6241862773895264, val: 0.4599260091781616\n",
      "train_loss: 2.6214206218719482, val: 0.4585460424423218\n",
      "train_loss: 2.6202890872955322, val: 0.4585185647010803\n",
      "train_loss: 2.6193313598632812, val: 0.4583932161331177\n",
      "train_loss: 2.6182284355163574, val: 0.4579022228717804\n",
      "train_loss: 2.6167075634002686, val: 0.45690345764160156\n",
      "train_loss: 2.614549160003662, val: 0.4552440643310547\n",
      "train_loss: 2.6116583347320557, val: 0.4528277814388275\n",
      "train_loss: 2.6080827713012695, val: 0.4497295022010803\n"
     ]
    },
    {
     "name": "stderr",
     "output_type": "stream",
     "text": [
      "\u001b[32m[I 2022-10-06 18:12:04,022]\u001b[0m Trial 65 finished with values: [0.44606247544288635, 0.86] and parameters: {'lr': 0.0009164345220001244, 'l1': 0.10597010151254968, 'l2': 0.8348881088008753}. \u001b[0m\n"
     ]
    },
    {
     "name": "stdout",
     "output_type": "stream",
     "text": [
      "Dictionary: \n",
      "0:  {'precision': 0.8400900900900901, 'recall': 0.8714953271028038, 'f1-score': 0.8555045871559632, 'support': 428}\n",
      "1:  {'precision': 0.8793859649122807, 'recall': 0.8495762711864406, 'f1-score': 0.8642241379310345, 'support': 472}\n",
      "acc:  0.86\n",
      "train_loss: 3.2370495796203613, val: 0.5955581665039062\n",
      "train_loss: 3.062922239303589, val: 0.4765183925628662\n",
      "train_loss: 3.0589370727539062, val: 0.4758155047893524\n",
      "train_loss: 3.055281400680542, val: 0.4745471179485321\n",
      "train_loss: 3.0484719276428223, val: 0.4694570302963257\n",
      "train_loss: 3.0376932621002197, val: 0.46096348762512207\n",
      "train_loss: 3.0316576957702637, val: 0.45751717686653137\n",
      "train_loss: 3.0285019874572754, val: 0.4549844563007355\n",
      "train_loss: 3.02437162399292, val: 0.4515020251274109\n",
      "train_loss: 3.018205404281616, val: 0.4463152289390564\n",
      "train_loss: 3.011793851852417, val: 0.4393646717071533\n",
      "train_loss: 3.008009195327759, val: 0.43402352929115295\n",
      "train_loss: 3.0058538913726807, val: 0.43078017234802246\n",
      "train_loss: 3.004587173461914, val: 0.42873942852020264\n",
      "train_loss: 3.0037856101989746, val: 0.42759087681770325\n"
     ]
    },
    {
     "name": "stderr",
     "output_type": "stream",
     "text": [
      "\u001b[32m[I 2022-10-06 18:17:59,050]\u001b[0m Trial 66 finished with values: [0.42702117562294006, 0.8844444444444445] and parameters: {'lr': 0.0009096258557656618, 'l1': 0.13896294590282793, 'l2': 0.7368243604163967}. \u001b[0m\n"
     ]
    },
    {
     "name": "stdout",
     "output_type": "stream",
     "text": [
      "Dictionary: \n",
      "0:  {'precision': 0.8648648648648649, 'recall': 0.897196261682243, 'f1-score': 0.8807339449541284, 'support': 428}\n",
      "1:  {'precision': 0.9035087719298246, 'recall': 0.8728813559322034, 'f1-score': 0.8879310344827587, 'support': 472}\n",
      "acc:  0.8844444444444445\n",
      "train_loss: 6.665342330932617, val: 0.6901726126670837\n",
      "train_loss: 6.635649681091309, val: 0.6596584916114807\n",
      "train_loss: 6.593898773193359, val: 0.6157335042953491\n",
      "train_loss: 6.551392078399658, val: 0.5721783638000488\n",
      "train_loss: 6.520057678222656, val: 0.5407605171203613\n",
      "train_loss: 6.49949312210083, val: 0.5205690264701843\n",
      "train_loss: 6.486284255981445, val: 0.5078352093696594\n",
      "train_loss: 6.477595329284668, val: 0.49962881207466125\n",
      "train_loss: 6.471661567687988, val: 0.4941321313381195\n",
      "train_loss: 6.467422962188721, val: 0.4902980923652649\n",
      "train_loss: 6.46428108215332, val: 0.48752427101135254\n",
      "train_loss: 6.461851119995117, val: 0.48545345664024353\n",
      "train_loss: 6.459951400756836, val: 0.48386555910110474\n",
      "train_loss: 6.4584059715271, val: 0.4826221168041229\n",
      "train_loss: 6.45714807510376, val: 0.4816294014453888\n"
     ]
    },
    {
     "name": "stderr",
     "output_type": "stream",
     "text": [
      "\u001b[32m[I 2022-10-06 18:23:58,353]\u001b[0m Trial 67 finished with values: [0.4808971583843231, 0.83] and parameters: {'lr': 3.305213250561856e-05, 'l1': 0.40670084017540087, 'l2': 0.8680630252476013}. \u001b[0m\n"
     ]
    },
    {
     "name": "stdout",
     "output_type": "stream",
     "text": [
      "Dictionary: \n",
      "0:  {'precision': 0.7747747747747747, 'recall': 0.8664987405541562, 'f1-score': 0.8180737217598097, 'support': 397}\n",
      "1:  {'precision': 0.8837719298245614, 'recall': 0.8011928429423459, 'f1-score': 0.8404588112617309, 'support': 503}\n",
      "acc:  0.83\n",
      "train_loss: 8.983025550842285, val: 0.6040903329849243\n",
      "train_loss: 8.804402351379395, val: 0.4779878854751587\n",
      "train_loss: 8.797762870788574, val: 0.47491469979286194\n",
      "train_loss: 8.790616989135742, val: 0.47087159752845764\n",
      "train_loss: 8.777745246887207, val: 0.4619707763195038\n",
      "train_loss: 8.771758079528809, val: 0.45810502767562866\n",
      "train_loss: 8.769905090332031, val: 0.4571429193019867\n",
      "train_loss: 8.76806640625, val: 0.45604434609413147\n",
      "train_loss: 8.76538372039795, val: 0.4539903402328491\n",
      "train_loss: 8.761229515075684, val: 0.4504656493663788\n",
      "train_loss: 8.755402565002441, val: 0.44509920477867126\n",
      "train_loss: 8.749821662902832, val: 0.43893057107925415\n",
      "train_loss: 8.746886253356934, val: 0.4356333613395691\n",
      "train_loss: 8.745229721069336, val: 0.4336124360561371\n",
      "train_loss: 8.74417495727539, val: 0.43194088339805603\n"
     ]
    },
    {
     "name": "stderr",
     "output_type": "stream",
     "text": [
      "\u001b[32m[I 2022-10-06 18:29:56,932]\u001b[0m Trial 68 finished with values: [0.43068596720695496, 0.8755555555555555] and parameters: {'lr': 0.0008345398956574928, 'l1': 0.99992692096194, 'l2': 0.8464437573671993}. \u001b[0m\n"
     ]
    },
    {
     "name": "stdout",
     "output_type": "stream",
     "text": [
      "Dictionary: \n",
      "0:  {'precision': 0.8400900900900901, 'recall': 0.9009661835748792, 'f1-score': 0.8694638694638694, 'support': 414}\n",
      "1:  {'precision': 0.9100877192982456, 'recall': 0.8539094650205762, 'f1-score': 0.881104033970276, 'support': 486}\n",
      "acc:  0.8755555555555555\n",
      "train_loss: 4.130721569061279, val: 0.572368860244751\n",
      "train_loss: 3.9613847732543945, val: 0.4757189154624939\n",
      "train_loss: 3.958402156829834, val: 0.47523781657218933\n",
      "train_loss: 3.955500841140747, val: 0.47395429015159607\n",
      "train_loss: 3.949615955352783, val: 0.4697108268737793\n",
      "train_loss: 3.938497543334961, val: 0.4594273567199707\n",
      "train_loss: 3.9261648654937744, val: 0.45034345984458923\n",
      "train_loss: 3.9173288345336914, val: 0.4431888163089752\n",
      "train_loss: 3.9106974601745605, val: 0.43633535504341125\n",
      "train_loss: 3.9071078300476074, val: 0.43245023488998413\n",
      "train_loss: 3.905109167098999, val: 0.4302450716495514\n",
      "train_loss: 3.903887987136841, val: 0.42891332507133484\n",
      "train_loss: 3.9030885696411133, val: 0.42823854088783264\n",
      "train_loss: 3.9025440216064453, val: 0.42798712849617004\n",
      "train_loss: 3.9021339416503906, val: 0.42796143889427185\n"
     ]
    },
    {
     "name": "stderr",
     "output_type": "stream",
     "text": [
      "\u001b[32m[I 2022-10-06 18:35:52,711]\u001b[0m Trial 69 finished with values: [0.42803263664245605, 0.8822222222222222] and parameters: {'lr': 0.0009164345220001244, 'l1': 0.6168508767948584, 'l2': 0.14242886471889296}. \u001b[0m\n"
     ]
    },
    {
     "name": "stdout",
     "output_type": "stream",
     "text": [
      "Dictionary: \n",
      "0:  {'precision': 0.8648648648648649, 'recall': 0.8930232558139535, 'f1-score': 0.8787185354691076, 'support': 430}\n",
      "1:  {'precision': 0.8991228070175439, 'recall': 0.8723404255319149, 'f1-score': 0.8855291576673866, 'support': 470}\n",
      "acc:  0.8822222222222222\n",
      "train_loss: 7.044514179229736, val: 0.5962778925895691\n",
      "train_loss: 6.86655330657959, val: 0.47649526596069336\n",
      "train_loss: 6.863424777984619, val: 0.47651466727256775\n",
      "train_loss: 6.862174987792969, val: 0.4770004153251648\n",
      "train_loss: 6.861128330230713, val: 0.4770565330982208\n",
      "train_loss: 6.859597206115723, val: 0.4761900305747986\n",
      "train_loss: 6.856706619262695, val: 0.47349128127098083\n",
      "train_loss: 6.851712226867676, val: 0.46781647205352783\n",
      "train_loss: 6.845276355743408, val: 0.4599665701389313\n",
      "train_loss: 6.837904453277588, val: 0.45274266600608826\n",
      "train_loss: 6.83168363571167, val: 0.4457504451274872\n",
      "train_loss: 6.824774742126465, val: 0.43965616822242737\n",
      "train_loss: 6.816452980041504, val: 0.43380749225616455\n",
      "train_loss: 6.811809062957764, val: 0.4301035404205322\n",
      "train_loss: 6.809411525726318, val: 0.42808958888053894\n"
     ]
    },
    {
     "name": "stderr",
     "output_type": "stream",
     "text": [
      "\u001b[32m[I 2022-10-06 18:41:46,191]\u001b[0m Trial 70 finished with values: [0.4273366928100586, 0.8844444444444445] and parameters: {'lr': 0.0009132620240685106, 'l1': 0.7609259507143049, 'l2': 0.9897280359390435}. \u001b[0m\n"
     ]
    },
    {
     "name": "stdout",
     "output_type": "stream",
     "text": [
      "Dictionary: \n",
      "0:  {'precision': 0.8761261261261262, 'recall': 0.8881278538812786, 'f1-score': 0.8820861678004536, 'support': 438}\n",
      "1:  {'precision': 0.8925438596491229, 'recall': 0.8809523809523809, 'f1-score': 0.8867102396514162, 'support': 462}\n",
      "acc:  0.8844444444444445\n",
      "train_loss: 5.249056816101074, val: 0.649395227432251\n",
      "train_loss: 5.054713249206543, val: 0.47971752285957336\n",
      "train_loss: 5.048648357391357, val: 0.4760241210460663\n",
      "train_loss: 5.046719551086426, val: 0.475470632314682\n",
      "train_loss: 5.045517921447754, val: 0.4752025604248047\n",
      "train_loss: 5.044349193572998, val: 0.47470253705978394\n",
      "train_loss: 5.042794704437256, val: 0.47362542152404785\n",
      "train_loss: 5.0403947830200195, val: 0.47151419520378113\n",
      "train_loss: 5.036561965942383, val: 0.467858225107193\n",
      "train_loss: 5.031163215637207, val: 0.46252989768981934\n",
      "train_loss: 5.02516508102417, val: 0.4555836021900177\n",
      "train_loss: 5.019989967346191, val: 0.4489821195602417\n",
      "train_loss: 5.016176700592041, val: 0.44529086351394653\n",
      "train_loss: 5.01297664642334, val: 0.44299036264419556\n",
      "train_loss: 5.009288787841797, val: 0.44073793292045593\n"
     ]
    },
    {
     "name": "stderr",
     "output_type": "stream",
     "text": [
      "\u001b[32m[I 2022-10-06 18:47:44,161]\u001b[0m Trial 71 finished with values: [0.4382750689983368, 0.8766666666666667] and parameters: {'lr': 0.0005346284614358333, 'l1': 0.5615639923021138, 'l2': 0.8464437573671993}. \u001b[0m\n"
     ]
    },
    {
     "name": "stdout",
     "output_type": "stream",
     "text": [
      "Dictionary: \n",
      "0:  {'precision': 0.8558558558558559, 'recall': 0.8899297423887588, 'f1-score': 0.8725602755453502, 'support': 427}\n",
      "1:  {'precision': 0.8969298245614035, 'recall': 0.864693446088795, 'f1-score': 0.8805166846071044, 'support': 473}\n",
      "acc:  0.8766666666666667\n",
      "train_loss: 11.32480525970459, val: 0.627719521522522\n",
      "train_loss: 11.135817527770996, val: 0.47712936997413635\n",
      "train_loss: 11.130851745605469, val: 0.47455036640167236\n",
      "train_loss: 11.12812614440918, val: 0.4732411503791809\n",
      "train_loss: 11.12433910369873, val: 0.47063857316970825\n",
      "train_loss: 11.117630004882812, val: 0.46491289138793945\n",
      "train_loss: 11.106989860534668, val: 0.454824298620224\n",
      "train_loss: 11.094888687133789, val: 0.4436321258544922\n",
      "train_loss: 11.086398124694824, val: 0.435869038105011\n",
      "train_loss: 11.081697463989258, val: 0.4316908121109009\n",
      "train_loss: 11.079153060913086, val: 0.4293650686740875\n",
      "train_loss: 11.07758617401123, val: 0.4281279146671295\n",
      "train_loss: 11.076536178588867, val: 0.4274892508983612\n",
      "train_loss: 11.07578182220459, val: 0.4271814823150635\n",
      "train_loss: 11.075206756591797, val: 0.42705821990966797\n"
     ]
    },
    {
     "name": "stderr",
     "output_type": "stream",
     "text": [
      "\u001b[32m[I 2022-10-06 18:53:41,758]\u001b[0m Trial 72 finished with values: [0.42703714966773987, 0.8811111111111111] and parameters: {'lr': 0.0005071187425901399, 'l1': 0.8445146472994872, 'l2': 0.9599383144951033}. \u001b[0m\n"
     ]
    },
    {
     "name": "stdout",
     "output_type": "stream",
     "text": [
      "Dictionary: \n",
      "0:  {'precision': 0.8581081081081081, 'recall': 0.8964705882352941, 'f1-score': 0.8768699654775605, 'support': 425}\n",
      "1:  {'precision': 0.9035087719298246, 'recall': 0.8673684210526316, 'f1-score': 0.8850698174006445, 'support': 475}\n",
      "acc:  0.8811111111111111\n",
      "train_loss: 5.051446437835693, val: 0.6436095833778381\n",
      "train_loss: 4.859670162200928, val: 0.47923365235328674\n",
      "train_loss: 4.85349178314209, val: 0.47535133361816406\n",
      "train_loss: 4.850481033325195, val: 0.4736468195915222\n",
      "train_loss: 4.846424102783203, val: 0.4701057970523834\n",
      "train_loss: 4.839575290679932, val: 0.462914377450943\n",
      "train_loss: 4.831454277038574, val: 0.4537295401096344\n",
      "train_loss: 4.8250508308410645, val: 0.4468288719654083\n",
      "train_loss: 4.820845127105713, val: 0.44340866804122925\n",
      "train_loss: 4.816891193389893, val: 0.4407494068145752\n",
      "train_loss: 4.8115644454956055, val: 0.43757545948028564\n",
      "train_loss: 4.8059163093566895, val: 0.4341253340244293\n",
      "train_loss: 4.801889896392822, val: 0.4313848316669464\n",
      "train_loss: 4.79965353012085, val: 0.4295727014541626\n",
      "train_loss: 4.798338890075684, val: 0.42856889963150024\n"
     ]
    },
    {
     "name": "stderr",
     "output_type": "stream",
     "text": [
      "\u001b[32m[I 2022-10-06 18:59:34,625]\u001b[0m Trial 73 finished with values: [0.4280521273612976, 0.8844444444444445] and parameters: {'lr': 0.0005537741871306562, 'l1': 0.618145208015229, 'l2': 0.32394890429517326}. \u001b[0m\n"
     ]
    },
    {
     "name": "stdout",
     "output_type": "stream",
     "text": [
      "Dictionary: \n",
      "0:  {'precision': 0.8671171171171171, 'recall': 0.8953488372093024, 'f1-score': 0.8810068649885584, 'support': 430}\n",
      "1:  {'precision': 0.9013157894736842, 'recall': 0.874468085106383, 'f1-score': 0.8876889848812095, 'support': 470}\n",
      "acc:  0.8844444444444445\n",
      "train_loss: 6.0574846267700195, val: 0.6511110663414001\n",
      "train_loss: 5.867893218994141, val: 0.4838099479675293\n",
      "train_loss: 5.858821868896484, val: 0.4770035147666931\n",
      "train_loss: 5.856228351593018, val: 0.47577857971191406\n",
      "train_loss: 5.854873180389404, val: 0.4754302203655243\n",
      "train_loss: 5.853825569152832, val: 0.47514599561691284\n",
      "train_loss: 5.852683067321777, val: 0.4746263325214386\n",
      "train_loss: 5.851150989532471, val: 0.4735870957374573\n",
      "train_loss: 5.848792552947998, val: 0.47162196040153503\n",
      "train_loss: 5.845096111297607, val: 0.4682256579399109\n",
      "train_loss: 5.83980131149292, val: 0.4630205035209656\n",
      "train_loss: 5.833640098571777, val: 0.4559365212917328\n",
      "train_loss: 5.828037738800049, val: 0.44919076561927795\n",
      "train_loss: 5.823777198791504, val: 0.4452412724494934\n",
      "train_loss: 5.820088863372803, val: 0.44286438822746277\n"
     ]
    },
    {
     "name": "stderr",
     "output_type": "stream",
     "text": [
      "\u001b[32m[I 2022-10-06 19:05:30,574]\u001b[0m Trial 74 finished with values: [0.44115620851516724, 0.87] and parameters: {'lr': 0.0004696599817685952, 'l1': 0.6050684065834393, 'l2': 0.5937818291751505}. \u001b[0m\n"
     ]
    },
    {
     "name": "stdout",
     "output_type": "stream",
     "text": [
      "Dictionary: \n",
      "0:  {'precision': 0.8468468468468469, 'recall': 0.8847058823529412, 'f1-score': 0.8653624856156502, 'support': 425}\n",
      "1:  {'precision': 0.8925438596491229, 'recall': 0.8568421052631578, 'f1-score': 0.874328678839957, 'support': 475}\n",
      "acc:  0.87\n",
      "train_loss: 4.2895636558532715, val: 0.6475233435630798\n",
      "train_loss: 4.092593193054199, val: 0.4784497320652008\n",
      "train_loss: 4.087696552276611, val: 0.47603631019592285\n",
      "train_loss: 4.086193084716797, val: 0.4759437143802643\n",
      "train_loss: 4.085386753082275, val: 0.47605645656585693\n",
      "train_loss: 4.084775447845459, val: 0.47611647844314575\n",
      "train_loss: 4.084147930145264, val: 0.476024866104126\n",
      "train_loss: 4.08336067199707, val: 0.4756729006767273\n",
      "train_loss: 4.082195281982422, val: 0.4748665690422058\n",
      "train_loss: 4.080323696136475, val: 0.47327375411987305\n",
      "train_loss: 4.0772576332092285, val: 0.47043928503990173\n",
      "train_loss: 4.072721481323242, val: 0.4662114977836609\n",
      "train_loss: 4.06685733795166, val: 0.4610442519187927\n",
      "train_loss: 4.060765743255615, val: 0.4527144134044647\n",
      "train_loss: 4.055806636810303, val: 0.44605588912963867\n"
     ]
    },
    {
     "name": "stderr",
     "output_type": "stream",
     "text": [
      "\u001b[32m[I 2022-10-06 19:11:25,443]\u001b[0m Trial 75 finished with values: [0.44309568405151367, 0.8644444444444445] and parameters: {'lr': 0.0007173996299591998, 'l1': 0.39072752195066135, 'l2': 0.949330434008375}. \u001b[0m\n"
     ]
    },
    {
     "name": "stdout",
     "output_type": "stream",
     "text": [
      "Dictionary: \n",
      "0:  {'precision': 0.8423423423423423, 'recall': 0.8779342723004695, 'f1-score': 0.8597701149425288, 'support': 426}\n",
      "1:  {'precision': 0.8859649122807017, 'recall': 0.8523206751054853, 'f1-score': 0.8688172043010752, 'support': 474}\n",
      "acc:  0.8644444444444445\n",
      "train_loss: 4.729274749755859, val: 0.5905693769454956\n",
      "train_loss: 4.553732872009277, val: 0.4758615493774414\n",
      "train_loss: 4.550497531890869, val: 0.4752478003501892\n",
      "train_loss: 4.548411846160889, val: 0.4748519957065582\n",
      "train_loss: 4.545224666595459, val: 0.4733784794807434\n",
      "train_loss: 4.539009094238281, val: 0.4687511622905731\n",
      "train_loss: 4.528838157653809, val: 0.4597757160663605\n",
      "train_loss: 4.521165370941162, val: 0.4545896053314209\n",
      "train_loss: 4.516547679901123, val: 0.4509013891220093\n",
      "train_loss: 4.51136589050293, val: 0.44671711325645447\n",
      "train_loss: 4.505995750427246, val: 0.4415226876735687\n",
      "train_loss: 4.502086639404297, val: 0.43697744607925415\n",
      "train_loss: 4.499528408050537, val: 0.4340749979019165\n",
      "train_loss: 4.49780797958374, val: 0.43226274847984314\n",
      "train_loss: 4.496601581573486, val: 0.4310637414455414\n"
     ]
    },
    {
     "name": "stderr",
     "output_type": "stream",
     "text": [
      "\u001b[32m[I 2022-10-06 19:17:22,102]\u001b[0m Trial 76 finished with values: [0.4303094446659088, 0.8733333333333333] and parameters: {'lr': 0.000836043152764922, 'l1': 0.5477572507914994, 'l2': 0.4514783663845029}. \u001b[0m\n"
     ]
    },
    {
     "name": "stdout",
     "output_type": "stream",
     "text": [
      "Dictionary: \n",
      "0:  {'precision': 0.8490990990990991, 'recall': 0.8891509433962265, 'f1-score': 0.8686635944700462, 'support': 424}\n",
      "1:  {'precision': 0.8969298245614035, 'recall': 0.8592436974789915, 'f1-score': 0.8776824034334765, 'support': 476}\n",
      "acc:  0.8733333333333333\n",
      "train_loss: 5.414128303527832, val: 0.6076586842536926\n",
      "train_loss: 5.230337619781494, val: 0.47579890489578247\n",
      "train_loss: 5.225067138671875, val: 0.47326594591140747\n",
      "train_loss: 5.217231273651123, val: 0.4661271274089813\n",
      "train_loss: 5.204207420349121, val: 0.45164039731025696\n",
      "train_loss: 5.192203998565674, val: 0.440608948469162\n",
      "train_loss: 5.181286811828613, val: 0.4333779811859131\n",
      "train_loss: 5.1758131980896, val: 0.4290138781070709\n",
      "train_loss: 5.173534870147705, val: 0.4277278482913971\n",
      "train_loss: 5.17236328125, val: 0.4273418188095093\n",
      "train_loss: 5.171628475189209, val: 0.4272288978099823\n",
      "train_loss: 5.1710991859436035, val: 0.4272651970386505\n",
      "train_loss: 5.1706767082214355, val: 0.42740803956985474\n",
      "train_loss: 5.170318603515625, val: 0.4276465177536011\n",
      "train_loss: 5.170010566711426, val: 0.427973210811615\n"
     ]
    },
    {
     "name": "stderr",
     "output_type": "stream",
     "text": [
      "\u001b[32m[I 2022-10-06 19:23:18,196]\u001b[0m Trial 77 finished with values: [0.4283302128314972, 0.88] and parameters: {'lr': 0.000860397050870636, 'l1': 0.30731815003064017, 'l2': 0.8932191517986888}. \u001b[0m\n"
     ]
    },
    {
     "name": "stdout",
     "output_type": "stream",
     "text": [
      "Dictionary: \n",
      "0:  {'precision': 0.8603603603603603, 'recall': 0.8925233644859814, 'f1-score': 0.8761467889908257, 'support': 428}\n",
      "1:  {'precision': 0.8991228070175439, 'recall': 0.8686440677966102, 'f1-score': 0.8836206896551725, 'support': 472}\n",
      "acc:  0.88\n",
      "train_loss: 6.3024067878723145, val: 0.5883771777153015\n",
      "train_loss: 6.128582954406738, val: 0.4763019382953644\n",
      "train_loss: 6.124250888824463, val: 0.47542694211006165\n",
      "train_loss: 6.119047164916992, val: 0.4731862246990204\n",
      "train_loss: 6.108156681060791, val: 0.46525704860687256\n",
      "train_loss: 6.0992631912231445, val: 0.45929667353630066\n",
      "train_loss: 6.097623825073242, val: 0.4581565856933594\n",
      "train_loss: 6.096855163574219, val: 0.4578933119773865\n",
      "train_loss: 6.096214771270752, val: 0.45779725909233093\n",
      "train_loss: 6.095466136932373, val: 0.4575854539871216\n",
      "train_loss: 6.094405174255371, val: 0.4569920003414154\n",
      "train_loss: 6.092772483825684, val: 0.4557293951511383\n",
      "train_loss: 6.090145111083984, val: 0.4536340534687042\n",
      "train_loss: 6.0862717628479, val: 0.450516939163208\n",
      "train_loss: 6.0810699462890625, val: 0.446033239364624\n"
     ]
    },
    {
     "name": "stderr",
     "output_type": "stream",
     "text": [
      "\u001b[32m[I 2022-10-06 19:29:10,103]\u001b[0m Trial 78 finished with values: [0.44077619910240173, 0.8633333333333333] and parameters: {'lr': 0.0009669519728642057, 'l1': 0.8099435143325012, 'l2': 0.21325699458044414}. \u001b[0m\n"
     ]
    },
    {
     "name": "stdout",
     "output_type": "stream",
     "text": [
      "Dictionary: \n",
      "0:  {'precision': 0.8490990990990991, 'recall': 0.8706697459584296, 'f1-score': 0.8597491448118587, 'support': 433}\n",
      "1:  {'precision': 0.8771929824561403, 'recall': 0.8565310492505354, 'f1-score': 0.866738894907909, 'support': 467}\n",
      "acc:  0.8633333333333333\n",
      "train_loss: 4.524714946746826, val: 0.5783305168151855\n",
      "train_loss: 4.35398530960083, val: 0.47512054443359375\n",
      "train_loss: 4.348712921142578, val: 0.47315070033073425\n",
      "train_loss: 4.340047359466553, val: 0.46769317984580994\n",
      "train_loss: 4.32796573638916, val: 0.45935019850730896\n",
      "train_loss: 4.324402332305908, val: 0.45750439167022705\n",
      "train_loss: 4.322817802429199, val: 0.4571158289909363\n",
      "train_loss: 4.321120262145996, val: 0.4563375413417816\n",
      "train_loss: 4.318680286407471, val: 0.45469215512275696\n",
      "train_loss: 4.314932823181152, val: 0.4518381655216217\n",
      "train_loss: 4.309556007385254, val: 0.4474084973335266\n",
      "train_loss: 4.303779602050781, val: 0.4414091408252716\n",
      "train_loss: 4.3005194664001465, val: 0.43825381994247437\n",
      "train_loss: 4.298824310302734, val: 0.4362981617450714\n",
      "train_loss: 4.297642707824707, val: 0.43393653631210327\n"
     ]
    },
    {
     "name": "stderr",
     "output_type": "stream",
     "text": [
      "\u001b[32m[I 2022-10-06 19:35:08,320]\u001b[0m Trial 79 finished with values: [0.4319884479045868, 0.8722222222222222] and parameters: {'lr': 0.000875691257930188, 'l1': 0.40670084017540087, 'l2': 0.3255533902429314}. \u001b[0m\n"
     ]
    },
    {
     "name": "stdout",
     "output_type": "stream",
     "text": [
      "Dictionary: \n",
      "0:  {'precision': 0.8468468468468469, 'recall': 0.8888888888888888, 'f1-score': 0.8673587081891581, 'support': 423}\n",
      "1:  {'precision': 0.8969298245614035, 'recall': 0.8574423480083857, 'f1-score': 0.8767416934619506, 'support': 477}\n",
      "acc:  0.8722222222222222\n",
      "train_loss: 7.614048480987549, val: 0.6338972449302673\n",
      "train_loss: 7.425428867340088, val: 0.478428453207016\n",
      "train_loss: 7.41978645324707, val: 0.47517186403274536\n",
      "train_loss: 7.417333602905273, val: 0.4742254614830017\n",
      "train_loss: 7.414937496185303, val: 0.47307512164115906\n",
      "train_loss: 7.411572456359863, val: 0.4708988070487976\n",
      "train_loss: 7.406419277191162, val: 0.46672025322914124\n",
      "train_loss: 7.399251937866211, val: 0.46018680930137634\n",
      "train_loss: 7.392068862915039, val: 0.45402124524116516\n",
      "train_loss: 7.3857316970825195, val: 0.4498353898525238\n",
      "train_loss: 7.379644870758057, val: 0.44510066509246826\n",
      "train_loss: 7.3739914894104, val: 0.43967267870903015\n",
      "train_loss: 7.369832515716553, val: 0.43530285358428955\n",
      "train_loss: 7.3672027587890625, val: 0.43241479992866516\n",
      "train_loss: 7.365616321563721, val: 0.4305901825428009\n"
     ]
    },
    {
     "name": "stderr",
     "output_type": "stream",
     "text": [
      "\u001b[32m[I 2022-10-06 19:41:08,030]\u001b[0m Trial 80 finished with values: [0.42960861325263977, 0.8822222222222222] and parameters: {'lr': 0.00042472259892642147, 'l1': 0.9747868943976364, 'l2': 0.20583101434278306}. \u001b[0m\n"
     ]
    },
    {
     "name": "stdout",
     "output_type": "stream",
     "text": [
      "Dictionary: \n",
      "0:  {'precision': 0.8648648648648649, 'recall': 0.8930232558139535, 'f1-score': 0.8787185354691076, 'support': 430}\n",
      "1:  {'precision': 0.8991228070175439, 'recall': 0.8723404255319149, 'f1-score': 0.8855291576673866, 'support': 470}\n",
      "acc:  0.8822222222222222\n",
      "train_loss: 4.530492782592773, val: 0.6758188605308533\n",
      "train_loss: 4.3732781410217285, val: 0.5333847999572754\n",
      "train_loss: 4.346057415008545, val: 0.5034250020980835\n",
      "train_loss: 4.33149528503418, val: 0.48701396584510803\n",
      "train_loss: 4.325016021728516, val: 0.48055705428123474\n",
      "train_loss: 4.322022438049316, val: 0.4779813289642334\n",
      "train_loss: 4.320221900939941, val: 0.47668060660362244\n",
      "train_loss: 4.318823337554932, val: 0.47575491666793823\n",
      "train_loss: 4.31742000579834, val: 0.4747518002986908\n",
      "train_loss: 4.315627098083496, val: 0.47327277064323425\n",
      "train_loss: 4.31303596496582, val: 0.4708601236343384\n",
      "train_loss: 4.309300899505615, val: 0.4671253561973572\n",
      "train_loss: 4.304553985595703, val: 0.4621392488479614\n",
      "train_loss: 4.299559593200684, val: 0.45670589804649353\n",
      "train_loss: 4.295170307159424, val: 0.4519847631454468\n"
     ]
    },
    {
     "name": "stderr",
     "output_type": "stream",
     "text": [
      "\u001b[32m[I 2022-10-06 19:47:05,837]\u001b[0m Trial 81 finished with values: [0.4489082396030426, 0.8644444444444445] and parameters: {'lr': 0.00040253420972748887, 'l1': 0.49972056902108103, 'l2': 0.712791514447379}. \u001b[0m\n"
     ]
    },
    {
     "name": "stdout",
     "output_type": "stream",
     "text": [
      "Dictionary: \n",
      "0:  {'precision': 0.8355855855855856, 'recall': 0.8833333333333333, 'f1-score': 0.8587962962962963, 'support': 420}\n",
      "1:  {'precision': 0.8925438596491229, 'recall': 0.8479166666666667, 'f1-score': 0.8696581196581197, 'support': 480}\n",
      "acc:  0.8644444444444445\n",
      "train_loss: 3.2076549530029297, val: 0.6197631359100342\n",
      "train_loss: 3.0187504291534424, val: 0.4773520827293396\n",
      "train_loss: 3.014537811279297, val: 0.47571873664855957\n",
      "train_loss: 3.012535572052002, val: 0.4752373993396759\n",
      "train_loss: 3.009922504425049, val: 0.47392022609710693\n",
      "train_loss: 3.0049593448638916, val: 0.47033900022506714\n",
      "train_loss: 2.9965946674346924, val: 0.46326929330825806\n",
      "train_loss: 2.9887635707855225, val: 0.45741981267929077\n",
      "train_loss: 2.9843852519989014, val: 0.4548608362674713\n",
      "train_loss: 2.980339288711548, val: 0.4521643817424774\n",
      "train_loss: 2.974497079849243, val: 0.44748950004577637\n",
      "train_loss: 2.9672980308532715, val: 0.44060218334198\n",
      "train_loss: 2.962817668914795, val: 0.43595418334007263\n",
      "train_loss: 2.960695743560791, val: 0.43331122398376465\n",
      "train_loss: 2.959371328353882, val: 0.431204229593277\n"
     ]
    },
    {
     "name": "stderr",
     "output_type": "stream",
     "text": [
      "\u001b[32m[I 2022-10-06 19:53:00,877]\u001b[0m Trial 82 finished with values: [0.42959293723106384, 0.8744444444444445] and parameters: {'lr': 0.0008345398956574928, 'l1': 0.24058978748687912, 'l2': 0.7475094864032029}. \u001b[0m\n"
     ]
    },
    {
     "name": "stdout",
     "output_type": "stream",
     "text": [
      "Dictionary: \n",
      "0:  {'precision': 0.8445945945945946, 'recall': 0.8949880668257757, 'f1-score': 0.869061413673233, 'support': 419}\n",
      "1:  {'precision': 0.9035087719298246, 'recall': 0.8565488565488566, 'f1-score': 0.87940234791889, 'support': 481}\n",
      "acc:  0.8744444444444445\n",
      "train_loss: 3.5984950065612793, val: 0.5772588849067688\n",
      "train_loss: 3.4324162006378174, val: 0.4760788381099701\n",
      "train_loss: 3.429154634475708, val: 0.47603991627693176\n",
      "train_loss: 3.425976276397705, val: 0.4751458466053009\n",
      "train_loss: 3.419956922531128, val: 0.4708127975463867\n",
      "train_loss: 3.4096760749816895, val: 0.4609070420265198\n",
      "train_loss: 3.403116226196289, val: 0.45722419023513794\n",
      "train_loss: 3.399766445159912, val: 0.4551939070224762\n",
      "train_loss: 3.3957762718200684, val: 0.4521661102771759\n",
      "train_loss: 3.389549970626831, val: 0.4475165009498596\n",
      "train_loss: 3.3824305534362793, val: 0.44018518924713135\n",
      "train_loss: 3.3782262802124023, val: 0.4340985417366028\n",
      "train_loss: 3.3760013580322266, val: 0.4308147132396698\n",
      "train_loss: 3.374795436859131, val: 0.42882633209228516\n",
      "train_loss: 3.374066114425659, val: 0.42773354053497314\n"
     ]
    },
    {
     "name": "stderr",
     "output_type": "stream",
     "text": [
      "\u001b[32m[I 2022-10-06 19:58:57,592]\u001b[0m Trial 83 finished with values: [0.42718321084976196, 0.8822222222222222] and parameters: {'lr': 0.000980183560392138, 'l1': 0.3101429668861209, 'l2': 0.4792890418031847}. \u001b[0m\n"
     ]
    },
    {
     "name": "stdout",
     "output_type": "stream",
     "text": [
      "Dictionary: \n",
      "0:  {'precision': 0.8693693693693694, 'recall': 0.8894009216589862, 'f1-score': 0.8792710706150342, 'support': 434}\n",
      "1:  {'precision': 0.8947368421052632, 'recall': 0.8755364806866953, 'f1-score': 0.8850325379609545, 'support': 466}\n",
      "acc:  0.8822222222222222\n",
      "train_loss: 3.571378231048584, val: 0.6127346158027649\n",
      "train_loss: 3.387078046798706, val: 0.4769917130470276\n",
      "train_loss: 3.383378267288208, val: 0.47638198733329773\n",
      "train_loss: 3.381707191467285, val: 0.4766152501106262\n",
      "train_loss: 3.380006790161133, val: 0.47635915875434875\n",
      "train_loss: 3.3772776126861572, val: 0.4748948812484741\n",
      "train_loss: 3.3722851276397705, val: 0.4705091416835785\n",
      "train_loss: 3.3638768196105957, val: 0.4619523584842682\n",
      "train_loss: 3.35517954826355, val: 0.45385539531707764\n",
      "train_loss: 3.347501754760742, val: 0.4491879940032959\n",
      "train_loss: 3.339043140411377, val: 0.4421409070491791\n",
      "train_loss: 3.3325655460357666, val: 0.4351080060005188\n",
      "train_loss: 3.329451084136963, val: 0.43143829703330994\n",
      "train_loss: 3.3279073238372803, val: 0.42951440811157227\n",
      "train_loss: 3.3270230293273926, val: 0.4285983443260193\n"
     ]
    },
    {
     "name": "stderr",
     "output_type": "stream",
     "text": [
      "\u001b[32m[I 2022-10-06 20:04:51,704]\u001b[0m Trial 84 finished with values: [0.4282381236553192, 0.8822222222222222] and parameters: {'lr': 0.0008872732016317332, 'l1': 0.37443718148587296, 'l2': 0.21325699458044414}. \u001b[0m\n"
     ]
    },
    {
     "name": "stdout",
     "output_type": "stream",
     "text": [
      "Dictionary: \n",
      "0:  {'precision': 0.8626126126126126, 'recall': 0.8948598130841121, 'f1-score': 0.8784403669724771, 'support': 428}\n",
      "1:  {'precision': 0.9013157894736842, 'recall': 0.8707627118644068, 'f1-score': 0.8857758620689654, 'support': 472}\n",
      "acc:  0.8822222222222222\n",
      "train_loss: 5.474012851715088, val: 0.6838210821151733\n",
      "train_loss: 5.33347225189209, val: 0.5453786849975586\n",
      "train_loss: 5.290172100067139, val: 0.5055840015411377\n",
      "train_loss: 5.275143623352051, val: 0.4903126358985901\n",
      "train_loss: 5.268224239349365, val: 0.48339390754699707\n",
      "train_loss: 5.2647199630737305, val: 0.4800906479358673\n",
      "train_loss: 5.262730121612549, val: 0.47837749123573303\n",
      "train_loss: 5.261468410491943, val: 0.47741323709487915\n",
      "train_loss: 5.260592460632324, val: 0.4768330752849579\n",
      "train_loss: 5.2599358558654785, val: 0.4764625132083893\n",
      "train_loss: 5.2594194412231445, val: 0.47621285915374756\n",
      "train_loss: 5.25899076461792, val: 0.4760322868824005\n",
      "train_loss: 5.258609771728516, val: 0.4758910536766052\n",
      "train_loss: 5.258266448974609, val: 0.4757687747478485\n",
      "train_loss: 5.257936000823975, val: 0.47565147280693054\n"
     ]
    },
    {
     "name": "stderr",
     "output_type": "stream",
     "text": [
      "\u001b[32m[I 2022-10-06 20:10:47,952]\u001b[0m Trial 85 finished with values: [0.4755410850048065, 0.8222222222222222] and parameters: {'lr': 0.0001985981321318753, 'l1': 0.5714467716559368, 'l2': 0.9677891723461456}. \u001b[0m\n"
     ]
    },
    {
     "name": "stdout",
     "output_type": "stream",
     "text": [
      "Dictionary: \n",
      "0:  {'precision': 0.777027027027027, 'recall': 0.8497536945812808, 'f1-score': 0.8117647058823528, 'support': 406}\n",
      "1:  {'precision': 0.8662280701754386, 'recall': 0.7995951417004049, 'f1-score': 0.831578947368421, 'support': 494}\n",
      "acc:  0.8222222222222222\n",
      "train_loss: 3.8760197162628174, val: 0.6684489250183105\n",
      "train_loss: 3.6863789558410645, val: 0.49032828211784363\n",
      "train_loss: 3.673440933227539, val: 0.4789201021194458\n",
      "train_loss: 3.6702752113342285, val: 0.47682058811187744\n",
      "train_loss: 3.668893337249756, val: 0.476281076669693\n",
      "train_loss: 3.668088674545288, val: 0.4761689603328705\n",
      "train_loss: 3.667536735534668, val: 0.47619447112083435\n",
      "train_loss: 3.6670889854431152, val: 0.4762527346611023\n",
      "train_loss: 3.666668653488159, val: 0.4762974977493286\n",
      "train_loss: 3.666236400604248, val: 0.4762974977493286\n",
      "train_loss: 3.665742874145508, val: 0.47622331976890564\n",
      "train_loss: 3.6651451587677, val: 0.4760408103466034\n",
      "train_loss: 3.6643857955932617, val: 0.4757019281387329\n",
      "train_loss: 3.663393259048462, val: 0.47513774037361145\n",
      "train_loss: 3.6620941162109375, val: 0.47424814105033875\n"
     ]
    },
    {
     "name": "stderr",
     "output_type": "stream",
     "text": [
      "\u001b[32m[I 2022-10-06 20:16:45,090]\u001b[0m Trial 86 finished with values: [0.47305452823638916, 0.8266666666666667] and parameters: {'lr': 0.000411859684457623, 'l1': 0.2967977199870574, 'l2': 0.7810120894233628}. \u001b[0m\n"
     ]
    },
    {
     "name": "stdout",
     "output_type": "stream",
     "text": [
      "Dictionary: \n",
      "0:  {'precision': 0.7815315315315315, 'recall': 0.854679802955665, 'f1-score': 0.8164705882352942, 'support': 406}\n",
      "1:  {'precision': 0.8706140350877193, 'recall': 0.8036437246963563, 'f1-score': 0.8357894736842105, 'support': 494}\n",
      "acc:  0.8266666666666667\n",
      "train_loss: 4.522172927856445, val: 0.59565269947052\n",
      "train_loss: 4.346071243286133, val: 0.47597455978393555\n",
      "train_loss: 4.3426384925842285, val: 0.4751656949520111\n",
      "train_loss: 4.340664386749268, val: 0.4748939573764801\n",
      "train_loss: 4.337989807128906, val: 0.4739404320716858\n",
      "train_loss: 4.33322286605835, val: 0.4711659252643585\n",
      "train_loss: 4.324796676635742, val: 0.46479764580726624\n",
      "train_loss: 4.317615985870361, val: 0.4602445960044861\n",
      "train_loss: 4.315458297729492, val: 0.4590669870376587\n",
      "train_loss: 4.3146772384643555, val: 0.45887812972068787\n",
      "train_loss: 4.3142571449279785, val: 0.4590091407299042\n",
      "train_loss: 4.313975811004639, val: 0.45924416184425354\n",
      "train_loss: 4.313754558563232, val: 0.4595088064670563\n",
      "train_loss: 4.313557147979736, val: 0.45978015661239624\n",
      "train_loss: 4.313365936279297, val: 0.46004945039749146\n"
     ]
    },
    {
     "name": "stderr",
     "output_type": "stream",
     "text": [
      "\u001b[32m[I 2022-10-06 20:22:38,352]\u001b[0m Trial 87 finished with values: [0.460282564163208, 0.8411111111111111] and parameters: {'lr': 0.0007173996299591998, 'l1': 0.6503579437493222, 'l2': 0.20583101434278306}. \u001b[0m\n"
     ]
    },
    {
     "name": "stdout",
     "output_type": "stream",
     "text": [
      "Dictionary: \n",
      "0:  {'precision': 0.8018018018018018, 'recall': 0.8661800486618005, 'f1-score': 0.8327485380116959, 'support': 411}\n",
      "1:  {'precision': 0.8793859649122807, 'recall': 0.820040899795501, 'f1-score': 0.8486772486772487, 'support': 489}\n",
      "acc:  0.8411111111111111\n",
      "train_loss: 6.082535743713379, val: 0.6103281378746033\n",
      "train_loss: 5.9010233879089355, val: 0.47678142786026\n",
      "train_loss: 5.896936416625977, val: 0.4752945005893707\n",
      "train_loss: 5.894975662231445, val: 0.4748947024345398\n",
      "train_loss: 5.892724514007568, val: 0.47394803166389465\n",
      "train_loss: 5.889063835144043, val: 0.4715551435947418\n",
      "train_loss: 5.882796764373779, val: 0.4662977159023285\n",
      "train_loss: 5.874022006988525, val: 0.45905205607414246\n",
      "train_loss: 5.867036819458008, val: 0.45397984981536865\n",
      "train_loss: 5.86176872253418, val: 0.4497431218624115\n",
      "train_loss: 5.856049537658691, val: 0.44465646147727966\n",
      "train_loss: 5.8506083488464355, val: 0.43907925486564636\n",
      "train_loss: 5.846904277801514, val: 0.43479931354522705\n",
      "train_loss: 5.844667434692383, val: 0.43187984824180603\n",
      "train_loss: 5.843249320983887, val: 0.429904967546463\n"
     ]
    },
    {
     "name": "stderr",
     "output_type": "stream",
     "text": [
      "\u001b[32m[I 2022-10-06 20:28:34,043]\u001b[0m Trial 88 finished with values: [0.42875173687934875, 0.8811111111111111] and parameters: {'lr': 0.0005720005717517877, 'l1': 0.40670084017540087, 'l2': 0.9832432187633793}. \u001b[0m\n"
     ]
    },
    {
     "name": "stdout",
     "output_type": "stream",
     "text": [
      "Dictionary: \n",
      "0:  {'precision': 0.8558558558558559, 'recall': 0.8983451536643026, 'f1-score': 0.8765859284890427, 'support': 423}\n",
      "1:  {'precision': 0.9057017543859649, 'recall': 0.8658280922431866, 'f1-score': 0.8853161843515542, 'support': 477}\n",
      "acc:  0.8811111111111111\n",
      "train_loss: 1.6797065734863281, val: 0.6114339828491211\n",
      "train_loss: 1.4953269958496094, val: 0.4763904809951782\n",
      "train_loss: 1.4914871454238892, val: 0.47532615065574646\n",
      "train_loss: 1.4895219802856445, val: 0.4751436412334442\n",
      "train_loss: 1.4870771169662476, val: 0.4743175506591797\n",
      "train_loss: 1.4828006029129028, val: 0.4718700051307678\n",
      "train_loss: 1.475650429725647, val: 0.4662810266017914\n",
      "train_loss: 1.468266487121582, val: 0.46129682660102844\n",
      "train_loss: 1.4654829502105713, val: 0.46016183495521545\n",
      "train_loss: 1.464328408241272, val: 0.46021461486816406\n",
      "train_loss: 1.4635965824127197, val: 0.46045905351638794\n",
      "train_loss: 1.463059902191162, val: 0.4606975317001343\n",
      "train_loss: 1.4626383781433105, val: 0.46091124415397644\n",
      "train_loss: 1.4622958898544312, val: 0.46110743284225464\n",
      "train_loss: 1.4620082378387451, val: 0.46128952503204346\n"
     ]
    },
    {
     "name": "stderr",
     "output_type": "stream",
     "text": [
      "\u001b[32m[I 2022-10-06 20:34:31,714]\u001b[0m Trial 89 finished with values: [0.46144187450408936, 0.8433333333333334] and parameters: {'lr': 0.0007382067747357887, 'l1': 0.11027586283151322, 'l2': 0.18311261772122708}. \u001b[0m\n"
     ]
    },
    {
     "name": "stdout",
     "output_type": "stream",
     "text": [
      "Dictionary: \n",
      "0:  {'precision': 0.7972972972972973, 'recall': 0.8740740740740741, 'f1-score': 0.833922261484099, 'support': 405}\n",
      "1:  {'precision': 0.8881578947368421, 'recall': 0.8181818181818182, 'f1-score': 0.8517350157728707, 'support': 495}\n",
      "acc:  0.8433333333333334\n",
      "train_loss: 3.504422664642334, val: 0.6399856805801392\n",
      "train_loss: 3.311284065246582, val: 0.4790230095386505\n",
      "train_loss: 3.305119514465332, val: 0.4756962060928345\n",
      "train_loss: 3.302643060684204, val: 0.4749413728713989\n",
      "train_loss: 3.2999379634857178, val: 0.47333067655563354\n",
      "train_loss: 3.295274257659912, val: 0.46917206048965454\n",
      "train_loss: 3.2880570888519287, val: 0.4614754617214203\n",
      "train_loss: 3.2794835567474365, val: 0.4518609941005707\n",
      "train_loss: 3.270236015319824, val: 0.4426182806491852\n",
      "train_loss: 3.2609169483184814, val: 0.4348558187484741\n",
      "train_loss: 3.2551159858703613, val: 0.4300359785556793\n",
      "train_loss: 3.252349376678467, val: 0.4279077649116516\n",
      "train_loss: 3.250875234603882, val: 0.4273417890071869\n",
      "train_loss: 3.2499003410339355, val: 0.42732420563697815\n",
      "train_loss: 3.2491374015808105, val: 0.42750006914138794\n"
     ]
    },
    {
     "name": "stderr",
     "output_type": "stream",
     "text": [
      "\u001b[32m[I 2022-10-06 20:40:27,700]\u001b[0m Trial 90 finished with values: [0.42777925729751587, 0.8744444444444445] and parameters: {'lr': 0.0008216359136861207, 'l1': 0.4968268024998351, 'l2': 0.3174165625204114}. \u001b[0m\n"
     ]
    },
    {
     "name": "stdout",
     "output_type": "stream",
     "text": [
      "Dictionary: \n",
      "0:  {'precision': 0.8423423423423423, 'recall': 0.8968824940047961, 'f1-score': 0.8687572590011615, 'support': 417}\n",
      "1:  {'precision': 0.9057017543859649, 'recall': 0.855072463768116, 'f1-score': 0.8796592119275826, 'support': 483}\n",
      "acc:  0.8744444444444445\n",
      "train_loss: 4.092086315155029, val: 0.638796329498291\n",
      "train_loss: 3.9025981426239014, val: 0.4806934595108032\n",
      "train_loss: 3.8957197666168213, val: 0.4764159023761749\n",
      "train_loss: 3.893510103225708, val: 0.4759877920150757\n",
      "train_loss: 3.8917253017425537, val: 0.47569558024406433\n",
      "train_loss: 3.8892338275909424, val: 0.47470980882644653\n",
      "train_loss: 3.8850297927856445, val: 0.4718819856643677\n",
      "train_loss: 3.878530263900757, val: 0.46606534719467163\n",
      "train_loss: 3.8719325065612793, val: 0.46135106682777405\n",
      "train_loss: 3.868459939956665, val: 0.4596250653266907\n",
      "train_loss: 3.866645574569702, val: 0.4585672914981842\n",
      "train_loss: 3.865074396133423, val: 0.4574585556983948\n",
      "train_loss: 3.8632960319519043, val: 0.45603618025779724\n",
      "train_loss: 3.8610081672668457, val: 0.4540712833404541\n",
      "train_loss: 3.8578641414642334, val: 0.4513876438140869\n"
     ]
    },
    {
     "name": "stderr",
     "output_type": "stream",
     "text": [
      "\u001b[32m[I 2022-10-06 20:46:25,738]\u001b[0m Trial 91 finished with values: [0.4482910931110382, 0.8622222222222222] and parameters: {'lr': 0.0007173996299591998, 'l1': 0.4968268024998351, 'l2': 0.3174165625204114}. \u001b[0m\n"
     ]
    },
    {
     "name": "stdout",
     "output_type": "stream",
     "text": [
      "Dictionary: \n",
      "0:  {'precision': 0.8513513513513513, 'recall': 0.8669724770642202, 'f1-score': 0.8590909090909091, 'support': 436}\n",
      "1:  {'precision': 0.8728070175438597, 'recall': 0.8577586206896551, 'f1-score': 0.8652173913043478, 'support': 464}\n",
      "acc:  0.8622222222222222\n",
      "train_loss: 3.2774136066436768, val: 0.6828263401985168\n",
      "train_loss: 3.1514859199523926, val: 0.5750895738601685\n",
      "train_loss: 3.14137601852417, val: 0.5629896521568298\n",
      "train_loss: 3.138429880142212, val: 0.5584192276000977\n",
      "train_loss: 3.1364099979400635, val: 0.5554174184799194\n",
      "train_loss: 3.1345629692077637, val: 0.5528865456581116\n",
      "train_loss: 3.1326844692230225, val: 0.5505157709121704\n",
      "train_loss: 3.130685567855835, val: 0.5481707453727722\n",
      "train_loss: 3.1285157203674316, val: 0.5457664132118225\n",
      "train_loss: 3.1261134147644043, val: 0.5432353019714355\n",
      "train_loss: 3.123429536819458, val: 0.5405073761940002\n",
      "train_loss: 3.1203949451446533, val: 0.5375012755393982\n",
      "train_loss: 3.1169466972351074, val: 0.5341049432754517\n",
      "train_loss: 3.113025665283203, val: 0.5301664471626282\n",
      "train_loss: 3.1086177825927734, val: 0.5255159735679626\n"
     ]
    },
    {
     "name": "stderr",
     "output_type": "stream",
     "text": [
      "\u001b[32m[I 2022-10-06 20:52:23,102]\u001b[0m Trial 92 finished with values: [0.5206691026687622, 0.7777777777777778] and parameters: {'lr': 0.00038772435562833835, 'l1': 0.266960228482473, 'l2': 0.7292005822847892}. \u001b[0m\n"
     ]
    },
    {
     "name": "stdout",
     "output_type": "stream",
     "text": [
      "Dictionary: \n",
      "0:  {'precision': 0.704954954954955, 'recall': 0.819371727748691, 'f1-score': 0.757869249394673, 'support': 382}\n",
      "1:  {'precision': 0.8486842105263158, 'recall': 0.747104247104247, 'f1-score': 0.7946611909650924, 'support': 518}\n",
      "acc:  0.7777777777777778\n",
      "train_loss: 6.511266708374023, val: 0.6774964332580566\n",
      "train_loss: 6.318176746368408, val: 0.49341851472854614\n",
      "train_loss: 6.303131103515625, val: 0.479612797498703\n",
      "train_loss: 6.299454689025879, val: 0.47707855701446533\n",
      "train_loss: 6.297846794128418, val: 0.4764234125614166\n",
      "train_loss: 6.2969231605529785, val: 0.4762478470802307\n",
      "train_loss: 6.296224594116211, val: 0.47618380188941956\n",
      "train_loss: 6.295602798461914, val: 0.4760740399360657\n",
      "train_loss: 6.2949090003967285, val: 0.47579625248908997\n",
      "train_loss: 6.293980121612549, val: 0.47518518567085266\n",
      "train_loss: 6.292582988739014, val: 0.47398555278778076\n",
      "train_loss: 6.290404796600342, val: 0.47185248136520386\n",
      "train_loss: 6.287209987640381, val: 0.46850478649139404\n",
      "train_loss: 6.2830705642700195, val: 0.46397003531455994\n",
      "train_loss: 6.278557777404785, val: 0.45874547958374023\n"
     ]
    },
    {
     "name": "stderr",
     "output_type": "stream",
     "text": [
      "\u001b[32m[I 2022-10-06 20:58:19,887]\u001b[0m Trial 93 finished with values: [0.4542710781097412, 0.8522222222222222] and parameters: {'lr': 0.0005252308125509869, 'l1': 0.9747868943976364, 'l2': 0.6381072031542955}. \u001b[0m\n"
     ]
    },
    {
     "name": "stdout",
     "output_type": "stream",
     "text": [
      "Dictionary: \n",
      "0:  {'precision': 0.8175675675675675, 'recall': 0.8746987951807229, 'f1-score': 0.8451688009313155, 'support': 415}\n",
      "1:  {'precision': 0.8859649122807017, 'recall': 0.8329896907216495, 'f1-score': 0.8586609989373007, 'support': 485}\n",
      "acc:  0.8522222222222222\n",
      "train_loss: 2.8402702808380127, val: 0.6046974062919617\n",
      "train_loss: 2.6586198806762695, val: 0.4764765799045563\n",
      "train_loss: 2.654510736465454, val: 0.4753406345844269\n",
      "train_loss: 2.6529994010925293, val: 0.4753774106502533\n",
      "train_loss: 2.6518309116363525, val: 0.4752351641654968\n",
      "train_loss: 2.650362730026245, val: 0.47452297806739807\n",
      "train_loss: 2.6480002403259277, val: 0.4727075397968292\n",
      "train_loss: 2.6441128253936768, val: 0.46898964047431946\n",
      "train_loss: 2.6386730670928955, val: 0.46296873688697815\n",
      "train_loss: 2.6321194171905518, val: 0.4559542238712311\n",
      "train_loss: 2.6239209175109863, val: 0.44816210865974426\n",
      "train_loss: 2.6144962310791016, val: 0.4392317831516266\n",
      "train_loss: 2.607593536376953, val: 0.43416568636894226\n",
      "train_loss: 2.6039648056030273, val: 0.43142250180244446\n",
      "train_loss: 2.6017978191375732, val: 0.4294476807117462\n"
     ]
    },
    {
     "name": "stderr",
     "output_type": "stream",
     "text": [
      "\u001b[32m[I 2022-10-06 21:04:17,363]\u001b[0m Trial 94 finished with values: [0.42840132117271423, 0.8811111111111111] and parameters: {'lr': 0.0007785004991933187, 'l1': 0.08765324036892659, 'l2': 0.6924713145867758}. \u001b[0m\n"
     ]
    },
    {
     "name": "stdout",
     "output_type": "stream",
     "text": [
      "Dictionary: \n",
      "0:  {'precision': 0.8603603603603603, 'recall': 0.8946135831381733, 'f1-score': 0.8771526980482204, 'support': 427}\n",
      "1:  {'precision': 0.9013157894736842, 'recall': 0.86892177589852, 'f1-score': 0.8848223896663079, 'support': 473}\n",
      "acc:  0.8811111111111111\n",
      "train_loss: 7.804303169250488, val: 0.6846581101417542\n",
      "train_loss: 7.695262432098389, val: 0.5857278108596802\n",
      "train_loss: 7.667881488800049, val: 0.5600630640983582\n",
      "train_loss: 7.65827751159668, val: 0.5489721298217773\n",
      "train_loss: 7.651747226715088, val: 0.5412216186523438\n",
      "train_loss: 7.645925521850586, val: 0.5345016121864319\n",
      "train_loss: 7.640169620513916, val: 0.5280824303627014\n",
      "train_loss: 7.634280681610107, val: 0.5216700434684753\n",
      "train_loss: 7.6282172203063965, val: 0.5151417255401611\n",
      "train_loss: 7.6220831871032715, val: 0.5085234045982361\n",
      "train_loss: 7.616171360015869, val: 0.502055287361145\n",
      "train_loss: 7.610830783843994, val: 0.4961903989315033\n",
      "train_loss: 7.606356143951416, val: 0.49132195115089417\n",
      "train_loss: 7.602783203125, val: 0.48750221729278564\n",
      "train_loss: 7.599905967712402, val: 0.4845183193683624\n"
     ]
    },
    {
     "name": "stderr",
     "output_type": "stream",
     "text": [
      "\u001b[32m[I 2022-10-06 21:10:13,799]\u001b[0m Trial 95 finished with values: [0.4823264479637146, 0.8222222222222222] and parameters: {'lr': 0.00014795040391006416, 'l1': 0.9933951575563149, 'l2': 0.4985445997594756}. \u001b[0m\n"
     ]
    },
    {
     "name": "stdout",
     "output_type": "stream",
     "text": [
      "Dictionary: \n",
      "0:  {'precision': 0.7792792792792793, 'recall': 0.8480392156862745, 'f1-score': 0.8122065727699531, 'support': 408}\n",
      "1:  {'precision': 0.8640350877192983, 'recall': 0.8008130081300813, 'f1-score': 0.8312236286919831, 'support': 492}\n",
      "acc:  0.8222222222222222\n",
      "train_loss: 6.523712158203125, val: 0.5904548764228821\n",
      "train_loss: 6.348230838775635, val: 0.4755772650241852\n",
      "train_loss: 6.34414529800415, val: 0.47442689538002014\n",
      "train_loss: 6.339373588562012, val: 0.471098393201828\n",
      "train_loss: 6.330420017242432, val: 0.4621066153049469\n",
      "train_loss: 6.318370819091797, val: 0.44959935545921326\n",
      "train_loss: 6.303767681121826, val: 0.4377651810646057\n",
      "train_loss: 6.295473098754883, val: 0.4311244487762451\n",
      "train_loss: 6.292409420013428, val: 0.4291723966598511\n",
      "train_loss: 6.290971755981445, val: 0.428533136844635\n",
      "train_loss: 6.290160655975342, val: 0.428318053483963\n",
      "train_loss: 6.289602756500244, val: 0.4283059239387512\n",
      "train_loss: 6.289169788360596, val: 0.42839914560317993\n",
      "train_loss: 6.288802146911621, val: 0.4285615086555481\n",
      "train_loss: 6.2884674072265625, val: 0.4287862181663513\n"
     ]
    },
    {
     "name": "stderr",
     "output_type": "stream",
     "text": [
      "\u001b[32m[I 2022-10-06 21:16:09,256]\u001b[0m Trial 96 finished with values: [0.42904728651046753, 0.8833333333333333] and parameters: {'lr': 0.0008996484295047145, 'l1': 0.8889795565018982, 'l2': 0.21325699458044414}. \u001b[0m\n"
     ]
    },
    {
     "name": "stdout",
     "output_type": "stream",
     "text": [
      "Dictionary: \n",
      "0:  {'precision': 0.8693693693693694, 'recall': 0.8914549653579676, 'f1-score': 0.8802736602052451, 'support': 433}\n",
      "1:  {'precision': 0.8969298245614035, 'recall': 0.8758029978586723, 'f1-score': 0.8862405200433369, 'support': 467}\n",
      "acc:  0.8833333333333333\n",
      "train_loss: 4.160721778869629, val: 0.6619324684143066\n",
      "train_loss: 3.968508720397949, val: 0.48348182439804077\n",
      "train_loss: 3.959286689758301, val: 0.47675448656082153\n",
      "train_loss: 3.956721544265747, val: 0.47540876269340515\n",
      "train_loss: 3.955460786819458, val: 0.47506147623062134\n",
      "train_loss: 3.954637289047241, val: 0.4749998152256012\n",
      "train_loss: 3.9539694786071777, val: 0.4750148057937622\n",
      "train_loss: 3.953327178955078, val: 0.4750177264213562\n",
      "train_loss: 3.952629804611206, val: 0.47495540976524353\n",
      "train_loss: 3.9517767429351807, val: 0.47477853298187256\n",
      "train_loss: 3.950699806213379, val: 0.47442442178726196\n",
      "train_loss: 3.949270248413086, val: 0.4737991988658905\n",
      "train_loss: 3.9473679065704346, val: 0.47275274991989136\n",
      "train_loss: 3.9448344707489014, val: 0.47107836604118347\n",
      "train_loss: 3.941558361053467, val: 0.468649297952652\n"
     ]
    },
    {
     "name": "stderr",
     "output_type": "stream",
     "text": [
      "\u001b[32m[I 2022-10-06 21:22:05,712]\u001b[0m Trial 97 finished with values: [0.4660542905330658, 0.8333333333333334] and parameters: {'lr': 0.00033103877792804004, 'l1': 0.20938547094800453, 'l2': 0.6286754349679858}. \u001b[0m\n"
     ]
    },
    {
     "name": "stdout",
     "output_type": "stream",
     "text": [
      "Dictionary: \n",
      "0:  {'precision': 0.7972972972972973, 'recall': 0.855072463768116, 'f1-score': 0.8251748251748252, 'support': 414}\n",
      "1:  {'precision': 0.868421052631579, 'recall': 0.8148148148148148, 'f1-score': 0.8407643312101911, 'support': 486}\n",
      "acc:  0.8333333333333334\n",
      "train_loss: 4.320601463317871, val: 0.5708799362182617\n",
      "train_loss: 4.151803016662598, val: 0.4756925106048584\n",
      "train_loss: 4.148461818695068, val: 0.47528231143951416\n",
      "train_loss: 4.144643783569336, val: 0.4734554886817932\n",
      "train_loss: 4.1366658210754395, val: 0.46719780564308167\n",
      "train_loss: 4.126260280609131, val: 0.4577680826187134\n",
      "train_loss: 4.118450164794922, val: 0.45290547609329224\n",
      "train_loss: 4.112279415130615, val: 0.44843003153800964\n",
      "train_loss: 4.104339599609375, val: 0.4410189390182495\n",
      "train_loss: 4.099141597747803, val: 0.4355134069919586\n",
      "train_loss: 4.096819877624512, val: 0.4328145682811737\n",
      "train_loss: 4.095483779907227, val: 0.4307524263858795\n",
      "train_loss: 4.094579696655273, val: 0.42925670742988586\n",
      "train_loss: 4.0939226150512695, val: 0.42853936553001404\n",
      "train_loss: 4.093391418457031, val: 0.428250789642334\n"
     ]
    },
    {
     "name": "stderr",
     "output_type": "stream",
     "text": [
      "\u001b[32m[I 2022-10-06 21:28:05,149]\u001b[0m Trial 98 finished with values: [0.4282330572605133, 0.8855555555555555] and parameters: {'lr': 0.0009373195135397142, 'l1': 0.266960228482473, 'l2': 0.6835040080158166}. \u001b[0m\n"
     ]
    },
    {
     "name": "stdout",
     "output_type": "stream",
     "text": [
      "Dictionary: \n",
      "0:  {'precision': 0.8693693693693694, 'recall': 0.8955916473317865, 'f1-score': 0.8822857142857142, 'support': 431}\n",
      "1:  {'precision': 0.9013157894736842, 'recall': 0.8763326226012793, 'f1-score': 0.8886486486486486, 'support': 469}\n",
      "acc:  0.8855555555555555\n",
      "train_loss: 5.296847343444824, val: 0.6429429054260254\n",
      "train_loss: 5.116227626800537, val: 0.48664093017578125\n",
      "train_loss: 5.105087757110596, val: 0.4778324067592621\n",
      "train_loss: 5.10177755355835, val: 0.4759220480918884\n",
      "train_loss: 5.100064277648926, val: 0.4753003418445587\n",
      "train_loss: 5.098697185516357, val: 0.47481459379196167\n",
      "train_loss: 5.0972185134887695, val: 0.4740932285785675\n",
      "train_loss: 5.095321178436279, val: 0.4728597104549408\n",
      "train_loss: 5.092657566070557, val: 0.4707774221897125\n",
      "train_loss: 5.088910102844238, val: 0.46746203303337097\n",
      "train_loss: 5.0841145515441895, val: 0.4628717601299286\n",
      "train_loss: 5.079262733459473, val: 0.4580218493938446\n",
      "train_loss: 5.075260639190674, val: 0.4539598822593689\n",
      "train_loss: 5.071571350097656, val: 0.44991040229797363\n",
      "train_loss: 5.067080497741699, val: 0.4456705152988434\n"
     ]
    },
    {
     "name": "stderr",
     "output_type": "stream",
     "text": [
      "\u001b[32m[I 2022-10-06 21:34:01,587]\u001b[0m Trial 99 finished with values: [0.4422486424446106, 0.8666666666666667] and parameters: {'lr': 0.00042989866679117876, 'l1': 0.14291575660336367, 'l2': 0.9265810510633469}. \u001b[0m\n"
     ]
    },
    {
     "name": "stdout",
     "output_type": "stream",
     "text": [
      "Dictionary: \n",
      "0:  {'precision': 0.8603603603603603, 'recall': 0.8681818181818182, 'f1-score': 0.8642533936651585, 'support': 440}\n",
      "1:  {'precision': 0.8728070175438597, 'recall': 0.8652173913043478, 'f1-score': 0.868995633187773, 'support': 460}\n",
      "acc:  0.8666666666666667\n"
     ]
    }
   ],
   "source": [
    "study.optimize(DF_objective, n_trials=100)"
   ]
  },
  {
   "cell_type": "code",
   "execution_count": 14,
   "id": "bf935ac1",
   "metadata": {
    "scrolled": true
   },
   "outputs": [
    {
     "name": "stdout",
     "output_type": "stream",
     "text": [
      "[Linear(in_features=10, out_features=10, bias=True), BatchNorm1d(10, eps=1e-05, momentum=0.1, affine=True, track_running_stats=True)]\n",
      "train_loss: 168.72120666503906, val: 156.00015258789062\n",
      "train_loss: 162.64476013183594, val: 156.1305389404297\n",
      "train_loss: 162.7053985595703, val: 155.9679718017578\n",
      "train_loss: 158.73741149902344, val: 154.0360870361328\n",
      "train_loss: 132.39117431640625, val: 159.89320373535156\n",
      "train_loss: 107.90705871582031, val: 161.30311584472656\n",
      "train_loss: 92.2215347290039, val: 160.76312255859375\n",
      "train_loss: 83.0097885131836, val: 157.32130432128906\n",
      "train_loss: 78.48997497558594, val: 152.87368774414062\n",
      "train_loss: 76.54864501953125, val: 149.04054260253906\n"
     ]
    },
    {
     "name": "stderr",
     "output_type": "stream",
     "text": [
      "\u001b[32m[I 2022-10-10 15:42:48,494]\u001b[0m Trial 0 finished with values: [147.31820678710938, 0.75] and parameters: {'lr': 0.0008142304442759679, 'nlf_n_layers': 1, 'nlf_act0': 'BatchNorm'}. \u001b[0m\n"
     ]
    },
    {
     "name": "stdout",
     "output_type": "stream",
     "text": [
      "Dictionary: \n",
      "0:  {'precision': 0.5, 'recall': 1.0, 'f1-score': 0.6666666666666666, 'support': 1}\n",
      "1:  {'precision': 1.0, 'recall': 0.6666666666666666, 'f1-score': 0.8, 'support': 3}\n",
      "acc:  0.75\n",
      "[Linear(in_features=10, out_features=10, bias=True), Sigmoid(), Linear(in_features=10, out_features=10, bias=True), BatchNorm1d(10, eps=1e-05, momentum=0.1, affine=True, track_running_stats=True)]\n",
      "train_loss: 166.98678588867188, val: 157.3123779296875\n",
      "train_loss: 161.80810546875, val: 155.78614807128906\n",
      "train_loss: 162.37208557128906, val: 156.09054565429688\n",
      "train_loss: 162.47276306152344, val: 156.05862426757812\n",
      "train_loss: 162.01223754882812, val: 155.45849609375\n",
      "train_loss: 160.7703399658203, val: 154.34210205078125\n",
      "train_loss: 156.91725158691406, val: 152.06590270996094\n",
      "train_loss: 147.1512908935547, val: 148.83128356933594\n",
      "train_loss: 135.2615509033203, val: 145.40989685058594\n",
      "train_loss: 127.16092681884766, val: 145.339111328125\n"
     ]
    },
    {
     "name": "stderr",
     "output_type": "stream",
     "text": [
      "\u001b[32m[I 2022-10-10 15:42:51,707]\u001b[0m Trial 1 finished with values: [146.48487854003906, 0.5] and parameters: {'lr': 0.00047508966217323144, 'nlf_n_layers': 2, 'nlf_act0': 'Sig', 'nlf_act1': 'BatchNorm'}. \u001b[0m\n"
     ]
    },
    {
     "name": "stdout",
     "output_type": "stream",
     "text": [
      "Dictionary: \n",
      "0:  {'precision': 0.5, 'recall': 0.5, 'f1-score': 0.5, 'support': 2}\n",
      "1:  {'precision': 0.5, 'recall': 0.5, 'f1-score': 0.5, 'support': 2}\n",
      "acc:  0.5\n",
      "[Linear(in_features=10, out_features=10, bias=True), BatchNorm1d(10, eps=1e-05, momentum=0.1, affine=True, track_running_stats=True)]\n",
      "train_loss: 164.2908477783203, val: 155.8489227294922\n",
      "train_loss: 162.21180725097656, val: 156.0829315185547\n",
      "train_loss: 162.44537353515625, val: 156.36631774902344\n",
      "train_loss: 162.46878051757812, val: 156.64755249023438\n",
      "train_loss: 162.2218780517578, val: 157.02293395996094\n",
      "train_loss: 161.47401428222656, val: 157.59686279296875\n",
      "train_loss: 159.0621795654297, val: 159.2164306640625\n",
      "train_loss: 152.37603759765625, val: 162.12583923339844\n",
      "train_loss: 139.05943298339844, val: 165.98997497558594\n",
      "train_loss: 123.93971252441406, val: 170.37986755371094\n"
     ]
    },
    {
     "name": "stderr",
     "output_type": "stream",
     "text": [
      "\u001b[32m[I 2022-10-10 15:42:54,682]\u001b[0m Trial 2 finished with values: [172.25177001953125, 0.5] and parameters: {'lr': 0.0002744646079076074, 'nlf_n_layers': 1, 'nlf_act0': 'BatchNorm'}. \u001b[0m\n"
     ]
    },
    {
     "name": "stdout",
     "output_type": "stream",
     "text": [
      "Dictionary: \n",
      "0:  {'precision': 0.0, 'recall': 0.0, 'f1-score': 0.0, 'support': 0}\n",
      "1:  {'precision': 1.0, 'recall': 0.5, 'f1-score': 0.6666666666666666, 'support': 4}\n",
      "acc:  0.5\n",
      "[Tanh()]\n",
      "train_loss: 169.8677520751953, val: 157.1683349609375\n",
      "train_loss: 162.22366333007812, val: 155.7283477783203\n",
      "train_loss: 159.09918212890625, val: 151.92791748046875\n",
      "train_loss: 134.39822387695312, val: 128.7845458984375\n",
      "train_loss: 119.09502410888672, val: 118.1063232421875\n",
      "train_loss: 115.22891235351562, val: 114.67190551757812\n",
      "train_loss: 112.8599624633789, val: 112.29737091064453\n",
      "train_loss: 110.94549560546875, val: 110.41387176513672\n",
      "train_loss: 109.28889465332031, val: 108.84432983398438\n",
      "train_loss: 107.83926391601562, val: 107.48548126220703\n"
     ]
    },
    {
     "name": "stderr",
     "output_type": "stream",
     "text": [
      "\u001b[32m[I 2022-10-10 15:42:57,265]\u001b[0m Trial 3 finished with values: [106.5114974975586, 0.75] and parameters: {'lr': 0.0008243067661485299, 'nlf_n_layers': 0, 'nlf_func': 'Tanh'}. \u001b[0m\n"
     ]
    },
    {
     "name": "stdout",
     "output_type": "stream",
     "text": [
      "Dictionary: \n",
      "0:  {'precision': 0.5, 'recall': 1.0, 'f1-score': 0.6666666666666666, 'support': 1}\n",
      "1:  {'precision': 1.0, 'recall': 0.6666666666666666, 'f1-score': 0.8, 'support': 3}\n",
      "acc:  0.75\n",
      "[Linear(in_features=10, out_features=10, bias=True), BatchNorm1d(10, eps=1e-05, momentum=0.1, affine=True, track_running_stats=True), Linear(in_features=10, out_features=10, bias=True), BatchNorm1d(10, eps=1e-05, momentum=0.1, affine=True, track_running_stats=True)]\n",
      "train_loss: 166.615478515625, val: 155.8897705078125\n",
      "train_loss: 162.06976318359375, val: 155.65240478515625\n",
      "train_loss: 161.27099609375, val: 154.07261657714844\n",
      "train_loss: 154.3727569580078, val: 144.94076538085938\n",
      "train_loss: 134.96900939941406, val: 127.73580169677734\n",
      "train_loss: 115.2548599243164, val: 127.40691375732422\n",
      "train_loss: 103.9530029296875, val: 129.19683837890625\n",
      "train_loss: 94.56663513183594, val: 128.3090057373047\n",
      "train_loss: 87.7704086303711, val: 125.74288940429688\n",
      "train_loss: 81.06143951416016, val: 127.89218139648438\n"
     ]
    },
    {
     "name": "stderr",
     "output_type": "stream",
     "text": [
      "\u001b[32m[I 2022-10-10 15:43:00,539]\u001b[0m Trial 4 finished with values: [128.1992645263672, 0.5] and parameters: {'lr': 0.0005525843246597252, 'nlf_n_layers': 2, 'nlf_act0': 'BatchNorm', 'nlf_act1': 'BatchNorm'}. \u001b[0m\n"
     ]
    },
    {
     "name": "stdout",
     "output_type": "stream",
     "text": [
      "Dictionary: \n",
      "0:  {'precision': 0.5, 'recall': 0.5, 'f1-score': 0.5, 'support': 2}\n",
      "1:  {'precision': 0.5, 'recall': 0.5, 'f1-score': 0.5, 'support': 2}\n",
      "acc:  0.5\n",
      "[Linear(in_features=10, out_features=10, bias=True), Tanh(), Linear(in_features=10, out_features=10, bias=True), ReLU()]\n",
      "train_loss: 164.2520751953125, val: 156.1956787109375\n",
      "train_loss: 161.79605102539062, val: 155.76528930664062\n",
      "train_loss: 162.03553771972656, val: 155.89059448242188\n",
      "train_loss: 162.25282287597656, val: 156.024658203125\n",
      "train_loss: 162.21148681640625, val: 155.91204833984375\n",
      "train_loss: 161.35125732421875, val: 154.95294189453125\n",
      "train_loss: 157.8346710205078, val: 151.21969604492188\n",
      "train_loss: 146.37979125976562, val: 139.73004150390625\n",
      "train_loss: 131.2474365234375, val: 126.07815551757812\n",
      "train_loss: 122.625, val: 118.88752746582031\n"
     ]
    },
    {
     "name": "stderr",
     "output_type": "stream",
     "text": [
      "\u001b[32m[I 2022-10-10 15:43:03,538]\u001b[0m Trial 5 finished with values: [115.74539184570312, 0.5] and parameters: {'lr': 0.00028067040434814124, 'nlf_n_layers': 2, 'nlf_act0': 'Tanh', 'nlf_act1': 'ReLU'}. \u001b[0m\n"
     ]
    },
    {
     "name": "stdout",
     "output_type": "stream",
     "text": [
      "Dictionary: \n",
      "0:  {'precision': 0.5, 'recall': 0.5, 'f1-score': 0.5, 'support': 2}\n",
      "1:  {'precision': 0.5, 'recall': 0.5, 'f1-score': 0.5, 'support': 2}\n",
      "acc:  0.5\n",
      "[Linear(in_features=10, out_features=10, bias=True), Tanh()]\n",
      "train_loss: 170.7350616455078, val: 156.4253692626953\n",
      "train_loss: 163.07203674316406, val: 156.32769775390625\n",
      "train_loss: 162.4737091064453, val: 155.27572631835938\n",
      "train_loss: 142.5012969970703, val: 132.74130249023438\n",
      "train_loss: 112.62653350830078, val: 109.84133911132812\n",
      "train_loss: 109.14456939697266, val: 107.57320404052734\n",
      "train_loss: 108.00205993652344, val: 106.69188690185547\n",
      "train_loss: 107.36607360839844, val: 106.14459228515625\n",
      "train_loss: 106.92352294921875, val: 105.76805114746094\n",
      "train_loss: 106.57843017578125, val: 105.48453521728516\n"
     ]
    },
    {
     "name": "stderr",
     "output_type": "stream",
     "text": [
      "\u001b[32m[I 2022-10-10 15:43:06,305]\u001b[0m Trial 6 finished with values: [105.2960433959961, 0.75] and parameters: {'lr': 0.0009174203337299236, 'nlf_n_layers': 1, 'nlf_act0': 'Tanh'}. \u001b[0m\n"
     ]
    },
    {
     "name": "stdout",
     "output_type": "stream",
     "text": [
      "Dictionary: \n",
      "0:  {'precision': 0.5, 'recall': 1.0, 'f1-score': 0.6666666666666666, 'support': 1}\n",
      "1:  {'precision': 1.0, 'recall': 0.6666666666666666, 'f1-score': 0.8, 'support': 3}\n",
      "acc:  0.75\n",
      "[Linear(in_features=10, out_features=10, bias=True), ReLU()]\n",
      "train_loss: 168.61587524414062, val: 156.01263427734375\n",
      "train_loss: 162.7290802001953, val: 156.2101593017578\n",
      "train_loss: 162.9561004638672, val: 156.13369750976562\n",
      "train_loss: 158.49319458007812, val: 150.7124481201172\n",
      "train_loss: 131.1918487548828, val: 123.68599700927734\n",
      "train_loss: 116.77122497558594, val: 113.09740447998047\n",
      "train_loss: 113.76610565185547, val: 111.24920654296875\n",
      "train_loss: 112.32633209228516, val: 110.29386901855469\n",
      "train_loss: 111.19647216796875, val: 109.48999786376953\n",
      "train_loss: 110.18170928955078, val: 108.70574951171875\n"
     ]
    },
    {
     "name": "stderr",
     "output_type": "stream",
     "text": [
      "\u001b[32m[I 2022-10-10 15:43:09,074]\u001b[0m Trial 7 finished with values: [108.03756713867188, 0.5] and parameters: {'lr': 0.000753986316514521, 'nlf_n_layers': 1, 'nlf_act0': 'ReLU'}. \u001b[0m\n"
     ]
    },
    {
     "name": "stdout",
     "output_type": "stream",
     "text": [
      "Dictionary: \n",
      "0:  {'precision': 0.5, 'recall': 0.5, 'f1-score': 0.5, 'support': 2}\n",
      "1:  {'precision': 0.5, 'recall': 0.5, 'f1-score': 0.5, 'support': 2}\n",
      "acc:  0.5\n",
      "[Tanh()]\n",
      "train_loss: 170.92576599121094, val: 157.4840850830078\n",
      "train_loss: 162.63201904296875, val: 156.10826110839844\n",
      "train_loss: 162.33299255371094, val: 155.42335510253906\n",
      "train_loss: 154.63006591796875, val: 146.81602478027344\n",
      "train_loss: 129.8909454345703, val: 126.11262512207031\n",
      "train_loss: 120.69855499267578, val: 119.5860595703125\n",
      "train_loss: 117.38166046142578, val: 117.00431823730469\n",
      "train_loss: 115.3906021118164, val: 115.02394104003906\n",
      "train_loss: 113.69786834716797, val: 113.10042572021484\n",
      "train_loss: 112.14899444580078, val: 111.37931060791016\n"
     ]
    },
    {
     "name": "stderr",
     "output_type": "stream",
     "text": [
      "\u001b[32m[I 2022-10-10 15:43:11,627]\u001b[0m Trial 8 finished with values: [110.18397521972656, 0.5] and parameters: {'lr': 0.0008792886621543811, 'nlf_n_layers': 0, 'nlf_func': 'Tanh'}. \u001b[0m\n"
     ]
    },
    {
     "name": "stdout",
     "output_type": "stream",
     "text": [
      "Dictionary: \n",
      "0:  {'precision': 0.5, 'recall': 0.5, 'f1-score': 0.5, 'support': 2}\n",
      "1:  {'precision': 0.5, 'recall': 0.5, 'f1-score': 0.5, 'support': 2}\n",
      "acc:  0.5\n",
      "[Linear(in_features=10, out_features=10, bias=True), ReLU()]\n",
      "train_loss: 170.45907592773438, val: 157.18026733398438\n",
      "train_loss: 162.6812286376953, val: 156.201416015625\n",
      "train_loss: 163.31072998046875, val: 156.54196166992188\n",
      "train_loss: 162.95172119140625, val: 156.13551330566406\n",
      "train_loss: 157.84750366210938, val: 149.94772338867188\n",
      "train_loss: 124.9686050415039, val: 119.93335723876953\n",
      "train_loss: 112.08793640136719, val: 110.4561996459961\n",
      "train_loss: 108.94844818115234, val: 107.74447631835938\n",
      "train_loss: 107.08829498291016, val: 106.21875\n",
      "train_loss: 105.86067199707031, val: 105.03041076660156\n"
     ]
    },
    {
     "name": "stderr",
     "output_type": "stream",
     "text": [
      "\u001b[32m[I 2022-10-10 15:43:14,397]\u001b[0m Trial 9 finished with values: [104.18042755126953, 0.75] and parameters: {'lr': 0.0009813163040683062, 'nlf_n_layers': 1, 'nlf_act0': 'ReLU'}. \u001b[0m\n"
     ]
    },
    {
     "name": "stdout",
     "output_type": "stream",
     "text": [
      "Dictionary: \n",
      "0:  {'precision': 0.5, 'recall': 1.0, 'f1-score': 0.6666666666666666, 'support': 1}\n",
      "1:  {'precision': 1.0, 'recall': 0.6666666666666666, 'f1-score': 0.8, 'support': 3}\n",
      "acc:  0.75\n",
      "[BatchNorm1d(10, eps=1e-05, momentum=0.1, affine=True, track_running_stats=True)]\n",
      "train_loss: 171.26644897460938, val: 158.0984344482422\n",
      "train_loss: 162.66770935058594, val: 156.20257568359375\n",
      "train_loss: 163.3081817626953, val: 156.6590576171875\n",
      "train_loss: 162.6916046142578, val: 157.06175231933594\n",
      "train_loss: 158.020263671875, val: 159.76007080078125\n",
      "train_loss: 143.86788940429688, val: 166.76876831054688\n",
      "train_loss: 133.51266479492188, val: 172.7967987060547\n",
      "train_loss: 126.52483367919922, val: 176.74526977539062\n",
      "train_loss: 120.64967346191406, val: 177.28347778320312\n",
      "train_loss: 113.05631256103516, val: 175.61578369140625\n"
     ]
    },
    {
     "name": "stderr",
     "output_type": "stream",
     "text": [
      "\u001b[32m[I 2022-10-10 15:43:17,142]\u001b[0m Trial 10 finished with values: [176.71661376953125, 0.0] and parameters: {'lr': 0.0008574262065066097, 'nlf_n_layers': 0, 'nlf_func': 'BatchNorm'}. \u001b[0m\n"
     ]
    },
    {
     "name": "stdout",
     "output_type": "stream",
     "text": [
      "Dictionary: \n",
      "0:  {'precision': 0.0, 'recall': 0.0, 'f1-score': 0.0, 'support': 2.0}\n",
      "1:  {'precision': 0.0, 'recall': 0.0, 'f1-score': 0.0, 'support': 2.0}\n",
      "acc:  0.0\n",
      "[Linear(in_features=10, out_features=10, bias=True), BatchNorm1d(10, eps=1e-05, momentum=0.1, affine=True, track_running_stats=True)]\n",
      "train_loss: 169.48594665527344, val: 155.98944091796875\n",
      "train_loss: 162.77308654785156, val: 156.376708984375\n",
      "train_loss: 161.4084930419922, val: 157.39085388183594\n",
      "train_loss: 148.5133819580078, val: 158.37510681152344\n",
      "train_loss: 111.32003784179688, val: 163.5166473388672\n",
      "train_loss: 90.80443572998047, val: 164.98663330078125\n",
      "train_loss: 82.45194244384766, val: 157.04591369628906\n",
      "train_loss: 78.1490478515625, val: 152.4822540283203\n",
      "train_loss: 76.26226806640625, val: 146.82489013671875\n",
      "train_loss: 75.46339416503906, val: 144.75985717773438\n"
     ]
    },
    {
     "name": "stderr",
     "output_type": "stream",
     "text": [
      "\u001b[32m[I 2022-10-10 15:43:20,096]\u001b[0m Trial 11 finished with values: [144.80596923828125, 0.75] and parameters: {'lr': 0.0007531870387543271, 'nlf_n_layers': 1, 'nlf_act0': 'BatchNorm'}. \u001b[0m\n"
     ]
    },
    {
     "name": "stdout",
     "output_type": "stream",
     "text": [
      "Dictionary: \n",
      "0:  {'precision': 0.5, 'recall': 1.0, 'f1-score': 0.6666666666666666, 'support': 1}\n",
      "1:  {'precision': 1.0, 'recall': 0.6666666666666666, 'f1-score': 0.8, 'support': 3}\n",
      "acc:  0.75\n",
      "[BatchNorm1d(10, eps=1e-05, momentum=0.1, affine=True, track_running_stats=True)]\n",
      "train_loss: 167.38265991210938, val: 156.03501892089844\n",
      "train_loss: 162.4464111328125, val: 156.1468505859375\n",
      "train_loss: 162.99790954589844, val: 156.5993194580078\n",
      "train_loss: 162.834716796875, val: 156.87596130371094\n",
      "train_loss: 161.81619262695312, val: 157.5530242919922\n",
      "train_loss: 156.9021759033203, val: 160.35159301757812\n",
      "train_loss: 145.62367248535156, val: 163.0082550048828\n",
      "train_loss: 135.3517608642578, val: 165.17431640625\n",
      "train_loss: 128.11746215820312, val: 167.2186279296875\n",
      "train_loss: 122.61457061767578, val: 168.46768188476562\n"
     ]
    },
    {
     "name": "stderr",
     "output_type": "stream",
     "text": [
      "\u001b[32m[I 2022-10-10 15:43:22,844]\u001b[0m Trial 12 finished with values: [169.01341247558594, 0.75] and parameters: {'lr': 0.0005837902767573103, 'nlf_n_layers': 0, 'nlf_func': 'BatchNorm'}. \u001b[0m\n"
     ]
    },
    {
     "name": "stdout",
     "output_type": "stream",
     "text": [
      "Dictionary: \n",
      "0:  {'precision': 0.5, 'recall': 1.0, 'f1-score': 0.6666666666666666, 'support': 1}\n",
      "1:  {'precision': 1.0, 'recall': 0.6666666666666666, 'f1-score': 0.8, 'support': 3}\n",
      "acc:  0.75\n",
      "[BatchNorm1d(10, eps=1e-05, momentum=0.1, affine=True, track_running_stats=True)]\n",
      "train_loss: 164.1357421875, val: 155.7899169921875\n",
      "train_loss: 162.01182556152344, val: 155.90576171875\n",
      "train_loss: 162.3535614013672, val: 156.17367553710938\n",
      "train_loss: 162.57608032226562, val: 156.38255310058594\n",
      "train_loss: 162.66929626464844, val: 156.5213165283203\n",
      "train_loss: 162.64610290527344, val: 156.62417602539062\n",
      "train_loss: 162.49891662597656, val: 156.71559143066406\n",
      "train_loss: 162.18121337890625, val: 156.82797241210938\n",
      "train_loss: 161.47250366210938, val: 156.9957275390625\n",
      "train_loss: 159.97409057617188, val: 157.35877990722656\n"
     ]
    },
    {
     "name": "stderr",
     "output_type": "stream",
     "text": [
      "\u001b[32m[I 2022-10-10 15:43:25,593]\u001b[0m Trial 13 finished with values: [157.9272918701172, 0.5] and parameters: {'lr': 0.00024460751235904515, 'nlf_n_layers': 0, 'nlf_func': 'BatchNorm'}. \u001b[0m\n"
     ]
    },
    {
     "name": "stdout",
     "output_type": "stream",
     "text": [
      "Dictionary: \n",
      "0:  {'precision': 0.0, 'recall': 0.0, 'f1-score': 0.0, 'support': 0}\n",
      "1:  {'precision': 1.0, 'recall': 0.5, 'f1-score': 0.6666666666666666, 'support': 4}\n",
      "acc:  0.5\n",
      "[Linear(in_features=10, out_features=10, bias=True), Tanh()]\n",
      "train_loss: 172.3225860595703, val: 158.0515899658203\n",
      "train_loss: 163.06112670898438, val: 156.3365936279297\n",
      "train_loss: 162.96197509765625, val: 155.90652465820312\n",
      "train_loss: 154.92337036132812, val: 146.76303100585938\n",
      "train_loss: 121.9395523071289, val: 117.49051666259766\n",
      "train_loss: 112.90985107421875, val: 110.79168701171875\n",
      "train_loss: 110.19703674316406, val: 108.868408203125\n",
      "train_loss: 108.89210510253906, val: 107.89630126953125\n",
      "train_loss: 108.11808013916016, val: 107.252685546875\n",
      "train_loss: 107.5832290649414, val: 106.73025512695312\n"
     ]
    },
    {
     "name": "stderr",
     "output_type": "stream",
     "text": [
      "\u001b[32m[I 2022-10-10 15:43:28,367]\u001b[0m Trial 14 finished with values: [106.29999542236328, 0.75] and parameters: {'lr': 0.0008998563338210716, 'nlf_n_layers': 1, 'nlf_act0': 'Tanh'}. \u001b[0m\n"
     ]
    },
    {
     "name": "stdout",
     "output_type": "stream",
     "text": [
      "Dictionary: \n",
      "0:  {'precision': 0.5, 'recall': 1.0, 'f1-score': 0.6666666666666666, 'support': 1}\n",
      "1:  {'precision': 1.0, 'recall': 0.6666666666666666, 'f1-score': 0.8, 'support': 3}\n",
      "acc:  0.75\n",
      "[Linear(in_features=10, out_features=10, bias=True), ReLU()]\n",
      "train_loss: 169.64480590820312, val: 156.44036865234375\n",
      "train_loss: 162.7326202392578, val: 156.23619079589844\n",
      "train_loss: 163.3399200439453, val: 156.59634399414062\n",
      "train_loss: 163.38853454589844, val: 156.64234924316406\n",
      "train_loss: 163.33006286621094, val: 156.61099243164062\n",
      "train_loss: 163.13674926757812, val: 156.4377899169922\n",
      "train_loss: 162.07608032226562, val: 155.2535858154297\n",
      "train_loss: 150.2229766845703, val: 141.32630920410156\n",
      "train_loss: 118.63484954833984, val: 115.04151153564453\n",
      "train_loss: 108.60794067382812, val: 107.68202209472656\n"
     ]
    },
    {
     "name": "stderr",
     "output_type": "stream",
     "text": [
      "\u001b[32m[I 2022-10-10 15:43:31,141]\u001b[0m Trial 15 finished with values: [105.52351379394531, 0.75] and parameters: {'lr': 0.0008710486388132367, 'nlf_n_layers': 1, 'nlf_act0': 'ReLU'}. \u001b[0m\n"
     ]
    },
    {
     "name": "stdout",
     "output_type": "stream",
     "text": [
      "Dictionary: \n",
      "0:  {'precision': 0.5, 'recall': 1.0, 'f1-score': 0.6666666666666666, 'support': 1}\n",
      "1:  {'precision': 1.0, 'recall': 0.6666666666666666, 'f1-score': 0.8, 'support': 3}\n",
      "acc:  0.75\n",
      "[Tanh()]\n",
      "train_loss: 163.7694854736328, val: 156.03131103515625\n",
      "train_loss: 161.7448272705078, val: 155.71847534179688\n",
      "train_loss: 161.8556671142578, val: 155.75265502929688\n",
      "train_loss: 161.91848754882812, val: 155.76394653320312\n",
      "train_loss: 161.72927856445312, val: 155.55133056640625\n",
      "train_loss: 161.1188507080078, val: 154.96290588378906\n",
      "train_loss: 159.65419006347656, val: 153.55467224121094\n",
      "train_loss: 156.1240692138672, val: 150.18978881835938\n",
      "train_loss: 150.5502471923828, val: 145.04672241210938\n",
      "train_loss: 141.95530700683594, val: 137.211181640625\n"
     ]
    },
    {
     "name": "stderr",
     "output_type": "stream",
     "text": [
      "\u001b[32m[I 2022-10-10 15:43:33,696]\u001b[0m Trial 16 finished with values: [130.99942016601562, 0.25] and parameters: {'lr': 0.00021118870901499148, 'nlf_n_layers': 0, 'nlf_func': 'Tanh'}. \u001b[0m\n"
     ]
    },
    {
     "name": "stdout",
     "output_type": "stream",
     "text": [
      "Dictionary: \n",
      "0:  {'precision': 0.0, 'recall': 0.0, 'f1-score': 0.0, 'support': 1}\n",
      "1:  {'precision': 0.5, 'recall': 0.3333333333333333, 'f1-score': 0.4, 'support': 3}\n",
      "acc:  0.25\n",
      "[Linear(in_features=10, out_features=10, bias=True), Sigmoid()]\n",
      "train_loss: 165.1405792236328, val: 156.61451721191406\n",
      "train_loss: 161.7735137939453, val: 155.75099182128906\n",
      "train_loss: 162.1359405517578, val: 155.9330291748047\n",
      "train_loss: 162.31825256347656, val: 156.02059936523438\n",
      "train_loss: 162.075927734375, val: 155.7537841796875\n",
      "train_loss: 161.0806121826172, val: 154.74851989746094\n",
      "train_loss: 158.41317749023438, val: 152.20541381835938\n",
      "train_loss: 152.461669921875, val: 146.6455841064453\n",
      "train_loss: 143.66978454589844, val: 138.66143798828125\n",
      "train_loss: 133.0695037841797, val: 129.3045654296875\n"
     ]
    },
    {
     "name": "stderr",
     "output_type": "stream",
     "text": [
      "\u001b[32m[I 2022-10-10 15:43:36,467]\u001b[0m Trial 17 finished with values: [123.15876007080078, 0.75] and parameters: {'lr': 0.0002744826646814252, 'nlf_n_layers': 1, 'nlf_act0': 'Sig'}. \u001b[0m\n"
     ]
    },
    {
     "name": "stdout",
     "output_type": "stream",
     "text": [
      "Dictionary: \n",
      "0:  {'precision': 0.5, 'recall': 1.0, 'f1-score': 0.6666666666666666, 'support': 1}\n",
      "1:  {'precision': 1.0, 'recall': 0.6666666666666666, 'f1-score': 0.8, 'support': 3}\n",
      "acc:  0.75\n",
      "[Sigmoid()]\n",
      "train_loss: 170.0995635986328, val: 158.0089874267578\n",
      "train_loss: 162.21131896972656, val: 155.85357666015625\n",
      "train_loss: 160.4146270751953, val: 153.29733276367188\n",
      "train_loss: 138.4416046142578, val: 131.0696258544922\n",
      "train_loss: 117.3248291015625, val: 114.83843231201172\n",
      "train_loss: 112.14997100830078, val: 111.64030456542969\n",
      "train_loss: 109.71387481689453, val: 110.04498291015625\n",
      "train_loss: 108.06238555908203, val: 108.88624572753906\n",
      "train_loss: 106.82217407226562, val: 107.91510009765625\n",
      "train_loss: 105.86788177490234, val: 107.03474426269531\n"
     ]
    },
    {
     "name": "stderr",
     "output_type": "stream",
     "text": [
      "\u001b[32m[I 2022-10-10 15:43:39,031]\u001b[0m Trial 18 finished with values: [106.31466674804688, 0.75] and parameters: {'lr': 0.0008474077224877046, 'nlf_n_layers': 0, 'nlf_func': 'Sig'}. \u001b[0m\n"
     ]
    },
    {
     "name": "stdout",
     "output_type": "stream",
     "text": [
      "Dictionary: \n",
      "0:  {'precision': 0.5, 'recall': 1.0, 'f1-score': 0.6666666666666666, 'support': 1}\n",
      "1:  {'precision': 1.0, 'recall': 0.6666666666666666, 'f1-score': 0.8, 'support': 3}\n",
      "acc:  0.75\n",
      "[Tanh()]\n",
      "train_loss: 166.93991088867188, val: 156.2053985595703\n",
      "train_loss: 162.19085693359375, val: 155.91485595703125\n",
      "train_loss: 162.473388671875, val: 155.88555908203125\n",
      "train_loss: 160.40521240234375, val: 153.64944458007812\n",
      "train_loss: 150.6359405517578, val: 143.75772094726562\n",
      "train_loss: 129.98526000976562, val: 126.33333587646484\n",
      "train_loss: 119.93537139892578, val: 118.65181732177734\n",
      "train_loss: 116.18968200683594, val: 115.48075866699219\n",
      "train_loss: 114.1426773071289, val: 113.62483978271484\n",
      "train_loss: 112.65113830566406, val: 112.177978515625\n"
     ]
    },
    {
     "name": "stderr",
     "output_type": "stream",
     "text": [
      "\u001b[32m[I 2022-10-10 15:43:41,544]\u001b[0m Trial 19 finished with values: [111.05742645263672, 0.5] and parameters: {'lr': 0.0006103940827219295, 'nlf_n_layers': 0, 'nlf_func': 'Tanh'}. \u001b[0m\n"
     ]
    },
    {
     "name": "stdout",
     "output_type": "stream",
     "text": [
      "Dictionary: \n",
      "0:  {'precision': 0.5, 'recall': 0.5, 'f1-score': 0.5, 'support': 2}\n",
      "1:  {'precision': 0.5, 'recall': 0.5, 'f1-score': 0.5, 'support': 2}\n",
      "acc:  0.5\n",
      "[Linear(in_features=10, out_features=10, bias=True), ReLU(), Linear(in_features=10, out_features=10, bias=True), Sigmoid()]\n",
      "train_loss: 164.4352569580078, val: 155.87742614746094\n",
      "train_loss: 161.93994140625, val: 155.8310089111328\n",
      "train_loss: 162.2380828857422, val: 156.01380920410156\n",
      "train_loss: 162.2431640625, val: 155.96295166015625\n",
      "train_loss: 161.7191925048828, val: 155.4200439453125\n",
      "train_loss: 160.3406982421875, val: 154.11021423339844\n",
      "train_loss: 157.2740020751953, val: 151.2307891845703\n",
      "train_loss: 150.15040588378906, val: 144.5123291015625\n",
      "train_loss: 138.99072265625, val: 134.5361785888672\n",
      "train_loss: 128.5433807373047, val: 125.4983901977539\n"
     ]
    },
    {
     "name": "stderr",
     "output_type": "stream",
     "text": [
      "\u001b[32m[I 2022-10-10 15:43:44,372]\u001b[0m Trial 20 finished with values: [119.99049377441406, 0.75] and parameters: {'lr': 0.00022962861316692894, 'nlf_n_layers': 2, 'nlf_act0': 'ReLU', 'nlf_act1': 'Sig'}. \u001b[0m\n"
     ]
    },
    {
     "name": "stdout",
     "output_type": "stream",
     "text": [
      "Dictionary: \n",
      "0:  {'precision': 0.5, 'recall': 1.0, 'f1-score': 0.6666666666666666, 'support': 1}\n",
      "1:  {'precision': 1.0, 'recall': 0.6666666666666666, 'f1-score': 0.8, 'support': 3}\n",
      "acc:  0.75\n",
      "[Linear(in_features=10, out_features=10, bias=True), Linear(in_features=10, out_features=10, bias=True), Tanh()]\n",
      "train_loss: 162.3133087158203, val: 155.8925323486328\n",
      "train_loss: 161.84494018554688, val: 155.82516479492188\n",
      "train_loss: 161.8094482421875, val: 155.78436279296875\n",
      "train_loss: 161.8004608154297, val: 155.769775390625\n",
      "train_loss: 161.80809020996094, val: 155.77186584472656\n",
      "train_loss: 161.82888793945312, val: 155.7867889404297\n",
      "train_loss: 161.85580444335938, val: 155.80873107910156\n",
      "train_loss: 161.8870391845703, val: 155.83518981933594\n",
      "train_loss: 161.9190673828125, val: 155.86297607421875\n",
      "train_loss: 161.95004272460938, val: 155.8903045654297\n"
     ]
    },
    {
     "name": "stderr",
     "output_type": "stream",
     "text": [
      "\u001b[32m[I 2022-10-10 15:43:47,321]\u001b[0m Trial 21 finished with values: [155.9127197265625, 0.5] and parameters: {'lr': 5.947330148687835e-05, 'nlf_n_layers': 2, 'nlf_act0': 'None', 'nlf_act1': 'Tanh'}. \u001b[0m\n"
     ]
    },
    {
     "name": "stdout",
     "output_type": "stream",
     "text": [
      "Dictionary: \n",
      "0:  {'precision': 0.0, 'recall': 0.0, 'f1-score': 0.0, 'support': 0}\n",
      "1:  {'precision': 1.0, 'recall': 0.5, 'f1-score': 0.6666666666666666, 'support': 4}\n",
      "acc:  0.5\n",
      "[Linear(in_features=10, out_features=10, bias=True), ReLU(), Linear(in_features=10, out_features=10, bias=True)]\n",
      "train_loss: 167.85919189453125, val: 156.12046813964844\n",
      "train_loss: 162.4139404296875, val: 156.03799438476562\n",
      "train_loss: 162.3524627685547, val: 155.63986206054688\n",
      "train_loss: 154.33612060546875, val: 146.2749481201172\n",
      "train_loss: 118.31849670410156, val: 113.5090103149414\n",
      "train_loss: 108.85398864746094, val: 106.6596450805664\n",
      "train_loss: 107.06049346923828, val: 105.14826965332031\n",
      "train_loss: 106.28621673583984, val: 104.46788024902344\n",
      "train_loss: 105.83013153076172, val: 104.05577850341797\n",
      "train_loss: 105.48308563232422, val: 103.74090576171875\n"
     ]
    },
    {
     "name": "stderr",
     "output_type": "stream",
     "text": [
      "\u001b[32m[I 2022-10-10 15:43:50,334]\u001b[0m Trial 22 finished with values: [103.51629638671875, 0.75] and parameters: {'lr': 0.0006640231864452641, 'nlf_n_layers': 2, 'nlf_act0': 'ReLU', 'nlf_act1': 'None'}. \u001b[0m\n"
     ]
    },
    {
     "name": "stdout",
     "output_type": "stream",
     "text": [
      "Dictionary: \n",
      "0:  {'precision': 0.5, 'recall': 1.0, 'f1-score': 0.6666666666666666, 'support': 1}\n",
      "1:  {'precision': 1.0, 'recall': 0.6666666666666666, 'f1-score': 0.8, 'support': 3}\n",
      "acc:  0.75\n",
      "[Linear(in_features=10, out_features=10, bias=True), Tanh(), Linear(in_features=10, out_features=10, bias=True), Tanh()]\n",
      "train_loss: 170.07061767578125, val: 156.3179473876953\n",
      "train_loss: 162.94342041015625, val: 156.32077026367188\n",
      "train_loss: 162.8770294189453, val: 155.88034057617188\n",
      "train_loss: 139.4412384033203, val: 129.5980682373047\n",
      "train_loss: 109.53387451171875, val: 107.59848022460938\n",
      "train_loss: 106.43035888671875, val: 104.99514770507812\n",
      "train_loss: 104.99649047851562, val: 103.94203186035156\n",
      "train_loss: 103.81965637207031, val: 103.17168426513672\n",
      "train_loss: 102.89868927001953, val: 102.6973876953125\n",
      "train_loss: 102.07138061523438, val: 102.31067657470703\n"
     ]
    },
    {
     "name": "stderr",
     "output_type": "stream",
     "text": [
      "\u001b[32m[I 2022-10-10 15:43:53,375]\u001b[0m Trial 23 finished with values: [102.11953735351562, 0.75] and parameters: {'lr': 0.0009051491852273981, 'nlf_n_layers': 2, 'nlf_act0': 'Tanh', 'nlf_act1': 'Tanh'}. \u001b[0m\n"
     ]
    },
    {
     "name": "stdout",
     "output_type": "stream",
     "text": [
      "Dictionary: \n",
      "0:  {'precision': 0.5, 'recall': 1.0, 'f1-score': 0.6666666666666666, 'support': 1}\n",
      "1:  {'precision': 1.0, 'recall': 0.6666666666666666, 'f1-score': 0.8, 'support': 3}\n",
      "acc:  0.75\n",
      "[ReLU()]\n",
      "train_loss: 171.0080108642578, val: 155.7788543701172\n",
      "train_loss: 162.71920776367188, val: 155.67141723632812\n",
      "train_loss: 150.1660919189453, val: 141.36566162109375\n",
      "train_loss: 120.77193450927734, val: 118.35055541992188\n",
      "train_loss: 113.9258804321289, val: 112.85662078857422\n",
      "train_loss: 110.3195571899414, val: 109.85452270507812\n",
      "train_loss: 108.25714874267578, val: 108.099853515625\n",
      "train_loss: 106.9894790649414, val: 106.93199157714844\n",
      "train_loss: 106.0884780883789, val: 106.14498901367188\n",
      "train_loss: 105.37852478027344, val: 105.56478118896484\n"
     ]
    },
    {
     "name": "stderr",
     "output_type": "stream",
     "text": [
      "\u001b[32m[I 2022-10-10 15:43:55,950]\u001b[0m Trial 24 finished with values: [104.76956176757812, 0.75] and parameters: {'lr': 0.0008534543049050886, 'nlf_n_layers': 0, 'nlf_func': 'ReLU'}. \u001b[0m\n"
     ]
    },
    {
     "name": "stdout",
     "output_type": "stream",
     "text": [
      "Dictionary: \n",
      "0:  {'precision': 0.5, 'recall': 1.0, 'f1-score': 0.6666666666666666, 'support': 1}\n",
      "1:  {'precision': 1.0, 'recall': 0.6666666666666666, 'f1-score': 0.8, 'support': 3}\n",
      "acc:  0.75\n",
      "[Linear(in_features=10, out_features=10, bias=True), ReLU(), Linear(in_features=10, out_features=10, bias=True), Sigmoid()]\n",
      "train_loss: 162.8611602783203, val: 155.81353759765625\n",
      "train_loss: 161.78953552246094, val: 155.74896240234375\n",
      "train_loss: 161.8441162109375, val: 155.77581787109375\n",
      "train_loss: 161.91787719726562, val: 155.82769775390625\n",
      "train_loss: 161.96795654296875, val: 155.86160278320312\n",
      "train_loss: 161.97186279296875, val: 155.85696411132812\n",
      "train_loss: 161.90733337402344, val: 155.79026794433594\n",
      "train_loss: 161.7549591064453, val: 155.64491271972656\n",
      "train_loss: 161.4878692626953, val: 155.3943634033203\n",
      "train_loss: 161.06874084472656, val: 155.00604248046875\n"
     ]
    },
    {
     "name": "stderr",
     "output_type": "stream",
     "text": [
      "\u001b[32m[I 2022-10-10 15:43:58,980]\u001b[0m Trial 25 finished with values: [154.5197296142578, 0.5] and parameters: {'lr': 0.0001098500288653485, 'nlf_n_layers': 2, 'nlf_act0': 'ReLU', 'nlf_act1': 'Sig'}. \u001b[0m\n"
     ]
    },
    {
     "name": "stdout",
     "output_type": "stream",
     "text": [
      "Dictionary: \n",
      "0:  {'precision': 0.0, 'recall': 0.0, 'f1-score': 0.0, 'support': 0}\n",
      "1:  {'precision': 1.0, 'recall': 0.5, 'f1-score': 0.6666666666666666, 'support': 4}\n",
      "acc:  0.5\n",
      "[Linear(in_features=10, out_features=10, bias=True), Linear(in_features=10, out_features=10, bias=True)]\n",
      "train_loss: 164.66168212890625, val: 155.8213348388672\n",
      "train_loss: 161.994140625, val: 155.83860778808594\n",
      "train_loss: 162.08250427246094, val: 155.76535034179688\n",
      "train_loss: 160.33840942382812, val: 153.83302307128906\n",
      "train_loss: 151.4093780517578, val: 144.84088134765625\n",
      "train_loss: 133.6956329345703, val: 128.2356414794922\n",
      "train_loss: 121.03762817382812, val: 117.79591369628906\n",
      "train_loss: 114.56204223632812, val: 112.99394226074219\n",
      "train_loss: 111.41345977783203, val: 110.8595199584961\n",
      "train_loss: 109.43885040283203, val: 109.51688385009766\n"
     ]
    },
    {
     "name": "stderr",
     "output_type": "stream",
     "text": [
      "\u001b[32m[I 2022-10-10 15:44:01,951]\u001b[0m Trial 26 finished with values: [108.71038818359375, 0.5] and parameters: {'lr': 0.0003308792735034371, 'nlf_n_layers': 2, 'nlf_act0': 'None', 'nlf_act1': 'None'}. \u001b[0m\n"
     ]
    },
    {
     "name": "stdout",
     "output_type": "stream",
     "text": [
      "Dictionary: \n",
      "0:  {'precision': 0.5, 'recall': 0.5, 'f1-score': 0.5, 'support': 2}\n",
      "1:  {'precision': 0.5, 'recall': 0.5, 'f1-score': 0.5, 'support': 2}\n",
      "acc:  0.5\n",
      "[Sigmoid()]\n",
      "train_loss: 165.07325744628906, val: 156.5620880126953\n",
      "train_loss: 161.69606018066406, val: 155.66656494140625\n",
      "train_loss: 161.87042236328125, val: 155.67660522460938\n",
      "train_loss: 161.62631225585938, val: 155.35025024414062\n",
      "train_loss: 160.05690002441406, val: 153.7080078125\n",
      "train_loss: 155.7041778564453, val: 149.54092407226562\n",
      "train_loss: 147.09320068359375, val: 141.60533142089844\n",
      "train_loss: 135.3298797607422, val: 131.2042999267578\n",
      "train_loss: 125.61042022705078, val: 123.26228332519531\n",
      "train_loss: 120.00299835205078, val: 118.86670684814453\n"
     ]
    },
    {
     "name": "stderr",
     "output_type": "stream",
     "text": [
      "\u001b[32m[I 2022-10-10 15:44:04,524]\u001b[0m Trial 27 finished with values: [116.5477066040039, 0.5] and parameters: {'lr': 0.00029766044810481984, 'nlf_n_layers': 0, 'nlf_func': 'Sig'}. \u001b[0m\n"
     ]
    },
    {
     "name": "stdout",
     "output_type": "stream",
     "text": [
      "Dictionary: \n",
      "0:  {'precision': 0.5, 'recall': 0.5, 'f1-score': 0.5, 'support': 2}\n",
      "1:  {'precision': 0.5, 'recall': 0.5, 'f1-score': 0.5, 'support': 2}\n",
      "acc:  0.5\n",
      "[Linear(in_features=10, out_features=10, bias=True), Linear(in_features=10, out_features=10, bias=True), ReLU()]\n",
      "train_loss: 163.8463897705078, val: 155.7783660888672\n",
      "train_loss: 162.0001983642578, val: 155.8831329345703\n",
      "train_loss: 162.2975616455078, val: 156.10215759277344\n",
      "train_loss: 162.5169677734375, val: 156.27261352539062\n",
      "train_loss: 162.6363067626953, val: 156.3646240234375\n",
      "train_loss: 162.65072631835938, val: 156.3700408935547\n",
      "train_loss: 162.5449676513672, val: 156.2677001953125\n",
      "train_loss: 162.23472595214844, val: 155.97914123535156\n",
      "train_loss: 161.37979125976562, val: 155.16372680664062\n",
      "train_loss: 159.34547424316406, val: 153.22781372070312\n"
     ]
    },
    {
     "name": "stderr",
     "output_type": "stream",
     "text": [
      "\u001b[32m[I 2022-10-10 15:44:07,501]\u001b[0m Trial 28 finished with values: [148.5985107421875, 0.75] and parameters: {'lr': 0.00023793739832470766, 'nlf_n_layers': 2, 'nlf_act0': 'None', 'nlf_act1': 'ReLU'}. \u001b[0m\n"
     ]
    },
    {
     "name": "stdout",
     "output_type": "stream",
     "text": [
      "Dictionary: \n",
      "0:  {'precision': 0.5, 'recall': 1.0, 'f1-score': 0.6666666666666666, 'support': 1}\n",
      "1:  {'precision': 1.0, 'recall': 0.6666666666666666, 'f1-score': 0.8, 'support': 3}\n",
      "acc:  0.75\n",
      "[Linear(in_features=10, out_features=10, bias=True), Tanh()]\n",
      "train_loss: 167.02615356445312, val: 157.2727813720703\n",
      "train_loss: 161.90020751953125, val: 155.81687927246094\n",
      "train_loss: 162.68272399902344, val: 156.24232482910156\n",
      "train_loss: 162.67630004882812, val: 156.11138916015625\n",
      "train_loss: 161.2842559814453, val: 154.57704162597656\n",
      "train_loss: 155.43238830566406, val: 148.43548583984375\n",
      "train_loss: 137.98863220214844, val: 131.06263732910156\n",
      "train_loss: 123.77884674072266, val: 119.17369842529297\n",
      "train_loss: 118.25591278076172, val: 114.65973663330078\n",
      "train_loss: 115.37271881103516, val: 112.45606994628906\n"
     ]
    },
    {
     "name": "stderr",
     "output_type": "stream",
     "text": [
      "\u001b[32m[I 2022-10-10 15:44:10,294]\u001b[0m Trial 29 finished with values: [111.11528015136719, 0.5] and parameters: {'lr': 0.0004532812525015424, 'nlf_n_layers': 1, 'nlf_act0': 'Tanh'}. \u001b[0m\n"
     ]
    },
    {
     "name": "stdout",
     "output_type": "stream",
     "text": [
      "Dictionary: \n",
      "0:  {'precision': 0.5, 'recall': 0.5, 'f1-score': 0.5, 'support': 2}\n",
      "1:  {'precision': 0.5, 'recall': 0.5, 'f1-score': 0.5, 'support': 2}\n",
      "acc:  0.5\n",
      "[ReLU()]\n",
      "train_loss: 170.4179229736328, val: 157.57650756835938\n",
      "train_loss: 162.4273681640625, val: 155.99740600585938\n",
      "train_loss: 162.1161651611328, val: 155.2483367919922\n",
      "train_loss: 153.8158721923828, val: 146.63975524902344\n",
      "train_loss: 137.39256286621094, val: 133.092041015625\n",
      "train_loss: 131.6259307861328, val: 128.77047729492188\n",
      "train_loss: 127.71100616455078, val: 125.45106506347656\n",
      "train_loss: 123.3507080078125, val: 121.29795837402344\n",
      "train_loss: 117.82355499267578, val: 115.1342544555664\n",
      "train_loss: 113.02615356445312, val: 110.69749450683594\n"
     ]
    },
    {
     "name": "stderr",
     "output_type": "stream",
     "text": [
      "\u001b[32m[I 2022-10-10 15:44:12,870]\u001b[0m Trial 30 finished with values: [108.82809448242188, 0.75] and parameters: {'lr': 0.0009275108804740908, 'nlf_n_layers': 0, 'nlf_func': 'ReLU'}. \u001b[0m\n"
     ]
    },
    {
     "name": "stdout",
     "output_type": "stream",
     "text": [
      "Dictionary: \n",
      "0:  {'precision': 0.5, 'recall': 1.0, 'f1-score': 0.6666666666666666, 'support': 1}\n",
      "1:  {'precision': 1.0, 'recall': 0.6666666666666666, 'f1-score': 0.8, 'support': 3}\n",
      "acc:  0.75\n",
      "[Tanh()]\n",
      "train_loss: 163.5148162841797, val: 156.7075653076172\n",
      "train_loss: 162.09315490722656, val: 156.10133361816406\n",
      "train_loss: 161.7223663330078, val: 155.72828674316406\n",
      "train_loss: 161.51368713378906, val: 155.51446533203125\n",
      "train_loss: 161.35997009277344, val: 155.3582000732422\n",
      "train_loss: 161.17176818847656, val: 155.1777801513672\n",
      "train_loss: 160.8961944580078, val: 154.9239959716797\n",
      "train_loss: 160.44020080566406, val: 154.50930786132812\n",
      "train_loss: 159.74147033691406, val: 153.87588500976562\n",
      "train_loss: 158.66162109375, val: 152.9010009765625\n"
     ]
    },
    {
     "name": "stderr",
     "output_type": "stream",
     "text": [
      "\u001b[32m[I 2022-10-10 15:44:15,288]\u001b[0m Trial 31 finished with values: [151.65267944335938, 0.5] and parameters: {'lr': 0.00011156979192218416, 'nlf_n_layers': 0, 'nlf_func': 'Tanh'}. \u001b[0m\n"
     ]
    },
    {
     "name": "stdout",
     "output_type": "stream",
     "text": [
      "Dictionary: \n",
      "0:  {'precision': 0.0, 'recall': 0.0, 'f1-score': 0.0, 'support': 0}\n",
      "1:  {'precision': 1.0, 'recall': 0.5, 'f1-score': 0.6666666666666666, 'support': 4}\n",
      "acc:  0.5\n",
      "[Linear(in_features=10, out_features=10, bias=True), Linear(in_features=10, out_features=10, bias=True), BatchNorm1d(10, eps=1e-05, momentum=0.1, affine=True, track_running_stats=True)]\n",
      "train_loss: 166.42373657226562, val: 155.94815063476562\n",
      "train_loss: 162.23997497558594, val: 155.99008178710938\n",
      "train_loss: 162.78036499023438, val: 156.3220977783203\n",
      "train_loss: 162.69973754882812, val: 156.4482421875\n",
      "train_loss: 161.6971893310547, val: 156.81837463378906\n",
      "train_loss: 157.3713836669922, val: 156.97389221191406\n",
      "train_loss: 146.4829559326172, val: 160.14808654785156\n",
      "train_loss: 132.3228302001953, val: 162.93490600585938\n",
      "train_loss: 118.5394287109375, val: 162.66326904296875\n",
      "train_loss: 109.26742553710938, val: 160.99623107910156\n"
     ]
    },
    {
     "name": "stderr",
     "output_type": "stream",
     "text": [
      "\u001b[32m[I 2022-10-10 15:44:18,268]\u001b[0m Trial 32 finished with values: [158.700439453125, 0.5] and parameters: {'lr': 0.0004971223785055045, 'nlf_n_layers': 2, 'nlf_act0': 'None', 'nlf_act1': 'BatchNorm'}. \u001b[0m\n"
     ]
    },
    {
     "name": "stdout",
     "output_type": "stream",
     "text": [
      "Dictionary: \n",
      "0:  {'precision': 0.0, 'recall': 0.0, 'f1-score': 0.0, 'support': 0}\n",
      "1:  {'precision': 1.0, 'recall': 0.5, 'f1-score': 0.6666666666666666, 'support': 4}\n",
      "acc:  0.5\n",
      "[BatchNorm1d(10, eps=1e-05, momentum=0.1, affine=True, track_running_stats=True)]\n",
      "train_loss: 171.16807556152344, val: 158.18508911132812\n",
      "train_loss: 162.7085723876953, val: 156.23968505859375\n",
      "train_loss: 163.30307006835938, val: 156.72982788085938\n",
      "train_loss: 162.4973602294922, val: 157.55340576171875\n",
      "train_loss: 154.19003295898438, val: 164.711181640625\n",
      "train_loss: 119.30464935302734, val: 174.1914825439453\n",
      "train_loss: 106.29682922363281, val: 177.02842712402344\n",
      "train_loss: 101.3053970336914, val: 179.04803466796875\n",
      "train_loss: 98.04508209228516, val: 180.4708709716797\n",
      "train_loss: 95.91690826416016, val: 181.34385681152344\n"
     ]
    },
    {
     "name": "stderr",
     "output_type": "stream",
     "text": [
      "\u001b[32m[I 2022-10-10 15:44:20,866]\u001b[0m Trial 33 finished with values: [182.24465942382812, 0.5] and parameters: {'lr': 0.0008557232824683851, 'nlf_n_layers': 0, 'nlf_func': 'BatchNorm'}. \u001b[0m\n"
     ]
    },
    {
     "name": "stdout",
     "output_type": "stream",
     "text": [
      "Dictionary: \n",
      "0:  {'precision': 0.5, 'recall': 0.5, 'f1-score': 0.5, 'support': 2}\n",
      "1:  {'precision': 0.5, 'recall': 0.5, 'f1-score': 0.5, 'support': 2}\n",
      "acc:  0.5\n",
      "[Linear(in_features=10, out_features=10, bias=True), Linear(in_features=10, out_features=10, bias=True), Sigmoid()]\n",
      "train_loss: 165.94784545898438, val: 155.81919860839844\n",
      "train_loss: 162.2970733642578, val: 156.03285217285156\n",
      "train_loss: 162.70838928222656, val: 156.260498046875\n",
      "train_loss: 162.35401916503906, val: 155.83297729492188\n",
      "train_loss: 160.06275939941406, val: 153.3441925048828\n",
      "train_loss: 151.73916625976562, val: 145.24786376953125\n",
      "train_loss: 136.6620635986328, val: 131.6546630859375\n",
      "train_loss: 122.9939956665039, val: 119.95494079589844\n",
      "train_loss: 114.92677307128906, val: 112.89115142822266\n",
      "train_loss: 110.62638092041016, val: 109.1941909790039\n"
     ]
    },
    {
     "name": "stderr",
     "output_type": "stream",
     "text": [
      "\u001b[32m[I 2022-10-10 15:44:23,673]\u001b[0m Trial 34 finished with values: [107.22188568115234, 0.75] and parameters: {'lr': 0.0004650686617285791, 'nlf_n_layers': 2, 'nlf_act0': 'None', 'nlf_act1': 'Sig'}. \u001b[0m\n"
     ]
    },
    {
     "name": "stdout",
     "output_type": "stream",
     "text": [
      "Dictionary: \n",
      "0:  {'precision': 0.5, 'recall': 1.0, 'f1-score': 0.6666666666666666, 'support': 1}\n",
      "1:  {'precision': 1.0, 'recall': 0.6666666666666666, 'f1-score': 0.8, 'support': 3}\n",
      "acc:  0.75\n",
      "[Linear(in_features=10, out_features=10, bias=True), Linear(in_features=10, out_features=10, bias=True), ReLU()]\n",
      "train_loss: 164.65478515625, val: 155.86325073242188\n",
      "train_loss: 161.99264526367188, val: 155.86109924316406\n",
      "train_loss: 162.34756469726562, val: 156.08587646484375\n",
      "train_loss: 162.2636260986328, val: 155.9259490966797\n",
      "train_loss: 160.3379669189453, val: 153.94140625\n",
      "train_loss: 150.6378631591797, val: 144.418701171875\n",
      "train_loss: 132.00872802734375, val: 127.74927520751953\n",
      "train_loss: 120.19623565673828, val: 117.60311889648438\n",
      "train_loss: 114.12461853027344, val: 112.22171020507812\n",
      "train_loss: 110.3412857055664, val: 109.02407836914062\n"
     ]
    },
    {
     "name": "stderr",
     "output_type": "stream",
     "text": [
      "\u001b[32m[I 2022-10-10 15:44:26,482]\u001b[0m Trial 35 finished with values: [107.1303482055664, 0.75] and parameters: {'lr': 0.000362813360294377, 'nlf_n_layers': 2, 'nlf_act0': 'None', 'nlf_act1': 'ReLU'}. \u001b[0m\n"
     ]
    },
    {
     "name": "stdout",
     "output_type": "stream",
     "text": [
      "Dictionary: \n",
      "0:  {'precision': 0.5, 'recall': 1.0, 'f1-score': 0.6666666666666666, 'support': 1}\n",
      "1:  {'precision': 1.0, 'recall': 0.6666666666666666, 'f1-score': 0.8, 'support': 3}\n",
      "acc:  0.75\n",
      "[Linear(in_features=10, out_features=10, bias=True), Sigmoid()]\n",
      "train_loss: 162.95181274414062, val: 156.78123474121094\n",
      "train_loss: 162.67449951171875, val: 156.6464080810547\n",
      "train_loss: 162.53929138183594, val: 156.5142364501953\n",
      "train_loss: 162.4202117919922, val: 156.39772033691406\n",
      "train_loss: 162.3159637451172, val: 156.29534912109375\n",
      "train_loss: 162.2246856689453, val: 156.20533752441406\n",
      "train_loss: 162.14491271972656, val: 156.12648010253906\n",
      "train_loss: 162.07505798339844, val: 156.05726623535156\n",
      "train_loss: 162.01556396484375, val: 155.99783325195312\n",
      "train_loss: 161.9632568359375, val: 155.94570922851562\n"
     ]
    },
    {
     "name": "stderr",
     "output_type": "stream",
     "text": [
      "\u001b[32m[I 2022-10-10 15:44:29,099]\u001b[0m Trial 36 finished with values: [155.90316772460938, 0.5] and parameters: {'lr': 1.5088696764465554e-05, 'nlf_n_layers': 1, 'nlf_act0': 'Sig'}. \u001b[0m\n"
     ]
    },
    {
     "name": "stdout",
     "output_type": "stream",
     "text": [
      "Dictionary: \n",
      "0:  {'precision': 1.0, 'recall': 0.5, 'f1-score': 0.6666666666666666, 'support': 4}\n",
      "1:  {'precision': 0.0, 'recall': 0.0, 'f1-score': 0.0, 'support': 0}\n",
      "acc:  0.5\n",
      "[Linear(in_features=10, out_features=10, bias=True), Sigmoid()]\n",
      "train_loss: 162.79783630371094, val: 156.2032470703125\n",
      "train_loss: 161.97647094726562, val: 155.96771240234375\n",
      "train_loss: 161.85025024414062, val: 155.83291625976562\n",
      "train_loss: 161.79701232910156, val: 155.77078247070312\n",
      "train_loss: 161.79214477539062, val: 155.75592041015625\n",
      "train_loss: 161.81654357910156, val: 155.7704315185547\n",
      "train_loss: 161.85646057128906, val: 155.801513671875\n",
      "train_loss: 161.9041290283203, val: 155.84007263183594\n",
      "train_loss: 161.94859313964844, val: 155.879638671875\n",
      "train_loss: 161.98948669433594, val: 155.91552734375\n"
     ]
    },
    {
     "name": "stderr",
     "output_type": "stream",
     "text": [
      "\u001b[32m[I 2022-10-10 15:44:31,717]\u001b[0m Trial 37 finished with values: [155.9392852783203, 0.5] and parameters: {'lr': 7.135173900094377e-05, 'nlf_n_layers': 1, 'nlf_act0': 'Sig'}. \u001b[0m\n"
     ]
    },
    {
     "name": "stdout",
     "output_type": "stream",
     "text": [
      "Dictionary: \n",
      "0:  {'precision': 0.0, 'recall': 0.0, 'f1-score': 0.0, 'support': 0}\n",
      "1:  {'precision': 1.0, 'recall': 0.5, 'f1-score': 0.6666666666666666, 'support': 4}\n",
      "acc:  0.5\n",
      "[Linear(in_features=10, out_features=10, bias=True), Tanh()]\n",
      "train_loss: 163.1083221435547, val: 155.81263732910156\n",
      "train_loss: 161.83743286132812, val: 155.78298950195312\n",
      "train_loss: 161.96331787109375, val: 155.866455078125\n",
      "train_loss: 162.08287048339844, val: 155.95355224609375\n",
      "train_loss: 162.123291015625, val: 155.97161865234375\n",
      "train_loss: 161.9379119873047, val: 155.76719665527344\n",
      "train_loss: 161.35801696777344, val: 155.20843505859375\n",
      "train_loss: 160.150146484375, val: 154.0545196533203\n",
      "train_loss: 157.8436279296875, val: 151.86752319335938\n",
      "train_loss: 152.96914672851562, val: 147.19976806640625\n"
     ]
    },
    {
     "name": "stderr",
     "output_type": "stream",
     "text": [
      "\u001b[32m[I 2022-10-10 15:44:34,331]\u001b[0m Trial 38 finished with values: [140.89108276367188, 0.75] and parameters: {'lr': 0.0001461586303894192, 'nlf_n_layers': 1, 'nlf_act0': 'Tanh'}. \u001b[0m\n"
     ]
    },
    {
     "name": "stdout",
     "output_type": "stream",
     "text": [
      "Dictionary: \n",
      "0:  {'precision': 0.5, 'recall': 1.0, 'f1-score': 0.6666666666666666, 'support': 1}\n",
      "1:  {'precision': 1.0, 'recall': 0.6666666666666666, 'f1-score': 0.8, 'support': 3}\n",
      "acc:  0.75\n",
      "[Linear(in_features=10, out_features=10, bias=True)]\n",
      "train_loss: 166.0428924560547, val: 156.1707000732422\n",
      "train_loss: 162.0596466064453, val: 155.88584899902344\n",
      "train_loss: 162.60166931152344, val: 156.18499755859375\n",
      "train_loss: 162.3025665283203, val: 155.8083953857422\n",
      "train_loss: 159.83424377441406, val: 153.17979431152344\n",
      "train_loss: 148.7139434814453, val: 142.537109375\n",
      "train_loss: 130.93309020996094, val: 126.91510772705078\n",
      "train_loss: 118.97071838378906, val: 116.84136199951172\n",
      "train_loss: 112.7305908203125, val: 111.53089141845703\n",
      "train_loss: 109.46363067626953, val: 108.8123779296875\n"
     ]
    },
    {
     "name": "stderr",
     "output_type": "stream",
     "text": [
      "\u001b[32m[I 2022-10-10 15:44:36,929]\u001b[0m Trial 39 finished with values: [107.54962921142578, 0.75] and parameters: {'lr': 0.00041042558952175234, 'nlf_n_layers': 1, 'nlf_act0': 'None'}. \u001b[0m\n"
     ]
    },
    {
     "name": "stdout",
     "output_type": "stream",
     "text": [
      "Dictionary: \n",
      "0:  {'precision': 0.5, 'recall': 1.0, 'f1-score': 0.6666666666666666, 'support': 1}\n",
      "1:  {'precision': 1.0, 'recall': 0.6666666666666666, 'f1-score': 0.8, 'support': 3}\n",
      "acc:  0.75\n",
      "[BatchNorm1d(10, eps=1e-05, momentum=0.1, affine=True, track_running_stats=True)]\n",
      "train_loss: 164.1802520751953, val: 155.88546752929688\n",
      "train_loss: 161.91920471191406, val: 155.852783203125\n",
      "train_loss: 162.26031494140625, val: 156.10293579101562\n",
      "train_loss: 162.50111389160156, val: 156.33116149902344\n",
      "train_loss: 162.60472106933594, val: 156.50808715820312\n",
      "train_loss: 162.5892791748047, val: 156.64285278320312\n",
      "train_loss: 162.41065979003906, val: 156.80255126953125\n",
      "train_loss: 161.93344116210938, val: 157.08535766601562\n",
      "train_loss: 160.75637817382812, val: 157.68704223632812\n",
      "train_loss: 158.21084594726562, val: 158.6216583251953\n"
     ]
    },
    {
     "name": "stderr",
     "output_type": "stream",
     "text": [
      "\u001b[32m[I 2022-10-10 15:44:39,531]\u001b[0m Trial 40 finished with values: [159.6609344482422, 0.75] and parameters: {'lr': 0.0002660846206651104, 'nlf_n_layers': 0, 'nlf_func': 'BatchNorm'}. \u001b[0m\n"
     ]
    },
    {
     "name": "stdout",
     "output_type": "stream",
     "text": [
      "Dictionary: \n",
      "0:  {'precision': 0.5, 'recall': 1.0, 'f1-score': 0.6666666666666666, 'support': 1}\n",
      "1:  {'precision': 1.0, 'recall': 0.6666666666666666, 'f1-score': 0.8, 'support': 3}\n",
      "acc:  0.75\n",
      "[Tanh()]\n",
      "train_loss: 164.14288330078125, val: 155.7820587158203\n",
      "train_loss: 162.00946044921875, val: 155.87367248535156\n",
      "train_loss: 162.26971435546875, val: 156.04470825195312\n",
      "train_loss: 162.28700256347656, val: 156.0197296142578\n",
      "train_loss: 161.86228942871094, val: 155.6065216064453\n",
      "train_loss: 160.46295166015625, val: 154.2645263671875\n",
      "train_loss: 156.9540557861328, val: 151.03057861328125\n",
      "train_loss: 150.29867553710938, val: 145.2396697998047\n",
      "train_loss: 142.60121154785156, val: 138.8201141357422\n",
      "train_loss: 136.56324768066406, val: 134.11318969726562\n"
     ]
    },
    {
     "name": "stderr",
     "output_type": "stream",
     "text": [
      "\u001b[32m[I 2022-10-10 15:44:41,963]\u001b[0m Trial 41 finished with values: [131.1460418701172, 0.75] and parameters: {'lr': 0.00027122032134228, 'nlf_n_layers': 0, 'nlf_func': 'Tanh'}. \u001b[0m\n"
     ]
    },
    {
     "name": "stdout",
     "output_type": "stream",
     "text": [
      "Dictionary: \n",
      "0:  {'precision': 0.5, 'recall': 1.0, 'f1-score': 0.6666666666666666, 'support': 1}\n",
      "1:  {'precision': 1.0, 'recall': 0.6666666666666666, 'f1-score': 0.8, 'support': 3}\n",
      "acc:  0.75\n",
      "[Linear(in_features=10, out_features=10, bias=True), Sigmoid(), Linear(in_features=10, out_features=10, bias=True)]\n",
      "train_loss: 166.72982788085938, val: 155.96762084960938\n",
      "train_loss: 162.28729248046875, val: 156.0032501220703\n",
      "train_loss: 162.7445068359375, val: 156.18807983398438\n",
      "train_loss: 161.6222686767578, val: 154.88653564453125\n",
      "train_loss: 151.58200073242188, val: 143.6230010986328\n",
      "train_loss: 122.7221450805664, val: 118.58121490478516\n",
      "train_loss: 112.6484603881836, val: 111.39659118652344\n",
      "train_loss: 109.61186981201172, val: 108.93224334716797\n",
      "train_loss: 108.14444732666016, val: 107.59906005859375\n",
      "train_loss: 107.19338989257812, val: 106.68374633789062\n"
     ]
    },
    {
     "name": "stderr",
     "output_type": "stream",
     "text": [
      "\u001b[32m[I 2022-10-10 15:44:45,009]\u001b[0m Trial 42 finished with values: [106.06939697265625, 0.75] and parameters: {'lr': 0.0006500334606356228, 'nlf_n_layers': 2, 'nlf_act0': 'Sig', 'nlf_act1': 'None'}. \u001b[0m\n"
     ]
    },
    {
     "name": "stdout",
     "output_type": "stream",
     "text": [
      "Dictionary: \n",
      "0:  {'precision': 0.5, 'recall': 1.0, 'f1-score': 0.6666666666666666, 'support': 1}\n",
      "1:  {'precision': 1.0, 'recall': 0.6666666666666666, 'f1-score': 0.8, 'support': 3}\n",
      "acc:  0.75\n",
      "[Linear(in_features=10, out_features=10, bias=True), Sigmoid(), Linear(in_features=10, out_features=10, bias=True), BatchNorm1d(10, eps=1e-05, momentum=0.1, affine=True, track_running_stats=True)]\n",
      "train_loss: 162.26327514648438, val: 155.82643127441406\n",
      "train_loss: 161.81182861328125, val: 155.78225708007812\n",
      "train_loss: 161.79605102539062, val: 155.76345825195312\n",
      "train_loss: 161.80230712890625, val: 155.7667999267578\n",
      "train_loss: 161.8223876953125, val: 155.7846221923828\n",
      "train_loss: 161.85093688964844, val: 155.81080627441406\n",
      "train_loss: 161.8837127685547, val: 155.84149169921875\n",
      "train_loss: 161.9179229736328, val: 155.87400817871094\n",
      "train_loss: 161.9515838623047, val: 155.9063262939453\n",
      "train_loss: 161.98294067382812, val: 155.9370880126953\n"
     ]
    },
    {
     "name": "stderr",
     "output_type": "stream",
     "text": [
      "\u001b[32m[I 2022-10-10 15:44:48,221]\u001b[0m Trial 43 finished with values: [155.96266174316406, 0.5] and parameters: {'lr': 5.012453015847912e-05, 'nlf_n_layers': 2, 'nlf_act0': 'Sig', 'nlf_act1': 'BatchNorm'}. \u001b[0m\n"
     ]
    },
    {
     "name": "stdout",
     "output_type": "stream",
     "text": [
      "Dictionary: \n",
      "0:  {'precision': 0.0, 'recall': 0.0, 'f1-score': 0.0, 'support': 0}\n",
      "1:  {'precision': 1.0, 'recall': 0.5, 'f1-score': 0.6666666666666666, 'support': 4}\n",
      "acc:  0.5\n",
      "[Linear(in_features=10, out_features=10, bias=True), BatchNorm1d(10, eps=1e-05, momentum=0.1, affine=True, track_running_stats=True)]\n",
      "train_loss: 170.4285125732422, val: 158.51687622070312\n",
      "train_loss: 162.107421875, val: 155.9671630859375\n",
      "train_loss: 162.24148559570312, val: 156.2305145263672\n",
      "train_loss: 158.2957763671875, val: 155.37619018554688\n",
      "train_loss: 143.49310302734375, val: 160.0667724609375\n",
      "train_loss: 116.94489288330078, val: 185.2648468017578\n",
      "train_loss: 100.553466796875, val: 190.20480346679688\n",
      "train_loss: 93.1987533569336, val: 190.1959228515625\n",
      "train_loss: 88.85943603515625, val: 187.93350219726562\n",
      "train_loss: 85.74345397949219, val: 185.70521545410156\n"
     ]
    },
    {
     "name": "stderr",
     "output_type": "stream",
     "text": [
      "\u001b[32m[I 2022-10-10 15:44:51,188]\u001b[0m Trial 44 finished with values: [181.1072235107422, 0.75] and parameters: {'lr': 0.0008139709194994184, 'nlf_n_layers': 1, 'nlf_act0': 'BatchNorm'}. \u001b[0m\n"
     ]
    },
    {
     "name": "stdout",
     "output_type": "stream",
     "text": [
      "Dictionary: \n",
      "0:  {'precision': 0.5, 'recall': 1.0, 'f1-score': 0.6666666666666666, 'support': 1}\n",
      "1:  {'precision': 1.0, 'recall': 0.6666666666666666, 'f1-score': 0.8, 'support': 3}\n",
      "acc:  0.75\n",
      "[ReLU()]\n",
      "train_loss: 172.39077758789062, val: 158.0758056640625\n",
      "train_loss: 162.4738311767578, val: 155.62353515625\n",
      "train_loss: 153.7683868408203, val: 146.09140014648438\n",
      "train_loss: 124.70160675048828, val: 121.71251678466797\n",
      "train_loss: 117.07585906982422, val: 116.46295166015625\n",
      "train_loss: 113.99251556396484, val: 113.73168182373047\n",
      "train_loss: 111.40003967285156, val: 111.37084197998047\n",
      "train_loss: 109.29336547851562, val: 109.51738739013672\n",
      "train_loss: 107.72698211669922, val: 108.12760162353516\n",
      "train_loss: 106.54637908935547, val: 107.03255462646484\n"
     ]
    },
    {
     "name": "stderr",
     "output_type": "stream",
     "text": [
      "\u001b[32m[I 2022-10-10 15:44:53,645]\u001b[0m Trial 45 finished with values: [106.20318603515625, 0.75] and parameters: {'lr': 0.0008420630931902029, 'nlf_n_layers': 0, 'nlf_func': 'ReLU'}. \u001b[0m\n"
     ]
    },
    {
     "name": "stdout",
     "output_type": "stream",
     "text": [
      "Dictionary: \n",
      "0:  {'precision': 0.5, 'recall': 1.0, 'f1-score': 0.6666666666666666, 'support': 1}\n",
      "1:  {'precision': 1.0, 'recall': 0.6666666666666666, 'f1-score': 0.8, 'support': 3}\n",
      "acc:  0.75\n",
      "[BatchNorm1d(10, eps=1e-05, momentum=0.1, affine=True, track_running_stats=True)]\n",
      "train_loss: 165.04339599609375, val: 156.55335998535156\n",
      "train_loss: 161.769775390625, val: 155.73696899414062\n",
      "train_loss: 162.1192169189453, val: 155.9464111328125\n",
      "train_loss: 162.39100646972656, val: 156.2323760986328\n",
      "train_loss: 162.4242401123047, val: 156.47312927246094\n",
      "train_loss: 162.1334686279297, val: 156.8263397216797\n",
      "train_loss: 161.0748748779297, val: 157.50979614257812\n",
      "train_loss: 157.85995483398438, val: 159.53466796875\n",
      "train_loss: 151.2957763671875, val: 162.46487426757812\n",
      "train_loss: 142.57748413085938, val: 165.6527862548828\n"
     ]
    },
    {
     "name": "stderr",
     "output_type": "stream",
     "text": [
      "\u001b[32m[I 2022-10-10 15:44:56,306]\u001b[0m Trial 46 finished with values: [168.0452117919922, 0.25] and parameters: {'lr': 0.000308136978036443, 'nlf_n_layers': 0, 'nlf_func': 'BatchNorm'}. \u001b[0m\n"
     ]
    },
    {
     "name": "stdout",
     "output_type": "stream",
     "text": [
      "Dictionary: \n",
      "0:  {'precision': 0.5, 'recall': 0.3333333333333333, 'f1-score': 0.4, 'support': 3}\n",
      "1:  {'precision': 0.0, 'recall': 0.0, 'f1-score': 0.0, 'support': 1}\n",
      "acc:  0.25\n",
      "[Linear(in_features=10, out_features=10, bias=True)]\n",
      "train_loss: 166.32395935058594, val: 155.82164001464844\n",
      "train_loss: 162.27908325195312, val: 155.98289489746094\n",
      "train_loss: 162.04579162597656, val: 155.46017456054688\n",
      "train_loss: 154.92845153808594, val: 147.9114990234375\n",
      "train_loss: 128.17189025878906, val: 123.289794921875\n",
      "train_loss: 113.03280639648438, val: 111.81927490234375\n",
      "train_loss: 109.68856811523438, val: 109.24981689453125\n",
      "train_loss: 108.04214477539062, val: 107.86927795410156\n",
      "train_loss: 106.98981475830078, val: 106.96097564697266\n",
      "train_loss: 106.20631408691406, val: 106.23611450195312\n"
     ]
    },
    {
     "name": "stderr",
     "output_type": "stream",
     "text": [
      "\u001b[32m[I 2022-10-10 15:44:59,012]\u001b[0m Trial 47 finished with values: [105.67189025878906, 0.75] and parameters: {'lr': 0.0004741966067723187, 'nlf_n_layers': 1, 'nlf_act0': 'None'}. \u001b[0m\n"
     ]
    },
    {
     "name": "stdout",
     "output_type": "stream",
     "text": [
      "Dictionary: \n",
      "0:  {'precision': 0.5, 'recall': 1.0, 'f1-score': 0.6666666666666666, 'support': 1}\n",
      "1:  {'precision': 1.0, 'recall': 0.6666666666666666, 'f1-score': 0.8, 'support': 3}\n",
      "acc:  0.75\n",
      "[ReLU()]\n",
      "train_loss: 167.6831512451172, val: 155.9944610595703\n",
      "train_loss: 162.4369659423828, val: 156.03883361816406\n",
      "train_loss: 162.3524169921875, val: 155.69650268554688\n",
      "train_loss: 158.42437744140625, val: 151.49378967285156\n",
      "train_loss: 142.45140075683594, val: 137.18775939941406\n",
      "train_loss: 132.0997314453125, val: 129.3296661376953\n",
      "train_loss: 126.6124038696289, val: 125.07089233398438\n",
      "train_loss: 121.98079681396484, val: 121.0628662109375\n",
      "train_loss: 116.82723236083984, val: 116.0321273803711\n",
      "train_loss: 112.118408203125, val: 111.6466064453125\n"
     ]
    },
    {
     "name": "stderr",
     "output_type": "stream",
     "text": [
      "\u001b[32m[I 2022-10-10 15:45:01,558]\u001b[0m Trial 48 finished with values: [109.00271606445312, 0.75] and parameters: {'lr': 0.0006084011073211957, 'nlf_n_layers': 0, 'nlf_func': 'ReLU'}. \u001b[0m\n"
     ]
    },
    {
     "name": "stdout",
     "output_type": "stream",
     "text": [
      "Dictionary: \n",
      "0:  {'precision': 0.5, 'recall': 1.0, 'f1-score': 0.6666666666666666, 'support': 1}\n",
      "1:  {'precision': 1.0, 'recall': 0.6666666666666666, 'f1-score': 0.8, 'support': 3}\n",
      "acc:  0.75\n",
      "[Linear(in_features=10, out_features=10, bias=True)]\n",
      "train_loss: 170.18060302734375, val: 156.58407592773438\n",
      "train_loss: 162.7923583984375, val: 156.1347198486328\n",
      "train_loss: 161.5616455078125, val: 154.40359497070312\n",
      "train_loss: 146.34329223632812, val: 138.40774536132812\n",
      "train_loss: 120.6916275024414, val: 117.11115264892578\n",
      "train_loss: 111.91930389404297, val: 109.97511291503906\n",
      "train_loss: 108.2412338256836, val: 106.89517211914062\n",
      "train_loss: 106.34323120117188, val: 105.24573516845703\n",
      "train_loss: 105.190673828125, val: 104.31424713134766\n",
      "train_loss: 104.38773345947266, val: 103.6875228881836\n"
     ]
    },
    {
     "name": "stderr",
     "output_type": "stream",
     "text": [
      "\u001b[32m[I 2022-10-10 15:45:04,279]\u001b[0m Trial 49 finished with values: [103.26248931884766, 0.75] and parameters: {'lr': 0.0008340769763393253, 'nlf_n_layers': 1, 'nlf_act0': 'None'}. \u001b[0m\n"
     ]
    },
    {
     "name": "stdout",
     "output_type": "stream",
     "text": [
      "Dictionary: \n",
      "0:  {'precision': 0.5, 'recall': 1.0, 'f1-score': 0.6666666666666666, 'support': 1}\n",
      "1:  {'precision': 1.0, 'recall': 0.6666666666666666, 'f1-score': 0.8, 'support': 3}\n",
      "acc:  0.75\n",
      "[Sigmoid()]\n",
      "train_loss: 171.1938934326172, val: 157.1935577392578\n",
      "train_loss: 162.68460083007812, val: 155.9961395263672\n",
      "train_loss: 160.13079833984375, val: 152.50254821777344\n",
      "train_loss: 135.83963012695312, val: 128.1761016845703\n",
      "train_loss: 112.501953125, val: 109.58553314208984\n",
      "train_loss: 107.08234405517578, val: 105.38521575927734\n",
      "train_loss: 104.60013580322266, val: 103.2874755859375\n",
      "train_loss: 103.0317611694336, val: 101.98178100585938\n",
      "train_loss: 101.88975524902344, val: 101.13069152832031\n",
      "train_loss: 101.02429962158203, val: 100.60316467285156\n"
     ]
    },
    {
     "name": "stderr",
     "output_type": "stream",
     "text": [
      "\u001b[32m[I 2022-10-10 15:45:06,740]\u001b[0m Trial 50 finished with values: [100.3055419921875, 0.75] and parameters: {'lr': 0.0008710486388132367, 'nlf_n_layers': 0, 'nlf_func': 'Sig'}. \u001b[0m\n"
     ]
    },
    {
     "name": "stdout",
     "output_type": "stream",
     "text": [
      "Dictionary: \n",
      "0:  {'precision': 0.5, 'recall': 1.0, 'f1-score': 0.6666666666666666, 'support': 1}\n",
      "1:  {'precision': 1.0, 'recall': 0.6666666666666666, 'f1-score': 0.8, 'support': 3}\n",
      "acc:  0.75\n",
      "[Linear(in_features=10, out_features=10, bias=True), Linear(in_features=10, out_features=10, bias=True), ReLU()]\n",
      "train_loss: 170.3420867919922, val: 156.73292541503906\n",
      "train_loss: 162.78456115722656, val: 156.225830078125\n",
      "train_loss: 161.73696899414062, val: 154.60841369628906\n",
      "train_loss: 141.37852478027344, val: 133.25389099121094\n",
      "train_loss: 113.1072769165039, val: 110.5847396850586\n",
      "train_loss: 107.86138153076172, val: 106.92640686035156\n",
      "train_loss: 106.58419036865234, val: 105.86548614501953\n",
      "train_loss: 105.95204162597656, val: 105.19841003417969\n",
      "train_loss: 105.54304504394531, val: 104.75665283203125\n",
      "train_loss: 105.2607192993164, val: 104.44434356689453\n"
     ]
    },
    {
     "name": "stderr",
     "output_type": "stream",
     "text": [
      "\u001b[32m[I 2022-10-10 15:45:09,711]\u001b[0m Trial 51 finished with values: [104.2305908203125, 0.75] and parameters: {'lr': 0.0009275108804740908, 'nlf_n_layers': 2, 'nlf_act0': 'None', 'nlf_act1': 'ReLU'}. \u001b[0m\n"
     ]
    },
    {
     "name": "stdout",
     "output_type": "stream",
     "text": [
      "Dictionary: \n",
      "0:  {'precision': 0.5, 'recall': 1.0, 'f1-score': 0.6666666666666666, 'support': 1}\n",
      "1:  {'precision': 1.0, 'recall': 0.6666666666666666, 'f1-score': 0.8, 'support': 3}\n",
      "acc:  0.75\n",
      "[Linear(in_features=10, out_features=10, bias=True), Tanh(), Linear(in_features=10, out_features=10, bias=True)]\n",
      "train_loss: 162.77737426757812, val: 155.93858337402344\n",
      "train_loss: 162.08639526367188, val: 155.9932861328125\n",
      "train_loss: 162.17062377929688, val: 156.06591796875\n",
      "train_loss: 162.24595642089844, val: 156.13206481933594\n",
      "train_loss: 162.30978393554688, val: 156.1881866455078\n",
      "train_loss: 162.3575439453125, val: 156.23028564453125\n",
      "train_loss: 162.38499450683594, val: 156.25387573242188\n",
      "train_loss: 162.38023376464844, val: 156.24710083007812\n",
      "train_loss: 162.34088134765625, val: 156.21200561523438\n",
      "train_loss: 162.26380920410156, val: 156.14283752441406\n"
     ]
    },
    {
     "name": "stderr",
     "output_type": "stream",
     "text": [
      "\u001b[32m[I 2022-10-10 15:45:12,700]\u001b[0m Trial 52 finished with values: [156.04579162597656, 0.5] and parameters: {'lr': 8.70058041060168e-05, 'nlf_n_layers': 2, 'nlf_act0': 'Tanh', 'nlf_act1': 'None'}. \u001b[0m\n"
     ]
    },
    {
     "name": "stdout",
     "output_type": "stream",
     "text": [
      "Dictionary: \n",
      "0:  {'precision': 0.0, 'recall': 0.0, 'f1-score': 0.0, 'support': 0}\n",
      "1:  {'precision': 1.0, 'recall': 0.5, 'f1-score': 0.6666666666666666, 'support': 4}\n",
      "acc:  0.5\n",
      "[BatchNorm1d(10, eps=1e-05, momentum=0.1, affine=True, track_running_stats=True)]\n",
      "train_loss: 168.33087158203125, val: 157.09335327148438\n",
      "train_loss: 162.2007598876953, val: 155.90859985351562\n",
      "train_loss: 162.93263244628906, val: 156.3523406982422\n",
      "train_loss: 162.7637176513672, val: 156.47312927246094\n",
      "train_loss: 160.93438720703125, val: 156.828857421875\n",
      "train_loss: 152.31585693359375, val: 160.72569274902344\n",
      "train_loss: 127.17068481445312, val: 168.8583526611328\n",
      "train_loss: 109.61550903320312, val: 173.42469787597656\n",
      "train_loss: 100.9045181274414, val: 176.362548828125\n",
      "train_loss: 97.1485366821289, val: 177.16677856445312\n"
     ]
    },
    {
     "name": "stderr",
     "output_type": "stream",
     "text": [
      "\u001b[32m[I 2022-10-10 15:45:15,486]\u001b[0m Trial 53 finished with values: [177.682373046875, 0.5] and parameters: {'lr': 0.0006500334606356228, 'nlf_n_layers': 0, 'nlf_func': 'BatchNorm'}. \u001b[0m\n"
     ]
    },
    {
     "name": "stdout",
     "output_type": "stream",
     "text": [
      "Dictionary: \n",
      "0:  {'precision': 0.0, 'recall': 0.0, 'f1-score': 0.0, 'support': 0}\n",
      "1:  {'precision': 1.0, 'recall': 0.5, 'f1-score': 0.6666666666666666, 'support': 4}\n",
      "acc:  0.5\n",
      "[Sigmoid()]\n",
      "train_loss: 166.3441925048828, val: 156.03578186035156\n",
      "train_loss: 162.05923461914062, val: 155.79454040527344\n",
      "train_loss: 161.73162841796875, val: 155.21266174316406\n",
      "train_loss: 158.17098999023438, val: 151.65438842773438\n",
      "train_loss: 146.89723205566406, val: 140.5978546142578\n",
      "train_loss: 133.4140625, val: 128.6427001953125\n",
      "train_loss: 126.91261291503906, val: 123.12498474121094\n",
      "train_loss: 123.59764099121094, val: 120.22540283203125\n",
      "train_loss: 121.28267669677734, val: 118.22673797607422\n",
      "train_loss: 119.409912109375, val: 116.6073226928711\n"
     ]
    },
    {
     "name": "stderr",
     "output_type": "stream",
     "text": [
      "\u001b[32m[I 2022-10-10 15:45:18,065]\u001b[0m Trial 54 finished with values: [115.29158782958984, 0.5] and parameters: {'lr': 0.00047508966217323144, 'nlf_n_layers': 0, 'nlf_func': 'Sig'}. \u001b[0m\n"
     ]
    },
    {
     "name": "stdout",
     "output_type": "stream",
     "text": [
      "Dictionary: \n",
      "0:  {'precision': 0.5, 'recall': 0.5, 'f1-score': 0.5, 'support': 2}\n",
      "1:  {'precision': 0.5, 'recall': 0.5, 'f1-score': 0.5, 'support': 2}\n",
      "acc:  0.5\n",
      "[Tanh()]\n",
      "train_loss: 165.9481201171875, val: 158.03578186035156\n",
      "train_loss: 161.92007446289062, val: 155.97760009765625\n",
      "train_loss: 161.75271606445312, val: 155.68113708496094\n",
      "train_loss: 161.8683319091797, val: 155.69427490234375\n",
      "train_loss: 161.56764221191406, val: 155.36553955078125\n",
      "train_loss: 160.38523864746094, val: 154.24195861816406\n",
      "train_loss: 157.30401611328125, val: 151.31552124023438\n",
      "train_loss: 150.76055908203125, val: 145.298583984375\n",
      "train_loss: 142.1078643798828, val: 137.8013458251953\n",
      "train_loss: 134.57154846191406, val: 131.44070434570312\n"
     ]
    },
    {
     "name": "stderr",
     "output_type": "stream",
     "text": [
      "\u001b[32m[I 2022-10-10 15:45:20,639]\u001b[0m Trial 55 finished with values: [127.30802154541016, 0.75] and parameters: {'lr': 0.00027122032134228, 'nlf_n_layers': 0, 'nlf_func': 'Tanh'}. \u001b[0m\n"
     ]
    },
    {
     "name": "stdout",
     "output_type": "stream",
     "text": [
      "Dictionary: \n",
      "0:  {'precision': 0.5, 'recall': 1.0, 'f1-score': 0.6666666666666666, 'support': 1}\n",
      "1:  {'precision': 1.0, 'recall': 0.6666666666666666, 'f1-score': 0.8, 'support': 3}\n",
      "acc:  0.75\n",
      "[Linear(in_features=10, out_features=10, bias=True), Tanh()]\n",
      "train_loss: 167.05467224121094, val: 156.3790283203125\n",
      "train_loss: 162.11048889160156, val: 155.86331176757812\n",
      "train_loss: 162.32525634765625, val: 155.7666778564453\n",
      "train_loss: 159.4978485107422, val: 152.55166625976562\n",
      "train_loss: 144.09463500976562, val: 137.01608276367188\n",
      "train_loss: 121.60247039794922, val: 117.81136322021484\n",
      "train_loss: 112.17924499511719, val: 110.00333404541016\n",
      "train_loss: 108.36137390136719, val: 106.75848388671875\n",
      "train_loss: 106.31393432617188, val: 105.04422760009766\n",
      "train_loss: 105.1060791015625, val: 104.01388549804688\n"
     ]
    },
    {
     "name": "stderr",
     "output_type": "stream",
     "text": [
      "\u001b[32m[I 2022-10-10 15:45:23,404]\u001b[0m Trial 56 finished with values: [103.41576385498047, 0.75] and parameters: {'lr': 0.0005339745487395755, 'nlf_n_layers': 1, 'nlf_act0': 'Tanh'}. \u001b[0m\n"
     ]
    },
    {
     "name": "stdout",
     "output_type": "stream",
     "text": [
      "Dictionary: \n",
      "0:  {'precision': 0.5, 'recall': 1.0, 'f1-score': 0.6666666666666666, 'support': 1}\n",
      "1:  {'precision': 1.0, 'recall': 0.6666666666666666, 'f1-score': 0.8, 'support': 3}\n",
      "acc:  0.75\n",
      "[Linear(in_features=10, out_features=10, bias=True), ReLU(), Linear(in_features=10, out_features=10, bias=True), Tanh()]\n",
      "train_loss: 172.5843048095703, val: 159.9495086669922\n",
      "train_loss: 162.35855102539062, val: 155.9743194580078\n",
      "train_loss: 161.4676513671875, val: 154.43215942382812\n",
      "train_loss: 142.4336395263672, val: 132.42835998535156\n",
      "train_loss: 114.76763153076172, val: 111.64280700683594\n",
      "train_loss: 110.29097747802734, val: 108.5798568725586\n",
      "train_loss: 108.21573638916016, val: 107.22425079345703\n",
      "train_loss: 106.72539520263672, val: 106.2166748046875\n",
      "train_loss: 105.58056640625, val: 105.37301635742188\n",
      "train_loss: 104.62653350830078, val: 104.61100769042969\n"
     ]
    },
    {
     "name": "stderr",
     "output_type": "stream",
     "text": [
      "\u001b[32m[I 2022-10-10 15:45:26,402]\u001b[0m Trial 57 finished with values: [104.06246185302734, 0.75] and parameters: {'lr': 0.0009024917510928251, 'nlf_n_layers': 2, 'nlf_act0': 'ReLU', 'nlf_act1': 'Tanh'}. \u001b[0m\n"
     ]
    },
    {
     "name": "stdout",
     "output_type": "stream",
     "text": [
      "Dictionary: \n",
      "0:  {'precision': 0.5, 'recall': 1.0, 'f1-score': 0.6666666666666666, 'support': 1}\n",
      "1:  {'precision': 1.0, 'recall': 0.6666666666666666, 'f1-score': 0.8, 'support': 3}\n",
      "acc:  0.75\n",
      "[Linear(in_features=10, out_features=10, bias=True), ReLU()]\n",
      "train_loss: 172.65457153320312, val: 157.0934600830078\n",
      "train_loss: 163.21546936035156, val: 156.35498046875\n",
      "train_loss: 162.17105102539062, val: 154.99636840820312\n",
      "train_loss: 149.64486694335938, val: 141.91651916503906\n",
      "train_loss: 126.10057067871094, val: 121.8340835571289\n",
      "train_loss: 114.8916015625, val: 111.47936248779297\n",
      "train_loss: 109.97856903076172, val: 106.69271850585938\n",
      "train_loss: 107.40637969970703, val: 104.10893249511719\n",
      "train_loss: 105.77289581298828, val: 102.53111267089844\n",
      "train_loss: 104.654052734375, val: 101.59925079345703\n"
     ]
    },
    {
     "name": "stderr",
     "output_type": "stream",
     "text": [
      "\u001b[32m[I 2022-10-10 15:45:29,185]\u001b[0m Trial 58 finished with values: [101.03076171875, 0.75] and parameters: {'lr': 0.0009813163040683062, 'nlf_n_layers': 1, 'nlf_act0': 'ReLU'}. \u001b[0m\n"
     ]
    },
    {
     "name": "stdout",
     "output_type": "stream",
     "text": [
      "Dictionary: \n",
      "0:  {'precision': 0.5, 'recall': 1.0, 'f1-score': 0.6666666666666666, 'support': 1}\n",
      "1:  {'precision': 1.0, 'recall': 0.6666666666666666, 'f1-score': 0.8, 'support': 3}\n",
      "acc:  0.75\n",
      "[Linear(in_features=10, out_features=10, bias=True), ReLU(), Linear(in_features=10, out_features=10, bias=True), Sigmoid()]\n",
      "train_loss: 168.23516845703125, val: 156.89669799804688\n",
      "train_loss: 162.05679321289062, val: 155.80657958984375\n",
      "train_loss: 161.7635040283203, val: 155.03799438476562\n",
      "train_loss: 153.68495178222656, val: 145.82809448242188\n",
      "train_loss: 127.09542083740234, val: 121.59835815429688\n",
      "train_loss: 115.76930236816406, val: 113.50250244140625\n",
      "train_loss: 111.84428405761719, val: 111.0433120727539\n",
      "train_loss: 109.693603515625, val: 109.5997085571289\n",
      "train_loss: 108.20159912109375, val: 108.42108154296875\n",
      "train_loss: 106.995361328125, val: 107.36978149414062\n"
     ]
    },
    {
     "name": "stderr",
     "output_type": "stream",
     "text": [
      "\u001b[32m[I 2022-10-10 15:45:32,207]\u001b[0m Trial 59 finished with values: [106.46553802490234, 0.75] and parameters: {'lr': 0.0006500334606356228, 'nlf_n_layers': 2, 'nlf_act0': 'ReLU', 'nlf_act1': 'Sig'}. \u001b[0m\n"
     ]
    },
    {
     "name": "stdout",
     "output_type": "stream",
     "text": [
      "Dictionary: \n",
      "0:  {'precision': 0.5, 'recall': 1.0, 'f1-score': 0.6666666666666666, 'support': 1}\n",
      "1:  {'precision': 1.0, 'recall': 0.6666666666666666, 'f1-score': 0.8, 'support': 3}\n",
      "acc:  0.75\n",
      "[ReLU()]\n",
      "train_loss: 165.65774536132812, val: 156.8960418701172\n",
      "train_loss: 161.65921020507812, val: 155.64749145507812\n",
      "train_loss: 161.63148498535156, val: 155.41375732421875\n",
      "train_loss: 160.26141357421875, val: 154.001220703125\n",
      "train_loss: 155.74554443359375, val: 149.6653594970703\n",
      "train_loss: 146.1521453857422, val: 140.86865234375\n",
      "train_loss: 135.3776397705078, val: 131.91041564941406\n",
      "train_loss: 128.33958435058594, val: 126.48760223388672\n",
      "train_loss: 124.42161560058594, val: 123.644775390625\n",
      "train_loss: 122.05046844482422, val: 121.91696166992188\n"
     ]
    },
    {
     "name": "stderr",
     "output_type": "stream",
     "text": [
      "\u001b[32m[I 2022-10-10 15:45:34,764]\u001b[0m Trial 60 finished with values: [120.77462768554688, 0.25] and parameters: {'lr': 0.0003308792735034371, 'nlf_n_layers': 0, 'nlf_func': 'ReLU'}. \u001b[0m\n"
     ]
    },
    {
     "name": "stdout",
     "output_type": "stream",
     "text": [
      "Dictionary: \n",
      "0:  {'precision': 0.0, 'recall': 0.0, 'f1-score': 0.0, 'support': 1}\n",
      "1:  {'precision': 0.5, 'recall': 0.3333333333333333, 'f1-score': 0.4, 'support': 3}\n",
      "acc:  0.25\n",
      "[Linear(in_features=10, out_features=10, bias=True), ReLU(), Linear(in_features=10, out_features=10, bias=True), Tanh()]\n",
      "train_loss: 169.7800750732422, val: 157.28025817871094\n",
      "train_loss: 162.5857391357422, val: 156.12588500976562\n",
      "train_loss: 163.1413116455078, val: 156.32217407226562\n",
      "train_loss: 161.13409423828125, val: 153.9531707763672\n",
      "train_loss: 137.58995056152344, val: 129.13107299804688\n",
      "train_loss: 111.9773178100586, val: 109.74601745605469\n",
      "train_loss: 107.32648468017578, val: 106.65892028808594\n",
      "train_loss: 105.62198638916016, val: 105.78897094726562\n",
      "train_loss: 104.67396545410156, val: 105.44041442871094\n",
      "train_loss: 103.94986724853516, val: 105.2162094116211\n"
     ]
    },
    {
     "name": "stderr",
     "output_type": "stream",
     "text": [
      "\u001b[32m[I 2022-10-10 15:45:37,776]\u001b[0m Trial 61 finished with values: [104.9898452758789, 0.75] and parameters: {'lr': 0.0009051491852273981, 'nlf_n_layers': 2, 'nlf_act0': 'ReLU', 'nlf_act1': 'Tanh'}. \u001b[0m\n"
     ]
    },
    {
     "name": "stdout",
     "output_type": "stream",
     "text": [
      "Dictionary: \n",
      "0:  {'precision': 0.5, 'recall': 1.0, 'f1-score': 0.6666666666666666, 'support': 1}\n",
      "1:  {'precision': 1.0, 'recall': 0.6666666666666666, 'f1-score': 0.8, 'support': 3}\n",
      "acc:  0.75\n",
      "[BatchNorm1d(10, eps=1e-05, momentum=0.1, affine=True, track_running_stats=True)]\n",
      "train_loss: 166.73849487304688, val: 155.9412841796875\n",
      "train_loss: 162.2869110107422, val: 156.0778350830078\n",
      "train_loss: 162.6856231689453, val: 156.62371826171875\n",
      "train_loss: 162.075439453125, val: 157.399658203125\n",
      "train_loss: 159.5370635986328, val: 159.09698486328125\n",
      "train_loss: 151.809326171875, val: 162.13525390625\n",
      "train_loss: 136.71798706054688, val: 166.1994171142578\n",
      "train_loss: 121.47686004638672, val: 171.0044708251953\n",
      "train_loss: 110.68352508544922, val: 173.13540649414062\n",
      "train_loss: 105.1567153930664, val: 174.5262908935547\n"
     ]
    },
    {
     "name": "stderr",
     "output_type": "stream",
     "text": [
      "\u001b[32m[I 2022-10-10 15:45:40,532]\u001b[0m Trial 62 finished with values: [176.23590087890625, 0.5] and parameters: {'lr': 0.0005625221793689963, 'nlf_n_layers': 0, 'nlf_func': 'BatchNorm'}. \u001b[0m\n"
     ]
    },
    {
     "name": "stdout",
     "output_type": "stream",
     "text": [
      "Dictionary: \n",
      "0:  {'precision': 0.0, 'recall': 0.0, 'f1-score': 0.0, 'support': 0}\n",
      "1:  {'precision': 1.0, 'recall': 0.5, 'f1-score': 0.6666666666666666, 'support': 4}\n",
      "acc:  0.5\n",
      "[Sigmoid()]\n",
      "train_loss: 165.8360137939453, val: 156.03067016601562\n",
      "train_loss: 162.04115295410156, val: 155.86082458496094\n",
      "train_loss: 162.40399169921875, val: 156.0167694091797\n",
      "train_loss: 161.99615478515625, val: 155.5373077392578\n",
      "train_loss: 159.56626892089844, val: 153.0023651123047\n",
      "train_loss: 151.86306762695312, val: 145.46441650390625\n",
      "train_loss: 136.536865234375, val: 131.46469116210938\n",
      "train_loss: 123.35791015625, val: 120.39430236816406\n",
      "train_loss: 117.54947662353516, val: 116.02012634277344\n",
      "train_loss: 114.86101531982422, val: 114.09899139404297\n"
     ]
    },
    {
     "name": "stderr",
     "output_type": "stream",
     "text": [
      "\u001b[32m[I 2022-10-10 15:45:43,087]\u001b[0m Trial 63 finished with values: [113.23138427734375, 0.5] and parameters: {'lr': 0.00041094792802970055, 'nlf_n_layers': 0, 'nlf_func': 'Sig'}. \u001b[0m\n"
     ]
    },
    {
     "name": "stdout",
     "output_type": "stream",
     "text": [
      "Dictionary: \n",
      "0:  {'precision': 0.5, 'recall': 0.5, 'f1-score': 0.5, 'support': 2}\n",
      "1:  {'precision': 0.5, 'recall': 0.5, 'f1-score': 0.5, 'support': 2}\n",
      "acc:  0.5\n",
      "[Linear(in_features=10, out_features=10, bias=True), Tanh()]\n",
      "train_loss: 167.92828369140625, val: 155.81753540039062\n",
      "train_loss: 162.69044494628906, val: 156.21449279785156\n",
      "train_loss: 162.9493408203125, val: 156.20933532714844\n",
      "train_loss: 161.51133728027344, val: 154.65829467773438\n",
      "train_loss: 153.6726531982422, val: 146.244140625\n",
      "train_loss: 135.42864990234375, val: 130.02467346191406\n",
      "train_loss: 125.20366668701172, val: 121.85286712646484\n",
      "train_loss: 118.91349029541016, val: 116.58634948730469\n",
      "train_loss: 114.08687591552734, val: 112.3471450805664\n",
      "train_loss: 110.51930236816406, val: 108.79791259765625\n"
     ]
    },
    {
     "name": "stderr",
     "output_type": "stream",
     "text": [
      "\u001b[32m[I 2022-10-10 15:45:45,867]\u001b[0m Trial 64 finished with values: [106.34031677246094, 0.75] and parameters: {'lr': 0.0005525843246597252, 'nlf_n_layers': 1, 'nlf_act0': 'Tanh'}. \u001b[0m\n"
     ]
    },
    {
     "name": "stdout",
     "output_type": "stream",
     "text": [
      "Dictionary: \n",
      "0:  {'precision': 0.5, 'recall': 1.0, 'f1-score': 0.6666666666666666, 'support': 1}\n",
      "1:  {'precision': 1.0, 'recall': 0.6666666666666666, 'f1-score': 0.8, 'support': 3}\n",
      "acc:  0.75\n",
      "[ReLU()]\n",
      "train_loss: 164.5557403564453, val: 155.78199768066406\n",
      "train_loss: 161.9827423095703, val: 155.83547973632812\n",
      "train_loss: 162.2354278564453, val: 155.9747314453125\n",
      "train_loss: 161.9763946533203, val: 155.66156005859375\n",
      "train_loss: 160.7056427001953, val: 154.462646484375\n",
      "train_loss: 156.97952270507812, val: 150.98562622070312\n",
      "train_loss: 149.60906982421875, val: 144.4810791015625\n",
      "train_loss: 141.1825408935547, val: 137.1916046142578\n",
      "train_loss: 133.9884033203125, val: 131.16546630859375\n",
      "train_loss: 129.0833740234375, val: 127.01333618164062\n"
     ]
    },
    {
     "name": "stderr",
     "output_type": "stream",
     "text": [
      "\u001b[32m[I 2022-10-10 15:45:48,426]\u001b[0m Trial 65 finished with values: [123.89360046386719, 0.75] and parameters: {'lr': 0.0003152856658073461, 'nlf_n_layers': 0, 'nlf_func': 'ReLU'}. \u001b[0m\n"
     ]
    },
    {
     "name": "stdout",
     "output_type": "stream",
     "text": [
      "Dictionary: \n",
      "0:  {'precision': 0.5, 'recall': 1.0, 'f1-score': 0.6666666666666666, 'support': 1}\n",
      "1:  {'precision': 1.0, 'recall': 0.6666666666666666, 'f1-score': 0.8, 'support': 3}\n",
      "acc:  0.75\n",
      "[Linear(in_features=10, out_features=10, bias=True), Tanh(), Linear(in_features=10, out_features=10, bias=True), Tanh()]\n",
      "train_loss: 167.58714294433594, val: 156.496337890625\n",
      "train_loss: 162.29190063476562, val: 156.01199340820312\n",
      "train_loss: 162.8347930908203, val: 156.2675323486328\n",
      "train_loss: 161.75137329101562, val: 155.0800323486328\n",
      "train_loss: 151.3883819580078, val: 144.20742797851562\n",
      "train_loss: 119.05118560791016, val: 115.654541015625\n",
      "train_loss: 110.07798767089844, val: 109.29943084716797\n",
      "train_loss: 107.88159942626953, val: 107.64608001708984\n",
      "train_loss: 106.84855651855469, val: 106.8005142211914\n",
      "train_loss: 106.1775894165039, val: 106.22025299072266\n"
     ]
    },
    {
     "name": "stderr",
     "output_type": "stream",
     "text": [
      "\u001b[32m[I 2022-10-10 15:45:51,435]\u001b[0m Trial 66 finished with values: [105.82620239257812, 0.75] and parameters: {'lr': 0.0006396282989733512, 'nlf_n_layers': 2, 'nlf_act0': 'Tanh', 'nlf_act1': 'Tanh'}. \u001b[0m\n"
     ]
    },
    {
     "name": "stdout",
     "output_type": "stream",
     "text": [
      "Dictionary: \n",
      "0:  {'precision': 0.5, 'recall': 1.0, 'f1-score': 0.6666666666666666, 'support': 1}\n",
      "1:  {'precision': 1.0, 'recall': 0.6666666666666666, 'f1-score': 0.8, 'support': 3}\n",
      "acc:  0.75\n",
      "[Linear(in_features=10, out_features=10, bias=True), ReLU()]\n",
      "train_loss: 163.95521545410156, val: 155.77706909179688\n",
      "train_loss: 161.98374938964844, val: 155.852294921875\n",
      "train_loss: 162.10955810546875, val: 155.89898681640625\n",
      "train_loss: 161.6996307373047, val: 155.46340942382812\n",
      "train_loss: 160.09707641601562, val: 153.8527069091797\n",
      "train_loss: 154.9833221435547, val: 148.80569458007812\n",
      "train_loss: 144.213134765625, val: 138.55320739746094\n",
      "train_loss: 131.0697784423828, val: 126.82533264160156\n",
      "train_loss: 122.21695709228516, val: 119.24862670898438\n",
      "train_loss: 117.06560516357422, val: 114.89684295654297\n"
     ]
    },
    {
     "name": "stderr",
     "output_type": "stream",
     "text": [
      "\u001b[32m[I 2022-10-10 15:45:54,209]\u001b[0m Trial 67 finished with values: [112.8115005493164, 0.75] and parameters: {'lr': 0.00022962861316692894, 'nlf_n_layers': 1, 'nlf_act0': 'ReLU'}. \u001b[0m\n"
     ]
    },
    {
     "name": "stdout",
     "output_type": "stream",
     "text": [
      "Dictionary: \n",
      "0:  {'precision': 0.5, 'recall': 1.0, 'f1-score': 0.6666666666666666, 'support': 1}\n",
      "1:  {'precision': 1.0, 'recall': 0.6666666666666666, 'f1-score': 0.8, 'support': 3}\n",
      "acc:  0.75\n",
      "[Linear(in_features=10, out_features=10, bias=True)]\n",
      "train_loss: 163.765625, val: 155.8328857421875\n",
      "train_loss: 161.9939422607422, val: 155.84397888183594\n",
      "train_loss: 161.73336791992188, val: 155.5184326171875\n",
      "train_loss: 159.61598205566406, val: 153.377685546875\n",
      "train_loss: 154.46485900878906, val: 148.385498046875\n",
      "train_loss: 145.57797241210938, val: 139.9835968017578\n",
      "train_loss: 133.1918182373047, val: 128.6035919189453\n",
      "train_loss: 123.64789581298828, val: 120.56620025634766\n",
      "train_loss: 118.29523468017578, val: 116.33470153808594\n",
      "train_loss: 114.9208755493164, val: 113.84077453613281\n"
     ]
    },
    {
     "name": "stderr",
     "output_type": "stream",
     "text": [
      "\u001b[32m[I 2022-10-10 15:45:56,932]\u001b[0m Trial 68 finished with values: [112.41172790527344, 0.5] and parameters: {'lr': 0.00021118870901499148, 'nlf_n_layers': 1, 'nlf_act0': 'None'}. \u001b[0m\n"
     ]
    },
    {
     "name": "stdout",
     "output_type": "stream",
     "text": [
      "Dictionary: \n",
      "0:  {'precision': 0.5, 'recall': 0.5, 'f1-score': 0.5, 'support': 2}\n",
      "1:  {'precision': 0.5, 'recall': 0.5, 'f1-score': 0.5, 'support': 2}\n",
      "acc:  0.5\n",
      "[Linear(in_features=10, out_features=10, bias=True), ReLU()]\n",
      "train_loss: 171.1067657470703, val: 156.46749877929688\n",
      "train_loss: 163.2765350341797, val: 156.47940063476562\n",
      "train_loss: 163.66896057128906, val: 156.6282196044922\n",
      "train_loss: 162.9169464111328, val: 155.78033447265625\n",
      "train_loss: 155.29074096679688, val: 147.056396484375\n",
      "train_loss: 122.5818862915039, val: 116.61544799804688\n",
      "train_loss: 110.92576599121094, val: 108.33847045898438\n",
      "train_loss: 107.41437530517578, val: 105.98229217529297\n",
      "train_loss: 105.81306457519531, val: 104.96724700927734\n",
      "train_loss: 105.02674865722656, val: 104.33761596679688\n"
     ]
    },
    {
     "name": "stderr",
     "output_type": "stream",
     "text": [
      "\u001b[32m[I 2022-10-10 15:45:59,702]\u001b[0m Trial 69 finished with values: [103.946533203125, 0.75] and parameters: {'lr': 0.0008710486388132367, 'nlf_n_layers': 1, 'nlf_act0': 'ReLU'}. \u001b[0m\n"
     ]
    },
    {
     "name": "stdout",
     "output_type": "stream",
     "text": [
      "Dictionary: \n",
      "0:  {'precision': 0.5, 'recall': 1.0, 'f1-score': 0.6666666666666666, 'support': 1}\n",
      "1:  {'precision': 1.0, 'recall': 0.6666666666666666, 'f1-score': 0.8, 'support': 3}\n",
      "acc:  0.75\n",
      "[Linear(in_features=10, out_features=10, bias=True), Sigmoid(), Linear(in_features=10, out_features=10, bias=True), ReLU()]\n",
      "train_loss: 168.504638671875, val: 155.79513549804688\n",
      "train_loss: 162.8245849609375, val: 156.30087280273438\n",
      "train_loss: 162.9099578857422, val: 156.25692749023438\n",
      "train_loss: 160.77769470214844, val: 153.6133575439453\n",
      "train_loss: 137.1725616455078, val: 128.81634521484375\n",
      "train_loss: 113.88504791259766, val: 110.84662628173828\n",
      "train_loss: 109.34082794189453, val: 107.76113891601562\n",
      "train_loss: 107.66107940673828, val: 106.39478302001953\n",
      "train_loss: 106.7864761352539, val: 105.70469665527344\n",
      "train_loss: 106.28646087646484, val: 105.40888214111328\n"
     ]
    },
    {
     "name": "stderr",
     "output_type": "stream",
     "text": [
      "\u001b[32m[I 2022-10-10 15:46:02,698]\u001b[0m Trial 70 finished with values: [105.29745483398438, 0.75] and parameters: {'lr': 0.0007999851131284373, 'nlf_n_layers': 2, 'nlf_act0': 'Sig', 'nlf_act1': 'ReLU'}. \u001b[0m\n"
     ]
    },
    {
     "name": "stdout",
     "output_type": "stream",
     "text": [
      "Dictionary: \n",
      "0:  {'precision': 0.5, 'recall': 1.0, 'f1-score': 0.6666666666666666, 'support': 1}\n",
      "1:  {'precision': 1.0, 'recall': 0.6666666666666666, 'f1-score': 0.8, 'support': 3}\n",
      "acc:  0.75\n",
      "[Linear(in_features=10, out_features=10, bias=True), BatchNorm1d(10, eps=1e-05, momentum=0.1, affine=True, track_running_stats=True)]\n",
      "train_loss: 169.5620880126953, val: 157.58218383789062\n",
      "train_loss: 162.3133087158203, val: 156.13040161132812\n",
      "train_loss: 162.5549774169922, val: 157.08175659179688\n",
      "train_loss: 159.21383666992188, val: 159.11900329589844\n",
      "train_loss: 143.1585693359375, val: 165.00927734375\n",
      "train_loss: 110.9612808227539, val: 167.308837890625\n",
      "train_loss: 96.58417510986328, val: 168.32212829589844\n",
      "train_loss: 88.30937194824219, val: 166.39781188964844\n",
      "train_loss: 83.26393127441406, val: 163.29989624023438\n",
      "train_loss: 80.30216217041016, val: 161.64137268066406\n"
     ]
    },
    {
     "name": "stderr",
     "output_type": "stream",
     "text": [
      "\u001b[32m[I 2022-10-10 15:46:05,645]\u001b[0m Trial 71 finished with values: [162.00665283203125, 0.75] and parameters: {'lr': 0.0008142304442759679, 'nlf_n_layers': 1, 'nlf_act0': 'BatchNorm'}. \u001b[0m\n"
     ]
    },
    {
     "name": "stdout",
     "output_type": "stream",
     "text": [
      "Dictionary: \n",
      "0:  {'precision': 0.5, 'recall': 1.0, 'f1-score': 0.6666666666666666, 'support': 1}\n",
      "1:  {'precision': 1.0, 'recall': 0.6666666666666666, 'f1-score': 0.8, 'support': 3}\n",
      "acc:  0.75\n",
      "[Linear(in_features=10, out_features=10, bias=True), Tanh()]\n",
      "train_loss: 170.5302734375, val: 157.9357147216797\n",
      "train_loss: 162.39129638671875, val: 156.01914978027344\n",
      "train_loss: 162.36692810058594, val: 155.3043212890625\n",
      "train_loss: 151.9593048095703, val: 143.50079345703125\n",
      "train_loss: 120.70376586914062, val: 115.75143432617188\n",
      "train_loss: 111.14643859863281, val: 108.25833892822266\n",
      "train_loss: 107.3936767578125, val: 105.33560943603516\n",
      "train_loss: 105.34862518310547, val: 103.87975311279297\n",
      "train_loss: 104.17240905761719, val: 102.98285675048828\n",
      "train_loss: 103.38941955566406, val: 102.28876495361328\n"
     ]
    },
    {
     "name": "stderr",
     "output_type": "stream",
     "text": [
      "\u001b[32m[I 2022-10-10 15:46:08,405]\u001b[0m Trial 72 finished with values: [101.77967834472656, 0.75] and parameters: {'lr': 0.0008243067661485299, 'nlf_n_layers': 1, 'nlf_act0': 'Tanh'}. \u001b[0m\n"
     ]
    },
    {
     "name": "stdout",
     "output_type": "stream",
     "text": [
      "Dictionary: \n",
      "0:  {'precision': 0.5, 'recall': 1.0, 'f1-score': 0.6666666666666666, 'support': 1}\n",
      "1:  {'precision': 1.0, 'recall': 0.6666666666666666, 'f1-score': 0.8, 'support': 3}\n",
      "acc:  0.75\n",
      "[Linear(in_features=10, out_features=10, bias=True), Sigmoid(), Linear(in_features=10, out_features=10, bias=True), Tanh()]\n",
      "train_loss: 169.37001037597656, val: 156.18768310546875\n",
      "train_loss: 162.67593383789062, val: 156.14739990234375\n",
      "train_loss: 162.5745391845703, val: 155.64759826660156\n",
      "train_loss: 156.14236450195312, val: 147.8375701904297\n",
      "train_loss: 124.73189544677734, val: 119.10932159423828\n",
      "train_loss: 111.52146911621094, val: 110.09986877441406\n",
      "train_loss: 107.73688507080078, val: 107.19961547851562\n",
      "train_loss: 105.72999572753906, val: 105.3270034790039\n",
      "train_loss: 104.25666046142578, val: 103.82820129394531\n",
      "train_loss: 102.89390563964844, val: 102.45594787597656\n"
     ]
    },
    {
     "name": "stderr",
     "output_type": "stream",
     "text": [
      "\u001b[32m[I 2022-10-10 15:46:11,401]\u001b[0m Trial 73 finished with values: [101.4570541381836, 0.75] and parameters: {'lr': 0.0008534543049050886, 'nlf_n_layers': 2, 'nlf_act0': 'Sig', 'nlf_act1': 'Tanh'}. \u001b[0m\n"
     ]
    },
    {
     "name": "stdout",
     "output_type": "stream",
     "text": [
      "Dictionary: \n",
      "0:  {'precision': 0.5, 'recall': 1.0, 'f1-score': 0.6666666666666666, 'support': 1}\n",
      "1:  {'precision': 1.0, 'recall': 0.6666666666666666, 'f1-score': 0.8, 'support': 3}\n",
      "acc:  0.75\n",
      "[ReLU()]\n",
      "train_loss: 171.32583618164062, val: 158.34555053710938\n",
      "train_loss: 161.8495635986328, val: 155.27684020996094\n",
      "train_loss: 151.38128662109375, val: 143.50686645507812\n",
      "train_loss: 121.88994598388672, val: 119.4356918334961\n",
      "train_loss: 115.17913055419922, val: 114.5792236328125\n",
      "train_loss: 111.92338562011719, val: 111.93705749511719\n",
      "train_loss: 109.83101654052734, val: 110.11248779296875\n",
      "train_loss: 108.43610382080078, val: 108.8092041015625\n",
      "train_loss: 107.46601867675781, val: 107.82142639160156\n",
      "train_loss: 106.697021484375, val: 107.04176330566406\n"
     ]
    },
    {
     "name": "stderr",
     "output_type": "stream",
     "text": [
      "\u001b[32m[I 2022-10-10 15:46:13,940]\u001b[0m Trial 74 finished with values: [106.50520324707031, 0.75] and parameters: {'lr': 0.000842569581196798, 'nlf_n_layers': 0, 'nlf_func': 'ReLU'}. \u001b[0m\n"
     ]
    },
    {
     "name": "stdout",
     "output_type": "stream",
     "text": [
      "Dictionary: \n",
      "0:  {'precision': 0.5, 'recall': 1.0, 'f1-score': 0.6666666666666666, 'support': 1}\n",
      "1:  {'precision': 1.0, 'recall': 0.6666666666666666, 'f1-score': 0.8, 'support': 3}\n",
      "acc:  0.75\n",
      "[BatchNorm1d(10, eps=1e-05, momentum=0.1, affine=True, track_running_stats=True)]\n",
      "train_loss: 169.8128204345703, val: 156.61630249023438\n",
      "train_loss: 162.72396850585938, val: 156.25088500976562\n",
      "train_loss: 163.17156982421875, val: 156.64028930664062\n",
      "train_loss: 162.09640502929688, val: 157.07888793945312\n",
      "train_loss: 152.9956817626953, val: 161.1387481689453\n",
      "train_loss: 130.49754333496094, val: 170.62869262695312\n",
      "train_loss: 118.39434051513672, val: 174.8656768798828\n",
      "train_loss: 111.3402328491211, val: 176.51644897460938\n",
      "train_loss: 106.15530395507812, val: 176.24383544921875\n",
      "train_loss: 102.0780029296875, val: 175.94882202148438\n"
     ]
    },
    {
     "name": "stderr",
     "output_type": "stream",
     "text": [
      "\u001b[32m[I 2022-10-10 15:46:16,674]\u001b[0m Trial 75 finished with values: [176.1925048828125, 0.25] and parameters: {'lr': 0.0008340769763393253, 'nlf_n_layers': 0, 'nlf_func': 'BatchNorm'}. \u001b[0m\n"
     ]
    },
    {
     "name": "stdout",
     "output_type": "stream",
     "text": [
      "Dictionary: \n",
      "0:  {'precision': 0.5, 'recall': 0.3333333333333333, 'f1-score': 0.4, 'support': 3}\n",
      "1:  {'precision': 0.0, 'recall': 0.0, 'f1-score': 0.0, 'support': 1}\n",
      "acc:  0.25\n",
      "[Linear(in_features=10, out_features=10, bias=True), Linear(in_features=10, out_features=10, bias=True), BatchNorm1d(10, eps=1e-05, momentum=0.1, affine=True, track_running_stats=True)]\n",
      "train_loss: 165.6214141845703, val: 156.9911651611328\n",
      "train_loss: 161.72824096679688, val: 155.77523803710938\n",
      "train_loss: 161.962646484375, val: 155.99929809570312\n",
      "train_loss: 161.86044311523438, val: 156.41265869140625\n",
      "train_loss: 160.5909423828125, val: 156.66036987304688\n",
      "train_loss: 157.2957305908203, val: 156.44056701660156\n",
      "train_loss: 151.21055603027344, val: 155.46437072753906\n",
      "train_loss: 144.79441833496094, val: 155.2901153564453\n",
      "train_loss: 139.40914916992188, val: 158.79513549804688\n",
      "train_loss: 134.41250610351562, val: 159.901611328125\n"
     ]
    },
    {
     "name": "stderr",
     "output_type": "stream",
     "text": [
      "\u001b[32m[I 2022-10-10 15:46:19,796]\u001b[0m Trial 76 finished with values: [162.75599670410156, 1.0] and parameters: {'lr': 0.00033413644590004157, 'nlf_n_layers': 2, 'nlf_act0': 'None', 'nlf_act1': 'BatchNorm'}. \u001b[0m\n"
     ]
    },
    {
     "name": "stdout",
     "output_type": "stream",
     "text": [
      "Dictionary: \n",
      "0:  {'precision': 1.0, 'recall': 1.0, 'f1-score': 1.0, 'support': 2}\n",
      "1:  {'precision': 1.0, 'recall': 1.0, 'f1-score': 1.0, 'support': 2}\n",
      "acc:  1.0\n",
      "[Linear(in_features=10, out_features=10, bias=True), BatchNorm1d(10, eps=1e-05, momentum=0.1, affine=True, track_running_stats=True)]\n",
      "train_loss: 166.45941162109375, val: 155.93887329101562\n",
      "train_loss: 162.22659301757812, val: 156.01031494140625\n",
      "train_loss: 162.5901641845703, val: 156.3670654296875\n",
      "train_loss: 161.88345336914062, val: 156.4545135498047\n",
      "train_loss: 157.59381103515625, val: 156.65122985839844\n",
      "train_loss: 139.6517791748047, val: 159.9042510986328\n",
      "train_loss: 124.23292541503906, val: 163.3408966064453\n",
      "train_loss: 113.27506256103516, val: 163.94735717773438\n",
      "train_loss: 104.2442855834961, val: 163.59498596191406\n",
      "train_loss: 97.44497680664062, val: 161.73635864257812\n"
     ]
    },
    {
     "name": "stderr",
     "output_type": "stream",
     "text": [
      "\u001b[32m[I 2022-10-10 15:46:22,805]\u001b[0m Trial 77 finished with values: [161.4602508544922, 1.0] and parameters: {'lr': 0.0004741966067723187, 'nlf_n_layers': 1, 'nlf_act0': 'BatchNorm'}. \u001b[0m\n"
     ]
    },
    {
     "name": "stdout",
     "output_type": "stream",
     "text": [
      "Dictionary: \n",
      "0:  {'precision': 1.0, 'recall': 1.0, 'f1-score': 1.0, 'support': 2}\n",
      "1:  {'precision': 1.0, 'recall': 1.0, 'f1-score': 1.0, 'support': 2}\n",
      "acc:  1.0\n",
      "[Linear(in_features=10, out_features=10, bias=True), Linear(in_features=10, out_features=10, bias=True)]\n",
      "train_loss: 167.07421875, val: 155.9728546142578\n",
      "train_loss: 162.3812713623047, val: 156.04519653320312\n",
      "train_loss: 162.5753173828125, val: 156.02780151367188\n",
      "train_loss: 158.58351135253906, val: 151.85067749023438\n",
      "train_loss: 134.1933135986328, val: 128.5104217529297\n",
      "train_loss: 118.45574188232422, val: 115.88389587402344\n",
      "train_loss: 113.76815032958984, val: 112.19290924072266\n",
      "train_loss: 110.82962799072266, val: 109.79268646240234\n",
      "train_loss: 108.56891632080078, val: 107.92192077636719\n",
      "train_loss: 106.84342193603516, val: 106.4400634765625\n"
     ]
    },
    {
     "name": "stderr",
     "output_type": "stream",
     "text": [
      "\u001b[32m[I 2022-10-10 15:46:25,798]\u001b[0m Trial 78 finished with values: [105.37345886230469, 0.75] and parameters: {'lr': 0.0006801736108809685, 'nlf_n_layers': 2, 'nlf_act0': 'None', 'nlf_act1': 'None'}. \u001b[0m\n"
     ]
    },
    {
     "name": "stdout",
     "output_type": "stream",
     "text": [
      "Dictionary: \n",
      "0:  {'precision': 0.5, 'recall': 1.0, 'f1-score': 0.6666666666666666, 'support': 1}\n",
      "1:  {'precision': 1.0, 'recall': 0.6666666666666666, 'f1-score': 0.8, 'support': 3}\n",
      "acc:  0.75\n",
      "[Linear(in_features=10, out_features=10, bias=True)]\n",
      "train_loss: 169.67691040039062, val: 157.15316772460938\n",
      "train_loss: 162.42442321777344, val: 155.96800231933594\n",
      "train_loss: 161.3622589111328, val: 154.13368225097656\n",
      "train_loss: 136.50921630859375, val: 126.7101821899414\n",
      "train_loss: 108.26351928710938, val: 105.49421691894531\n",
      "train_loss: 105.02567291259766, val: 103.37733459472656\n",
      "train_loss: 103.71625518798828, val: 102.63502502441406\n",
      "train_loss: 103.00667572021484, val: 102.18986511230469\n",
      "train_loss: 102.53255462646484, val: 101.90121459960938\n",
      "train_loss: 102.18289947509766, val: 101.6619644165039\n"
     ]
    },
    {
     "name": "stderr",
     "output_type": "stream",
     "text": [
      "\u001b[32m[I 2022-10-10 15:46:28,594]\u001b[0m Trial 79 finished with values: [101.48409271240234, 0.75] and parameters: {'lr': 0.0008204559528296531, 'nlf_n_layers': 1, 'nlf_act0': 'None'}. \u001b[0m\n"
     ]
    },
    {
     "name": "stdout",
     "output_type": "stream",
     "text": [
      "Dictionary: \n",
      "0:  {'precision': 0.5, 'recall': 1.0, 'f1-score': 0.6666666666666666, 'support': 1}\n",
      "1:  {'precision': 1.0, 'recall': 0.6666666666666666, 'f1-score': 0.8, 'support': 3}\n",
      "acc:  0.75\n",
      "[ReLU()]\n",
      "train_loss: 166.2310333251953, val: 156.0313720703125\n",
      "train_loss: 161.90199279785156, val: 155.6778106689453\n",
      "train_loss: 160.56898498535156, val: 154.0576171875\n",
      "train_loss: 150.3082733154297, val: 143.9441375732422\n",
      "train_loss: 132.8349609375, val: 129.90318298339844\n",
      "train_loss: 126.11572265625, val: 125.517822265625\n",
      "train_loss: 123.19205474853516, val: 123.44203186035156\n",
      "train_loss: 121.18148040771484, val: 121.76058959960938\n",
      "train_loss: 119.4205322265625, val: 120.01953125\n",
      "train_loss: 117.660400390625, val: 118.11193084716797\n"
     ]
    },
    {
     "name": "stderr",
     "output_type": "stream",
     "text": [
      "\u001b[32m[I 2022-10-10 15:46:31,177]\u001b[0m Trial 80 finished with values: [116.42120361328125, 0.5] and parameters: {'lr': 0.0005525843246597252, 'nlf_n_layers': 0, 'nlf_func': 'ReLU'}. \u001b[0m\n"
     ]
    },
    {
     "name": "stdout",
     "output_type": "stream",
     "text": [
      "Dictionary: \n",
      "0:  {'precision': 0.5, 'recall': 0.5, 'f1-score': 0.5, 'support': 2}\n",
      "1:  {'precision': 0.5, 'recall': 0.5, 'f1-score': 0.5, 'support': 2}\n",
      "acc:  0.5\n",
      "[ReLU()]\n",
      "train_loss: 170.25924682617188, val: 157.63861083984375\n",
      "train_loss: 161.69003295898438, val: 155.1841278076172\n",
      "train_loss: 148.8513946533203, val: 141.2275848388672\n",
      "train_loss: 121.13521575927734, val: 118.97066497802734\n",
      "train_loss: 113.83377075195312, val: 112.83100128173828\n",
      "train_loss: 110.31932830810547, val: 109.77362823486328\n",
      "train_loss: 108.11064147949219, val: 107.79254150390625\n",
      "train_loss: 106.63018035888672, val: 106.54409790039062\n",
      "train_loss: 105.51303100585938, val: 105.72206115722656\n",
      "train_loss: 104.65496063232422, val: 105.2701416015625\n"
     ]
    },
    {
     "name": "stderr",
     "output_type": "stream",
     "text": [
      "\u001b[32m[I 2022-10-10 15:46:33,647]\u001b[0m Trial 81 finished with values: [104.99581909179688, 0.75] and parameters: {'lr': 0.0008474077224877046, 'nlf_n_layers': 0, 'nlf_func': 'ReLU'}. \u001b[0m\n"
     ]
    },
    {
     "name": "stdout",
     "output_type": "stream",
     "text": [
      "Dictionary: \n",
      "0:  {'precision': 0.5, 'recall': 1.0, 'f1-score': 0.6666666666666666, 'support': 1}\n",
      "1:  {'precision': 1.0, 'recall': 0.6666666666666666, 'f1-score': 0.8, 'support': 3}\n",
      "acc:  0.75\n",
      "[Linear(in_features=10, out_features=10, bias=True)]\n",
      "train_loss: 171.25140380859375, val: 156.4190673828125\n",
      "train_loss: 163.1769561767578, val: 156.35470581054688\n",
      "train_loss: 162.24658203125, val: 154.8816680908203\n",
      "train_loss: 139.53579711914062, val: 130.16200256347656\n",
      "train_loss: 115.22950744628906, val: 111.22966003417969\n",
      "train_loss: 110.85245513916016, val: 108.90508270263672\n",
      "train_loss: 108.9124526977539, val: 107.95716094970703\n",
      "train_loss: 107.80193328857422, val: 107.2297592163086\n",
      "train_loss: 107.08123016357422, val: 106.660888671875\n",
      "train_loss: 106.5650863647461, val: 106.19857025146484\n"
     ]
    },
    {
     "name": "stderr",
     "output_type": "stream",
     "text": [
      "\u001b[32m[I 2022-10-10 15:46:36,251]\u001b[0m Trial 82 finished with values: [105.8392333984375, 0.75] and parameters: {'lr': 0.0008792886621543811, 'nlf_n_layers': 1, 'nlf_act0': 'None'}. \u001b[0m\n"
     ]
    },
    {
     "name": "stdout",
     "output_type": "stream",
     "text": [
      "Dictionary: \n",
      "0:  {'precision': 0.5, 'recall': 1.0, 'f1-score': 0.6666666666666666, 'support': 1}\n",
      "1:  {'precision': 1.0, 'recall': 0.6666666666666666, 'f1-score': 0.8, 'support': 3}\n",
      "acc:  0.75\n",
      "[Sigmoid()]\n",
      "train_loss: 164.02862548828125, val: 155.88084411621094\n",
      "train_loss: 162.2025909423828, val: 156.0312957763672\n",
      "train_loss: 162.41624450683594, val: 156.19219970703125\n",
      "train_loss: 162.47718811035156, val: 156.2264404296875\n",
      "train_loss: 162.31442260742188, val: 156.06964111328125\n",
      "train_loss: 161.83116149902344, val: 155.63031005859375\n",
      "train_loss: 160.59864807128906, val: 154.44773864746094\n",
      "train_loss: 156.75094604492188, val: 150.7757110595703\n",
      "train_loss: 149.52166748046875, val: 144.2654571533203\n",
      "train_loss: 139.9051513671875, val: 135.88018798828125\n"
     ]
    },
    {
     "name": "stderr",
     "output_type": "stream",
     "text": [
      "\u001b[32m[I 2022-10-10 15:46:38,841]\u001b[0m Trial 83 finished with values: [129.39060974121094, 0.75] and parameters: {'lr': 0.0002465194779465651, 'nlf_n_layers': 0, 'nlf_func': 'Sig'}. \u001b[0m\n"
     ]
    },
    {
     "name": "stdout",
     "output_type": "stream",
     "text": [
      "Dictionary: \n",
      "0:  {'precision': 0.5, 'recall': 1.0, 'f1-score': 0.6666666666666666, 'support': 1}\n",
      "1:  {'precision': 1.0, 'recall': 0.6666666666666666, 'f1-score': 0.8, 'support': 3}\n",
      "acc:  0.75\n",
      "[Linear(in_features=10, out_features=10, bias=True), Linear(in_features=10, out_features=10, bias=True), ReLU()]\n",
      "train_loss: 169.95448303222656, val: 157.17474365234375\n",
      "train_loss: 162.6350860595703, val: 156.17926025390625\n",
      "train_loss: 163.3134002685547, val: 156.5388641357422\n",
      "train_loss: 160.30079650878906, val: 152.40060424804688\n",
      "train_loss: 120.4986343383789, val: 113.94554138183594\n",
      "train_loss: 108.67223358154297, val: 105.98324584960938\n",
      "train_loss: 105.64000701904297, val: 103.75841522216797\n",
      "train_loss: 104.19351196289062, val: 102.59955596923828\n",
      "train_loss: 103.25601959228516, val: 101.90123748779297\n",
      "train_loss: 102.5254898071289, val: 101.47309112548828\n"
     ]
    },
    {
     "name": "stderr",
     "output_type": "stream",
     "text": [
      "\u001b[32m[I 2022-10-10 15:46:41,809]\u001b[0m Trial 84 finished with values: [101.24674224853516, 0.75] and parameters: {'lr': 0.0009051491852273981, 'nlf_n_layers': 2, 'nlf_act0': 'None', 'nlf_act1': 'ReLU'}. \u001b[0m\n"
     ]
    },
    {
     "name": "stdout",
     "output_type": "stream",
     "text": [
      "Dictionary: \n",
      "0:  {'precision': 0.5, 'recall': 1.0, 'f1-score': 0.6666666666666666, 'support': 1}\n",
      "1:  {'precision': 1.0, 'recall': 0.6666666666666666, 'f1-score': 0.8, 'support': 3}\n",
      "acc:  0.75\n",
      "[Linear(in_features=10, out_features=10, bias=True), Linear(in_features=10, out_features=10, bias=True), Tanh()]\n",
      "train_loss: 162.168212890625, val: 155.86236572265625\n",
      "train_loss: 161.93133544921875, val: 155.88072204589844\n",
      "train_loss: 161.9589385986328, val: 155.9056854248047\n",
      "train_loss: 161.98822021484375, val: 155.93211364746094\n",
      "train_loss: 162.01791381835938, val: 155.9590606689453\n",
      "train_loss: 162.0475616455078, val: 155.98611450195312\n",
      "train_loss: 162.07693481445312, val: 156.01300048828125\n",
      "train_loss: 162.10577392578125, val: 156.0394744873047\n",
      "train_loss: 162.13381958007812, val: 156.06533813476562\n",
      "train_loss: 162.1609649658203, val: 156.09039306640625\n"
     ]
    },
    {
     "name": "stderr",
     "output_type": "stream",
     "text": [
      "\u001b[32m[I 2022-10-10 15:46:44,803]\u001b[0m Trial 85 finished with values: [156.11221313476562, 0.5] and parameters: {'lr': 2.5334497147783435e-05, 'nlf_n_layers': 2, 'nlf_act0': 'None', 'nlf_act1': 'Tanh'}. \u001b[0m\n"
     ]
    },
    {
     "name": "stdout",
     "output_type": "stream",
     "text": [
      "Dictionary: \n",
      "0:  {'precision': 0.0, 'recall': 0.0, 'f1-score': 0.0, 'support': 0}\n",
      "1:  {'precision': 1.0, 'recall': 0.5, 'f1-score': 0.6666666666666666, 'support': 4}\n",
      "acc:  0.5\n",
      "[Linear(in_features=10, out_features=10, bias=True), Tanh()]\n",
      "train_loss: 169.9005126953125, val: 156.33364868164062\n",
      "train_loss: 162.72979736328125, val: 156.2104034423828\n",
      "train_loss: 162.7431182861328, val: 155.88702392578125\n",
      "train_loss: 149.5861358642578, val: 139.8407745361328\n",
      "train_loss: 110.71737670898438, val: 108.34374237060547\n",
      "train_loss: 106.77192687988281, val: 105.53583526611328\n",
      "train_loss: 105.54975128173828, val: 104.50012969970703\n",
      "train_loss: 104.8510513305664, val: 103.7859878540039\n",
      "train_loss: 104.3404312133789, val: 103.275146484375\n",
      "train_loss: 103.9380874633789, val: 102.89608001708984\n"
     ]
    },
    {
     "name": "stderr",
     "output_type": "stream",
     "text": [
      "\u001b[32m[I 2022-10-10 15:46:47,591]\u001b[0m Trial 86 finished with values: [102.57205963134766, 0.75] and parameters: {'lr': 0.0009813163040683062, 'nlf_n_layers': 1, 'nlf_act0': 'Tanh'}. \u001b[0m\n"
     ]
    },
    {
     "name": "stdout",
     "output_type": "stream",
     "text": [
      "Dictionary: \n",
      "0:  {'precision': 0.5, 'recall': 1.0, 'f1-score': 0.6666666666666666, 'support': 1}\n",
      "1:  {'precision': 1.0, 'recall': 0.6666666666666666, 'f1-score': 0.8, 'support': 3}\n",
      "acc:  0.75\n",
      "[BatchNorm1d(10, eps=1e-05, momentum=0.1, affine=True, track_running_stats=True)]\n",
      "train_loss: 171.11862182617188, val: 159.47239685058594\n",
      "train_loss: 162.059814453125, val: 155.9443817138672\n",
      "train_loss: 162.61483764648438, val: 156.6847381591797\n",
      "train_loss: 159.35462951660156, val: 159.2503204345703\n",
      "train_loss: 147.9137725830078, val: 165.69354248046875\n",
      "train_loss: 140.7544708251953, val: 167.26382446289062\n",
      "train_loss: 134.02877807617188, val: 166.5657196044922\n",
      "train_loss: 129.73678588867188, val: 167.0474853515625\n",
      "train_loss: 127.15898895263672, val: 167.43516540527344\n",
      "train_loss: 125.35712432861328, val: 167.74066162109375\n"
     ]
    },
    {
     "name": "stderr",
     "output_type": "stream",
     "text": [
      "\u001b[32m[I 2022-10-10 15:46:50,353]\u001b[0m Trial 87 finished with values: [167.92041015625, 0.5] and parameters: {'lr': 0.0008534543049050886, 'nlf_n_layers': 0, 'nlf_func': 'BatchNorm'}. \u001b[0m\n"
     ]
    },
    {
     "name": "stdout",
     "output_type": "stream",
     "text": [
      "Dictionary: \n",
      "0:  {'precision': 0.5, 'recall': 0.5, 'f1-score': 0.5, 'support': 2}\n",
      "1:  {'precision': 0.5, 'recall': 0.5, 'f1-score': 0.5, 'support': 2}\n",
      "acc:  0.5\n",
      "[Linear(in_features=10, out_features=10, bias=True), BatchNorm1d(10, eps=1e-05, momentum=0.1, affine=True, track_running_stats=True), Linear(in_features=10, out_features=10, bias=True), BatchNorm1d(10, eps=1e-05, momentum=0.1, affine=True, track_running_stats=True)]\n",
      "train_loss: 171.11904907226562, val: 157.71133422851562\n",
      "train_loss: 162.78713989257812, val: 156.2432098388672\n",
      "train_loss: 162.70156860351562, val: 156.2268524169922\n",
      "train_loss: 155.8007354736328, val: 153.63458251953125\n",
      "train_loss: 120.49501037597656, val: 156.11964416503906\n",
      "train_loss: 96.21673583984375, val: 167.9233856201172\n",
      "train_loss: 85.03202819824219, val: 172.5960235595703\n",
      "train_loss: 79.72879028320312, val: 173.18325805664062\n",
      "train_loss: 77.5376205444336, val: 175.68023681640625\n",
      "train_loss: 76.41329956054688, val: 180.04840087890625\n"
     ]
    },
    {
     "name": "stderr",
     "output_type": "stream",
     "text": [
      "\u001b[32m[I 2022-10-10 15:46:53,633]\u001b[0m Trial 88 finished with values: [182.03143310546875, 0.5] and parameters: {'lr': 0.0008710486388132367, 'nlf_n_layers': 2, 'nlf_act0': 'BatchNorm', 'nlf_act1': 'BatchNorm'}. \u001b[0m\n"
     ]
    },
    {
     "name": "stdout",
     "output_type": "stream",
     "text": [
      "Dictionary: \n",
      "0:  {'precision': 1.0, 'recall': 0.5, 'f1-score': 0.6666666666666666, 'support': 4}\n",
      "1:  {'precision': 0.0, 'recall': 0.0, 'f1-score': 0.0, 'support': 0}\n",
      "acc:  0.5\n",
      "[Linear(in_features=10, out_features=10, bias=True), BatchNorm1d(10, eps=1e-05, momentum=0.1, affine=True, track_running_stats=True)]\n",
      "train_loss: 168.8170928955078, val: 158.6129913330078\n",
      "train_loss: 161.8015899658203, val: 155.7871551513672\n",
      "train_loss: 162.418212890625, val: 156.11387634277344\n",
      "train_loss: 161.90103149414062, val: 155.78118896484375\n",
      "train_loss: 159.11648559570312, val: 155.70257568359375\n",
      "train_loss: 150.06024169921875, val: 158.3359832763672\n",
      "train_loss: 132.17941284179688, val: 163.54434204101562\n",
      "train_loss: 112.31317138671875, val: 168.7245330810547\n",
      "train_loss: 97.39765167236328, val: 169.81410217285156\n",
      "train_loss: 89.22135162353516, val: 166.86019897460938\n"
     ]
    },
    {
     "name": "stderr",
     "output_type": "stream",
     "text": [
      "\u001b[32m[I 2022-10-10 15:46:56,615]\u001b[0m Trial 89 finished with values: [162.38999938964844, 0.75] and parameters: {'lr': 0.0004971223785055045, 'nlf_n_layers': 1, 'nlf_act0': 'BatchNorm'}. \u001b[0m\n"
     ]
    },
    {
     "name": "stdout",
     "output_type": "stream",
     "text": [
      "Dictionary: \n",
      "0:  {'precision': 0.5, 'recall': 1.0, 'f1-score': 0.6666666666666666, 'support': 1}\n",
      "1:  {'precision': 1.0, 'recall': 0.6666666666666666, 'f1-score': 0.8, 'support': 3}\n",
      "acc:  0.75\n",
      "[Linear(in_features=10, out_features=10, bias=True), BatchNorm1d(10, eps=1e-05, momentum=0.1, affine=True, track_running_stats=True)]\n",
      "train_loss: 164.61976623535156, val: 155.95201110839844\n",
      "train_loss: 161.8173065185547, val: 155.83135986328125\n",
      "train_loss: 161.9870147705078, val: 156.1999053955078\n",
      "train_loss: 161.5779266357422, val: 156.6766357421875\n",
      "train_loss: 160.2897186279297, val: 157.34298706054688\n",
      "train_loss: 157.4060516357422, val: 158.75592041015625\n",
      "train_loss: 152.00083923339844, val: 161.1893310546875\n",
      "train_loss: 143.9021759033203, val: 165.4626922607422\n",
      "train_loss: 135.6106719970703, val: 170.62020874023438\n",
      "train_loss: 128.2030792236328, val: 176.19908142089844\n"
     ]
    },
    {
     "name": "stderr",
     "output_type": "stream",
     "text": [
      "\u001b[32m[I 2022-10-10 15:46:59,603]\u001b[0m Trial 90 finished with values: [179.92559814453125, 1.0] and parameters: {'lr': 0.0002744826646814252, 'nlf_n_layers': 1, 'nlf_act0': 'BatchNorm'}. \u001b[0m\n"
     ]
    },
    {
     "name": "stdout",
     "output_type": "stream",
     "text": [
      "Dictionary: \n",
      "0:  {'precision': 1.0, 'recall': 1.0, 'f1-score': 1.0, 'support': 2}\n",
      "1:  {'precision': 1.0, 'recall': 1.0, 'f1-score': 1.0, 'support': 2}\n",
      "acc:  1.0\n",
      "[Tanh()]\n",
      "train_loss: 170.65684509277344, val: 157.60687255859375\n",
      "train_loss: 162.4007110595703, val: 155.95753479003906\n",
      "train_loss: 161.9722442626953, val: 155.185546875\n",
      "train_loss: 155.99575805664062, val: 149.13668823242188\n",
      "train_loss: 140.0274200439453, val: 135.52987670898438\n",
      "train_loss: 130.32586669921875, val: 128.2364044189453\n",
      "train_loss: 123.7833023071289, val: 122.72932434082031\n",
      "train_loss: 119.29368591308594, val: 117.97090911865234\n",
      "train_loss: 116.59003448486328, val: 114.8843002319336\n",
      "train_loss: 114.79359436035156, val: 112.97328186035156\n"
     ]
    },
    {
     "name": "stderr",
     "output_type": "stream",
     "text": [
      "\u001b[32m[I 2022-10-10 15:47:02,185]\u001b[0m Trial 91 finished with values: [111.80049896240234, 0.5] and parameters: {'lr': 0.0008792886621543811, 'nlf_n_layers': 0, 'nlf_func': 'Tanh'}. \u001b[0m\n"
     ]
    },
    {
     "name": "stdout",
     "output_type": "stream",
     "text": [
      "Dictionary: \n",
      "0:  {'precision': 0.5, 'recall': 0.5, 'f1-score': 0.5, 'support': 2}\n",
      "1:  {'precision': 0.5, 'recall': 0.5, 'f1-score': 0.5, 'support': 2}\n",
      "acc:  0.5\n",
      "[Linear(in_features=10, out_features=10, bias=True), Tanh()]\n",
      "train_loss: 168.81370544433594, val: 155.9229278564453\n",
      "train_loss: 162.6330108642578, val: 156.08766174316406\n",
      "train_loss: 161.0850067138672, val: 153.92234802246094\n",
      "train_loss: 129.35269165039062, val: 122.05697631835938\n",
      "train_loss: 107.22752380371094, val: 104.94477081298828\n",
      "train_loss: 103.17728424072266, val: 101.7205810546875\n",
      "train_loss: 101.7427978515625, val: 100.79718017578125\n",
      "train_loss: 101.01026916503906, val: 100.47754669189453\n",
      "train_loss: 100.52764892578125, val: 100.24889373779297\n",
      "train_loss: 100.16146087646484, val: 100.07069396972656\n"
     ]
    },
    {
     "name": "stderr",
     "output_type": "stream",
     "text": [
      "\u001b[32m[I 2022-10-10 15:47:04,988]\u001b[0m Trial 92 finished with values: [99.96932983398438, 0.75] and parameters: {'lr': 0.0008534543049050886, 'nlf_n_layers': 1, 'nlf_act0': 'Tanh'}. \u001b[0m\n"
     ]
    },
    {
     "name": "stdout",
     "output_type": "stream",
     "text": [
      "Dictionary: \n",
      "0:  {'precision': 0.5, 'recall': 1.0, 'f1-score': 0.6666666666666666, 'support': 1}\n",
      "1:  {'precision': 1.0, 'recall': 0.6666666666666666, 'f1-score': 0.8, 'support': 3}\n",
      "acc:  0.75\n",
      "[Linear(in_features=10, out_features=10, bias=True), BatchNorm1d(10, eps=1e-05, momentum=0.1, affine=True, track_running_stats=True)]\n",
      "train_loss: 172.5565948486328, val: 157.96807861328125\n",
      "train_loss: 162.7138214111328, val: 156.6668701171875\n",
      "train_loss: 159.2987823486328, val: 161.5087127685547\n",
      "train_loss: 137.19607543945312, val: 169.3828125\n",
      "train_loss: 107.03201293945312, val: 164.77178955078125\n",
      "train_loss: 85.33121490478516, val: 162.853271484375\n",
      "train_loss: 79.61888122558594, val: 161.2002410888672\n",
      "train_loss: 77.69109344482422, val: 159.79522705078125\n",
      "train_loss: 76.5871810913086, val: 158.39794921875\n",
      "train_loss: 75.89332580566406, val: 156.39320373535156\n"
     ]
    },
    {
     "name": "stderr",
     "output_type": "stream",
     "text": [
      "\u001b[32m[I 2022-10-10 15:47:07,966]\u001b[0m Trial 93 finished with values: [156.08714294433594, 0.5] and parameters: {'lr': 0.0009983180130498136, 'nlf_n_layers': 1, 'nlf_act0': 'BatchNorm'}. \u001b[0m\n"
     ]
    },
    {
     "name": "stdout",
     "output_type": "stream",
     "text": [
      "Dictionary: \n",
      "0:  {'precision': 0.0, 'recall': 0.0, 'f1-score': 0.0, 'support': 0}\n",
      "1:  {'precision': 1.0, 'recall': 0.5, 'f1-score': 0.6666666666666666, 'support': 4}\n",
      "acc:  0.5\n",
      "[Linear(in_features=10, out_features=10, bias=True), Sigmoid()]\n",
      "train_loss: 168.91336059570312, val: 156.0802001953125\n",
      "train_loss: 162.58734130859375, val: 156.04959106445312\n",
      "train_loss: 162.0670623779297, val: 155.13876342773438\n",
      "train_loss: 154.46678161621094, val: 146.71682739257812\n",
      "train_loss: 127.16529846191406, val: 121.25576782226562\n",
      "train_loss: 112.40121459960938, val: 109.66122436523438\n",
      "train_loss: 107.49908447265625, val: 106.2761459350586\n",
      "train_loss: 105.08881378173828, val: 104.5254898071289\n",
      "train_loss: 103.53512573242188, val: 103.2160415649414\n",
      "train_loss: 102.2731704711914, val: 102.16177368164062\n"
     ]
    },
    {
     "name": "stderr",
     "output_type": "stream",
     "text": [
      "\u001b[32m[I 2022-10-10 15:47:10,765]\u001b[0m Trial 94 finished with values: [101.60306549072266, 0.75] and parameters: {'lr': 0.0007356471907749494, 'nlf_n_layers': 1, 'nlf_act0': 'Sig'}. \u001b[0m\n"
     ]
    },
    {
     "name": "stdout",
     "output_type": "stream",
     "text": [
      "Dictionary: \n",
      "0:  {'precision': 0.5, 'recall': 1.0, 'f1-score': 0.6666666666666666, 'support': 1}\n",
      "1:  {'precision': 1.0, 'recall': 0.6666666666666666, 'f1-score': 0.8, 'support': 3}\n",
      "acc:  0.75\n",
      "[Linear(in_features=10, out_features=10, bias=True), Tanh(), Linear(in_features=10, out_features=10, bias=True), Tanh()]\n",
      "train_loss: 170.4143829345703, val: 155.8365478515625\n",
      "train_loss: 162.99949645996094, val: 156.26666259765625\n",
      "train_loss: 161.397705078125, val: 154.1454315185547\n",
      "train_loss: 137.31307983398438, val: 127.72982788085938\n",
      "train_loss: 114.96894073486328, val: 111.74757385253906\n",
      "train_loss: 110.40037536621094, val: 109.04664611816406\n",
      "train_loss: 108.35916900634766, val: 107.54643249511719\n",
      "train_loss: 106.9715805053711, val: 106.26995849609375\n",
      "train_loss: 105.83505249023438, val: 105.04135131835938\n",
      "train_loss: 104.83516693115234, val: 104.08048248291016\n"
     ]
    },
    {
     "name": "stderr",
     "output_type": "stream",
     "text": [
      "\u001b[32m[I 2022-10-10 15:47:13,798]\u001b[0m Trial 95 finished with values: [103.51704406738281, 0.75] and parameters: {'lr': 0.0009051491852273981, 'nlf_n_layers': 2, 'nlf_act0': 'Tanh', 'nlf_act1': 'Tanh'}. \u001b[0m\n"
     ]
    },
    {
     "name": "stdout",
     "output_type": "stream",
     "text": [
      "Dictionary: \n",
      "0:  {'precision': 0.5, 'recall': 1.0, 'f1-score': 0.6666666666666666, 'support': 1}\n",
      "1:  {'precision': 1.0, 'recall': 0.6666666666666666, 'f1-score': 0.8, 'support': 3}\n",
      "acc:  0.75\n",
      "[Linear(in_features=10, out_features=10, bias=True), BatchNorm1d(10, eps=1e-05, momentum=0.1, affine=True, track_running_stats=True), Linear(in_features=10, out_features=10, bias=True)]\n",
      "train_loss: 167.88845825195312, val: 155.9315948486328\n",
      "train_loss: 162.87673950195312, val: 156.40139770507812\n",
      "train_loss: 162.7860565185547, val: 156.96185302734375\n",
      "train_loss: 160.420654296875, val: 157.06515502929688\n",
      "train_loss: 151.4501495361328, val: 154.2053985595703\n",
      "train_loss: 127.1196060180664, val: 157.99685668945312\n",
      "train_loss: 109.57559204101562, val: 161.22068786621094\n",
      "train_loss: 101.27720642089844, val: 160.28451538085938\n",
      "train_loss: 95.71099853515625, val: 160.00730895996094\n",
      "train_loss: 91.76103973388672, val: 159.32427978515625\n"
     ]
    },
    {
     "name": "stderr",
     "output_type": "stream",
     "text": [
      "\u001b[32m[I 2022-10-10 15:47:16,991]\u001b[0m Trial 96 finished with values: [156.4327392578125, 0.75] and parameters: {'lr': 0.0005525843246597252, 'nlf_n_layers': 2, 'nlf_act0': 'BatchNorm', 'nlf_act1': 'None'}. \u001b[0m\n"
     ]
    },
    {
     "name": "stdout",
     "output_type": "stream",
     "text": [
      "Dictionary: \n",
      "0:  {'precision': 0.5, 'recall': 1.0, 'f1-score': 0.6666666666666666, 'support': 1}\n",
      "1:  {'precision': 1.0, 'recall': 0.6666666666666666, 'f1-score': 0.8, 'support': 3}\n",
      "acc:  0.75\n",
      "[Linear(in_features=10, out_features=10, bias=True), ReLU()]\n",
      "train_loss: 170.17852783203125, val: 157.74044799804688\n",
      "train_loss: 162.54515075683594, val: 156.13804626464844\n",
      "train_loss: 163.30914306640625, val: 156.5675811767578\n",
      "train_loss: 163.36520385742188, val: 156.5877685546875\n",
      "train_loss: 162.85842895507812, val: 156.0079345703125\n",
      "train_loss: 157.94534301757812, val: 149.83738708496094\n",
      "train_loss: 127.18636322021484, val: 120.20611572265625\n",
      "train_loss: 110.38990783691406, val: 107.07959747314453\n",
      "train_loss: 104.69390869140625, val: 103.3003921508789\n",
      "train_loss: 102.57828521728516, val: 101.78962707519531\n"
     ]
    },
    {
     "name": "stderr",
     "output_type": "stream",
     "text": [
      "\u001b[32m[I 2022-10-10 15:47:19,792]\u001b[0m Trial 97 finished with values: [101.0084228515625, 0.75] and parameters: {'lr': 0.0008142304442759679, 'nlf_n_layers': 1, 'nlf_act0': 'ReLU'}. \u001b[0m\n"
     ]
    },
    {
     "name": "stdout",
     "output_type": "stream",
     "text": [
      "Dictionary: \n",
      "0:  {'precision': 0.5, 'recall': 1.0, 'f1-score': 0.6666666666666666, 'support': 1}\n",
      "1:  {'precision': 1.0, 'recall': 0.6666666666666666, 'f1-score': 0.8, 'support': 3}\n",
      "acc:  0.75\n",
      "[Sigmoid()]\n",
      "train_loss: 169.3802032470703, val: 155.81704711914062\n",
      "train_loss: 162.5032501220703, val: 155.79931640625\n",
      "train_loss: 156.54507446289062, val: 148.85244750976562\n",
      "train_loss: 126.9919204711914, val: 121.31060791015625\n",
      "train_loss: 114.43215942382812, val: 112.67552185058594\n",
      "train_loss: 110.78876495361328, val: 110.64600372314453\n",
      "train_loss: 109.0677719116211, val: 109.66912841796875\n",
      "train_loss: 107.99958801269531, val: 109.05667114257812\n",
      "train_loss: 107.28771209716797, val: 108.59639739990234\n",
      "train_loss: 106.78565979003906, val: 108.22987365722656\n"
     ]
    },
    {
     "name": "stderr",
     "output_type": "stream",
     "text": [
      "\u001b[32m[I 2022-10-10 15:47:22,403]\u001b[0m Trial 98 finished with values: [107.96520233154297, 0.75] and parameters: {'lr': 0.0008340769763393253, 'nlf_n_layers': 0, 'nlf_func': 'Sig'}. \u001b[0m\n"
     ]
    },
    {
     "name": "stdout",
     "output_type": "stream",
     "text": [
      "Dictionary: \n",
      "0:  {'precision': 0.5, 'recall': 1.0, 'f1-score': 0.6666666666666666, 'support': 1}\n",
      "1:  {'precision': 1.0, 'recall': 0.6666666666666666, 'f1-score': 0.8, 'support': 3}\n",
      "acc:  0.75\n",
      "[Linear(in_features=10, out_features=10, bias=True), BatchNorm1d(10, eps=1e-05, momentum=0.1, affine=True, track_running_stats=True), Linear(in_features=10, out_features=10, bias=True), BatchNorm1d(10, eps=1e-05, momentum=0.1, affine=True, track_running_stats=True)]\n",
      "train_loss: 164.9352264404297, val: 156.47872924804688\n",
      "train_loss: 161.69667053222656, val: 155.6959686279297\n",
      "train_loss: 161.69537353515625, val: 155.68240356445312\n",
      "train_loss: 160.8592529296875, val: 155.13497924804688\n",
      "train_loss: 158.44967651367188, val: 152.95712280273438\n",
      "train_loss: 154.591064453125, val: 149.12091064453125\n",
      "train_loss: 149.58631896972656, val: 144.9667510986328\n",
      "train_loss: 143.2030792236328, val: 142.22169494628906\n",
      "train_loss: 133.20822143554688, val: 141.6087188720703\n",
      "train_loss: 122.0799560546875, val: 143.60121154785156\n"
     ]
    },
    {
     "name": "stderr",
     "output_type": "stream",
     "text": [
      "\u001b[32m[I 2022-10-10 15:47:25,694]\u001b[0m Trial 99 finished with values: [143.40203857421875, 1.0] and parameters: {'lr': 0.0003395954783663638, 'nlf_n_layers': 2, 'nlf_act0': 'BatchNorm', 'nlf_act1': 'BatchNorm'}. \u001b[0m\n"
     ]
    },
    {
     "name": "stdout",
     "output_type": "stream",
     "text": [
      "Dictionary: \n",
      "0:  {'precision': 1.0, 'recall': 1.0, 'f1-score': 1.0, 'support': 2}\n",
      "1:  {'precision': 1.0, 'recall': 1.0, 'f1-score': 1.0, 'support': 2}\n",
      "acc:  1.0\n"
     ]
    }
   ],
   "source": [
    "study.optimize(NFS_objective, n_trials=100)"
   ]
  },
  {
   "cell_type": "code",
   "execution_count": 16,
   "id": "ca14b808",
   "metadata": {},
   "outputs": [
    {
     "name": "stdout",
     "output_type": "stream",
     "text": [
      "{'lr': 0.0008534543049050886, 'nlf_n_layers': 1, 'nlf_act0': 'Tanh'}\n",
      "acc 0.75\n",
      "0:  {'precision': 0.5, 'recall': 1.0, 'f1-score': 0.6666666666666666, 'support': 1}\n",
      "1:  {'precision': 1.0, 'recall': 0.6666666666666666, 'f1-score': 0.8, 'support': 3}\n",
      "{'lr': 0.0003395954783663638, 'nlf_n_layers': 2, 'nlf_act0': 'BatchNorm', 'nlf_act1': 'BatchNorm'}\n",
      "acc 1.0\n",
      "0:  {'precision': 1.0, 'recall': 1.0, 'f1-score': 1.0, 'support': 2}\n",
      "1:  {'precision': 1.0, 'recall': 1.0, 'f1-score': 1.0, 'support': 2}\n"
     ]
    }
   ],
   "source": [
    "for trial in study.best_trials:\n",
    "    print(trial.params)\n",
    "    print(\"acc\", trial.user_attrs['accuracy'])\n",
    "    print(\"0: \", trial.user_attrs['dictionary_0'])\n",
    "    print(\"1: \", trial.user_attrs['dictionary_1'])"
   ]
  },
  {
   "cell_type": "code",
   "execution_count": 18,
   "id": "e8cfa065",
   "metadata": {},
   "outputs": [
    {
     "name": "stdout",
     "output_type": "stream",
     "text": [
      "0 [147.31820678710938, 0.75]\n",
      "{'lr': 0.0008142304442759679, 'nlf_n_layers': 1, 'nlf_act0': 'BatchNorm'}\n",
      "\n",
      "3 [106.5114974975586, 0.75]\n",
      "{'lr': 0.0008243067661485299, 'nlf_n_layers': 0, 'nlf_func': 'Tanh'}\n",
      "\n",
      "6 [105.2960433959961, 0.75]\n",
      "{'lr': 0.0009174203337299236, 'nlf_n_layers': 1, 'nlf_act0': 'Tanh'}\n",
      "\n",
      "9 [104.18042755126953, 0.75]\n",
      "{'lr': 0.0009813163040683062, 'nlf_n_layers': 1, 'nlf_act0': 'ReLU'}\n",
      "\n",
      "11 [144.80596923828125, 0.75]\n",
      "{'lr': 0.0007531870387543271, 'nlf_n_layers': 1, 'nlf_act0': 'BatchNorm'}\n",
      "\n",
      "12 [169.01341247558594, 0.75]\n",
      "{'lr': 0.0005837902767573103, 'nlf_n_layers': 0, 'nlf_func': 'BatchNorm'}\n",
      "\n",
      "14 [106.29999542236328, 0.75]\n",
      "{'lr': 0.0008998563338210716, 'nlf_n_layers': 1, 'nlf_act0': 'Tanh'}\n",
      "\n",
      "15 [105.52351379394531, 0.75]\n",
      "{'lr': 0.0008710486388132367, 'nlf_n_layers': 1, 'nlf_act0': 'ReLU'}\n",
      "\n",
      "17 [123.15876007080078, 0.75]\n",
      "{'lr': 0.0002744826646814252, 'nlf_n_layers': 1, 'nlf_act0': 'Sig'}\n",
      "\n",
      "18 [106.31466674804688, 0.75]\n",
      "{'lr': 0.0008474077224877046, 'nlf_n_layers': 0, 'nlf_func': 'Sig'}\n",
      "\n",
      "20 [119.99049377441406, 0.75]\n",
      "{'lr': 0.00022962861316692894, 'nlf_n_layers': 2, 'nlf_act0': 'ReLU', 'nlf_act1': 'Sig'}\n",
      "\n",
      "22 [103.51629638671875, 0.75]\n",
      "{'lr': 0.0006640231864452641, 'nlf_n_layers': 2, 'nlf_act0': 'ReLU', 'nlf_act1': 'None'}\n",
      "\n",
      "23 [102.11953735351562, 0.75]\n",
      "{'lr': 0.0009051491852273981, 'nlf_n_layers': 2, 'nlf_act0': 'Tanh', 'nlf_act1': 'Tanh'}\n",
      "\n",
      "24 [104.76956176757812, 0.75]\n",
      "{'lr': 0.0008534543049050886, 'nlf_n_layers': 0, 'nlf_func': 'ReLU'}\n",
      "\n",
      "28 [148.5985107421875, 0.75]\n",
      "{'lr': 0.00023793739832470766, 'nlf_n_layers': 2, 'nlf_act0': 'None', 'nlf_act1': 'ReLU'}\n",
      "\n",
      "30 [108.82809448242188, 0.75]\n",
      "{'lr': 0.0009275108804740908, 'nlf_n_layers': 0, 'nlf_func': 'ReLU'}\n",
      "\n",
      "34 [107.22188568115234, 0.75]\n",
      "{'lr': 0.0004650686617285791, 'nlf_n_layers': 2, 'nlf_act0': 'None', 'nlf_act1': 'Sig'}\n",
      "\n",
      "35 [107.1303482055664, 0.75]\n",
      "{'lr': 0.000362813360294377, 'nlf_n_layers': 2, 'nlf_act0': 'None', 'nlf_act1': 'ReLU'}\n",
      "\n",
      "38 [140.89108276367188, 0.75]\n",
      "{'lr': 0.0001461586303894192, 'nlf_n_layers': 1, 'nlf_act0': 'Tanh'}\n",
      "\n",
      "39 [107.54962921142578, 0.75]\n",
      "{'lr': 0.00041042558952175234, 'nlf_n_layers': 1, 'nlf_act0': 'None'}\n",
      "\n",
      "40 [159.6609344482422, 0.75]\n",
      "{'lr': 0.0002660846206651104, 'nlf_n_layers': 0, 'nlf_func': 'BatchNorm'}\n",
      "\n",
      "41 [131.1460418701172, 0.75]\n",
      "{'lr': 0.00027122032134228, 'nlf_n_layers': 0, 'nlf_func': 'Tanh'}\n",
      "\n",
      "42 [106.06939697265625, 0.75]\n",
      "{'lr': 0.0006500334606356228, 'nlf_n_layers': 2, 'nlf_act0': 'Sig', 'nlf_act1': 'None'}\n",
      "\n",
      "44 [181.1072235107422, 0.75]\n",
      "{'lr': 0.0008139709194994184, 'nlf_n_layers': 1, 'nlf_act0': 'BatchNorm'}\n",
      "\n",
      "45 [106.20318603515625, 0.75]\n",
      "{'lr': 0.0008420630931902029, 'nlf_n_layers': 0, 'nlf_func': 'ReLU'}\n",
      "\n",
      "47 [105.67189025878906, 0.75]\n",
      "{'lr': 0.0004741966067723187, 'nlf_n_layers': 1, 'nlf_act0': 'None'}\n",
      "\n",
      "48 [109.00271606445312, 0.75]\n",
      "{'lr': 0.0006084011073211957, 'nlf_n_layers': 0, 'nlf_func': 'ReLU'}\n",
      "\n",
      "49 [103.26248931884766, 0.75]\n",
      "{'lr': 0.0008340769763393253, 'nlf_n_layers': 1, 'nlf_act0': 'None'}\n",
      "\n",
      "50 [100.3055419921875, 0.75]\n",
      "{'lr': 0.0008710486388132367, 'nlf_n_layers': 0, 'nlf_func': 'Sig'}\n",
      "\n",
      "51 [104.2305908203125, 0.75]\n",
      "{'lr': 0.0009275108804740908, 'nlf_n_layers': 2, 'nlf_act0': 'None', 'nlf_act1': 'ReLU'}\n",
      "\n",
      "55 [127.30802154541016, 0.75]\n",
      "{'lr': 0.00027122032134228, 'nlf_n_layers': 0, 'nlf_func': 'Tanh'}\n",
      "\n",
      "56 [103.41576385498047, 0.75]\n",
      "{'lr': 0.0005339745487395755, 'nlf_n_layers': 1, 'nlf_act0': 'Tanh'}\n",
      "\n",
      "57 [104.06246185302734, 0.75]\n",
      "{'lr': 0.0009024917510928251, 'nlf_n_layers': 2, 'nlf_act0': 'ReLU', 'nlf_act1': 'Tanh'}\n",
      "\n",
      "58 [101.03076171875, 0.75]\n",
      "{'lr': 0.0009813163040683062, 'nlf_n_layers': 1, 'nlf_act0': 'ReLU'}\n",
      "\n",
      "59 [106.46553802490234, 0.75]\n",
      "{'lr': 0.0006500334606356228, 'nlf_n_layers': 2, 'nlf_act0': 'ReLU', 'nlf_act1': 'Sig'}\n",
      "\n",
      "61 [104.9898452758789, 0.75]\n",
      "{'lr': 0.0009051491852273981, 'nlf_n_layers': 2, 'nlf_act0': 'ReLU', 'nlf_act1': 'Tanh'}\n",
      "\n",
      "64 [106.34031677246094, 0.75]\n",
      "{'lr': 0.0005525843246597252, 'nlf_n_layers': 1, 'nlf_act0': 'Tanh'}\n",
      "\n",
      "65 [123.89360046386719, 0.75]\n",
      "{'lr': 0.0003152856658073461, 'nlf_n_layers': 0, 'nlf_func': 'ReLU'}\n",
      "\n",
      "66 [105.82620239257812, 0.75]\n",
      "{'lr': 0.0006396282989733512, 'nlf_n_layers': 2, 'nlf_act0': 'Tanh', 'nlf_act1': 'Tanh'}\n",
      "\n",
      "67 [112.8115005493164, 0.75]\n",
      "{'lr': 0.00022962861316692894, 'nlf_n_layers': 1, 'nlf_act0': 'ReLU'}\n",
      "\n",
      "69 [103.946533203125, 0.75]\n",
      "{'lr': 0.0008710486388132367, 'nlf_n_layers': 1, 'nlf_act0': 'ReLU'}\n",
      "\n",
      "70 [105.29745483398438, 0.75]\n",
      "{'lr': 0.0007999851131284373, 'nlf_n_layers': 2, 'nlf_act0': 'Sig', 'nlf_act1': 'ReLU'}\n",
      "\n",
      "71 [162.00665283203125, 0.75]\n",
      "{'lr': 0.0008142304442759679, 'nlf_n_layers': 1, 'nlf_act0': 'BatchNorm'}\n",
      "\n",
      "72 [101.77967834472656, 0.75]\n",
      "{'lr': 0.0008243067661485299, 'nlf_n_layers': 1, 'nlf_act0': 'Tanh'}\n",
      "\n",
      "73 [101.4570541381836, 0.75]\n",
      "{'lr': 0.0008534543049050886, 'nlf_n_layers': 2, 'nlf_act0': 'Sig', 'nlf_act1': 'Tanh'}\n",
      "\n",
      "74 [106.50520324707031, 0.75]\n",
      "{'lr': 0.000842569581196798, 'nlf_n_layers': 0, 'nlf_func': 'ReLU'}\n",
      "\n",
      "76 [162.75599670410156, 1.0]\n",
      "{'lr': 0.00033413644590004157, 'nlf_n_layers': 2, 'nlf_act0': 'None', 'nlf_act1': 'BatchNorm'}\n",
      "\n",
      "77 [161.4602508544922, 1.0]\n",
      "{'lr': 0.0004741966067723187, 'nlf_n_layers': 1, 'nlf_act0': 'BatchNorm'}\n",
      "\n",
      "78 [105.37345886230469, 0.75]\n",
      "{'lr': 0.0006801736108809685, 'nlf_n_layers': 2, 'nlf_act0': 'None', 'nlf_act1': 'None'}\n",
      "\n",
      "79 [101.48409271240234, 0.75]\n",
      "{'lr': 0.0008204559528296531, 'nlf_n_layers': 1, 'nlf_act0': 'None'}\n",
      "\n",
      "81 [104.99581909179688, 0.75]\n",
      "{'lr': 0.0008474077224877046, 'nlf_n_layers': 0, 'nlf_func': 'ReLU'}\n",
      "\n",
      "82 [105.8392333984375, 0.75]\n",
      "{'lr': 0.0008792886621543811, 'nlf_n_layers': 1, 'nlf_act0': 'None'}\n",
      "\n",
      "83 [129.39060974121094, 0.75]\n",
      "{'lr': 0.0002465194779465651, 'nlf_n_layers': 0, 'nlf_func': 'Sig'}\n",
      "\n",
      "84 [101.24674224853516, 0.75]\n",
      "{'lr': 0.0009051491852273981, 'nlf_n_layers': 2, 'nlf_act0': 'None', 'nlf_act1': 'ReLU'}\n",
      "\n",
      "86 [102.57205963134766, 0.75]\n",
      "{'lr': 0.0009813163040683062, 'nlf_n_layers': 1, 'nlf_act0': 'Tanh'}\n",
      "\n",
      "89 [162.38999938964844, 0.75]\n",
      "{'lr': 0.0004971223785055045, 'nlf_n_layers': 1, 'nlf_act0': 'BatchNorm'}\n",
      "\n",
      "90 [179.92559814453125, 1.0]\n",
      "{'lr': 0.0002744826646814252, 'nlf_n_layers': 1, 'nlf_act0': 'BatchNorm'}\n",
      "\n",
      "92 [99.96932983398438, 0.75]\n",
      "{'lr': 0.0008534543049050886, 'nlf_n_layers': 1, 'nlf_act0': 'Tanh'}\n",
      "\n",
      "94 [101.60306549072266, 0.75]\n",
      "{'lr': 0.0007356471907749494, 'nlf_n_layers': 1, 'nlf_act0': 'Sig'}\n",
      "\n",
      "95 [103.51704406738281, 0.75]\n",
      "{'lr': 0.0009051491852273981, 'nlf_n_layers': 2, 'nlf_act0': 'Tanh', 'nlf_act1': 'Tanh'}\n",
      "\n",
      "96 [156.4327392578125, 0.75]\n",
      "{'lr': 0.0005525843246597252, 'nlf_n_layers': 2, 'nlf_act0': 'BatchNorm', 'nlf_act1': 'None'}\n",
      "\n",
      "97 [101.0084228515625, 0.75]\n",
      "{'lr': 0.0008142304442759679, 'nlf_n_layers': 1, 'nlf_act0': 'ReLU'}\n",
      "\n",
      "98 [107.96520233154297, 0.75]\n",
      "{'lr': 0.0008340769763393253, 'nlf_n_layers': 0, 'nlf_func': 'Sig'}\n",
      "\n",
      "99 [143.40203857421875, 1.0]\n",
      "{'lr': 0.0003395954783663638, 'nlf_n_layers': 2, 'nlf_act0': 'BatchNorm', 'nlf_act1': 'BatchNorm'}\n",
      "\n"
     ]
    }
   ],
   "source": [
    "for i, trial in enumerate(study.trials):\n",
    "    try:\n",
    "        if trial.values[1] > 0.70:\n",
    "            print(i, trial.values)\n",
    "            print(trial.params)\n",
    "            print()\n",
    "    except Exception:\n",
    "        continue"
   ]
  },
  {
   "cell_type": "code",
   "execution_count": 192,
   "id": "4035adc1",
   "metadata": {
    "scrolled": true
   },
   "outputs": [
    {
     "data": {
      "text/plain": [
       "<module 'Models.SimulationStudyBaseline_Model' from '/home/jchan/fs-tutorial/Models/SimulationStudyBaseline_Model.py'>"
      ]
     },
     "execution_count": 192,
     "metadata": {},
     "output_type": "execute_result"
    }
   ],
   "source": [
    "import importlib\n",
    "importlib.reload(Models)"
   ]
  },
  {
   "cell_type": "code",
   "execution_count": 144,
   "id": "714f2a6a",
   "metadata": {},
   "outputs": [],
   "source": [
    "import Models.model_func as Model_Func\n",
    "# import functions.func as func"
   ]
  },
  {
   "cell_type": "code",
   "execution_count": 170,
   "id": "0173d830",
   "metadata": {},
   "outputs": [],
   "source": [
    "import Models.SimulationStudyBaseline_Model import SimulationStudyBaseline_Model\n",
    "\n",
    "model= SimulationStudyBaseline_Model.SimulationStudyBaseline_Model(device=DEVICE).to(DEVICE)\n",
    "loss_func= torch.nn.CrossEntropyLoss()\n",
    "optimiser= torch.optim.Adam(model.parameters(), lr=model.lr)"
   ]
  },
  {
   "cell_type": "code",
   "execution_count": 69,
   "id": "2a509304",
   "metadata": {},
   "outputs": [
    {
     "ename": "NameError",
     "evalue": "name 'Models' is not defined",
     "output_type": "error",
     "traceback": [
      "\u001b[0;31m---------------------------------------------------------------------------\u001b[0m",
      "\u001b[0;31mNameError\u001b[0m                                 Traceback (most recent call last)",
      "\u001b[0;32m/tmp/ipykernel_517271/2197691498.py\u001b[0m in \u001b[0;36m<module>\u001b[0;34m\u001b[0m\n\u001b[0;32m----> 1\u001b[0;31m \u001b[0mmodel\u001b[0m\u001b[0;34m=\u001b[0m \u001b[0mModels\u001b[0m\u001b[0;34m.\u001b[0m\u001b[0mSimulationStudyBaseline_Model\u001b[0m\u001b[0;34m(\u001b[0m\u001b[0mdevice\u001b[0m\u001b[0;34m=\u001b[0m\u001b[0mDEVICE\u001b[0m\u001b[0;34m)\u001b[0m\u001b[0;34m.\u001b[0m\u001b[0mto\u001b[0m\u001b[0;34m(\u001b[0m\u001b[0mDEVICE\u001b[0m\u001b[0;34m)\u001b[0m\u001b[0;34m\u001b[0m\u001b[0;34m\u001b[0m\u001b[0m\n\u001b[0m\u001b[1;32m      2\u001b[0m \u001b[0mloss_func\u001b[0m\u001b[0;34m=\u001b[0m \u001b[0mtorch\u001b[0m\u001b[0;34m.\u001b[0m\u001b[0mnn\u001b[0m\u001b[0;34m.\u001b[0m\u001b[0mCrossEntropyLoss\u001b[0m\u001b[0;34m(\u001b[0m\u001b[0;34m)\u001b[0m\u001b[0;34m\u001b[0m\u001b[0;34m\u001b[0m\u001b[0m\n\u001b[1;32m      3\u001b[0m \u001b[0moptimiser\u001b[0m\u001b[0;34m=\u001b[0m \u001b[0mtorch\u001b[0m\u001b[0;34m.\u001b[0m\u001b[0moptim\u001b[0m\u001b[0;34m.\u001b[0m\u001b[0mAdam\u001b[0m\u001b[0;34m(\u001b[0m\u001b[0mmodel\u001b[0m\u001b[0;34m.\u001b[0m\u001b[0mparameters\u001b[0m\u001b[0;34m(\u001b[0m\u001b[0;34m)\u001b[0m\u001b[0;34m,\u001b[0m \u001b[0mlr\u001b[0m\u001b[0;34m=\u001b[0m\u001b[0mmodel\u001b[0m\u001b[0;34m.\u001b[0m\u001b[0mlr\u001b[0m\u001b[0;34m)\u001b[0m\u001b[0;34m\u001b[0m\u001b[0;34m\u001b[0m\u001b[0m\n\u001b[1;32m      4\u001b[0m \u001b[0;34m\u001b[0m\u001b[0m\n\u001b[1;32m      5\u001b[0m \u001b[0;32mfor\u001b[0m \u001b[0mi\u001b[0m \u001b[0;32min\u001b[0m \u001b[0mrange\u001b[0m\u001b[0;34m(\u001b[0m\u001b[0mEPOCHS\u001b[0m\u001b[0;34m)\u001b[0m\u001b[0;34m:\u001b[0m\u001b[0;34m\u001b[0m\u001b[0;34m\u001b[0m\u001b[0m\n",
      "\u001b[0;31mNameError\u001b[0m: name 'Models' is not defined"
     ]
    }
   ],
   "source": [
    "model= Models.SimulationStudyBaseline_Model(device=DEVICE).to(DEVICE)\n",
    "loss_func= torch.nn.CrossEntropyLoss()\n",
    "optimiser= torch.optim.Adam(model.parameters(), lr=model.lr)\n",
    "\n",
    "for i in range(EPOCHS):\n",
    "\n",
    "    tloss= train(model, train_dataloader, loss_func, optimiser)\n",
    "\n",
    "    loss, dictionary= val(model, val_dataloader, loss_func)\n",
    "\n",
    "    if i % 10 == 0:\n",
    "        print(f\"train_loss: {tloss}, \", end=\"\")\n",
    "        print(f\"val: {loss}\")\n",
    "print(\"Dictionary: \")\n",
    "print(\"0: \", dictionary['0'])\n",
    "print(\"1: \", dictionary['1'])\n",
    "print(\"acc: \", dictionary['accuracy'])"
   ]
  },
  {
   "cell_type": "code",
   "execution_count": 73,
   "id": "cc8f1006",
   "metadata": {},
   "outputs": [
    {
     "name": "stdout",
     "output_type": "stream",
     "text": [
      "train_loss: 6.882900714874268, val: 0.6038676500320435\n",
      "train_loss: 6.701326847076416, val: 0.4753755033016205\n",
      "train_loss: 6.692485809326172, val: 0.4681021571159363\n",
      "train_loss: 6.67812442779541, val: 0.45174384117126465\n",
      "train_loss: 6.671449184417725, val: 0.44606369733810425\n",
      "train_loss: 6.668027877807617, val: 0.4454140067100525\n",
      "train_loss: 6.663167953491211, val: 0.44304409623146057\n",
      "train_loss: 6.655901908874512, val: 0.43888479471206665\n",
      "train_loss: 6.649106502532959, val: 0.4335838258266449\n",
      "train_loss: 6.645998001098633, val: 0.4301562011241913\n",
      "train_loss: 6.64443826675415, val: 0.42873886227607727\n",
      "train_loss: 6.643421649932861, val: 0.4280949532985687\n",
      "train_loss: 6.642683506011963, val: 0.4277185797691345\n",
      "train_loss: 6.642155170440674, val: 0.4275111258029938\n",
      "train_loss: 6.641772747039795, val: 0.42739900946617126\n",
      "Dictionary: \n",
      "0:  {'precision': 0.8671171171171171, 'recall': 0.8932714617169374, 'f1-score': 0.88, 'support': 431}\n",
      "1:  {'precision': 0.8991228070175439, 'recall': 0.8742004264392325, 'f1-score': 0.8864864864864865, 'support': 469}\n",
      "acc:  0.8833333333333333\n"
     ]
    }
   ],
   "source": [
    "learning_rate= 0.001#trial.suggest_float(\"lr\", 1e-5, 1e-3)\n",
    "\n",
    "loss_func= torch.nn.CrossEntropyLoss()\n",
    "\n",
    "model= SimulationStudyBaseline_Model.SimulationStudyBaseline_Model(device=DEVICE).to(DEVICE)\n",
    "\n",
    "l1_lambda= 0.908#trial.suggest_float(\"l1\", 0.01, 1.0)\n",
    "\n",
    "l2_lambda= 0.828#trial.suggest_float(\"l2\", 0.01, 1.0)\n",
    "\n",
    "df_model= models.Univariate_DF(device=DEVICE, input_dim=data.X.shape[1], model=model, l1_lambda=l1_lambda, l2_lambda=l2_lambda)\n",
    "\n",
    "optimiser= torch.optim.Adam(model.parameters(), lr=learning_rate)\n",
    "EPOCHS=150\n",
    "for epoch in range(EPOCHS):\n",
    "\n",
    "    tloss= DF_train(df_model, train_dataloader, optimiser, loss_func)\n",
    "    loss, dictionary= val(df_model, val_dataloader, loss_func)\n",
    "\n",
    "    if epoch % 10 == 0:\n",
    "        print(f\"train_loss: {tloss}, \", end=\"\")\n",
    "        print(f\"val: {loss}\")\n",
    "print(\"Dictionary: \")\n",
    "print(\"0: \", dictionary['0'])\n",
    "print(\"1: \", dictionary['1'])\n",
    "print(\"acc: \", dictionary['accuracy'])"
   ]
  },
  {
   "cell_type": "code",
   "execution_count": 74,
   "id": "89b9599a",
   "metadata": {},
   "outputs": [
    {
     "name": "stdout",
     "output_type": "stream",
     "text": [
      "train_loss: 2.8061840534210205, val: 0.5978530645370483\n",
      "train_loss: 2.6320271492004395, val: 0.4776718318462372\n",
      "train_loss: 2.626129388809204, val: 0.47532030940055847\n",
      "train_loss: 2.620960235595703, val: 0.47259363532066345\n",
      "train_loss: 2.6114017963409424, val: 0.464973121881485\n",
      "train_loss: 2.6008529663085938, val: 0.4574497938156128\n",
      "train_loss: 2.5963330268859863, val: 0.4543894827365875\n",
      "train_loss: 2.592367172241211, val: 0.4515002965927124\n",
      "train_loss: 2.5858118534088135, val: 0.44634929299354553\n",
      "train_loss: 2.5779290199279785, val: 0.43859702348709106\n",
      "train_loss: 2.5741283893585205, val: 0.43443962931632996\n",
      "train_loss: 2.5724639892578125, val: 0.43284153938293457\n",
      "train_loss: 2.571503162384033, val: 0.43207618594169617\n",
      "train_loss: 2.5708396434783936, val: 0.43142133951187134\n",
      "train_loss: 2.5701026916503906, val: 0.4295814037322998\n",
      "Dictionary: \n",
      "0:  {'precision': 0.8626126126126126, 'recall': 0.8969555035128806, 'f1-score': 0.8794489092996557, 'support': 427}\n",
      "1:  {'precision': 0.9035087719298246, 'recall': 0.8710359408033826, 'f1-score': 0.8869752421959096, 'support': 473}\n",
      "acc:  0.8833333333333333\n"
     ]
    }
   ],
   "source": [
    "# <---\n",
    "\n",
    "learning_rate= 0.001#trial.suggest_float(\"lr\", 1e-5, 1e-3)\n",
    "\n",
    "loss_func= torch.nn.CrossEntropyLoss()\n",
    "\n",
    "model= SimulationStudyBaseline_Model.SimulationStudyBaseline_Model(device=DEVICE).to(DEVICE)\n",
    "\n",
    "l1_lambda= 0.391#trial.suggest_float(\"l1\", 0.01, 1.0)\n",
    "\n",
    "l2_lambda= 0.041#trial.suggest_float(\"l2\", 0.01, 1.0)\n",
    "\n",
    "df_model= models.Univariate_DF(device=DEVICE, input_dim=data.X.shape[1], model=model, l1_lambda=l1_lambda, l2_lambda=l2_lambda)\n",
    "\n",
    "optimiser= torch.optim.Adam(model.parameters(), lr=learning_rate)\n",
    "EPOCHS=150\n",
    "for epoch in range(EPOCHS):\n",
    "\n",
    "    tloss= DF_train(df_model, train_dataloader, optimiser, loss_func)\n",
    "    loss, dictionary= val(df_model, val_dataloader, loss_func)\n",
    "\n",
    "    if epoch % 10 == 0:\n",
    "        print(f\"train_loss: {tloss}, \", end=\"\")\n",
    "        print(f\"val: {loss}\")\n",
    "print(\"Dictionary: \")\n",
    "print(\"0: \", dictionary['0'])\n",
    "print(\"1: \", dictionary['1'])\n",
    "print(\"acc: \", dictionary['accuracy'])"
   ]
  },
  {
   "cell_type": "markdown",
   "id": "bd23c44e",
   "metadata": {},
   "source": [
    "## Random Feature Selection"
   ]
  },
  {
   "cell_type": "code",
   "execution_count": 28,
   "id": "cf4b7602",
   "metadata": {},
   "outputs": [],
   "source": [
    "feat_index= [i for i in range(data.X.shape[1])]"
   ]
  },
  {
   "cell_type": "code",
   "execution_count": 47,
   "id": "454b442f",
   "metadata": {},
   "outputs": [],
   "source": [
    "import numpy as np\n",
    "# feat_index= np.random.permutation(feat_index)\n",
    "np.random.shuffle(feat_index)"
   ]
  },
  {
   "cell_type": "code",
   "execution_count": 48,
   "id": "054dd454",
   "metadata": {},
   "outputs": [
    {
     "name": "stdout",
     "output_type": "stream",
     "text": [
      "1\n",
      "2\n",
      "3\n",
      "4\n",
      "5\n",
      "6\n",
      "7\n",
      "8\n",
      "9\n"
     ]
    }
   ],
   "source": [
    "dictionary= {10:[], 20:[], 30:[], 40:[], 50:[], 60:[], 70:[], 80:[], 90:[]}\n",
    "\n",
    "import math\n",
    "for key in dictionary.keys():\n",
    "    dictionary[key]= feat_index[:math.floor(len(feat_index) * (key/100) )]\n",
    "    print(len(dictionary[key]))\n"
   ]
  },
  {
   "cell_type": "code",
   "execution_count": 39,
   "id": "cdddcc4f",
   "metadata": {},
   "outputs": [
    {
     "data": {
      "text/plain": [
       "({10: [2],\n",
       "  20: [2, 8],\n",
       "  30: [2, 8, 9],\n",
       "  40: [2, 8, 9, 3],\n",
       "  50: [2, 8, 9, 3, 4],\n",
       "  60: [2, 8, 9, 3, 4, 0],\n",
       "  70: [2, 8, 9, 3, 4, 0, 1],\n",
       "  80: [2, 8, 9, 3, 4, 0, 1, 7],\n",
       "  90: [2, 8, 9, 3, 4, 0, 1, 7, 5]},\n",
       " 10)"
      ]
     },
     "execution_count": 39,
     "metadata": {},
     "output_type": "execute_result"
    }
   ],
   "source": [
    "dictionary, len(feat_index)"
   ]
  },
  {
   "cell_type": "code",
   "execution_count": 49,
   "id": "6d597ede",
   "metadata": {},
   "outputs": [],
   "source": [
    "import yaml, io\n",
    "selection=0\n",
    "with io.open(f\"./experiments/simul_study/rs{selection}.yaml\", 'w', encoding='utf8') as outfile:\n",
    "        yaml.dump(dictionary, outfile, default_flow_style=False, allow_unicode=True)"
   ]
  },
  {
   "cell_type": "code",
   "execution_count": null,
   "id": "ce0fef4d",
   "metadata": {},
   "outputs": [],
   "source": []
  },
  {
   "cell_type": "code",
   "execution_count": 34,
   "id": "1fb1ce20",
   "metadata": {},
   "outputs": [],
   "source": [
    "#28 sensors\n",
    "import numpy as np\n",
    "def random_selection(selection_threshold, values):\n",
    "    ranking= []; count=0\n",
    "#     selection= np.unique(values)\n",
    "    selection=np.random.permutation(values)\n",
    "    ranking_threshold=[]\n",
    "    while len(ranking)<selection_threshold:\n",
    "        ranking+= selection[count]\n",
    "#         ranking.append(dictionary[selection[count]])\n",
    "#         ranking_threshold+=dictionary[selection[count]]\n",
    "        count += 1\n",
    "    \n",
    "    return np.array(ranking)"
   ]
  },
  {
   "cell_type": "code",
   "execution_count": 59,
   "id": "4fdcb73a",
   "metadata": {},
   "outputs": [
    {
     "data": {
      "text/plain": [
       "(array([14, 16, 48, 49, 50, 51, 52, 53, 30, 31, 32, 33, 34, 35]), 14)"
      ]
     },
     "execution_count": 59,
     "metadata": {},
     "output_type": "execute_result"
    }
   ],
   "source": [
    "_= random_selection(12, sensors)\n",
    "_, len(_)"
   ]
  },
  {
   "cell_type": "code",
   "execution_count": 3,
   "id": "1550b8c2",
   "metadata": {},
   "outputs": [
    {
     "data": {
      "text/plain": [
       "1.4496689692316644"
      ]
     },
     "execution_count": 3,
     "metadata": {},
     "output_type": "execute_result"
    }
   ],
   "source": [
    "np.random.normal()"
   ]
  },
  {
   "cell_type": "code",
   "execution_count": 10,
   "id": "6c79f36a",
   "metadata": {},
   "outputs": [
    {
     "data": {
      "text/plain": [
       "1.2246467991473532e-16"
      ]
     },
     "execution_count": 10,
     "metadata": {},
     "output_type": "execute_result"
    }
   ],
   "source": [
    "math.sin(math.pi)"
   ]
  }
 ],
 "metadata": {
  "kernelspec": {
   "display_name": "Python [conda env:pytorch]",
   "language": "python",
   "name": "conda-env-pytorch-py"
  },
  "language_info": {
   "codemirror_mode": {
    "name": "ipython",
    "version": 3
   },
   "file_extension": ".py",
   "mimetype": "text/x-python",
   "name": "python",
   "nbconvert_exporter": "python",
   "pygments_lexer": "ipython3",
   "version": "3.7.10"
  }
 },
 "nbformat": 4,
 "nbformat_minor": 5
}
